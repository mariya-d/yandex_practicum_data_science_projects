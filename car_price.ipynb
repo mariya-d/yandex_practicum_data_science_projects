{
 "cells": [
  {
   "cell_type": "markdown",
   "metadata": {},
   "source": [
    "# Определение стоимости автомобилей"
   ]
  },
  {
   "cell_type": "markdown",
   "metadata": {},
   "source": [
    "Сервис по продаже автомобилей с пробегом «Не бит, не крашен» разрабатывает приложение для привлечения новых клиентов. В нём можно быстро узнать рыночную стоимость своего автомобиля. В вашем распоряжении исторические данные: технические характеристики, комплектации и цены автомобилей. Вам нужно построить модель для определения стоимости. \n",
    "\n",
    "Заказчику важны:\n",
    "\n",
    "- качество предсказания;\n",
    "- скорость предсказания;\n",
    "- время обучения."
   ]
  },
  {
   "cell_type": "markdown",
   "metadata": {},
   "source": [
    "## Подготовка данных"
   ]
  },
  {
   "cell_type": "markdown",
   "metadata": {},
   "source": [
    "### Загрузим и изучим данные"
   ]
  },
  {
   "cell_type": "code",
   "execution_count": 1,
   "metadata": {},
   "outputs": [],
   "source": [
    "import pandas as pd\n",
    "import numpy as np\n",
    "from numpy.random import RandomState\n",
    "\n",
    "from matplotlib import pyplot as plt\n",
    "import seaborn as sb\n",
    "\n",
    "import math\n",
    "import time\n",
    "\n",
    "from sklearn.model_selection import train_test_split\n",
    "from sklearn.metrics import mean_squared_error\n",
    "from sklearn.preprocessing import OrdinalEncoder\n",
    "from sklearn.preprocessing import StandardScaler\n",
    "from sklearn.model_selection import GridSearchCV\n",
    "from sklearn.linear_model import LinearRegression\n",
    "from sklearn.tree import DecisionTreeRegressor\n",
    "\n",
    "from catboost import CatBoostRegressor\n",
    "import lightgbm as lgb\n",
    "\n",
    "#from tqdm import tqdm"
   ]
  },
  {
   "cell_type": "code",
   "execution_count": 2,
   "metadata": {},
   "outputs": [],
   "source": [
    "STATE = RandomState(12345)"
   ]
  },
  {
   "cell_type": "code",
   "execution_count": 3,
   "metadata": {},
   "outputs": [],
   "source": [
    "data = pd.read_csv('https://code.s3.yandex.net/datasets/autos.csv')"
   ]
  },
  {
   "cell_type": "code",
   "execution_count": 4,
   "metadata": {},
   "outputs": [
    {
     "name": "stdout",
     "output_type": "stream",
     "text": [
      "<class 'pandas.core.frame.DataFrame'>\n",
      "RangeIndex: 354369 entries, 0 to 354368\n",
      "Data columns (total 16 columns):\n",
      " #   Column             Non-Null Count   Dtype \n",
      "---  ------             --------------   ----- \n",
      " 0   DateCrawled        354369 non-null  object\n",
      " 1   Price              354369 non-null  int64 \n",
      " 2   VehicleType        316879 non-null  object\n",
      " 3   RegistrationYear   354369 non-null  int64 \n",
      " 4   Gearbox            334536 non-null  object\n",
      " 5   Power              354369 non-null  int64 \n",
      " 6   Model              334664 non-null  object\n",
      " 7   Kilometer          354369 non-null  int64 \n",
      " 8   RegistrationMonth  354369 non-null  int64 \n",
      " 9   FuelType           321474 non-null  object\n",
      " 10  Brand              354369 non-null  object\n",
      " 11  Repaired           283215 non-null  object\n",
      " 12  DateCreated        354369 non-null  object\n",
      " 13  NumberOfPictures   354369 non-null  int64 \n",
      " 14  PostalCode         354369 non-null  int64 \n",
      " 15  LastSeen           354369 non-null  object\n",
      "dtypes: int64(7), object(9)\n",
      "memory usage: 43.3+ MB\n"
     ]
    }
   ],
   "source": [
    "data.info()"
   ]
  },
  {
   "cell_type": "code",
   "execution_count": 5,
   "metadata": {},
   "outputs": [
    {
     "data": {
      "text/html": [
       "<div>\n",
       "<style scoped>\n",
       "    .dataframe tbody tr th:only-of-type {\n",
       "        vertical-align: middle;\n",
       "    }\n",
       "\n",
       "    .dataframe tbody tr th {\n",
       "        vertical-align: top;\n",
       "    }\n",
       "\n",
       "    .dataframe thead th {\n",
       "        text-align: right;\n",
       "    }\n",
       "</style>\n",
       "<table border=\"1\" class=\"dataframe\">\n",
       "  <thead>\n",
       "    <tr style=\"text-align: right;\">\n",
       "      <th></th>\n",
       "      <th>Price</th>\n",
       "      <th>RegistrationYear</th>\n",
       "      <th>Power</th>\n",
       "      <th>Kilometer</th>\n",
       "      <th>RegistrationMonth</th>\n",
       "      <th>NumberOfPictures</th>\n",
       "      <th>PostalCode</th>\n",
       "    </tr>\n",
       "  </thead>\n",
       "  <tbody>\n",
       "    <tr>\n",
       "      <th>count</th>\n",
       "      <td>354369.000000</td>\n",
       "      <td>354369.000000</td>\n",
       "      <td>354369.000000</td>\n",
       "      <td>354369.000000</td>\n",
       "      <td>354369.000000</td>\n",
       "      <td>354369.0</td>\n",
       "      <td>354369.000000</td>\n",
       "    </tr>\n",
       "    <tr>\n",
       "      <th>mean</th>\n",
       "      <td>4416.656776</td>\n",
       "      <td>2004.234448</td>\n",
       "      <td>110.094337</td>\n",
       "      <td>128211.172535</td>\n",
       "      <td>5.714645</td>\n",
       "      <td>0.0</td>\n",
       "      <td>50508.689087</td>\n",
       "    </tr>\n",
       "    <tr>\n",
       "      <th>std</th>\n",
       "      <td>4514.158514</td>\n",
       "      <td>90.227958</td>\n",
       "      <td>189.850405</td>\n",
       "      <td>37905.341530</td>\n",
       "      <td>3.726421</td>\n",
       "      <td>0.0</td>\n",
       "      <td>25783.096248</td>\n",
       "    </tr>\n",
       "    <tr>\n",
       "      <th>min</th>\n",
       "      <td>0.000000</td>\n",
       "      <td>1000.000000</td>\n",
       "      <td>0.000000</td>\n",
       "      <td>5000.000000</td>\n",
       "      <td>0.000000</td>\n",
       "      <td>0.0</td>\n",
       "      <td>1067.000000</td>\n",
       "    </tr>\n",
       "    <tr>\n",
       "      <th>25%</th>\n",
       "      <td>1050.000000</td>\n",
       "      <td>1999.000000</td>\n",
       "      <td>69.000000</td>\n",
       "      <td>125000.000000</td>\n",
       "      <td>3.000000</td>\n",
       "      <td>0.0</td>\n",
       "      <td>30165.000000</td>\n",
       "    </tr>\n",
       "    <tr>\n",
       "      <th>50%</th>\n",
       "      <td>2700.000000</td>\n",
       "      <td>2003.000000</td>\n",
       "      <td>105.000000</td>\n",
       "      <td>150000.000000</td>\n",
       "      <td>6.000000</td>\n",
       "      <td>0.0</td>\n",
       "      <td>49413.000000</td>\n",
       "    </tr>\n",
       "    <tr>\n",
       "      <th>75%</th>\n",
       "      <td>6400.000000</td>\n",
       "      <td>2008.000000</td>\n",
       "      <td>143.000000</td>\n",
       "      <td>150000.000000</td>\n",
       "      <td>9.000000</td>\n",
       "      <td>0.0</td>\n",
       "      <td>71083.000000</td>\n",
       "    </tr>\n",
       "    <tr>\n",
       "      <th>max</th>\n",
       "      <td>20000.000000</td>\n",
       "      <td>9999.000000</td>\n",
       "      <td>20000.000000</td>\n",
       "      <td>150000.000000</td>\n",
       "      <td>12.000000</td>\n",
       "      <td>0.0</td>\n",
       "      <td>99998.000000</td>\n",
       "    </tr>\n",
       "  </tbody>\n",
       "</table>\n",
       "</div>"
      ],
      "text/plain": [
       "               Price  RegistrationYear          Power      Kilometer  \\\n",
       "count  354369.000000     354369.000000  354369.000000  354369.000000   \n",
       "mean     4416.656776       2004.234448     110.094337  128211.172535   \n",
       "std      4514.158514         90.227958     189.850405   37905.341530   \n",
       "min         0.000000       1000.000000       0.000000    5000.000000   \n",
       "25%      1050.000000       1999.000000      69.000000  125000.000000   \n",
       "50%      2700.000000       2003.000000     105.000000  150000.000000   \n",
       "75%      6400.000000       2008.000000     143.000000  150000.000000   \n",
       "max     20000.000000       9999.000000   20000.000000  150000.000000   \n",
       "\n",
       "       RegistrationMonth  NumberOfPictures     PostalCode  \n",
       "count      354369.000000          354369.0  354369.000000  \n",
       "mean            5.714645               0.0   50508.689087  \n",
       "std             3.726421               0.0   25783.096248  \n",
       "min             0.000000               0.0    1067.000000  \n",
       "25%             3.000000               0.0   30165.000000  \n",
       "50%             6.000000               0.0   49413.000000  \n",
       "75%             9.000000               0.0   71083.000000  \n",
       "max            12.000000               0.0   99998.000000  "
      ]
     },
     "execution_count": 5,
     "metadata": {},
     "output_type": "execute_result"
    }
   ],
   "source": [
    "data.describe()"
   ]
  },
  {
   "cell_type": "code",
   "execution_count": 6,
   "metadata": {},
   "outputs": [
    {
     "data": {
      "text/html": [
       "<div>\n",
       "<style scoped>\n",
       "    .dataframe tbody tr th:only-of-type {\n",
       "        vertical-align: middle;\n",
       "    }\n",
       "\n",
       "    .dataframe tbody tr th {\n",
       "        vertical-align: top;\n",
       "    }\n",
       "\n",
       "    .dataframe thead th {\n",
       "        text-align: right;\n",
       "    }\n",
       "</style>\n",
       "<table border=\"1\" class=\"dataframe\">\n",
       "  <thead>\n",
       "    <tr style=\"text-align: right;\">\n",
       "      <th></th>\n",
       "      <th>DateCrawled</th>\n",
       "      <th>Price</th>\n",
       "      <th>VehicleType</th>\n",
       "      <th>RegistrationYear</th>\n",
       "      <th>Gearbox</th>\n",
       "      <th>Power</th>\n",
       "      <th>Model</th>\n",
       "      <th>Kilometer</th>\n",
       "      <th>RegistrationMonth</th>\n",
       "      <th>FuelType</th>\n",
       "      <th>Brand</th>\n",
       "      <th>Repaired</th>\n",
       "      <th>DateCreated</th>\n",
       "      <th>NumberOfPictures</th>\n",
       "      <th>PostalCode</th>\n",
       "      <th>LastSeen</th>\n",
       "    </tr>\n",
       "  </thead>\n",
       "  <tbody>\n",
       "    <tr>\n",
       "      <th>0</th>\n",
       "      <td>2016-03-24 11:52:17</td>\n",
       "      <td>480</td>\n",
       "      <td>NaN</td>\n",
       "      <td>1993</td>\n",
       "      <td>manual</td>\n",
       "      <td>0</td>\n",
       "      <td>golf</td>\n",
       "      <td>150000</td>\n",
       "      <td>0</td>\n",
       "      <td>petrol</td>\n",
       "      <td>volkswagen</td>\n",
       "      <td>NaN</td>\n",
       "      <td>2016-03-24 00:00:00</td>\n",
       "      <td>0</td>\n",
       "      <td>70435</td>\n",
       "      <td>2016-04-07 03:16:57</td>\n",
       "    </tr>\n",
       "    <tr>\n",
       "      <th>1</th>\n",
       "      <td>2016-03-24 10:58:45</td>\n",
       "      <td>18300</td>\n",
       "      <td>coupe</td>\n",
       "      <td>2011</td>\n",
       "      <td>manual</td>\n",
       "      <td>190</td>\n",
       "      <td>NaN</td>\n",
       "      <td>125000</td>\n",
       "      <td>5</td>\n",
       "      <td>gasoline</td>\n",
       "      <td>audi</td>\n",
       "      <td>yes</td>\n",
       "      <td>2016-03-24 00:00:00</td>\n",
       "      <td>0</td>\n",
       "      <td>66954</td>\n",
       "      <td>2016-04-07 01:46:50</td>\n",
       "    </tr>\n",
       "    <tr>\n",
       "      <th>2</th>\n",
       "      <td>2016-03-14 12:52:21</td>\n",
       "      <td>9800</td>\n",
       "      <td>suv</td>\n",
       "      <td>2004</td>\n",
       "      <td>auto</td>\n",
       "      <td>163</td>\n",
       "      <td>grand</td>\n",
       "      <td>125000</td>\n",
       "      <td>8</td>\n",
       "      <td>gasoline</td>\n",
       "      <td>jeep</td>\n",
       "      <td>NaN</td>\n",
       "      <td>2016-03-14 00:00:00</td>\n",
       "      <td>0</td>\n",
       "      <td>90480</td>\n",
       "      <td>2016-04-05 12:47:46</td>\n",
       "    </tr>\n",
       "    <tr>\n",
       "      <th>3</th>\n",
       "      <td>2016-03-17 16:54:04</td>\n",
       "      <td>1500</td>\n",
       "      <td>small</td>\n",
       "      <td>2001</td>\n",
       "      <td>manual</td>\n",
       "      <td>75</td>\n",
       "      <td>golf</td>\n",
       "      <td>150000</td>\n",
       "      <td>6</td>\n",
       "      <td>petrol</td>\n",
       "      <td>volkswagen</td>\n",
       "      <td>no</td>\n",
       "      <td>2016-03-17 00:00:00</td>\n",
       "      <td>0</td>\n",
       "      <td>91074</td>\n",
       "      <td>2016-03-17 17:40:17</td>\n",
       "    </tr>\n",
       "    <tr>\n",
       "      <th>4</th>\n",
       "      <td>2016-03-31 17:25:20</td>\n",
       "      <td>3600</td>\n",
       "      <td>small</td>\n",
       "      <td>2008</td>\n",
       "      <td>manual</td>\n",
       "      <td>69</td>\n",
       "      <td>fabia</td>\n",
       "      <td>90000</td>\n",
       "      <td>7</td>\n",
       "      <td>gasoline</td>\n",
       "      <td>skoda</td>\n",
       "      <td>no</td>\n",
       "      <td>2016-03-31 00:00:00</td>\n",
       "      <td>0</td>\n",
       "      <td>60437</td>\n",
       "      <td>2016-04-06 10:17:21</td>\n",
       "    </tr>\n",
       "    <tr>\n",
       "      <th>5</th>\n",
       "      <td>2016-04-04 17:36:23</td>\n",
       "      <td>650</td>\n",
       "      <td>sedan</td>\n",
       "      <td>1995</td>\n",
       "      <td>manual</td>\n",
       "      <td>102</td>\n",
       "      <td>3er</td>\n",
       "      <td>150000</td>\n",
       "      <td>10</td>\n",
       "      <td>petrol</td>\n",
       "      <td>bmw</td>\n",
       "      <td>yes</td>\n",
       "      <td>2016-04-04 00:00:00</td>\n",
       "      <td>0</td>\n",
       "      <td>33775</td>\n",
       "      <td>2016-04-06 19:17:07</td>\n",
       "    </tr>\n",
       "    <tr>\n",
       "      <th>6</th>\n",
       "      <td>2016-04-01 20:48:51</td>\n",
       "      <td>2200</td>\n",
       "      <td>convertible</td>\n",
       "      <td>2004</td>\n",
       "      <td>manual</td>\n",
       "      <td>109</td>\n",
       "      <td>2_reihe</td>\n",
       "      <td>150000</td>\n",
       "      <td>8</td>\n",
       "      <td>petrol</td>\n",
       "      <td>peugeot</td>\n",
       "      <td>no</td>\n",
       "      <td>2016-04-01 00:00:00</td>\n",
       "      <td>0</td>\n",
       "      <td>67112</td>\n",
       "      <td>2016-04-05 18:18:39</td>\n",
       "    </tr>\n",
       "    <tr>\n",
       "      <th>7</th>\n",
       "      <td>2016-03-21 18:54:38</td>\n",
       "      <td>0</td>\n",
       "      <td>sedan</td>\n",
       "      <td>1980</td>\n",
       "      <td>manual</td>\n",
       "      <td>50</td>\n",
       "      <td>other</td>\n",
       "      <td>40000</td>\n",
       "      <td>7</td>\n",
       "      <td>petrol</td>\n",
       "      <td>volkswagen</td>\n",
       "      <td>no</td>\n",
       "      <td>2016-03-21 00:00:00</td>\n",
       "      <td>0</td>\n",
       "      <td>19348</td>\n",
       "      <td>2016-03-25 16:47:58</td>\n",
       "    </tr>\n",
       "    <tr>\n",
       "      <th>8</th>\n",
       "      <td>2016-04-04 23:42:13</td>\n",
       "      <td>14500</td>\n",
       "      <td>bus</td>\n",
       "      <td>2014</td>\n",
       "      <td>manual</td>\n",
       "      <td>125</td>\n",
       "      <td>c_max</td>\n",
       "      <td>30000</td>\n",
       "      <td>8</td>\n",
       "      <td>petrol</td>\n",
       "      <td>ford</td>\n",
       "      <td>NaN</td>\n",
       "      <td>2016-04-04 00:00:00</td>\n",
       "      <td>0</td>\n",
       "      <td>94505</td>\n",
       "      <td>2016-04-04 23:42:13</td>\n",
       "    </tr>\n",
       "    <tr>\n",
       "      <th>9</th>\n",
       "      <td>2016-03-17 10:53:50</td>\n",
       "      <td>999</td>\n",
       "      <td>small</td>\n",
       "      <td>1998</td>\n",
       "      <td>manual</td>\n",
       "      <td>101</td>\n",
       "      <td>golf</td>\n",
       "      <td>150000</td>\n",
       "      <td>0</td>\n",
       "      <td>NaN</td>\n",
       "      <td>volkswagen</td>\n",
       "      <td>NaN</td>\n",
       "      <td>2016-03-17 00:00:00</td>\n",
       "      <td>0</td>\n",
       "      <td>27472</td>\n",
       "      <td>2016-03-31 17:17:06</td>\n",
       "    </tr>\n",
       "  </tbody>\n",
       "</table>\n",
       "</div>"
      ],
      "text/plain": [
       "           DateCrawled  Price  VehicleType  RegistrationYear Gearbox  Power  \\\n",
       "0  2016-03-24 11:52:17    480          NaN              1993  manual      0   \n",
       "1  2016-03-24 10:58:45  18300        coupe              2011  manual    190   \n",
       "2  2016-03-14 12:52:21   9800          suv              2004    auto    163   \n",
       "3  2016-03-17 16:54:04   1500        small              2001  manual     75   \n",
       "4  2016-03-31 17:25:20   3600        small              2008  manual     69   \n",
       "5  2016-04-04 17:36:23    650        sedan              1995  manual    102   \n",
       "6  2016-04-01 20:48:51   2200  convertible              2004  manual    109   \n",
       "7  2016-03-21 18:54:38      0        sedan              1980  manual     50   \n",
       "8  2016-04-04 23:42:13  14500          bus              2014  manual    125   \n",
       "9  2016-03-17 10:53:50    999        small              1998  manual    101   \n",
       "\n",
       "     Model  Kilometer  RegistrationMonth  FuelType       Brand Repaired  \\\n",
       "0     golf     150000                  0    petrol  volkswagen      NaN   \n",
       "1      NaN     125000                  5  gasoline        audi      yes   \n",
       "2    grand     125000                  8  gasoline        jeep      NaN   \n",
       "3     golf     150000                  6    petrol  volkswagen       no   \n",
       "4    fabia      90000                  7  gasoline       skoda       no   \n",
       "5      3er     150000                 10    petrol         bmw      yes   \n",
       "6  2_reihe     150000                  8    petrol     peugeot       no   \n",
       "7    other      40000                  7    petrol  volkswagen       no   \n",
       "8    c_max      30000                  8    petrol        ford      NaN   \n",
       "9     golf     150000                  0       NaN  volkswagen      NaN   \n",
       "\n",
       "           DateCreated  NumberOfPictures  PostalCode             LastSeen  \n",
       "0  2016-03-24 00:00:00                 0       70435  2016-04-07 03:16:57  \n",
       "1  2016-03-24 00:00:00                 0       66954  2016-04-07 01:46:50  \n",
       "2  2016-03-14 00:00:00                 0       90480  2016-04-05 12:47:46  \n",
       "3  2016-03-17 00:00:00                 0       91074  2016-03-17 17:40:17  \n",
       "4  2016-03-31 00:00:00                 0       60437  2016-04-06 10:17:21  \n",
       "5  2016-04-04 00:00:00                 0       33775  2016-04-06 19:17:07  \n",
       "6  2016-04-01 00:00:00                 0       67112  2016-04-05 18:18:39  \n",
       "7  2016-03-21 00:00:00                 0       19348  2016-03-25 16:47:58  \n",
       "8  2016-04-04 00:00:00                 0       94505  2016-04-04 23:42:13  \n",
       "9  2016-03-17 00:00:00                 0       27472  2016-03-31 17:17:06  "
      ]
     },
     "metadata": {},
     "output_type": "display_data"
    }
   ],
   "source": [
    "display(data.head(10))"
   ]
  },
  {
   "cell_type": "markdown",
   "metadata": {},
   "source": [
    "Перед нами набор данных, включающий в себя 14 признаков и 1 целевой признак.\n",
    "Данные имеют пропуски и аномалии, среди признаков могут встречаться неинформативные.\n",
    "Изучим данные более подробно."
   ]
  },
  {
   "cell_type": "code",
   "execution_count": 7,
   "metadata": {},
   "outputs": [
    {
     "data": {
      "image/png": "[encoded data removed]",
      "text/plain": [
       "<Figure size 1500x2000 with 9 Axes>"
      ]
     },
     "metadata": {},
     "output_type": "display_data"
    }
   ],
   "source": [
    "data.hist(figsize=(15, 20))\n",
    "plt.show()"
   ]
  },
  {
   "cell_type": "markdown",
   "metadata": {},
   "source": [
    "### Заполнение пропусков"
   ]
  },
  {
   "cell_type": "markdown",
   "metadata": {},
   "source": [
    "Изучим и обработаем пропуски. Посчитаем количество пропусков по столбцам, отсортируем их по убыванию и оценим их процентное отношение к общему количеству данных в каждом столбце."
   ]
  },
  {
   "cell_type": "code",
   "execution_count": 8,
   "metadata": {},
   "outputs": [
    {
     "data": {
      "text/plain": [
       "DateCrawled              0\n",
       "Price                    0\n",
       "VehicleType          37490\n",
       "RegistrationYear         0\n",
       "Gearbox              19833\n",
       "Power                    0\n",
       "Model                19705\n",
       "Kilometer                0\n",
       "RegistrationMonth        0\n",
       "FuelType             32895\n",
       "Brand                    0\n",
       "Repaired             71154\n",
       "DateCreated              0\n",
       "NumberOfPictures         0\n",
       "PostalCode               0\n",
       "LastSeen                 0\n",
       "dtype: int64"
      ]
     },
     "execution_count": 8,
     "metadata": {},
     "output_type": "execute_result"
    }
   ],
   "source": [
    "data.isna().sum()"
   ]
  },
  {
   "cell_type": "code",
   "execution_count": 9,
   "metadata": {},
   "outputs": [
    {
     "data": {
      "image/png": "[encoded data removed]",
      "text/plain": [
       "<Figure size 1000x1000 with 1 Axes>"
      ]
     },
     "metadata": {},
     "output_type": "display_data"
    }
   ],
   "source": [
    "data.isna().sum().sort_values(ascending=False).plot(kind='bar', figsize=(10, 10))\n",
    "plt.show()"
   ]
  },
  {
   "cell_type": "code",
   "execution_count": 10,
   "metadata": {},
   "outputs": [
    {
     "data": {
      "text/html": [
       "<style type=\"text/css\">\n",
       "#T_7b891_row0_col0, #T_7b891_row1_col0, #T_7b891_row3_col0, #T_7b891_row5_col0, #T_7b891_row7_col0, #T_7b891_row8_col0, #T_7b891_row10_col0, #T_7b891_row12_col0, #T_7b891_row13_col0, #T_7b891_row14_col0, #T_7b891_row15_col0 {\n",
       "  background-color: #3b4cc0;\n",
       "  color: #f1f1f1;\n",
       "}\n",
       "#T_7b891_row2_col0 {\n",
       "  background-color: #e9d5cb;\n",
       "  color: #000000;\n",
       "}\n",
       "#T_7b891_row4_col0, #T_7b891_row6_col0 {\n",
       "  background-color: #9ebeff;\n",
       "  color: #000000;\n",
       "}\n",
       "#T_7b891_row9_col0 {\n",
       "  background-color: #cfdaea;\n",
       "  color: #000000;\n",
       "}\n",
       "#T_7b891_row11_col0 {\n",
       "  background-color: #b40426;\n",
       "  color: #f1f1f1;\n",
       "}\n",
       "</style>\n",
       "<table id=\"T_7b891\">\n",
       "  <thead>\n",
       "    <tr>\n",
       "      <th class=\"blank level0\" >&nbsp;</th>\n",
       "      <th id=\"T_7b891_level0_col0\" class=\"col_heading level0 col0\" >0</th>\n",
       "    </tr>\n",
       "  </thead>\n",
       "  <tbody>\n",
       "    <tr>\n",
       "      <th id=\"T_7b891_level0_row0\" class=\"row_heading level0 row0\" >DateCrawled</th>\n",
       "      <td id=\"T_7b891_row0_col0\" class=\"data row0 col0\" >0.000000</td>\n",
       "    </tr>\n",
       "    <tr>\n",
       "      <th id=\"T_7b891_level0_row1\" class=\"row_heading level0 row1\" >Price</th>\n",
       "      <td id=\"T_7b891_row1_col0\" class=\"data row1 col0\" >0.000000</td>\n",
       "    </tr>\n",
       "    <tr>\n",
       "      <th id=\"T_7b891_level0_row2\" class=\"row_heading level0 row2\" >VehicleType</th>\n",
       "      <td id=\"T_7b891_row2_col0\" class=\"data row2 col0\" >11.000000</td>\n",
       "    </tr>\n",
       "    <tr>\n",
       "      <th id=\"T_7b891_level0_row3\" class=\"row_heading level0 row3\" >RegistrationYear</th>\n",
       "      <td id=\"T_7b891_row3_col0\" class=\"data row3 col0\" >0.000000</td>\n",
       "    </tr>\n",
       "    <tr>\n",
       "      <th id=\"T_7b891_level0_row4\" class=\"row_heading level0 row4\" >Gearbox</th>\n",
       "      <td id=\"T_7b891_row4_col0\" class=\"data row4 col0\" >6.000000</td>\n",
       "    </tr>\n",
       "    <tr>\n",
       "      <th id=\"T_7b891_level0_row5\" class=\"row_heading level0 row5\" >Power</th>\n",
       "      <td id=\"T_7b891_row5_col0\" class=\"data row5 col0\" >0.000000</td>\n",
       "    </tr>\n",
       "    <tr>\n",
       "      <th id=\"T_7b891_level0_row6\" class=\"row_heading level0 row6\" >Model</th>\n",
       "      <td id=\"T_7b891_row6_col0\" class=\"data row6 col0\" >6.000000</td>\n",
       "    </tr>\n",
       "    <tr>\n",
       "      <th id=\"T_7b891_level0_row7\" class=\"row_heading level0 row7\" >Kilometer</th>\n",
       "      <td id=\"T_7b891_row7_col0\" class=\"data row7 col0\" >0.000000</td>\n",
       "    </tr>\n",
       "    <tr>\n",
       "      <th id=\"T_7b891_level0_row8\" class=\"row_heading level0 row8\" >RegistrationMonth</th>\n",
       "      <td id=\"T_7b891_row8_col0\" class=\"data row8 col0\" >0.000000</td>\n",
       "    </tr>\n",
       "    <tr>\n",
       "      <th id=\"T_7b891_level0_row9\" class=\"row_heading level0 row9\" >FuelType</th>\n",
       "      <td id=\"T_7b891_row9_col0\" class=\"data row9 col0\" >9.000000</td>\n",
       "    </tr>\n",
       "    <tr>\n",
       "      <th id=\"T_7b891_level0_row10\" class=\"row_heading level0 row10\" >Brand</th>\n",
       "      <td id=\"T_7b891_row10_col0\" class=\"data row10 col0\" >0.000000</td>\n",
       "    </tr>\n",
       "    <tr>\n",
       "      <th id=\"T_7b891_level0_row11\" class=\"row_heading level0 row11\" >Repaired</th>\n",
       "      <td id=\"T_7b891_row11_col0\" class=\"data row11 col0\" >20.000000</td>\n",
       "    </tr>\n",
       "    <tr>\n",
       "      <th id=\"T_7b891_level0_row12\" class=\"row_heading level0 row12\" >DateCreated</th>\n",
       "      <td id=\"T_7b891_row12_col0\" class=\"data row12 col0\" >0.000000</td>\n",
       "    </tr>\n",
       "    <tr>\n",
       "      <th id=\"T_7b891_level0_row13\" class=\"row_heading level0 row13\" >NumberOfPictures</th>\n",
       "      <td id=\"T_7b891_row13_col0\" class=\"data row13 col0\" >0.000000</td>\n",
       "    </tr>\n",
       "    <tr>\n",
       "      <th id=\"T_7b891_level0_row14\" class=\"row_heading level0 row14\" >PostalCode</th>\n",
       "      <td id=\"T_7b891_row14_col0\" class=\"data row14 col0\" >0.000000</td>\n",
       "    </tr>\n",
       "    <tr>\n",
       "      <th id=\"T_7b891_level0_row15\" class=\"row_heading level0 row15\" >LastSeen</th>\n",
       "      <td id=\"T_7b891_row15_col0\" class=\"data row15 col0\" >0.000000</td>\n",
       "    </tr>\n",
       "  </tbody>\n",
       "</table>\n"
      ],
      "text/plain": [
       "<pandas.io.formats.style.Styler at 0x22fb0790430>"
      ]
     },
     "execution_count": 10,
     "metadata": {},
     "output_type": "execute_result"
    }
   ],
   "source": [
    "pd.DataFrame(round(data.isna().mean()*100,)).style.background_gradient('coolwarm')"
   ]
  },
  {
   "cell_type": "markdown",
   "metadata": {},
   "source": [
    "Перед дальнейшей работой приведем названия столбцов к нижнему и змеиному регистрам для удобства."
   ]
  },
  {
   "cell_type": "code",
   "execution_count": 11,
   "metadata": {},
   "outputs": [],
   "source": [
    "data.columns = data.columns.str.lower()"
   ]
  },
  {
   "cell_type": "code",
   "execution_count": 12,
   "metadata": {},
   "outputs": [
    {
     "data": {
      "text/html": [
       "<div>\n",
       "<style scoped>\n",
       "    .dataframe tbody tr th:only-of-type {\n",
       "        vertical-align: middle;\n",
       "    }\n",
       "\n",
       "    .dataframe tbody tr th {\n",
       "        vertical-align: top;\n",
       "    }\n",
       "\n",
       "    .dataframe thead th {\n",
       "        text-align: right;\n",
       "    }\n",
       "</style>\n",
       "<table border=\"1\" class=\"dataframe\">\n",
       "  <thead>\n",
       "    <tr style=\"text-align: right;\">\n",
       "      <th></th>\n",
       "      <th>datecrawled</th>\n",
       "      <th>price</th>\n",
       "      <th>vehicletype</th>\n",
       "      <th>registrationyear</th>\n",
       "      <th>gearbox</th>\n",
       "      <th>power</th>\n",
       "      <th>model</th>\n",
       "      <th>kilometer</th>\n",
       "      <th>registrationmonth</th>\n",
       "      <th>fueltype</th>\n",
       "      <th>brand</th>\n",
       "      <th>repaired</th>\n",
       "      <th>datecreated</th>\n",
       "      <th>numberofpictures</th>\n",
       "      <th>postalcode</th>\n",
       "      <th>lastseen</th>\n",
       "    </tr>\n",
       "  </thead>\n",
       "  <tbody>\n",
       "    <tr>\n",
       "      <th>0</th>\n",
       "      <td>2016-03-24 11:52:17</td>\n",
       "      <td>480</td>\n",
       "      <td>NaN</td>\n",
       "      <td>1993</td>\n",
       "      <td>manual</td>\n",
       "      <td>0</td>\n",
       "      <td>golf</td>\n",
       "      <td>150000</td>\n",
       "      <td>0</td>\n",
       "      <td>petrol</td>\n",
       "      <td>volkswagen</td>\n",
       "      <td>NaN</td>\n",
       "      <td>2016-03-24 00:00:00</td>\n",
       "      <td>0</td>\n",
       "      <td>70435</td>\n",
       "      <td>2016-04-07 03:16:57</td>\n",
       "    </tr>\n",
       "    <tr>\n",
       "      <th>1</th>\n",
       "      <td>2016-03-24 10:58:45</td>\n",
       "      <td>18300</td>\n",
       "      <td>coupe</td>\n",
       "      <td>2011</td>\n",
       "      <td>manual</td>\n",
       "      <td>190</td>\n",
       "      <td>NaN</td>\n",
       "      <td>125000</td>\n",
       "      <td>5</td>\n",
       "      <td>gasoline</td>\n",
       "      <td>audi</td>\n",
       "      <td>yes</td>\n",
       "      <td>2016-03-24 00:00:00</td>\n",
       "      <td>0</td>\n",
       "      <td>66954</td>\n",
       "      <td>2016-04-07 01:46:50</td>\n",
       "    </tr>\n",
       "    <tr>\n",
       "      <th>2</th>\n",
       "      <td>2016-03-14 12:52:21</td>\n",
       "      <td>9800</td>\n",
       "      <td>suv</td>\n",
       "      <td>2004</td>\n",
       "      <td>auto</td>\n",
       "      <td>163</td>\n",
       "      <td>grand</td>\n",
       "      <td>125000</td>\n",
       "      <td>8</td>\n",
       "      <td>gasoline</td>\n",
       "      <td>jeep</td>\n",
       "      <td>NaN</td>\n",
       "      <td>2016-03-14 00:00:00</td>\n",
       "      <td>0</td>\n",
       "      <td>90480</td>\n",
       "      <td>2016-04-05 12:47:46</td>\n",
       "    </tr>\n",
       "    <tr>\n",
       "      <th>3</th>\n",
       "      <td>2016-03-17 16:54:04</td>\n",
       "      <td>1500</td>\n",
       "      <td>small</td>\n",
       "      <td>2001</td>\n",
       "      <td>manual</td>\n",
       "      <td>75</td>\n",
       "      <td>golf</td>\n",
       "      <td>150000</td>\n",
       "      <td>6</td>\n",
       "      <td>petrol</td>\n",
       "      <td>volkswagen</td>\n",
       "      <td>no</td>\n",
       "      <td>2016-03-17 00:00:00</td>\n",
       "      <td>0</td>\n",
       "      <td>91074</td>\n",
       "      <td>2016-03-17 17:40:17</td>\n",
       "    </tr>\n",
       "    <tr>\n",
       "      <th>4</th>\n",
       "      <td>2016-03-31 17:25:20</td>\n",
       "      <td>3600</td>\n",
       "      <td>small</td>\n",
       "      <td>2008</td>\n",
       "      <td>manual</td>\n",
       "      <td>69</td>\n",
       "      <td>fabia</td>\n",
       "      <td>90000</td>\n",
       "      <td>7</td>\n",
       "      <td>gasoline</td>\n",
       "      <td>skoda</td>\n",
       "      <td>no</td>\n",
       "      <td>2016-03-31 00:00:00</td>\n",
       "      <td>0</td>\n",
       "      <td>60437</td>\n",
       "      <td>2016-04-06 10:17:21</td>\n",
       "    </tr>\n",
       "  </tbody>\n",
       "</table>\n",
       "</div>"
      ],
      "text/plain": [
       "           datecrawled  price vehicletype  registrationyear gearbox  power  \\\n",
       "0  2016-03-24 11:52:17    480         NaN              1993  manual      0   \n",
       "1  2016-03-24 10:58:45  18300       coupe              2011  manual    190   \n",
       "2  2016-03-14 12:52:21   9800         suv              2004    auto    163   \n",
       "3  2016-03-17 16:54:04   1500       small              2001  manual     75   \n",
       "4  2016-03-31 17:25:20   3600       small              2008  manual     69   \n",
       "\n",
       "   model  kilometer  registrationmonth  fueltype       brand repaired  \\\n",
       "0   golf     150000                  0    petrol  volkswagen      NaN   \n",
       "1    NaN     125000                  5  gasoline        audi      yes   \n",
       "2  grand     125000                  8  gasoline        jeep      NaN   \n",
       "3   golf     150000                  6    petrol  volkswagen       no   \n",
       "4  fabia      90000                  7  gasoline       skoda       no   \n",
       "\n",
       "           datecreated  numberofpictures  postalcode             lastseen  \n",
       "0  2016-03-24 00:00:00                 0       70435  2016-04-07 03:16:57  \n",
       "1  2016-03-24 00:00:00                 0       66954  2016-04-07 01:46:50  \n",
       "2  2016-03-14 00:00:00                 0       90480  2016-04-05 12:47:46  \n",
       "3  2016-03-17 00:00:00                 0       91074  2016-03-17 17:40:17  \n",
       "4  2016-03-31 00:00:00                 0       60437  2016-04-06 10:17:21  "
      ]
     },
     "metadata": {},
     "output_type": "display_data"
    }
   ],
   "source": [
    "display(data.head())"
   ]
  },
  {
   "cell_type": "code",
   "execution_count": 13,
   "metadata": {},
   "outputs": [],
   "source": [
    "data = data.rename(columns={'datecrawled':'date_crawled', 'vehicletype':'vehicle_type', 'registrationyear':'registration_year', \n",
    "                            'gearbox':'gear_box', 'registrationmonth':'registration_month', 'fueltype':'fuel_type', \n",
    "                            'datecreated':'date_created', 'numberofpictures':'number_of_pictures', 'postalcode':'postal_code',\n",
    "                           'lastseen':'last_seen'})"
   ]
  },
  {
   "cell_type": "code",
   "execution_count": 14,
   "metadata": {},
   "outputs": [
    {
     "name": "stdout",
     "output_type": "stream",
     "text": [
      "Index(['date_crawled', 'price', 'vehicle_type', 'registration_year',\n",
      "       'gear_box', 'power', 'model', 'kilometer', 'registration_month',\n",
      "       'fuel_type', 'brand', 'repaired', 'date_created', 'number_of_pictures',\n",
      "       'postal_code', 'last_seen'],\n",
      "      dtype='object')\n"
     ]
    }
   ],
   "source": [
    "print(data.columns)"
   ]
  },
  {
   "cell_type": "markdown",
   "metadata": {},
   "source": [
    "Самое большое количество пропусков в столбце *repaired*, пропуски представлены в таком количестве, что не подлежат удалению. Восстановить данные с большой точностью не представляется возможным, поэтому выберем для заполнения значение-заглушку."
   ]
  },
  {
   "cell_type": "code",
   "execution_count": 15,
   "metadata": {},
   "outputs": [
    {
     "data": {
      "text/plain": [
       "no     247161\n",
       "yes     36054\n",
       "Name: repaired, dtype: int64"
      ]
     },
     "execution_count": 15,
     "metadata": {},
     "output_type": "execute_result"
    }
   ],
   "source": [
    "data['repaired'].value_counts()"
   ]
  },
  {
   "cell_type": "code",
   "execution_count": 16,
   "metadata": {},
   "outputs": [],
   "source": [
    "data['repaired'] = data['repaired'].fillna('unknown')"
   ]
  },
  {
   "cell_type": "code",
   "execution_count": 17,
   "metadata": {},
   "outputs": [
    {
     "data": {
      "text/plain": [
       "no         247161\n",
       "unknown     71154\n",
       "yes         36054\n",
       "Name: repaired, dtype: int64"
      ]
     },
     "execution_count": 17,
     "metadata": {},
     "output_type": "execute_result"
    }
   ],
   "source": [
    "data['repaired'].value_counts()"
   ]
  },
  {
   "cell_type": "markdown",
   "metadata": {},
   "source": [
    "Аналогично для столбца с типом кузова."
   ]
  },
  {
   "cell_type": "code",
   "execution_count": 18,
   "metadata": {},
   "outputs": [
    {
     "data": {
      "text/plain": [
       "sedan          91457\n",
       "small          79831\n",
       "wagon          65166\n",
       "bus            28775\n",
       "convertible    20203\n",
       "coupe          16163\n",
       "suv            11996\n",
       "other           3288\n",
       "Name: vehicle_type, dtype: int64"
      ]
     },
     "execution_count": 18,
     "metadata": {},
     "output_type": "execute_result"
    }
   ],
   "source": [
    "data['vehicle_type'].value_counts()"
   ]
  },
  {
   "cell_type": "code",
   "execution_count": 19,
   "metadata": {},
   "outputs": [],
   "source": [
    "data['vehicle_type'] = data['vehicle_type'].fillna('unknown')"
   ]
  },
  {
   "cell_type": "markdown",
   "metadata": {},
   "source": [
    "Посмотрим на уникальные значения типов топлива, поскольку здесь пропусков тоже относительно большое количество, так же установим заглушку."
   ]
  },
  {
   "cell_type": "code",
   "execution_count": 20,
   "metadata": {},
   "outputs": [
    {
     "data": {
      "text/plain": [
       "array(['petrol', 'gasoline', nan, 'lpg', 'other', 'hybrid', 'cng',\n",
       "       'electric'], dtype=object)"
      ]
     },
     "execution_count": 20,
     "metadata": {},
     "output_type": "execute_result"
    }
   ],
   "source": [
    "data['fuel_type'].unique()"
   ]
  },
  {
   "cell_type": "code",
   "execution_count": 21,
   "metadata": {},
   "outputs": [
    {
     "data": {
      "image/png": "[encoded data removed]",
      "text/plain": [
       "<Figure size 640x480 with 1 Axes>"
      ]
     },
     "metadata": {},
     "output_type": "display_data"
    }
   ],
   "source": [
    "data['fuel_type'].hist()\n",
    "plt.show()"
   ]
  },
  {
   "cell_type": "code",
   "execution_count": 22,
   "metadata": {},
   "outputs": [],
   "source": [
    "data['fuel_type'] = data['fuel_type'].fillna('unknown')"
   ]
  },
  {
   "cell_type": "markdown",
   "metadata": {},
   "source": [
    "Удалим пропуски в столбцах с названием модели и типом коробки передач, так как их небольшое количество, а данные не подлежат адекватному восстановлению."
   ]
  },
  {
   "cell_type": "code",
   "execution_count": 23,
   "metadata": {},
   "outputs": [],
   "source": [
    "data = data.dropna(subset=['model', 'gear_box'])"
   ]
  },
  {
   "cell_type": "markdown",
   "metadata": {},
   "source": [
    "Посмотрим на результат заполнения пропусков."
   ]
  },
  {
   "cell_type": "code",
   "execution_count": 24,
   "metadata": {},
   "outputs": [
    {
     "name": "stdout",
     "output_type": "stream",
     "text": [
      "<class 'pandas.core.frame.DataFrame'>\n",
      "Int64Index: 318962 entries, 0 to 354368\n",
      "Data columns (total 16 columns):\n",
      " #   Column              Non-Null Count   Dtype \n",
      "---  ------              --------------   ----- \n",
      " 0   date_crawled        318962 non-null  object\n",
      " 1   price               318962 non-null  int64 \n",
      " 2   vehicle_type        318962 non-null  object\n",
      " 3   registration_year   318962 non-null  int64 \n",
      " 4   gear_box            318962 non-null  object\n",
      " 5   power               318962 non-null  int64 \n",
      " 6   model               318962 non-null  object\n",
      " 7   kilometer           318962 non-null  int64 \n",
      " 8   registration_month  318962 non-null  int64 \n",
      " 9   fuel_type           318962 non-null  object\n",
      " 10  brand               318962 non-null  object\n",
      " 11  repaired            318962 non-null  object\n",
      " 12  date_created        318962 non-null  object\n",
      " 13  number_of_pictures  318962 non-null  int64 \n",
      " 14  postal_code         318962 non-null  int64 \n",
      " 15  last_seen           318962 non-null  object\n",
      "dtypes: int64(7), object(9)\n",
      "memory usage: 41.4+ MB\n"
     ]
    }
   ],
   "source": [
    "data.info()"
   ]
  },
  {
   "cell_type": "code",
   "execution_count": 25,
   "metadata": {},
   "outputs": [
    {
     "data": {
      "text/plain": [
       "date_crawled          0\n",
       "price                 0\n",
       "vehicle_type          0\n",
       "registration_year     0\n",
       "gear_box              0\n",
       "power                 0\n",
       "model                 0\n",
       "kilometer             0\n",
       "registration_month    0\n",
       "fuel_type             0\n",
       "brand                 0\n",
       "repaired              0\n",
       "date_created          0\n",
       "number_of_pictures    0\n",
       "postal_code           0\n",
       "last_seen             0\n",
       "dtype: int64"
      ]
     },
     "execution_count": 25,
     "metadata": {},
     "output_type": "execute_result"
    }
   ],
   "source": [
    "data.isna().sum()"
   ]
  },
  {
   "cell_type": "markdown",
   "metadata": {},
   "source": [
    "### Поиск аномалий"
   ]
  },
  {
   "cell_type": "markdown",
   "metadata": {},
   "source": [
    "Для поиска аномалий воспользуемся описанием столбцов. Далее построим графики типа \"ящик с усами\", чтобы математически определить пороги аномальных значений."
   ]
  },
  {
   "cell_type": "code",
   "execution_count": 26,
   "metadata": {},
   "outputs": [
    {
     "data": {
      "text/plain": [
       "count    318962.000000\n",
       "mean       4608.877478\n",
       "std        4564.222124\n",
       "min           0.000000\n",
       "25%        1200.000000\n",
       "50%        2900.000000\n",
       "75%        6700.000000\n",
       "max       20000.000000\n",
       "Name: price, dtype: float64"
      ]
     },
     "execution_count": 26,
     "metadata": {},
     "output_type": "execute_result"
    }
   ],
   "source": [
    "data['price'].describe()"
   ]
  },
  {
   "cell_type": "code",
   "execution_count": 27,
   "metadata": {},
   "outputs": [
    {
     "data": {
      "text/plain": [
       "count    318962.000000\n",
       "mean     128844.517529\n",
       "std       36620.996639\n",
       "min        5000.000000\n",
       "25%      125000.000000\n",
       "50%      150000.000000\n",
       "75%      150000.000000\n",
       "max      150000.000000\n",
       "Name: kilometer, dtype: float64"
      ]
     },
     "execution_count": 27,
     "metadata": {},
     "output_type": "execute_result"
    }
   ],
   "source": [
    "data['kilometer'].describe()"
   ]
  },
  {
   "cell_type": "code",
   "execution_count": 28,
   "metadata": {},
   "outputs": [
    {
     "data": {
      "text/plain": [
       "count    318962.000000\n",
       "mean       2003.427004\n",
       "std          30.517271\n",
       "min        1000.000000\n",
       "25%        1999.000000\n",
       "50%        2003.000000\n",
       "75%        2008.000000\n",
       "max        9000.000000\n",
       "Name: registration_year, dtype: float64"
      ]
     },
     "execution_count": 28,
     "metadata": {},
     "output_type": "execute_result"
    }
   ],
   "source": [
    "data['registration_year'].describe()"
   ]
  },
  {
   "cell_type": "code",
   "execution_count": 29,
   "metadata": {},
   "outputs": [
    {
     "data": {
      "image/png": "[encoded data removed]",
      "text/plain": [
       "<Figure size 1000x800 with 1 Axes>"
      ]
     },
     "metadata": {},
     "output_type": "display_data"
    }
   ],
   "source": [
    "plt.figure(figsize=(10, 8))\n",
    "data.boxplot(column='registration_year')\n",
    "plt.minorticks_on()\n",
    "plt.grid(which='major')\n",
    "plt.grid(which='minor', linestyle=':')\n",
    "plt.title('Поиск аномалий в registration_year', fontsize=15)\n",
    "plt.ylim(1900, 2050)\n",
    "plt.show()"
   ]
  },
  {
   "cell_type": "code",
   "execution_count": 30,
   "metadata": {},
   "outputs": [
    {
     "data": {
      "image/png": "[encoded data removed]",
      "text/plain": [
       "<Figure size 1000x800 with 1 Axes>"
      ]
     },
     "metadata": {},
     "output_type": "display_data"
    }
   ],
   "source": [
    "plt.figure(figsize=(10, 8))\n",
    "data.boxplot(column='price')\n",
    "plt.minorticks_on()\n",
    "plt.grid(which='major')\n",
    "plt.grid(which='minor', linestyle=':')\n",
    "plt.title('Поиск аномалий в price', fontsize=15)\n",
    "plt.ylim(-1000, 20000)\n",
    "plt.show()"
   ]
  },
  {
   "cell_type": "code",
   "execution_count": 31,
   "metadata": {},
   "outputs": [
    {
     "data": {
      "image/png": "[encoded data removed]",
      "text/plain": [
       "<Figure size 1000x800 with 1 Axes>"
      ]
     },
     "metadata": {},
     "output_type": "display_data"
    }
   ],
   "source": [
    "plt.figure(figsize=(10, 8))\n",
    "data.boxplot(column='kilometer')\n",
    "plt.minorticks_on()\n",
    "plt.grid(which='major')\n",
    "plt.grid(which='minor', linestyle=':')\n",
    "plt.title('Поиск аномалий в kilometer', fontsize=15)\n",
    "\n",
    "plt.show()"
   ]
  },
  {
   "cell_type": "code",
   "execution_count": 32,
   "metadata": {},
   "outputs": [
    {
     "data": {
      "text/plain": [
       "count    318962.000000\n",
       "mean        114.965783\n",
       "std         185.626567\n",
       "min           0.000000\n",
       "25%          75.000000\n",
       "50%         105.000000\n",
       "75%         143.000000\n",
       "max       20000.000000\n",
       "Name: power, dtype: float64"
      ]
     },
     "execution_count": 32,
     "metadata": {},
     "output_type": "execute_result"
    }
   ],
   "source": [
    "data['power'].describe()"
   ]
  },
  {
   "cell_type": "code",
   "execution_count": 33,
   "metadata": {},
   "outputs": [
    {
     "data": {
      "image/png": "[encoded data removed]",
      "text/plain": [
       "<Figure size 1000x800 with 1 Axes>"
      ]
     },
     "metadata": {},
     "output_type": "display_data"
    }
   ],
   "source": [
    "plt.figure(figsize=(10, 8))\n",
    "data.boxplot(column='power')\n",
    "plt.minorticks_on()\n",
    "plt.grid(which='major')\n",
    "plt.grid(which='minor', linestyle=':')\n",
    "plt.title('Поиск аномалий в power', fontsize=15)\n",
    "plt.ylim(-100, 500)\n",
    "plt.show()"
   ]
  },
  {
   "cell_type": "markdown",
   "metadata": {},
   "source": [
    "Отфильтруем данные, взяв в датасет только значения расположенные в границах усов, тем самым отсекая аномальные значения, ошибки ввода и артефакты."
   ]
  },
  {
   "cell_type": "code",
   "execution_count": 34,
   "metadata": {},
   "outputs": [
    {
     "data": {
      "text/plain": [
       "array([ 0,  8,  6,  7, 10, 12, 11,  2,  3,  1,  4,  5,  9], dtype=int64)"
      ]
     },
     "execution_count": 34,
     "metadata": {},
     "output_type": "execute_result"
    }
   ],
   "source": [
    "data['registration_month'].unique()"
   ]
  },
  {
   "cell_type": "code",
   "execution_count": 35,
   "metadata": {},
   "outputs": [
    {
     "data": {
      "image/png": "[encoded data removed]",
      "text/plain": [
       "<Figure size 640x480 with 1 Axes>"
      ]
     },
     "metadata": {},
     "output_type": "display_data"
    }
   ],
   "source": [
    "data['registration_month'].hist()\n",
    "plt.show()"
   ]
  },
  {
   "cell_type": "code",
   "execution_count": 36,
   "metadata": {},
   "outputs": [],
   "source": [
    "data_filtered = data.query('(0 < power < 260) & (kilometer > 90000) & (0 < price < 16000) & (1985 < registration_year < 2016) & (0 < registration_month)')"
   ]
  },
  {
   "cell_type": "code",
   "execution_count": 37,
   "metadata": {},
   "outputs": [
    {
     "data": {
      "text/plain": [
       "0         2016-03-24 11:52:17\n",
       "2         2016-03-14 12:52:21\n",
       "3         2016-03-17 16:54:04\n",
       "4         2016-03-31 17:25:20\n",
       "5         2016-04-04 17:36:23\n",
       "                 ...         \n",
       "354363    2016-03-27 20:36:20\n",
       "354364    2016-03-21 09:50:58\n",
       "354366    2016-03-05 19:56:21\n",
       "354367    2016-03-19 18:57:12\n",
       "354368    2016-03-20 19:41:08\n",
       "Name: date_crawled, Length: 318962, dtype: object"
      ]
     },
     "execution_count": 37,
     "metadata": {},
     "output_type": "execute_result"
    }
   ],
   "source": [
    "data['date_crawled']"
   ]
  },
  {
   "cell_type": "code",
   "execution_count": 38,
   "metadata": {},
   "outputs": [
    {
     "data": {
      "text/plain": [
       "0         1993\n",
       "2         2004\n",
       "3         2001\n",
       "4         2008\n",
       "5         1995\n",
       "          ... \n",
       "354363    2000\n",
       "354364    2005\n",
       "354366    2000\n",
       "354367    1996\n",
       "354368    2002\n",
       "Name: registration_year, Length: 318962, dtype: int64"
      ]
     },
     "execution_count": 38,
     "metadata": {},
     "output_type": "execute_result"
    }
   ],
   "source": [
    "data['registration_year']"
   ]
  },
  {
   "cell_type": "markdown",
   "metadata": {},
   "source": [
    "Удалим неинформативные столбцы."
   ]
  },
  {
   "cell_type": "code",
   "execution_count": 39,
   "metadata": {},
   "outputs": [],
   "source": [
    "data_filtered = data_filtered.drop(['date_crawled', 'date_created', 'postal_code', 'number_of_pictures', 'last_seen'], axis=1)"
   ]
  },
  {
   "cell_type": "code",
   "execution_count": 40,
   "metadata": {},
   "outputs": [
    {
     "name": "stdout",
     "output_type": "stream",
     "text": [
      "<class 'pandas.core.frame.DataFrame'>\n",
      "Int64Index: 201511 entries, 2 to 354368\n",
      "Data columns (total 11 columns):\n",
      " #   Column              Non-Null Count   Dtype \n",
      "---  ------              --------------   ----- \n",
      " 0   price               201511 non-null  int64 \n",
      " 1   vehicle_type        201511 non-null  object\n",
      " 2   registration_year   201511 non-null  int64 \n",
      " 3   gear_box            201511 non-null  object\n",
      " 4   power               201511 non-null  int64 \n",
      " 5   model               201511 non-null  object\n",
      " 6   kilometer           201511 non-null  int64 \n",
      " 7   registration_month  201511 non-null  int64 \n",
      " 8   fuel_type           201511 non-null  object\n",
      " 9   brand               201511 non-null  object\n",
      " 10  repaired            201511 non-null  object\n",
      "dtypes: int64(5), object(6)\n",
      "memory usage: 18.4+ MB\n"
     ]
    }
   ],
   "source": [
    "data_filtered.info()"
   ]
  },
  {
   "cell_type": "code",
   "execution_count": 41,
   "metadata": {
    "scrolled": true
   },
   "outputs": [
    {
     "data": {
      "text/html": [
       "<div>\n",
       "<style scoped>\n",
       "    .dataframe tbody tr th:only-of-type {\n",
       "        vertical-align: middle;\n",
       "    }\n",
       "\n",
       "    .dataframe tbody tr th {\n",
       "        vertical-align: top;\n",
       "    }\n",
       "\n",
       "    .dataframe thead th {\n",
       "        text-align: right;\n",
       "    }\n",
       "</style>\n",
       "<table border=\"1\" class=\"dataframe\">\n",
       "  <thead>\n",
       "    <tr style=\"text-align: right;\">\n",
       "      <th></th>\n",
       "      <th>price</th>\n",
       "      <th>vehicle_type</th>\n",
       "      <th>registration_year</th>\n",
       "      <th>gear_box</th>\n",
       "      <th>power</th>\n",
       "      <th>model</th>\n",
       "      <th>kilometer</th>\n",
       "      <th>registration_month</th>\n",
       "      <th>fuel_type</th>\n",
       "      <th>brand</th>\n",
       "      <th>repaired</th>\n",
       "    </tr>\n",
       "  </thead>\n",
       "  <tbody>\n",
       "    <tr>\n",
       "      <th>2</th>\n",
       "      <td>9800</td>\n",
       "      <td>suv</td>\n",
       "      <td>2004</td>\n",
       "      <td>auto</td>\n",
       "      <td>163</td>\n",
       "      <td>grand</td>\n",
       "      <td>125000</td>\n",
       "      <td>8</td>\n",
       "      <td>gasoline</td>\n",
       "      <td>jeep</td>\n",
       "      <td>unknown</td>\n",
       "    </tr>\n",
       "    <tr>\n",
       "      <th>3</th>\n",
       "      <td>1500</td>\n",
       "      <td>small</td>\n",
       "      <td>2001</td>\n",
       "      <td>manual</td>\n",
       "      <td>75</td>\n",
       "      <td>golf</td>\n",
       "      <td>150000</td>\n",
       "      <td>6</td>\n",
       "      <td>petrol</td>\n",
       "      <td>volkswagen</td>\n",
       "      <td>no</td>\n",
       "    </tr>\n",
       "    <tr>\n",
       "      <th>5</th>\n",
       "      <td>650</td>\n",
       "      <td>sedan</td>\n",
       "      <td>1995</td>\n",
       "      <td>manual</td>\n",
       "      <td>102</td>\n",
       "      <td>3er</td>\n",
       "      <td>150000</td>\n",
       "      <td>10</td>\n",
       "      <td>petrol</td>\n",
       "      <td>bmw</td>\n",
       "      <td>yes</td>\n",
       "    </tr>\n",
       "    <tr>\n",
       "      <th>6</th>\n",
       "      <td>2200</td>\n",
       "      <td>convertible</td>\n",
       "      <td>2004</td>\n",
       "      <td>manual</td>\n",
       "      <td>109</td>\n",
       "      <td>2_reihe</td>\n",
       "      <td>150000</td>\n",
       "      <td>8</td>\n",
       "      <td>petrol</td>\n",
       "      <td>peugeot</td>\n",
       "      <td>no</td>\n",
       "    </tr>\n",
       "    <tr>\n",
       "      <th>10</th>\n",
       "      <td>2000</td>\n",
       "      <td>sedan</td>\n",
       "      <td>2004</td>\n",
       "      <td>manual</td>\n",
       "      <td>105</td>\n",
       "      <td>3_reihe</td>\n",
       "      <td>150000</td>\n",
       "      <td>12</td>\n",
       "      <td>petrol</td>\n",
       "      <td>mazda</td>\n",
       "      <td>no</td>\n",
       "    </tr>\n",
       "  </tbody>\n",
       "</table>\n",
       "</div>"
      ],
      "text/plain": [
       "    price vehicle_type  registration_year gear_box  power    model  kilometer  \\\n",
       "2    9800          suv               2004     auto    163    grand     125000   \n",
       "3    1500        small               2001   manual     75     golf     150000   \n",
       "5     650        sedan               1995   manual    102      3er     150000   \n",
       "6    2200  convertible               2004   manual    109  2_reihe     150000   \n",
       "10   2000        sedan               2004   manual    105  3_reihe     150000   \n",
       "\n",
       "    registration_month fuel_type       brand repaired  \n",
       "2                    8  gasoline        jeep  unknown  \n",
       "3                    6    petrol  volkswagen       no  \n",
       "5                   10    petrol         bmw      yes  \n",
       "6                    8    petrol     peugeot       no  \n",
       "10                  12    petrol       mazda       no  "
      ]
     },
     "execution_count": 41,
     "metadata": {},
     "output_type": "execute_result"
    }
   ],
   "source": [
    "data_filtered.head()"
   ]
  },
  {
   "cell_type": "code",
   "execution_count": 42,
   "metadata": {},
   "outputs": [],
   "source": [
    "df = data_filtered"
   ]
  },
  {
   "cell_type": "markdown",
   "metadata": {},
   "source": [
    "Проверим на явные дубликаты и избавимся от них"
   ]
  },
  {
   "cell_type": "code",
   "execution_count": 43,
   "metadata": {},
   "outputs": [
    {
     "name": "stdout",
     "output_type": "stream",
     "text": [
      "16964\n"
     ]
    }
   ],
   "source": [
    "print(df.duplicated().sum())\n",
    "\n",
    "df = df.drop_duplicates().reset_index(drop=True)"
   ]
  },
  {
   "cell_type": "markdown",
   "metadata": {},
   "source": [
    "Построим матрицу корреляции для числовых признаков"
   ]
  },
  {
   "cell_type": "code",
   "execution_count": 44,
   "metadata": {},
   "outputs": [
    {
     "data": {
      "image/png": "[encoded data removed]",
      "text/plain": [
       "<Figure size 1500x500 with 2 Axes>"
      ]
     },
     "metadata": {},
     "output_type": "display_data"
    }
   ],
   "source": [
    "plt.figure(figsize=(15, 5))\n",
    "plt.title('Матрица корреляции числовых признаков')\n",
    "\n",
    "sb.heatmap(df.corr(), annot = True)\n",
    "\n",
    "plt.show()"
   ]
  },
  {
   "cell_type": "markdown",
   "metadata": {},
   "source": [
    "Выраженная связь присутствует между целевым признаком *price* и обучающими *registration_year* и *power*"
   ]
  },
  {
   "cell_type": "code",
   "execution_count": 45,
   "metadata": {},
   "outputs": [
    {
     "name": "stdout",
     "output_type": "stream",
     "text": [
      "<class 'pandas.core.frame.DataFrame'>\n",
      "RangeIndex: 184547 entries, 0 to 184546\n",
      "Data columns (total 11 columns):\n",
      " #   Column              Non-Null Count   Dtype \n",
      "---  ------              --------------   ----- \n",
      " 0   price               184547 non-null  int64 \n",
      " 1   vehicle_type        184547 non-null  object\n",
      " 2   registration_year   184547 non-null  int64 \n",
      " 3   gear_box            184547 non-null  object\n",
      " 4   power               184547 non-null  int64 \n",
      " 5   model               184547 non-null  object\n",
      " 6   kilometer           184547 non-null  int64 \n",
      " 7   registration_month  184547 non-null  int64 \n",
      " 8   fuel_type           184547 non-null  object\n",
      " 9   brand               184547 non-null  object\n",
      " 10  repaired            184547 non-null  object\n",
      "dtypes: int64(5), object(6)\n",
      "memory usage: 15.5+ MB\n"
     ]
    }
   ],
   "source": [
    "df.info()"
   ]
  },
  {
   "cell_type": "markdown",
   "metadata": {},
   "source": [
    "### Вывод"
   ]
  },
  {
   "cell_type": "markdown",
   "metadata": {},
   "source": [
    "На этапе предобработки данных все столбцы были переименованы. \n",
    "\n",
    "Были выявлены и заполнены пропуски в категориальных признаках на значения-заглушки.\n",
    "\n",
    "Данные были очищены от аномалий, артефактов и ошибок пользовательского ввода.\n",
    "\n",
    "Были удалены явные дубликаты в данных.\n",
    "\n",
    "Изучена корреляция числовых признаков."
   ]
  },
  {
   "cell_type": "markdown",
   "metadata": {},
   "source": [
    "### Подготовка признаков"
   ]
  },
  {
   "cell_type": "markdown",
   "metadata": {},
   "source": [
    "Изучим количество уникальных значений в категориальных признаках \"модель\" и \"бренд\"."
   ]
  },
  {
   "cell_type": "code",
   "execution_count": 46,
   "metadata": {},
   "outputs": [
    {
     "data": {
      "text/plain": [
       "244"
      ]
     },
     "execution_count": 46,
     "metadata": {},
     "output_type": "execute_result"
    }
   ],
   "source": [
    "len(np.unique(df['model']))"
   ]
  },
  {
   "cell_type": "code",
   "execution_count": 47,
   "metadata": {},
   "outputs": [
    {
     "data": {
      "text/plain": [
       "39"
      ]
     },
     "execution_count": 47,
     "metadata": {},
     "output_type": "execute_result"
    }
   ],
   "source": [
    "len(np.unique(df['brand']))"
   ]
  },
  {
   "cell_type": "code",
   "execution_count": 48,
   "metadata": {},
   "outputs": [
    {
     "data": {
      "text/html": [
       "<div>\n",
       "<style scoped>\n",
       "    .dataframe tbody tr th:only-of-type {\n",
       "        vertical-align: middle;\n",
       "    }\n",
       "\n",
       "    .dataframe tbody tr th {\n",
       "        vertical-align: top;\n",
       "    }\n",
       "\n",
       "    .dataframe thead th {\n",
       "        text-align: right;\n",
       "    }\n",
       "</style>\n",
       "<table border=\"1\" class=\"dataframe\">\n",
       "  <thead>\n",
       "    <tr style=\"text-align: right;\">\n",
       "      <th></th>\n",
       "      <th>price</th>\n",
       "      <th>vehicle_type</th>\n",
       "      <th>registration_year</th>\n",
       "      <th>gear_box</th>\n",
       "      <th>power</th>\n",
       "      <th>model</th>\n",
       "      <th>kilometer</th>\n",
       "      <th>registration_month</th>\n",
       "      <th>fuel_type</th>\n",
       "      <th>brand</th>\n",
       "      <th>repaired</th>\n",
       "    </tr>\n",
       "  </thead>\n",
       "  <tbody>\n",
       "    <tr>\n",
       "      <th>0</th>\n",
       "      <td>9800</td>\n",
       "      <td>suv</td>\n",
       "      <td>2004</td>\n",
       "      <td>auto</td>\n",
       "      <td>163</td>\n",
       "      <td>grand</td>\n",
       "      <td>125000</td>\n",
       "      <td>8</td>\n",
       "      <td>gasoline</td>\n",
       "      <td>jeep</td>\n",
       "      <td>unknown</td>\n",
       "    </tr>\n",
       "    <tr>\n",
       "      <th>1</th>\n",
       "      <td>1500</td>\n",
       "      <td>small</td>\n",
       "      <td>2001</td>\n",
       "      <td>manual</td>\n",
       "      <td>75</td>\n",
       "      <td>golf</td>\n",
       "      <td>150000</td>\n",
       "      <td>6</td>\n",
       "      <td>petrol</td>\n",
       "      <td>volkswagen</td>\n",
       "      <td>no</td>\n",
       "    </tr>\n",
       "    <tr>\n",
       "      <th>2</th>\n",
       "      <td>650</td>\n",
       "      <td>sedan</td>\n",
       "      <td>1995</td>\n",
       "      <td>manual</td>\n",
       "      <td>102</td>\n",
       "      <td>3er</td>\n",
       "      <td>150000</td>\n",
       "      <td>10</td>\n",
       "      <td>petrol</td>\n",
       "      <td>bmw</td>\n",
       "      <td>yes</td>\n",
       "    </tr>\n",
       "    <tr>\n",
       "      <th>3</th>\n",
       "      <td>2200</td>\n",
       "      <td>convertible</td>\n",
       "      <td>2004</td>\n",
       "      <td>manual</td>\n",
       "      <td>109</td>\n",
       "      <td>2_reihe</td>\n",
       "      <td>150000</td>\n",
       "      <td>8</td>\n",
       "      <td>petrol</td>\n",
       "      <td>peugeot</td>\n",
       "      <td>no</td>\n",
       "    </tr>\n",
       "    <tr>\n",
       "      <th>4</th>\n",
       "      <td>2000</td>\n",
       "      <td>sedan</td>\n",
       "      <td>2004</td>\n",
       "      <td>manual</td>\n",
       "      <td>105</td>\n",
       "      <td>3_reihe</td>\n",
       "      <td>150000</td>\n",
       "      <td>12</td>\n",
       "      <td>petrol</td>\n",
       "      <td>mazda</td>\n",
       "      <td>no</td>\n",
       "    </tr>\n",
       "    <tr>\n",
       "      <th>...</th>\n",
       "      <td>...</td>\n",
       "      <td>...</td>\n",
       "      <td>...</td>\n",
       "      <td>...</td>\n",
       "      <td>...</td>\n",
       "      <td>...</td>\n",
       "      <td>...</td>\n",
       "      <td>...</td>\n",
       "      <td>...</td>\n",
       "      <td>...</td>\n",
       "      <td>...</td>\n",
       "    </tr>\n",
       "    <tr>\n",
       "      <th>184542</th>\n",
       "      <td>3999</td>\n",
       "      <td>wagon</td>\n",
       "      <td>2005</td>\n",
       "      <td>manual</td>\n",
       "      <td>3</td>\n",
       "      <td>3er</td>\n",
       "      <td>150000</td>\n",
       "      <td>5</td>\n",
       "      <td>gasoline</td>\n",
       "      <td>bmw</td>\n",
       "      <td>no</td>\n",
       "    </tr>\n",
       "    <tr>\n",
       "      <th>184543</th>\n",
       "      <td>3200</td>\n",
       "      <td>sedan</td>\n",
       "      <td>2004</td>\n",
       "      <td>manual</td>\n",
       "      <td>225</td>\n",
       "      <td>leon</td>\n",
       "      <td>150000</td>\n",
       "      <td>5</td>\n",
       "      <td>petrol</td>\n",
       "      <td>seat</td>\n",
       "      <td>yes</td>\n",
       "    </tr>\n",
       "    <tr>\n",
       "      <th>184544</th>\n",
       "      <td>1199</td>\n",
       "      <td>convertible</td>\n",
       "      <td>2000</td>\n",
       "      <td>auto</td>\n",
       "      <td>101</td>\n",
       "      <td>fortwo</td>\n",
       "      <td>125000</td>\n",
       "      <td>3</td>\n",
       "      <td>petrol</td>\n",
       "      <td>smart</td>\n",
       "      <td>no</td>\n",
       "    </tr>\n",
       "    <tr>\n",
       "      <th>184545</th>\n",
       "      <td>9200</td>\n",
       "      <td>bus</td>\n",
       "      <td>1996</td>\n",
       "      <td>manual</td>\n",
       "      <td>102</td>\n",
       "      <td>transporter</td>\n",
       "      <td>150000</td>\n",
       "      <td>3</td>\n",
       "      <td>gasoline</td>\n",
       "      <td>volkswagen</td>\n",
       "      <td>no</td>\n",
       "    </tr>\n",
       "    <tr>\n",
       "      <th>184546</th>\n",
       "      <td>3400</td>\n",
       "      <td>wagon</td>\n",
       "      <td>2002</td>\n",
       "      <td>manual</td>\n",
       "      <td>100</td>\n",
       "      <td>golf</td>\n",
       "      <td>150000</td>\n",
       "      <td>6</td>\n",
       "      <td>gasoline</td>\n",
       "      <td>volkswagen</td>\n",
       "      <td>unknown</td>\n",
       "    </tr>\n",
       "  </tbody>\n",
       "</table>\n",
       "<p>184547 rows × 11 columns</p>\n",
       "</div>"
      ],
      "text/plain": [
       "        price vehicle_type  registration_year gear_box  power        model  \\\n",
       "0        9800          suv               2004     auto    163        grand   \n",
       "1        1500        small               2001   manual     75         golf   \n",
       "2         650        sedan               1995   manual    102          3er   \n",
       "3        2200  convertible               2004   manual    109      2_reihe   \n",
       "4        2000        sedan               2004   manual    105      3_reihe   \n",
       "...       ...          ...                ...      ...    ...          ...   \n",
       "184542   3999        wagon               2005   manual      3          3er   \n",
       "184543   3200        sedan               2004   manual    225         leon   \n",
       "184544   1199  convertible               2000     auto    101       fortwo   \n",
       "184545   9200          bus               1996   manual    102  transporter   \n",
       "184546   3400        wagon               2002   manual    100         golf   \n",
       "\n",
       "        kilometer  registration_month fuel_type       brand repaired  \n",
       "0          125000                   8  gasoline        jeep  unknown  \n",
       "1          150000                   6    petrol  volkswagen       no  \n",
       "2          150000                  10    petrol         bmw      yes  \n",
       "3          150000                   8    petrol     peugeot       no  \n",
       "4          150000                  12    petrol       mazda       no  \n",
       "...           ...                 ...       ...         ...      ...  \n",
       "184542     150000                   5  gasoline         bmw       no  \n",
       "184543     150000                   5    petrol        seat      yes  \n",
       "184544     125000                   3    petrol       smart       no  \n",
       "184545     150000                   3  gasoline  volkswagen       no  \n",
       "184546     150000                   6  gasoline  volkswagen  unknown  \n",
       "\n",
       "[184547 rows x 11 columns]"
      ]
     },
     "execution_count": 48,
     "metadata": {},
     "output_type": "execute_result"
    }
   ],
   "source": [
    "df"
   ]
  },
  {
   "cell_type": "markdown",
   "metadata": {},
   "source": [
    "Для работы с алгоритмами CatBoost и LightGBM преобразуем категориальные признаки в тип *category*\n"
   ]
  },
  {
   "cell_type": "code",
   "execution_count": 49,
   "metadata": {},
   "outputs": [],
   "source": [
    "df[['vehicle_type', 'gear_box', 'fuel_type', 'repaired', 'brand', 'model']]= df[['vehicle_type', 'gear_box', 'fuel_type', \n",
    "                                                                        'repaired', 'brand', 'model']].astype('category')\n"
   ]
  },
  {
   "cell_type": "markdown",
   "metadata": {},
   "source": [
    "Разобьем данные на выборки"
   ]
  },
  {
   "cell_type": "code",
   "execution_count": 50,
   "metadata": {},
   "outputs": [],
   "source": [
    "X = df.drop(['price'], axis=1)\n",
    "y = df['price']"
   ]
  },
  {
   "cell_type": "code",
   "execution_count": 51,
   "metadata": {
    "scrolled": false
   },
   "outputs": [
    {
     "name": "stdout",
     "output_type": "stream",
     "text": [
      "X_train: (110728, 10)\n",
      "X_valid: (36909, 10)\n",
      "X_test: (36910, 10)\n",
      "y_train: (110728,)\n",
      "y_valid: (36909,)\n",
      "y_test: (36910,)\n"
     ]
    }
   ],
   "source": [
    "X_train, X_valid, y_train, y_valid = train_test_split(X, y, test_size=0.4, random_state=STATE)\n",
    "X_valid, X_test, y_valid, y_test = train_test_split(X_valid, y_valid, test_size=0.5, random_state=STATE)\n",
    "\n",
    "print('X_train:', X_train.shape)\n",
    "print('X_valid:', X_valid.shape)\n",
    "print('X_test:', X_test.shape)\n",
    "print('y_train:', y_train.shape)\n",
    "print('y_valid:', y_valid.shape)\n",
    "print('y_test:', y_test.shape)"
   ]
  },
  {
   "cell_type": "code",
   "execution_count": 52,
   "metadata": {},
   "outputs": [],
   "source": [
    "cat_features = ['vehicle_type', 'gear_box', 'fuel_type', 'repaired', 'brand', 'model']"
   ]
  },
  {
   "cell_type": "markdown",
   "metadata": {},
   "source": [
    "Проведем кодирование признаков с помощью OrdinalEncoder"
   ]
  },
  {
   "cell_type": "code",
   "execution_count": 53,
   "metadata": {},
   "outputs": [],
   "source": [
    "X_train_encoded = X_train.copy()\n",
    "X_valid_encoded = X_valid.copy()\n",
    "X_test_encoded = X_test.copy()\n",
    "\n",
    "\n",
    "enc = OrdinalEncoder(handle_unknown='use_encoded_value', unknown_value=-1)\n",
    "X_train_encoded[cat_features] = enc.fit_transform(X_train_encoded[cat_features])\n",
    "X_valid_encoded[cat_features] = enc.transform(X_valid_encoded[cat_features])\n",
    "X_test_encoded[cat_features] = enc.transform(X_test_encoded[cat_features])"
   ]
  },
  {
   "cell_type": "markdown",
   "metadata": {},
   "source": [
    "## Обучение моделей"
   ]
  },
  {
   "cell_type": "markdown",
   "metadata": {},
   "source": [
    "### CatBoostRegressor"
   ]
  },
  {
   "cell_type": "code",
   "execution_count": 54,
   "metadata": {
    "scrolled": true
   },
   "outputs": [
    {
     "name": "stdout",
     "output_type": "stream",
     "text": [
      "Learning rate set to 0.5\n",
      "0:\tlearn: 2440.7925377\ttotal: 174ms\tremaining: 17.2s\n",
      "20:\tlearn: 1396.5944663\ttotal: 389ms\tremaining: 1.46s\n",
      "40:\tlearn: 1334.9823461\ttotal: 617ms\tremaining: 888ms\n",
      "60:\tlearn: 1304.1016057\ttotal: 855ms\tremaining: 547ms\n",
      "80:\tlearn: 1284.2127178\ttotal: 1.12s\tremaining: 262ms\n",
      "99:\tlearn: 1267.5581022\ttotal: 1.34s\tremaining: 0us\n",
      "RMSE: 1312.270872115976\n",
      "Wall time: 1.49 s\n"
     ]
    }
   ],
   "source": [
    "%%time\n",
    "\n",
    "\n",
    "model = CatBoostRegressor(loss_function='RMSE', iterations=100, verbose=20, thread_count=-1, random_seed=12345)\n",
    "\n",
    "model.fit(X_train_encoded, y_train)\n",
    "\n",
    "pred_valid = model.predict(X_valid_encoded)\n",
    "    \n",
    "print(f'RMSE: {mean_squared_error(y_valid, pred_valid, squared=False)}')\n",
    "\n"
   ]
  },
  {
   "cell_type": "markdown",
   "metadata": {},
   "source": [
    "### LinearRegression"
   ]
  },
  {
   "cell_type": "code",
   "execution_count": 55,
   "metadata": {},
   "outputs": [
    {
     "data": {
      "text/html": [
       "<div>\n",
       "<style scoped>\n",
       "    .dataframe tbody tr th:only-of-type {\n",
       "        vertical-align: middle;\n",
       "    }\n",
       "\n",
       "    .dataframe tbody tr th {\n",
       "        vertical-align: top;\n",
       "    }\n",
       "\n",
       "    .dataframe thead th {\n",
       "        text-align: right;\n",
       "    }\n",
       "</style>\n",
       "<table border=\"1\" class=\"dataframe\">\n",
       "  <thead>\n",
       "    <tr style=\"text-align: right;\">\n",
       "      <th></th>\n",
       "      <th>price</th>\n",
       "      <th>registration_year</th>\n",
       "      <th>power</th>\n",
       "      <th>kilometer</th>\n",
       "      <th>registration_month</th>\n",
       "      <th>vehicle_type_convertible</th>\n",
       "      <th>vehicle_type_coupe</th>\n",
       "      <th>vehicle_type_other</th>\n",
       "      <th>vehicle_type_sedan</th>\n",
       "      <th>vehicle_type_small</th>\n",
       "      <th>...</th>\n",
       "      <th>brand_skoda</th>\n",
       "      <th>brand_smart</th>\n",
       "      <th>brand_subaru</th>\n",
       "      <th>brand_suzuki</th>\n",
       "      <th>brand_toyota</th>\n",
       "      <th>brand_trabant</th>\n",
       "      <th>brand_volkswagen</th>\n",
       "      <th>brand_volvo</th>\n",
       "      <th>repaired_unknown</th>\n",
       "      <th>repaired_yes</th>\n",
       "    </tr>\n",
       "  </thead>\n",
       "  <tbody>\n",
       "    <tr>\n",
       "      <th>0</th>\n",
       "      <td>9800</td>\n",
       "      <td>2004</td>\n",
       "      <td>163</td>\n",
       "      <td>125000</td>\n",
       "      <td>8</td>\n",
       "      <td>0</td>\n",
       "      <td>0</td>\n",
       "      <td>0</td>\n",
       "      <td>0</td>\n",
       "      <td>0</td>\n",
       "      <td>...</td>\n",
       "      <td>0</td>\n",
       "      <td>0</td>\n",
       "      <td>0</td>\n",
       "      <td>0</td>\n",
       "      <td>0</td>\n",
       "      <td>0</td>\n",
       "      <td>0</td>\n",
       "      <td>0</td>\n",
       "      <td>1</td>\n",
       "      <td>0</td>\n",
       "    </tr>\n",
       "    <tr>\n",
       "      <th>1</th>\n",
       "      <td>1500</td>\n",
       "      <td>2001</td>\n",
       "      <td>75</td>\n",
       "      <td>150000</td>\n",
       "      <td>6</td>\n",
       "      <td>0</td>\n",
       "      <td>0</td>\n",
       "      <td>0</td>\n",
       "      <td>0</td>\n",
       "      <td>1</td>\n",
       "      <td>...</td>\n",
       "      <td>0</td>\n",
       "      <td>0</td>\n",
       "      <td>0</td>\n",
       "      <td>0</td>\n",
       "      <td>0</td>\n",
       "      <td>0</td>\n",
       "      <td>1</td>\n",
       "      <td>0</td>\n",
       "      <td>0</td>\n",
       "      <td>0</td>\n",
       "    </tr>\n",
       "    <tr>\n",
       "      <th>2</th>\n",
       "      <td>650</td>\n",
       "      <td>1995</td>\n",
       "      <td>102</td>\n",
       "      <td>150000</td>\n",
       "      <td>10</td>\n",
       "      <td>0</td>\n",
       "      <td>0</td>\n",
       "      <td>0</td>\n",
       "      <td>1</td>\n",
       "      <td>0</td>\n",
       "      <td>...</td>\n",
       "      <td>0</td>\n",
       "      <td>0</td>\n",
       "      <td>0</td>\n",
       "      <td>0</td>\n",
       "      <td>0</td>\n",
       "      <td>0</td>\n",
       "      <td>0</td>\n",
       "      <td>0</td>\n",
       "      <td>0</td>\n",
       "      <td>1</td>\n",
       "    </tr>\n",
       "    <tr>\n",
       "      <th>3</th>\n",
       "      <td>2200</td>\n",
       "      <td>2004</td>\n",
       "      <td>109</td>\n",
       "      <td>150000</td>\n",
       "      <td>8</td>\n",
       "      <td>1</td>\n",
       "      <td>0</td>\n",
       "      <td>0</td>\n",
       "      <td>0</td>\n",
       "      <td>0</td>\n",
       "      <td>...</td>\n",
       "      <td>0</td>\n",
       "      <td>0</td>\n",
       "      <td>0</td>\n",
       "      <td>0</td>\n",
       "      <td>0</td>\n",
       "      <td>0</td>\n",
       "      <td>0</td>\n",
       "      <td>0</td>\n",
       "      <td>0</td>\n",
       "      <td>0</td>\n",
       "    </tr>\n",
       "    <tr>\n",
       "      <th>4</th>\n",
       "      <td>2000</td>\n",
       "      <td>2004</td>\n",
       "      <td>105</td>\n",
       "      <td>150000</td>\n",
       "      <td>12</td>\n",
       "      <td>0</td>\n",
       "      <td>0</td>\n",
       "      <td>0</td>\n",
       "      <td>1</td>\n",
       "      <td>0</td>\n",
       "      <td>...</td>\n",
       "      <td>0</td>\n",
       "      <td>0</td>\n",
       "      <td>0</td>\n",
       "      <td>0</td>\n",
       "      <td>0</td>\n",
       "      <td>0</td>\n",
       "      <td>0</td>\n",
       "      <td>0</td>\n",
       "      <td>0</td>\n",
       "      <td>0</td>\n",
       "    </tr>\n",
       "  </tbody>\n",
       "</table>\n",
       "<p>5 rows × 304 columns</p>\n",
       "</div>"
      ],
      "text/plain": [
       "   price  registration_year  power  kilometer  registration_month  \\\n",
       "0   9800               2004    163     125000                   8   \n",
       "1   1500               2001     75     150000                   6   \n",
       "2    650               1995    102     150000                  10   \n",
       "3   2200               2004    109     150000                   8   \n",
       "4   2000               2004    105     150000                  12   \n",
       "\n",
       "   vehicle_type_convertible  vehicle_type_coupe  vehicle_type_other  \\\n",
       "0                         0                   0                   0   \n",
       "1                         0                   0                   0   \n",
       "2                         0                   0                   0   \n",
       "3                         1                   0                   0   \n",
       "4                         0                   0                   0   \n",
       "\n",
       "   vehicle_type_sedan  vehicle_type_small  ...  brand_skoda  brand_smart  \\\n",
       "0                   0                   0  ...            0            0   \n",
       "1                   0                   1  ...            0            0   \n",
       "2                   1                   0  ...            0            0   \n",
       "3                   0                   0  ...            0            0   \n",
       "4                   1                   0  ...            0            0   \n",
       "\n",
       "   brand_subaru  brand_suzuki  brand_toyota  brand_trabant  brand_volkswagen  \\\n",
       "0             0             0             0              0                 0   \n",
       "1             0             0             0              0                 1   \n",
       "2             0             0             0              0                 0   \n",
       "3             0             0             0              0                 0   \n",
       "4             0             0             0              0                 0   \n",
       "\n",
       "   brand_volvo  repaired_unknown  repaired_yes  \n",
       "0            0                 1             0  \n",
       "1            0                 0             0  \n",
       "2            0                 0             1  \n",
       "3            0                 0             0  \n",
       "4            0                 0             0  \n",
       "\n",
       "[5 rows x 304 columns]"
      ]
     },
     "execution_count": 55,
     "metadata": {},
     "output_type": "execute_result"
    }
   ],
   "source": [
    "data_ohe = pd.get_dummies(df, drop_first=True)\n",
    "data_ohe.head()"
   ]
  },
  {
   "cell_type": "code",
   "execution_count": 56,
   "metadata": {},
   "outputs": [],
   "source": [
    "y_ohe = data_ohe['price']\n",
    "X_ohe = data_ohe.drop('price', axis=1)\n",
    "X_train_ohe, X_valid_ohe, y_train_ohe, y_valid_ohe = train_test_split(X_ohe, y_ohe, test_size=0.4, random_state=STATE)\n",
    "X_valid_ohe, X_test_ohe, y_valid_ohe, y_test_ohe = train_test_split(X_valid_ohe, y_valid_ohe, test_size=0.5, random_state=STATE)"
   ]
  },
  {
   "cell_type": "code",
   "execution_count": 57,
   "metadata": {},
   "outputs": [],
   "source": [
    "numeric = ['price','registration_year','power','kilometer','registration_month']\n",
    "numeric.remove('price')"
   ]
  },
  {
   "cell_type": "markdown",
   "metadata": {},
   "source": [
    "Для обучения линейной регрессии проведем масштабирование данных."
   ]
  },
  {
   "cell_type": "code",
   "execution_count": 58,
   "metadata": {},
   "outputs": [],
   "source": [
    "pd.options.mode.chained_assignment = None\n",
    "scaler = StandardScaler()\n",
    "scaler.fit(X_train_ohe[numeric])\n",
    "X_train_ohe[numeric] = scaler.transform(X_train_ohe[numeric])\n",
    "X_valid_ohe[numeric] = scaler.transform(X_valid_ohe[numeric])\n",
    "X_test_ohe[numeric] = scaler.transform(X_test_ohe[numeric])"
   ]
  },
  {
   "cell_type": "code",
   "execution_count": 59,
   "metadata": {},
   "outputs": [
    {
     "data": {
      "text/html": [
       "<div>\n",
       "<style scoped>\n",
       "    .dataframe tbody tr th:only-of-type {\n",
       "        vertical-align: middle;\n",
       "    }\n",
       "\n",
       "    .dataframe tbody tr th {\n",
       "        vertical-align: top;\n",
       "    }\n",
       "\n",
       "    .dataframe thead th {\n",
       "        text-align: right;\n",
       "    }\n",
       "</style>\n",
       "<table border=\"1\" class=\"dataframe\">\n",
       "  <thead>\n",
       "    <tr style=\"text-align: right;\">\n",
       "      <th></th>\n",
       "      <th>registration_year</th>\n",
       "      <th>power</th>\n",
       "      <th>kilometer</th>\n",
       "      <th>registration_month</th>\n",
       "      <th>vehicle_type_convertible</th>\n",
       "      <th>vehicle_type_coupe</th>\n",
       "      <th>vehicle_type_other</th>\n",
       "      <th>vehicle_type_sedan</th>\n",
       "      <th>vehicle_type_small</th>\n",
       "      <th>vehicle_type_suv</th>\n",
       "      <th>...</th>\n",
       "      <th>brand_skoda</th>\n",
       "      <th>brand_smart</th>\n",
       "      <th>brand_subaru</th>\n",
       "      <th>brand_suzuki</th>\n",
       "      <th>brand_toyota</th>\n",
       "      <th>brand_trabant</th>\n",
       "      <th>brand_volkswagen</th>\n",
       "      <th>brand_volvo</th>\n",
       "      <th>repaired_unknown</th>\n",
       "      <th>repaired_yes</th>\n",
       "    </tr>\n",
       "  </thead>\n",
       "  <tbody>\n",
       "    <tr>\n",
       "      <th>20540</th>\n",
       "      <td>0.012733</td>\n",
       "      <td>-0.393282</td>\n",
       "      <td>0.447602</td>\n",
       "      <td>0.183865</td>\n",
       "      <td>0</td>\n",
       "      <td>0</td>\n",
       "      <td>0</td>\n",
       "      <td>0</td>\n",
       "      <td>0</td>\n",
       "      <td>0</td>\n",
       "      <td>...</td>\n",
       "      <td>0</td>\n",
       "      <td>0</td>\n",
       "      <td>0</td>\n",
       "      <td>0</td>\n",
       "      <td>0</td>\n",
       "      <td>0</td>\n",
       "      <td>0</td>\n",
       "      <td>0</td>\n",
       "      <td>0</td>\n",
       "      <td>0</td>\n",
       "    </tr>\n",
       "    <tr>\n",
       "      <th>1379</th>\n",
       "      <td>-1.034584</td>\n",
       "      <td>0.134167</td>\n",
       "      <td>0.447602</td>\n",
       "      <td>-0.710080</td>\n",
       "      <td>0</td>\n",
       "      <td>0</td>\n",
       "      <td>0</td>\n",
       "      <td>0</td>\n",
       "      <td>0</td>\n",
       "      <td>0</td>\n",
       "      <td>...</td>\n",
       "      <td>0</td>\n",
       "      <td>0</td>\n",
       "      <td>0</td>\n",
       "      <td>0</td>\n",
       "      <td>0</td>\n",
       "      <td>0</td>\n",
       "      <td>0</td>\n",
       "      <td>0</td>\n",
       "      <td>0</td>\n",
       "      <td>0</td>\n",
       "    </tr>\n",
       "    <tr>\n",
       "      <th>160681</th>\n",
       "      <td>0.431660</td>\n",
       "      <td>-0.019673</td>\n",
       "      <td>-1.416194</td>\n",
       "      <td>0.779828</td>\n",
       "      <td>1</td>\n",
       "      <td>0</td>\n",
       "      <td>0</td>\n",
       "      <td>0</td>\n",
       "      <td>0</td>\n",
       "      <td>0</td>\n",
       "      <td>...</td>\n",
       "      <td>0</td>\n",
       "      <td>0</td>\n",
       "      <td>0</td>\n",
       "      <td>0</td>\n",
       "      <td>0</td>\n",
       "      <td>0</td>\n",
       "      <td>0</td>\n",
       "      <td>0</td>\n",
       "      <td>0</td>\n",
       "      <td>1</td>\n",
       "    </tr>\n",
       "    <tr>\n",
       "      <th>154631</th>\n",
       "      <td>0.641123</td>\n",
       "      <td>-1.294341</td>\n",
       "      <td>-1.416194</td>\n",
       "      <td>0.481846</td>\n",
       "      <td>0</td>\n",
       "      <td>0</td>\n",
       "      <td>0</td>\n",
       "      <td>0</td>\n",
       "      <td>1</td>\n",
       "      <td>0</td>\n",
       "      <td>...</td>\n",
       "      <td>0</td>\n",
       "      <td>0</td>\n",
       "      <td>0</td>\n",
       "      <td>0</td>\n",
       "      <td>0</td>\n",
       "      <td>0</td>\n",
       "      <td>0</td>\n",
       "      <td>0</td>\n",
       "      <td>0</td>\n",
       "      <td>1</td>\n",
       "    </tr>\n",
       "    <tr>\n",
       "      <th>133863</th>\n",
       "      <td>0.641123</td>\n",
       "      <td>-0.854800</td>\n",
       "      <td>0.447602</td>\n",
       "      <td>-0.710080</td>\n",
       "      <td>0</td>\n",
       "      <td>0</td>\n",
       "      <td>0</td>\n",
       "      <td>0</td>\n",
       "      <td>1</td>\n",
       "      <td>0</td>\n",
       "      <td>...</td>\n",
       "      <td>0</td>\n",
       "      <td>0</td>\n",
       "      <td>0</td>\n",
       "      <td>0</td>\n",
       "      <td>0</td>\n",
       "      <td>0</td>\n",
       "      <td>0</td>\n",
       "      <td>0</td>\n",
       "      <td>0</td>\n",
       "      <td>0</td>\n",
       "    </tr>\n",
       "  </tbody>\n",
       "</table>\n",
       "<p>5 rows × 303 columns</p>\n",
       "</div>"
      ],
      "text/plain": [
       "        registration_year     power  kilometer  registration_month  \\\n",
       "20540            0.012733 -0.393282   0.447602            0.183865   \n",
       "1379            -1.034584  0.134167   0.447602           -0.710080   \n",
       "160681           0.431660 -0.019673  -1.416194            0.779828   \n",
       "154631           0.641123 -1.294341  -1.416194            0.481846   \n",
       "133863           0.641123 -0.854800   0.447602           -0.710080   \n",
       "\n",
       "        vehicle_type_convertible  vehicle_type_coupe  vehicle_type_other  \\\n",
       "20540                          0                   0                   0   \n",
       "1379                           0                   0                   0   \n",
       "160681                         1                   0                   0   \n",
       "154631                         0                   0                   0   \n",
       "133863                         0                   0                   0   \n",
       "\n",
       "        vehicle_type_sedan  vehicle_type_small  vehicle_type_suv  ...  \\\n",
       "20540                    0                   0                 0  ...   \n",
       "1379                     0                   0                 0  ...   \n",
       "160681                   0                   0                 0  ...   \n",
       "154631                   0                   1                 0  ...   \n",
       "133863                   0                   1                 0  ...   \n",
       "\n",
       "        brand_skoda  brand_smart  brand_subaru  brand_suzuki  brand_toyota  \\\n",
       "20540             0            0             0             0             0   \n",
       "1379              0            0             0             0             0   \n",
       "160681            0            0             0             0             0   \n",
       "154631            0            0             0             0             0   \n",
       "133863            0            0             0             0             0   \n",
       "\n",
       "        brand_trabant  brand_volkswagen  brand_volvo  repaired_unknown  \\\n",
       "20540               0                 0            0                 0   \n",
       "1379                0                 0            0                 0   \n",
       "160681              0                 0            0                 0   \n",
       "154631              0                 0            0                 0   \n",
       "133863              0                 0            0                 0   \n",
       "\n",
       "        repaired_yes  \n",
       "20540              0  \n",
       "1379               0  \n",
       "160681             1  \n",
       "154631             1  \n",
       "133863             0  \n",
       "\n",
       "[5 rows x 303 columns]"
      ]
     },
     "execution_count": 59,
     "metadata": {},
     "output_type": "execute_result"
    }
   ],
   "source": [
    "pd.DataFrame(X_train_ohe, columns = X_ohe.columns).head()"
   ]
  },
  {
   "cell_type": "code",
   "execution_count": 60,
   "metadata": {},
   "outputs": [
    {
     "name": "stdout",
     "output_type": "stream",
     "text": [
      "RMSE of Linear Regression: 1820.4105761976386\n",
      "Wall time: 2.97 s\n"
     ]
    }
   ],
   "source": [
    "%%time\n",
    "\n",
    "model = LinearRegression().fit(X_train_ohe, y_train_ohe)\n",
    "\n",
    "pred_valid = model.predict(X_valid_ohe)\n",
    "\n",
    "print(f'RMSE of Linear Regression: {mean_squared_error(y_valid_ohe, pred_valid, squared=False)}')"
   ]
  },
  {
   "cell_type": "markdown",
   "metadata": {},
   "source": [
    "### LGBMRegressor"
   ]
  },
  {
   "cell_type": "code",
   "execution_count": 61,
   "metadata": {},
   "outputs": [
    {
     "name": "stdout",
     "output_type": "stream",
     "text": [
      "RMSE of LightGBM: 1327.0116157972118\n",
      "Wall time: 620 ms\n"
     ]
    }
   ],
   "source": [
    "%%time\n",
    "\n",
    "\n",
    "model = lgb.LGBMRegressor()\n",
    "model.fit(X_train_encoded, y_train, eval_metric='rmse')\n",
    "pred_valid = model.predict(X_valid_encoded)\n",
    "\n",
    "print(f'RMSE of LightGBM: {mean_squared_error(y_valid, pred_valid, squared=False)}')"
   ]
  },
  {
   "cell_type": "markdown",
   "metadata": {},
   "source": [
    "### DecisionTreeRegressor"
   ]
  },
  {
   "cell_type": "code",
   "execution_count": 62,
   "metadata": {
    "scrolled": true
   },
   "outputs": [
    {
     "name": "stdout",
     "output_type": "stream",
     "text": [
      "RMSE of Desicion Tree: 1531.8829422648319\n",
      "Wall time: 279 ms\n"
     ]
    }
   ],
   "source": [
    "%%time\n",
    "\n",
    "model = DecisionTreeRegressor(max_depth=10).fit(X_train_encoded, y_train)\n",
    "pred_valid = model.predict(X_valid_encoded)\n",
    "\n",
    "print(f'RMSE of Desicion Tree: {mean_squared_error(y_valid, pred_valid, squared=False)}')"
   ]
  },
  {
   "cell_type": "markdown",
   "metadata": {},
   "source": [
    "### Подбор параметров для моделей градиентного бустинга"
   ]
  },
  {
   "cell_type": "markdown",
   "metadata": {},
   "source": [
    "### CatBoostRegressor"
   ]
  },
  {
   "cell_type": "code",
   "execution_count": 63,
   "metadata": {},
   "outputs": [
    {
     "data": {
      "application/vnd.jupyter.widget-view+json": {
       "model_id": "a73f7972698d4904ba8b34f9d98f77e2",
       "version_major": 2,
       "version_minor": 0
      },
      "text/plain": [
       "MetricVisualizer(layout=Layout(align_self='stretch', height='500px'))"
      ]
     },
     "metadata": {},
     "output_type": "display_data"
    },
    {
     "name": "stdout",
     "output_type": "stream",
     "text": [
      "0:\tlearn: 4742.2806213\ttest: 4734.3548724\tbest: 4734.3548724 (0)\ttotal: 22.6ms\tremaining: 1.11s\n",
      "49:\tlearn: 1366.5655163\ttest: 1374.4415076\tbest: 1374.4415076 (49)\ttotal: 1.24s\tremaining: 0us\n",
      "\n",
      "bestTest = 1374.441508\n",
      "bestIteration = 49\n",
      "\n",
      "0:\tloss: 1374.4415076\tbest: 1374.4415076 (0)\ttotal: 1.31s\tremaining: 19.7s\n",
      "0:\tlearn: 3078.3354409\ttest: 3077.5019527\tbest: 3077.5019527 (0)\ttotal: 25.4ms\tremaining: 1.25s\n",
      "49:\tlearn: 1205.7044906\ttest: 1288.7654736\tbest: 1288.7654736 (49)\ttotal: 1.23s\tremaining: 0us\n",
      "\n",
      "bestTest = 1288.765474\n",
      "bestIteration = 49\n",
      "\n",
      "1:\tloss: 1288.7654736\tbest: 1288.7654736 (1)\ttotal: 2.55s\tremaining: 17.9s\n",
      "0:\tlearn: 4748.1019193\ttest: 4740.3736367\tbest: 4740.3736367 (0)\ttotal: 23.6ms\tremaining: 1.16s\n",
      "49:\tlearn: 1376.6011614\ttest: 1380.2540088\tbest: 1380.2540088 (49)\ttotal: 1.29s\tremaining: 0us\n",
      "\n",
      "bestTest = 1380.254009\n",
      "bestIteration = 49\n",
      "\n",
      "2:\tloss: 1380.2540088\tbest: 1288.7654736 (1)\ttotal: 3.86s\tremaining: 16.7s\n",
      "0:\tlearn: 3104.3537092\ttest: 3104.6507570\tbest: 3104.6507570 (0)\ttotal: 27.7ms\tremaining: 1.36s\n",
      "49:\tlearn: 1230.6568237\ttest: 1290.1122182\tbest: 1290.1122182 (49)\ttotal: 1.21s\tremaining: 0us\n",
      "\n",
      "bestTest = 1290.112218\n",
      "bestIteration = 49\n",
      "\n",
      "3:\tloss: 1290.1122182\tbest: 1288.7654736 (1)\ttotal: 5.08s\tremaining: 15.2s\n",
      "0:\tlearn: 4742.2806213\ttest: 4734.3548724\tbest: 4734.3548724 (0)\ttotal: 26.3ms\tremaining: 5.23s\n",
      "50:\tlearn: 1363.2293858\ttest: 1370.6919680\tbest: 1370.6919680 (50)\ttotal: 1.24s\tremaining: 3.63s\n",
      "100:\tlearn: 1291.5911278\ttest: 1312.6196444\tbest: 1312.6196444 (100)\ttotal: 2.46s\tremaining: 2.42s\n",
      "150:\tlearn: 1251.4641003\ttest: 1289.0283784\tbest: 1289.0283784 (150)\ttotal: 3.65s\tremaining: 1.19s\n",
      "199:\tlearn: 1223.6825105\ttest: 1273.6360809\tbest: 1273.6360809 (199)\ttotal: 4.9s\tremaining: 0us\n",
      "\n",
      "bestTest = 1273.636081\n",
      "bestIteration = 199\n",
      "\n",
      "4:\tloss: 1273.6360809\tbest: 1273.6360809 (4)\ttotal: 10s\tremaining: 22s\n",
      "0:\tlearn: 3078.3354409\ttest: 3077.5019527\tbest: 3077.5019527 (0)\ttotal: 24.7ms\tremaining: 4.91s\n",
      "50:\tlearn: 1204.2378991\ttest: 1287.9746312\tbest: 1287.9746312 (50)\ttotal: 1.26s\tremaining: 3.69s\n",
      "100:\tlearn: 1124.5402156\ttest: 1276.3549484\tbest: 1276.0631182 (89)\ttotal: 2.46s\tremaining: 2.41s\n",
      "150:\tlearn: 1077.0294586\ttest: 1275.7663774\tbest: 1275.1735849 (126)\ttotal: 3.6s\tremaining: 1.17s\n",
      "199:\tlearn: 1035.0090655\ttest: 1276.7491466\tbest: 1274.5374151 (172)\ttotal: 4.67s\tremaining: 0us\n",
      "\n",
      "bestTest = 1274.537415\n",
      "bestIteration = 172\n",
      "\n",
      "5:\tloss: 1274.5374151\tbest: 1273.6360809 (4)\ttotal: 14.7s\tremaining: 24.5s\n",
      "0:\tlearn: 4748.1019193\ttest: 4740.3736367\tbest: 4740.3736367 (0)\ttotal: 21.7ms\tremaining: 4.32s\n",
      "50:\tlearn: 1373.6584201\ttest: 1377.1816186\tbest: 1377.1816186 (50)\ttotal: 1.07s\tremaining: 3.14s\n",
      "100:\tlearn: 1302.7506383\ttest: 1317.6198597\tbest: 1317.6198597 (100)\ttotal: 2.12s\tremaining: 2.07s\n",
      "150:\tlearn: 1267.0903209\ttest: 1293.8571494\tbest: 1293.8571494 (150)\ttotal: 3.23s\tremaining: 1.05s\n",
      "199:\tlearn: 1242.5109980\ttest: 1281.2174371\tbest: 1281.2174371 (199)\ttotal: 4.31s\tremaining: 0us\n",
      "\n",
      "bestTest = 1281.217437\n",
      "bestIteration = 199\n",
      "\n",
      "6:\tloss: 1281.2174371\tbest: 1273.6360809 (4)\ttotal: 19s\tremaining: 24.5s\n",
      "0:\tlearn: 3104.3537092\ttest: 3104.6507570\tbest: 3104.6507570 (0)\ttotal: 20.4ms\tremaining: 4.07s\n",
      "50:\tlearn: 1229.0391174\ttest: 1289.8627006\tbest: 1289.8627006 (50)\ttotal: 1.1s\tremaining: 3.21s\n",
      "100:\tlearn: 1151.9728945\ttest: 1276.6707283\tbest: 1276.6383105 (99)\ttotal: 2.16s\tremaining: 2.12s\n",
      "150:\tlearn: 1100.0797085\ttest: 1276.0930433\tbest: 1274.5064170 (139)\ttotal: 3.31s\tremaining: 1.07s\n",
      "199:\tlearn: 1062.4764181\ttest: 1275.4634631\tbest: 1274.3178435 (176)\ttotal: 4.57s\tremaining: 0us\n",
      "\n",
      "bestTest = 1274.317843\n",
      "bestIteration = 176\n",
      "\n",
      "7:\tloss: 1274.3178435\tbest: 1273.6360809 (4)\ttotal: 23.6s\tremaining: 23.6s\n",
      "0:\tlearn: 4743.2891607\ttest: 4735.3059900\tbest: 4735.3059900 (0)\ttotal: 67.3ms\tremaining: 3.3s\n",
      "49:\tlearn: 1321.4432965\ttest: 1346.8790189\tbest: 1346.8790189 (49)\ttotal: 3.54s\tremaining: 0us\n",
      "\n",
      "bestTest = 1346.879019\n",
      "bestIteration = 49\n",
      "\n",
      "8:\tloss: 1346.8790189\tbest: 1273.6360809 (4)\ttotal: 27.2s\tremaining: 21.1s\n",
      "0:\tlearn: 3082.4484021\ttest: 3081.1927482\tbest: 3081.1927482 (0)\ttotal: 68.8ms\tremaining: 3.37s\n",
      "49:\tlearn: 1132.4761552\ttest: 1294.5202539\tbest: 1293.6329702 (48)\ttotal: 3.34s\tremaining: 0us\n",
      "\n",
      "bestTest = 1293.63297\n",
      "bestIteration = 48\n",
      "\n",
      "9:\tloss: 1293.6329702\tbest: 1273.6360809 (4)\ttotal: 30.5s\tremaining: 18.3s\n",
      "0:\tlearn: 4750.4045785\ttest: 4742.5955254\tbest: 4742.5955254 (0)\ttotal: 57.1ms\tremaining: 2.8s\n",
      "49:\tlearn: 1335.6802619\ttest: 1352.4512966\tbest: 1352.4512966 (49)\ttotal: 3.15s\tremaining: 0us\n",
      "\n",
      "bestTest = 1352.451297\n",
      "bestIteration = 49\n",
      "\n",
      "10:\tloss: 1352.4512966\tbest: 1273.6360809 (4)\ttotal: 33.7s\tremaining: 15.3s\n",
      "0:\tlearn: 3114.8132112\ttest: 3114.6574223\tbest: 3114.6574223 (0)\ttotal: 54.7ms\tremaining: 2.68s\n",
      "49:\tlearn: 1180.9111285\ttest: 1295.5767583\tbest: 1295.5767583 (49)\ttotal: 3.14s\tremaining: 0us\n",
      "\n",
      "bestTest = 1295.576758\n",
      "bestIteration = 49\n",
      "\n",
      "11:\tloss: 1295.5767583\tbest: 1273.6360809 (4)\ttotal: 36.8s\tremaining: 12.3s\n",
      "0:\tlearn: 4743.2891607\ttest: 4735.3059900\tbest: 4735.3059900 (0)\ttotal: 57.8ms\tremaining: 11.5s\n",
      "50:\tlearn: 1319.7635302\ttest: 1345.4820872\tbest: 1345.4820872 (50)\ttotal: 3.58s\tremaining: 10.5s\n",
      "100:\tlearn: 1244.2443328\ttest: 1296.6598195\tbest: 1296.6598195 (100)\ttotal: 7.23s\tremaining: 7.08s\n",
      "150:\tlearn: 1198.1294038\ttest: 1277.3182180\tbest: 1277.3182180 (150)\ttotal: 10.6s\tremaining: 3.45s\n",
      "199:\tlearn: 1159.2265937\ttest: 1266.7272817\tbest: 1266.7272817 (199)\ttotal: 13.9s\tremaining: 0us\n",
      "\n",
      "bestTest = 1266.727282\n",
      "bestIteration = 199\n",
      "\n",
      "12:\tloss: 1266.7272817\tbest: 1266.7272817 (12)\ttotal: 50.8s\tremaining: 11.7s\n",
      "0:\tlearn: 3082.4484021\ttest: 3081.1927482\tbest: 3081.1927482 (0)\ttotal: 59.6ms\tremaining: 11.9s\n",
      "50:\tlearn: 1130.7748103\ttest: 1294.2007427\tbest: 1293.6329702 (48)\ttotal: 3.46s\tremaining: 10.1s\n",
      "100:\tlearn: 1033.1438527\ttest: 1294.7372125\tbest: 1291.0651067 (66)\ttotal: 7s\tremaining: 6.86s\n",
      "150:\tlearn: 967.3066811\ttest: 1300.9513379\tbest: 1291.0651067 (66)\ttotal: 10.3s\tremaining: 3.33s\n",
      "199:\tlearn: 918.1538625\ttest: 1308.2852451\tbest: 1291.0651067 (66)\ttotal: 13.3s\tremaining: 0us\n",
      "\n",
      "bestTest = 1291.065107\n",
      "bestIteration = 66\n",
      "\n",
      "13:\tloss: 1291.0651067\tbest: 1266.7272817 (12)\ttotal: 1m 4s\tremaining: 9.15s\n",
      "0:\tlearn: 4750.4045785\ttest: 4742.5955254\tbest: 4742.5955254 (0)\ttotal: 58.7ms\tremaining: 11.7s\n",
      "50:\tlearn: 1332.9848779\ttest: 1350.3380139\tbest: 1350.3380139 (50)\ttotal: 3.1s\tremaining: 9.07s\n",
      "100:\tlearn: 1259.5550826\ttest: 1299.2993278\tbest: 1299.2993278 (100)\ttotal: 6.16s\tremaining: 6.04s\n",
      "150:\tlearn: 1216.3372416\ttest: 1278.0682761\tbest: 1278.0682761 (150)\ttotal: 9.4s\tremaining: 3.05s\n",
      "199:\tlearn: 1186.9188797\ttest: 1270.8545405\tbest: 1270.8545405 (199)\ttotal: 12.4s\tremaining: 0us\n",
      "\n",
      "bestTest = 1270.85454\n",
      "bestIteration = 199\n",
      "\n",
      "14:\tloss: 1270.8545405\tbest: 1266.7272817 (12)\ttotal: 1m 16s\tremaining: 5.1s\n",
      "0:\tlearn: 3114.8132112\ttest: 3114.6574223\tbest: 3114.6574223 (0)\ttotal: 52.7ms\tremaining: 10.5s\n",
      "50:\tlearn: 1178.7897178\ttest: 1295.2223893\tbest: 1295.2223893 (50)\ttotal: 3.22s\tremaining: 9.4s\n",
      "100:\tlearn: 1084.9820820\ttest: 1283.3949630\tbest: 1283.0686483 (91)\ttotal: 6.16s\tremaining: 6.04s\n",
      "150:\tlearn: 1019.5416091\ttest: 1289.0189459\tbest: 1283.0686483 (91)\ttotal: 9.47s\tremaining: 3.07s\n",
      "199:\tlearn: 970.4767139\ttest: 1292.0195136\tbest: 1283.0686483 (91)\ttotal: 12.6s\tremaining: 0us\n",
      "\n",
      "bestTest = 1283.068648\n",
      "bestIteration = 91\n",
      "\n",
      "15:\tloss: 1283.0686483\tbest: 1266.7272817 (12)\ttotal: 1m 29s\tremaining: 0us\n",
      "Estimating final quality...\n",
      "Training on fold [0/3]\n",
      "0:\tlearn: 4727.8869585\ttest: 4785.6717927\tbest: 4785.6717927 (0)\ttotal: 61.6ms\tremaining: 12.3s\n",
      "50:\tlearn: 1309.0018517\ttest: 1378.9220738\tbest: 1378.9220738 (50)\ttotal: 2.98s\tremaining: 8.72s\n",
      "100:\tlearn: 1226.1895330\ttest: 1332.6900840\tbest: 1332.6900840 (100)\ttotal: 5.8s\tremaining: 5.68s\n",
      "150:\tlearn: 1177.1886954\ttest: 1314.4190873\tbest: 1314.4190873 (150)\ttotal: 8.59s\tremaining: 2.79s\n",
      "199:\tlearn: 1144.2922473\ttest: 1304.1525331\tbest: 1304.1525331 (199)\ttotal: 11.2s\tremaining: 0us\n",
      "\n",
      "bestTest = 1304.152533\n",
      "bestIteration = 199\n",
      "\n",
      "Training on fold [1/3]\n",
      "0:\tlearn: 4764.9014192\ttest: 4713.8293594\tbest: 4713.8293594 (0)\ttotal: 58.2ms\tremaining: 11.6s\n",
      "50:\tlearn: 1305.3923022\ttest: 1371.7730524\tbest: 1371.7730524 (50)\ttotal: 3.12s\tremaining: 9.12s\n",
      "100:\tlearn: 1220.0109036\ttest: 1329.1382046\tbest: 1329.1382046 (100)\ttotal: 6.06s\tremaining: 5.94s\n",
      "150:\tlearn: 1176.8066279\ttest: 1310.0479267\tbest: 1310.0479267 (150)\ttotal: 8.86s\tremaining: 2.87s\n",
      "199:\tlearn: 1141.1877777\ttest: 1300.5008776\tbest: 1300.5008776 (199)\ttotal: 11.5s\tremaining: 0us\n",
      "\n",
      "bestTest = 1300.500878\n",
      "bestIteration = 199\n",
      "\n",
      "Training on fold [2/3]\n",
      "0:\tlearn: 4747.1087486\ttest: 4744.5191549\tbest: 4744.5191549 (0)\ttotal: 58ms\tremaining: 11.5s\n",
      "50:\tlearn: 1310.3537186\ttest: 1357.9350024\tbest: 1357.9350024 (50)\ttotal: 2.81s\tremaining: 8.21s\n",
      "100:\tlearn: 1230.9863169\ttest: 1315.9128528\tbest: 1315.9128528 (100)\ttotal: 5.57s\tremaining: 5.46s\n",
      "150:\tlearn: 1179.9988636\ttest: 1297.9377073\tbest: 1297.9377073 (150)\ttotal: 8.55s\tremaining: 2.77s\n",
      "199:\tlearn: 1144.3758382\ttest: 1290.3702022\tbest: 1290.3702022 (199)\ttotal: 11.6s\tremaining: 0us\n",
      "\n",
      "bestTest = 1290.370202\n",
      "bestIteration = 199\n",
      "\n",
      "Wall time: 2min 16s\n"
     ]
    }
   ],
   "source": [
    "%%time\n",
    "\n",
    "\n",
    "model = CatBoostRegressor(loss_function='RMSE',\n",
    "                          verbose=50,\n",
    "                          thread_count=-1,\n",
    "                          random_seed=12345)\n",
    "grid = {'learning_rate': [0.1, 0.5],\n",
    "        'depth': [10, 12],\n",
    "        'l2_leaf_reg': [3, 7],\n",
    "        'iterations' : [50, 200]}\n",
    "grid_search_result = model.grid_search(grid, \n",
    "                                       X=X_train_encoded, \n",
    "                                       y=y_train,\n",
    "                                       plot=True)"
   ]
  },
  {
   "cell_type": "code",
   "execution_count": 64,
   "metadata": {},
   "outputs": [
    {
     "data": {
      "text/plain": [
       "{'depth': 12, 'l2_leaf_reg': 3, 'iterations': 200, 'learning_rate': 0.1}"
      ]
     },
     "execution_count": 64,
     "metadata": {},
     "output_type": "execute_result"
    }
   ],
   "source": [
    "grid_search_result['params']"
   ]
  },
  {
   "cell_type": "markdown",
   "metadata": {},
   "source": [
    "Теперь обучим модель с лучшими параметрами на тренировочных данных."
   ]
  },
  {
   "cell_type": "code",
   "execution_count": 65,
   "metadata": {},
   "outputs": [
    {
     "name": "stdout",
     "output_type": "stream",
     "text": [
      "0:\tlearn: 3230.3490883\ttotal: 74.6ms\tremaining: 14.8s\n",
      "20:\tlearn: 1499.7740341\ttotal: 1.49s\tremaining: 12.7s\n",
      "40:\tlearn: 1338.0610753\ttotal: 2.76s\tremaining: 10.7s\n",
      "60:\tlearn: 1292.8915373\ttotal: 4.07s\tremaining: 9.27s\n",
      "80:\tlearn: 1262.2840467\ttotal: 5.31s\tremaining: 7.81s\n",
      "100:\tlearn: 1242.8007889\ttotal: 6.56s\tremaining: 6.43s\n",
      "120:\tlearn: 1221.7988374\ttotal: 7.83s\tremaining: 5.11s\n",
      "140:\tlearn: 1205.2501351\ttotal: 9.1s\tremaining: 3.81s\n",
      "160:\tlearn: 1190.2622845\ttotal: 10.4s\tremaining: 2.51s\n",
      "180:\tlearn: 1178.1879538\ttotal: 11.6s\tremaining: 1.22s\n",
      "199:\tlearn: 1166.4493634\ttotal: 13s\tremaining: 0us\n",
      "RMSE: 1279.3666378137077\n",
      "Wall time: 13.3 s\n"
     ]
    }
   ],
   "source": [
    "%%time\n",
    " \n",
    "model = CatBoostRegressor(loss_function='RMSE',\n",
    "                          **grid_search_result['params'],\n",
    "                          verbose=20,\n",
    "                          thread_count=-1,\n",
    "                          random_seed=12345)\n",
    "model.fit(X_train_encoded, y_train)\n",
    "pred_valid = model.predict(X_valid_encoded)\n",
    "\n",
    "print(f'RMSE: {mean_squared_error(y_valid, pred_valid, squared=False)}')"
   ]
  },
  {
   "cell_type": "markdown",
   "metadata": {},
   "source": [
    "### LGBMRegressor"
   ]
  },
  {
   "cell_type": "code",
   "execution_count": 66,
   "metadata": {},
   "outputs": [
    {
     "name": "stdout",
     "output_type": "stream",
     "text": [
      "LGBMRegressor(learning_rate=0.05, max_depth=12, n_estimators=1000,\n",
      "              num_leaves=70,\n",
      "              random_state=RandomState(MT19937) at 0x22FAFC67940)\n",
      "{'learning_rate': 0.05, 'max_depth': 12, 'num_leaves': 70}\n",
      "Wall time: 4min 9s\n"
     ]
    }
   ],
   "source": [
    "%%time\n",
    "\n",
    "params = {\n",
    "    'num_leaves': [50, 70, 100],\n",
    "    'learning_rate': [0.1, 0.05],\n",
    "    'max_depth': [10, 12],\n",
    "}\n",
    "\n",
    "\n",
    "lgb_model = lgb.LGBMRegressor(n_estimators=1000,\n",
    "                          random_state=STATE,\n",
    "                          n_jobs=-1)\n",
    "grid = GridSearchCV(estimator=lgb_model, param_grid=params, scoring='neg_root_mean_squared_error', cv=5)\n",
    "grid.fit(X_train_encoded, y_train)\n",
    "\n",
    "print(grid.best_estimator_)\n",
    "print(grid.best_params_)"
   ]
  },
  {
   "cell_type": "markdown",
   "metadata": {},
   "source": [
    "## Анализ моделей"
   ]
  },
  {
   "cell_type": "markdown",
   "metadata": {},
   "source": [
    "Измерим метрику rmse на моделях градиентного бустинга с лучшими параметрами, а так же на моделях линейной регрессии и решающего дерева.\n",
    "\n",
    "Так же получим время в секундах с помощью функции time() модуля time, для вычисления времени обучения и предсказания моделей."
   ]
  },
  {
   "cell_type": "code",
   "execution_count": 67,
   "metadata": {},
   "outputs": [],
   "source": [
    "rmse = []\n",
    "predict = []\n",
    "train = []"
   ]
  },
  {
   "cell_type": "markdown",
   "metadata": {},
   "source": [
    "**Обучение моделей**"
   ]
  },
  {
   "cell_type": "code",
   "execution_count": 68,
   "metadata": {},
   "outputs": [],
   "source": [
    "start = time.time()\n",
    "\n",
    "model = CatBoostRegressor(loss_function='RMSE',\n",
    "                          **grid_search_result['params'],\n",
    "                          silent=True,\n",
    "                          thread_count=-1,\n",
    "                          random_seed=12345)\n",
    "model.fit(X_train_encoded, y_train)\n",
    "end = time.time()\n",
    "train.append(end - start)"
   ]
  },
  {
   "cell_type": "code",
   "execution_count": 69,
   "metadata": {},
   "outputs": [],
   "source": [
    "start = time.time()\n",
    "\n",
    "lgb_model = lgb.LGBMRegressor(**grid.best_params_,\n",
    "                            random_state=STATE,\n",
    "                            n_jobs=-1)\n",
    "lgb_model.fit(X_train_encoded, y_train)\n",
    "\n",
    "end = time.time()\n",
    "\n",
    "train.append(end - start)"
   ]
  },
  {
   "cell_type": "code",
   "execution_count": 70,
   "metadata": {},
   "outputs": [],
   "source": [
    "start = time.time()\n",
    "\n",
    "model_lr = LinearRegression().fit(X_train_ohe, y_train_ohe)\n",
    "\n",
    "end = time.time()\n",
    "\n",
    "train.append(end - start)"
   ]
  },
  {
   "cell_type": "code",
   "execution_count": 71,
   "metadata": {},
   "outputs": [],
   "source": [
    "start = time.time()\n",
    "\n",
    "model_dt = DecisionTreeRegressor(max_depth=10).fit(X_train_encoded, y_train)\n",
    "\n",
    "end = time.time()\n",
    "\n",
    "train.append(end - start)"
   ]
  },
  {
   "cell_type": "markdown",
   "metadata": {},
   "source": [
    "**Предсказания моделей**"
   ]
  },
  {
   "cell_type": "code",
   "execution_count": 72,
   "metadata": {},
   "outputs": [],
   "source": [
    "start = time.time()\n",
    "\n",
    "pred_catboost = model.predict(X_test_encoded)\n",
    "\n",
    "end = time.time()\n",
    "\n",
    "predict.append(end - start)"
   ]
  },
  {
   "cell_type": "code",
   "execution_count": 73,
   "metadata": {},
   "outputs": [],
   "source": [
    "start = time.time()\n",
    "\n",
    "pred_lgb = lgb_model.predict(X_test_encoded)\n",
    "\n",
    "end = time.time()\n",
    "\n",
    "predict.append(end - start)"
   ]
  },
  {
   "cell_type": "code",
   "execution_count": 74,
   "metadata": {},
   "outputs": [],
   "source": [
    "start = time.time()\n",
    "\n",
    "pred_lg = model_lr.predict(X_test_ohe)\n",
    "\n",
    "end = time.time()\n",
    "\n",
    "predict.append(end - start)"
   ]
  },
  {
   "cell_type": "code",
   "execution_count": 75,
   "metadata": {},
   "outputs": [],
   "source": [
    "start = time.time()\n",
    "\n",
    "pred_dt = model_dt.predict(X_test_encoded)\n",
    "\n",
    "end = time.time()\n",
    "\n",
    "predict.append(end - start)"
   ]
  },
  {
   "cell_type": "markdown",
   "metadata": {},
   "source": [
    "**Расчет метрик rmse**"
   ]
  },
  {
   "cell_type": "code",
   "execution_count": 76,
   "metadata": {},
   "outputs": [
    {
     "data": {
      "text/plain": [
       "1810.6442588210184"
      ]
     },
     "execution_count": 76,
     "metadata": {},
     "output_type": "execute_result"
    }
   ],
   "source": [
    "mean_squared_error(y_test_ohe, pred_lg, squared=False)"
   ]
  },
  {
   "cell_type": "code",
   "execution_count": 77,
   "metadata": {},
   "outputs": [],
   "source": [
    "rmse.append(mean_squared_error(y_test, pred_catboost, squared=False))\n",
    "rmse.append(mean_squared_error(y_test, pred_lgb, squared=False))\n",
    "rmse.append(mean_squared_error(y_test_ohe, pred_lg, squared=False))\n",
    "rmse.append(mean_squared_error(y_test, pred_dt, squared=False))"
   ]
  },
  {
   "cell_type": "code",
   "execution_count": 78,
   "metadata": {},
   "outputs": [],
   "source": [
    "raiting = pd.DataFrame([train, predict, rmse],\n",
    "             index=['train_time', 'predict_time', 'rmse'],\n",
    "             columns=['CatBoost', 'LightGBM', 'LinearRegression', 'DecisionTreeRegressor'])"
   ]
  },
  {
   "cell_type": "code",
   "execution_count": 79,
   "metadata": {
    "scrolled": true
   },
   "outputs": [
    {
     "data": {
      "text/html": [
       "<div>\n",
       "<style scoped>\n",
       "    .dataframe tbody tr th:only-of-type {\n",
       "        vertical-align: middle;\n",
       "    }\n",
       "\n",
       "    .dataframe tbody tr th {\n",
       "        vertical-align: top;\n",
       "    }\n",
       "\n",
       "    .dataframe thead th {\n",
       "        text-align: right;\n",
       "    }\n",
       "</style>\n",
       "<table border=\"1\" class=\"dataframe\">\n",
       "  <thead>\n",
       "    <tr style=\"text-align: right;\">\n",
       "      <th></th>\n",
       "      <th>CatBoost</th>\n",
       "      <th>LightGBM</th>\n",
       "      <th>LinearRegression</th>\n",
       "      <th>DecisionTreeRegressor</th>\n",
       "    </tr>\n",
       "  </thead>\n",
       "  <tbody>\n",
       "    <tr>\n",
       "      <th>train_time</th>\n",
       "      <td>13.214730</td>\n",
       "      <td>0.665875</td>\n",
       "      <td>2.438337</td>\n",
       "      <td>0.262453</td>\n",
       "    </tr>\n",
       "    <tr>\n",
       "      <th>predict_time</th>\n",
       "      <td>0.045431</td>\n",
       "      <td>0.073890</td>\n",
       "      <td>0.079322</td>\n",
       "      <td>0.010108</td>\n",
       "    </tr>\n",
       "    <tr>\n",
       "      <th>rmse</th>\n",
       "      <td>1285.159697</td>\n",
       "      <td>1337.216743</td>\n",
       "      <td>1810.644259</td>\n",
       "      <td>1545.673887</td>\n",
       "    </tr>\n",
       "  </tbody>\n",
       "</table>\n",
       "</div>"
      ],
      "text/plain": [
       "                 CatBoost     LightGBM  LinearRegression  \\\n",
       "train_time      13.214730     0.665875          2.438337   \n",
       "predict_time     0.045431     0.073890          0.079322   \n",
       "rmse          1285.159697  1337.216743       1810.644259   \n",
       "\n",
       "              DecisionTreeRegressor  \n",
       "train_time                 0.262453  \n",
       "predict_time               0.010108  \n",
       "rmse                    1545.673887  "
      ]
     },
     "metadata": {},
     "output_type": "display_data"
    }
   ],
   "source": [
    "display(raiting)"
   ]
  },
  {
   "cell_type": "markdown",
   "metadata": {},
   "source": [
    "### Вывод"
   ]
  },
  {
   "cell_type": "markdown",
   "metadata": {},
   "source": [
    "В ходе выполнения проектной работы были проведены: \n",
    "\n",
    "- загрузка и предобработка данных, включающие в себя заполнение пропусков, поиск и устранение дубликатов, выявление и отбраковка аномалий. \n",
    "- Подготовка признаков к обучению, разделение данных на обучающую, валидационную и тестовую выборки.\n",
    "\n",
    "Для решения поставленной задачи были рассмотрены следующие модели: \n",
    "- CatBoost, \n",
    "- LightGBM, \n",
    "- LinearRegression\n",
    "- DecisionTreeRegressor\n",
    "\n",
    "Все модели были обучены на тренировочных данных с проверкой метрики rmse на валидационной выборке и протестированы с фиксацией времени, затраченного на обучение и предсказание на тестовой выборке.\n",
    "\n",
    "Одним из условий выполнения проектной работы была задача по достижению метрики RMSE 2500 и менее.\n",
    "- Все модели отвечают заявленному требованию. \n",
    "\n",
    "Так же мы должны учитывать важность для заказчика времени, которое затрачивает модель на обучение и предсказание. \n",
    "В соответствии с результатом исследования:\n",
    "- самой быстрой моделью является LightGBM, но по метрике RMSE она уступает модели CatBoost.\n",
    "\n",
    "Модель с наименьшим значением метрики RMSE:\n",
    "- CatBoost, но она требует больше всех прочих моделей времени на обучение.\n",
    "Таким образом рекомендованная модель:\n",
    "- LightGBM, с учетом показателя метрики RMSE \n",
    "- DecisionTreeRegressor, в случае если скорость обучения более предпочтительна, чем качество предсказания."
   ]
  }
 ],
 "metadata": {
  "ExecuteTimeLog": [
   {
    "duration": 46,
    "start_time": "2022-12-28T20:25:25.704Z"
   },
   {
    "duration": 1279,
    "start_time": "2022-12-28T20:26:21.229Z"
   },
   {
    "duration": 1018,
    "start_time": "2022-12-28T20:27:38.777Z"
   },
   {
    "duration": 123,
    "start_time": "2022-12-28T20:27:57.822Z"
   },
   {
    "duration": 102,
    "start_time": "2022-12-28T20:28:14.727Z"
   },
   {
    "duration": 62,
    "start_time": "2022-12-28T20:28:50.186Z"
   },
   {
    "duration": 13,
    "start_time": "2022-12-28T20:28:57.657Z"
   },
   {
    "duration": 2,
    "start_time": "2022-12-28T20:47:35.239Z"
   },
   {
    "duration": 941,
    "start_time": "2022-12-28T20:47:53.441Z"
   },
   {
    "duration": 107,
    "start_time": "2022-12-28T20:48:43.801Z"
   },
   {
    "duration": 286,
    "start_time": "2022-12-28T20:50:20.248Z"
   },
   {
    "duration": 315,
    "start_time": "2022-12-28T20:50:32.095Z"
   },
   {
    "duration": 9,
    "start_time": "2022-12-28T20:55:09.541Z"
   },
   {
    "duration": 9,
    "start_time": "2022-12-28T20:55:19.996Z"
   },
   {
    "duration": 45,
    "start_time": "2022-12-28T20:56:53.009Z"
   },
   {
    "duration": 23,
    "start_time": "2022-12-28T20:56:57.565Z"
   },
   {
    "duration": 9,
    "start_time": "2022-12-28T20:57:11.158Z"
   },
   {
    "duration": 8,
    "start_time": "2022-12-28T20:57:31.858Z"
   },
   {
    "duration": 3,
    "start_time": "2022-12-28T20:57:42.092Z"
   },
   {
    "duration": 798,
    "start_time": "2022-12-28T20:57:42.312Z"
   },
   {
    "duration": 117,
    "start_time": "2022-12-28T20:57:43.113Z"
   },
   {
    "duration": 107,
    "start_time": "2022-12-28T20:57:43.232Z"
   },
   {
    "duration": 14,
    "start_time": "2022-12-28T20:57:43.342Z"
   },
   {
    "duration": 1064,
    "start_time": "2022-12-28T20:57:43.358Z"
   },
   {
    "duration": 110,
    "start_time": "2022-12-28T20:57:44.424Z"
   },
   {
    "duration": 289,
    "start_time": "2022-12-28T20:57:44.536Z"
   },
   {
    "duration": 3,
    "start_time": "2022-12-28T20:57:44.827Z"
   },
   {
    "duration": 14,
    "start_time": "2022-12-28T20:57:48.999Z"
   },
   {
    "duration": 39,
    "start_time": "2022-12-28T21:04:20.135Z"
   },
   {
    "duration": 4,
    "start_time": "2022-12-28T21:04:38.102Z"
   },
   {
    "duration": 67,
    "start_time": "2022-12-28T21:05:06.527Z"
   },
   {
    "duration": 3,
    "start_time": "2022-12-28T21:05:08.162Z"
   },
   {
    "duration": 45,
    "start_time": "2022-12-29T20:40:16.697Z"
   },
   {
    "duration": 1305,
    "start_time": "2022-12-29T20:40:22.579Z"
   },
   {
    "duration": 3486,
    "start_time": "2022-12-29T20:40:23.886Z"
   },
   {
    "duration": 127,
    "start_time": "2022-12-29T20:40:27.373Z"
   },
   {
    "duration": 132,
    "start_time": "2022-12-29T20:40:27.502Z"
   },
   {
    "duration": 17,
    "start_time": "2022-12-29T20:40:27.636Z"
   },
   {
    "duration": 1095,
    "start_time": "2022-12-29T20:40:27.655Z"
   },
   {
    "duration": 108,
    "start_time": "2022-12-29T20:40:28.751Z"
   },
   {
    "duration": 346,
    "start_time": "2022-12-29T20:40:28.861Z"
   },
   {
    "duration": 5,
    "start_time": "2022-12-29T20:40:29.208Z"
   },
   {
    "duration": 22,
    "start_time": "2022-12-29T20:40:29.215Z"
   },
   {
    "duration": 67,
    "start_time": "2022-12-29T20:40:29.239Z"
   },
   {
    "duration": 3,
    "start_time": "2022-12-29T20:40:29.308Z"
   },
   {
    "duration": 74,
    "start_time": "2022-12-29T20:40:29.313Z"
   },
   {
    "duration": 27,
    "start_time": "2022-12-29T20:40:41.596Z"
   },
   {
    "duration": 139,
    "start_time": "2022-12-29T20:41:33.423Z"
   },
   {
    "duration": 47,
    "start_time": "2022-12-29T21:28:07.678Z"
   },
   {
    "duration": 1349,
    "start_time": "2022-12-29T21:28:14.000Z"
   },
   {
    "duration": 3016,
    "start_time": "2022-12-29T21:28:15.351Z"
   },
   {
    "duration": 108,
    "start_time": "2022-12-29T21:28:18.369Z"
   },
   {
    "duration": 111,
    "start_time": "2022-12-29T21:28:18.479Z"
   },
   {
    "duration": 14,
    "start_time": "2022-12-29T21:28:18.591Z"
   },
   {
    "duration": 987,
    "start_time": "2022-12-29T21:28:18.607Z"
   },
   {
    "duration": 102,
    "start_time": "2022-12-29T21:28:19.595Z"
   },
   {
    "duration": 300,
    "start_time": "2022-12-29T21:28:19.698Z"
   },
   {
    "duration": 151,
    "start_time": "2022-12-29T21:28:19.999Z"
   },
   {
    "duration": 3,
    "start_time": "2022-12-29T21:28:20.152Z"
   },
   {
    "duration": 21,
    "start_time": "2022-12-29T21:28:20.156Z"
   },
   {
    "duration": 68,
    "start_time": "2022-12-29T21:28:20.179Z"
   },
   {
    "duration": 4,
    "start_time": "2022-12-29T21:28:20.248Z"
   },
   {
    "duration": 31,
    "start_time": "2022-12-29T21:28:20.253Z"
   },
   {
    "duration": 21,
    "start_time": "2022-12-29T21:28:20.286Z"
   },
   {
    "duration": 28,
    "start_time": "2022-12-29T21:28:44.977Z"
   },
   {
    "duration": 28,
    "start_time": "2022-12-29T21:31:54.859Z"
   },
   {
    "duration": 28,
    "start_time": "2022-12-29T21:39:04.839Z"
   },
   {
    "duration": 16,
    "start_time": "2022-12-29T21:42:17.073Z"
   },
   {
    "duration": 6,
    "start_time": "2022-12-29T21:43:15.123Z"
   },
   {
    "duration": 5,
    "start_time": "2022-12-29T21:43:40.332Z"
   },
   {
    "duration": 414,
    "start_time": "2022-12-29T21:43:51.718Z"
   },
   {
    "duration": 216,
    "start_time": "2022-12-29T21:44:14.760Z"
   },
   {
    "duration": 1180,
    "start_time": "2022-12-29T21:46:43.510Z"
   },
   {
    "duration": 740,
    "start_time": "2022-12-29T21:46:44.692Z"
   },
   {
    "duration": 110,
    "start_time": "2022-12-29T21:46:45.433Z"
   },
   {
    "duration": 104,
    "start_time": "2022-12-29T21:46:45.545Z"
   },
   {
    "duration": 23,
    "start_time": "2022-12-29T21:46:45.651Z"
   },
   {
    "duration": 969,
    "start_time": "2022-12-29T21:46:45.676Z"
   },
   {
    "duration": 108,
    "start_time": "2022-12-29T21:46:46.647Z"
   },
   {
    "duration": 289,
    "start_time": "2022-12-29T21:46:46.756Z"
   },
   {
    "duration": 150,
    "start_time": "2022-12-29T21:46:47.047Z"
   },
   {
    "duration": 3,
    "start_time": "2022-12-29T21:46:47.199Z"
   },
   {
    "duration": 31,
    "start_time": "2022-12-29T21:46:47.204Z"
   },
   {
    "duration": 57,
    "start_time": "2022-12-29T21:46:47.617Z"
   },
   {
    "duration": 3,
    "start_time": "2022-12-29T21:46:48.019Z"
   },
   {
    "duration": 28,
    "start_time": "2022-12-29T21:46:48.315Z"
   },
   {
    "duration": 24,
    "start_time": "2022-12-29T21:46:48.656Z"
   },
   {
    "duration": 48,
    "start_time": "2022-12-29T21:46:48.992Z"
   },
   {
    "duration": 28,
    "start_time": "2022-12-29T21:46:50.552Z"
   },
   {
    "duration": 17,
    "start_time": "2022-12-29T21:46:50.879Z"
   },
   {
    "duration": 17,
    "start_time": "2022-12-29T21:46:51.213Z"
   },
   {
    "duration": 89,
    "start_time": "2022-12-29T21:46:51.551Z"
   },
   {
    "duration": 298,
    "start_time": "2022-12-29T21:47:23.622Z"
   },
   {
    "duration": 90,
    "start_time": "2022-12-29T21:47:58.350Z"
   },
   {
    "duration": 80,
    "start_time": "2022-12-29T21:48:19.692Z"
   },
   {
    "duration": 360,
    "start_time": "2022-12-29T21:48:21.507Z"
   },
   {
    "duration": 85,
    "start_time": "2022-12-29T21:48:24.532Z"
   },
   {
    "duration": 116,
    "start_time": "2022-12-29T21:48:49.735Z"
   },
   {
    "duration": 1347,
    "start_time": "2023-01-05T10:02:38.289Z"
   },
   {
    "duration": 2799,
    "start_time": "2023-01-05T10:02:39.638Z"
   },
   {
    "duration": 116,
    "start_time": "2023-01-05T10:02:42.439Z"
   },
   {
    "duration": 109,
    "start_time": "2023-01-05T10:02:42.557Z"
   },
   {
    "duration": 15,
    "start_time": "2023-01-05T10:02:42.668Z"
   },
   {
    "duration": 1001,
    "start_time": "2023-01-05T10:02:56.892Z"
   },
   {
    "duration": 1029,
    "start_time": "2023-01-05T10:03:37.486Z"
   },
   {
    "duration": 106,
    "start_time": "2023-01-05T10:03:38.517Z"
   },
   {
    "duration": 325,
    "start_time": "2023-01-05T10:03:40.366Z"
   },
   {
    "duration": 314,
    "start_time": "2023-01-05T10:03:49.413Z"
   },
   {
    "duration": 152,
    "start_time": "2023-01-05T10:03:49.845Z"
   },
   {
    "duration": 14,
    "start_time": "2023-01-05T10:03:55.805Z"
   },
   {
    "duration": 57,
    "start_time": "2023-01-05T10:03:56.421Z"
   },
   {
    "duration": 4,
    "start_time": "2023-01-05T10:03:58.862Z"
   },
   {
    "duration": 1252,
    "start_time": "2023-01-05T10:04:00.368Z"
   },
   {
    "duration": 54,
    "start_time": "2023-01-05T10:04:12.030Z"
   },
   {
    "duration": 4,
    "start_time": "2023-01-05T10:04:12.845Z"
   },
   {
    "duration": 1121,
    "start_time": "2023-01-05T10:04:13.962Z"
   },
   {
    "duration": 3,
    "start_time": "2023-01-05T10:04:26.083Z"
   },
   {
    "duration": 15,
    "start_time": "2023-01-05T10:04:26.934Z"
   },
   {
    "duration": 55,
    "start_time": "2023-01-05T10:04:28.522Z"
   },
   {
    "duration": 3,
    "start_time": "2023-01-05T10:04:29.851Z"
   },
   {
    "duration": 28,
    "start_time": "2023-01-05T10:04:31.599Z"
   },
   {
    "duration": 25,
    "start_time": "2023-01-05T10:04:33.613Z"
   },
   {
    "duration": 27,
    "start_time": "2023-01-05T10:04:34.870Z"
   },
   {
    "duration": 30,
    "start_time": "2023-01-05T10:04:36.545Z"
   },
   {
    "duration": 18,
    "start_time": "2023-01-05T10:04:38.240Z"
   },
   {
    "duration": 17,
    "start_time": "2023-01-05T10:04:39.068Z"
   },
   {
    "duration": 82,
    "start_time": "2023-01-05T10:04:40.495Z"
   },
   {
    "duration": 7,
    "start_time": "2023-01-05T10:06:43.129Z"
   },
   {
    "duration": 17,
    "start_time": "2023-01-05T10:06:54.515Z"
   },
   {
    "duration": 13,
    "start_time": "2023-01-05T10:07:47.723Z"
   },
   {
    "duration": 31,
    "start_time": "2023-01-05T10:08:35.065Z"
   },
   {
    "duration": 17,
    "start_time": "2023-01-05T10:08:53.579Z"
   },
   {
    "duration": 6,
    "start_time": "2023-01-05T10:09:35.001Z"
   },
   {
    "duration": 1174,
    "start_time": "2023-01-05T10:13:13.974Z"
   },
   {
    "duration": 2792,
    "start_time": "2023-01-05T10:13:15.150Z"
   },
   {
    "duration": 105,
    "start_time": "2023-01-05T10:13:17.944Z"
   },
   {
    "duration": 109,
    "start_time": "2023-01-05T10:13:18.052Z"
   },
   {
    "duration": 14,
    "start_time": "2023-01-05T10:13:18.162Z"
   },
   {
    "duration": 1032,
    "start_time": "2023-01-05T10:13:18.178Z"
   },
   {
    "duration": 127,
    "start_time": "2023-01-05T10:13:19.212Z"
   },
   {
    "duration": 354,
    "start_time": "2023-01-05T10:13:19.342Z"
   },
   {
    "duration": 159,
    "start_time": "2023-01-05T10:13:19.698Z"
   },
   {
    "duration": 4,
    "start_time": "2023-01-05T10:13:19.862Z"
   },
   {
    "duration": 26,
    "start_time": "2023-01-05T10:13:19.868Z"
   },
   {
    "duration": 69,
    "start_time": "2023-01-05T10:13:19.895Z"
   },
   {
    "duration": 3,
    "start_time": "2023-01-05T10:13:19.966Z"
   },
   {
    "duration": 48,
    "start_time": "2023-01-05T10:13:19.971Z"
   },
   {
    "duration": 39,
    "start_time": "2023-01-05T10:13:20.020Z"
   },
   {
    "duration": 34,
    "start_time": "2023-01-05T10:13:20.061Z"
   },
   {
    "duration": 47,
    "start_time": "2023-01-05T10:13:20.096Z"
   },
   {
    "duration": 28,
    "start_time": "2023-01-05T10:13:20.145Z"
   },
   {
    "duration": 25,
    "start_time": "2023-01-05T10:13:20.175Z"
   },
   {
    "duration": 93,
    "start_time": "2023-01-05T10:13:20.202Z"
   },
   {
    "duration": 102,
    "start_time": "2023-01-05T10:13:20.297Z"
   },
   {
    "duration": 101,
    "start_time": "2023-01-05T10:13:20.401Z"
   },
   {
    "duration": 26,
    "start_time": "2023-01-05T10:13:20.503Z"
   },
   {
    "duration": 15,
    "start_time": "2023-01-05T10:13:20.531Z"
   },
   {
    "duration": 16,
    "start_time": "2023-01-05T10:13:20.548Z"
   },
   {
    "duration": 1104,
    "start_time": "2023-01-05T10:28:25.571Z"
   },
   {
    "duration": 2839,
    "start_time": "2023-01-05T10:28:26.677Z"
   },
   {
    "duration": 131,
    "start_time": "2023-01-05T10:28:29.517Z"
   },
   {
    "duration": 94,
    "start_time": "2023-01-05T10:28:32.462Z"
   },
   {
    "duration": 14,
    "start_time": "2023-01-05T10:28:32.848Z"
   },
   {
    "duration": 1021,
    "start_time": "2023-01-05T10:28:33.288Z"
   },
   {
    "duration": 102,
    "start_time": "2023-01-05T10:28:34.321Z"
   },
   {
    "duration": 306,
    "start_time": "2023-01-05T10:28:34.424Z"
   },
   {
    "duration": 144,
    "start_time": "2023-01-05T10:28:34.731Z"
   },
   {
    "duration": 3,
    "start_time": "2023-01-05T10:28:35.128Z"
   },
   {
    "duration": 13,
    "start_time": "2023-01-05T10:28:35.605Z"
   },
   {
    "duration": 60,
    "start_time": "2023-01-05T10:28:36.079Z"
   },
   {
    "duration": 3,
    "start_time": "2023-01-05T10:28:36.564Z"
   },
   {
    "duration": 31,
    "start_time": "2023-01-05T10:28:37.119Z"
   },
   {
    "duration": 21,
    "start_time": "2023-01-05T10:28:37.685Z"
   },
   {
    "duration": 28,
    "start_time": "2023-01-05T10:28:38.153Z"
   },
   {
    "duration": 29,
    "start_time": "2023-01-05T10:28:38.675Z"
   },
   {
    "duration": 17,
    "start_time": "2023-01-05T10:28:39.171Z"
   },
   {
    "duration": 18,
    "start_time": "2023-01-05T10:28:39.644Z"
   },
   {
    "duration": 111,
    "start_time": "2023-01-05T10:28:40.132Z"
   },
   {
    "duration": 95,
    "start_time": "2023-01-05T10:28:40.602Z"
   },
   {
    "duration": 93,
    "start_time": "2023-01-05T10:28:41.101Z"
   },
   {
    "duration": 20,
    "start_time": "2023-01-05T10:28:41.634Z"
   },
   {
    "duration": 15,
    "start_time": "2023-01-05T10:28:42.141Z"
   },
   {
    "duration": 15,
    "start_time": "2023-01-05T10:28:42.606Z"
   },
   {
    "duration": 371,
    "start_time": "2023-01-05T10:28:43.164Z"
   },
   {
    "duration": 472,
    "start_time": "2023-01-05T10:28:54.554Z"
   },
   {
    "duration": 350,
    "start_time": "2023-01-05T10:30:37.527Z"
   },
   {
    "duration": 360,
    "start_time": "2023-01-05T10:30:54.855Z"
   },
   {
    "duration": 343,
    "start_time": "2023-01-05T10:31:08.354Z"
   },
   {
    "duration": 351,
    "start_time": "2023-01-05T10:31:22.423Z"
   },
   {
    "duration": 428,
    "start_time": "2023-01-05T10:31:34.113Z"
   },
   {
    "duration": 359,
    "start_time": "2023-01-05T10:31:58.755Z"
   },
   {
    "duration": 366,
    "start_time": "2023-01-05T10:32:29.477Z"
   },
   {
    "duration": 381,
    "start_time": "2023-01-05T10:32:50.063Z"
   },
   {
    "duration": 359,
    "start_time": "2023-01-05T10:32:56.385Z"
   },
   {
    "duration": 371,
    "start_time": "2023-01-05T10:33:06.780Z"
   },
   {
    "duration": 375,
    "start_time": "2023-01-05T10:33:14.989Z"
   },
   {
    "duration": 463,
    "start_time": "2023-01-05T10:33:24.745Z"
   },
   {
    "duration": 353,
    "start_time": "2023-01-05T10:34:22.530Z"
   },
   {
    "duration": 366,
    "start_time": "2023-01-05T10:34:32.517Z"
   },
   {
    "duration": 360,
    "start_time": "2023-01-05T10:34:36.491Z"
   },
   {
    "duration": 449,
    "start_time": "2023-01-05T10:35:03.875Z"
   },
   {
    "duration": 429,
    "start_time": "2023-01-05T10:40:43.241Z"
   },
   {
    "duration": 1332,
    "start_time": "2023-01-05T18:09:03.031Z"
   },
   {
    "duration": 1147,
    "start_time": "2023-01-05T18:09:04.365Z"
   },
   {
    "duration": 123,
    "start_time": "2023-01-05T18:09:05.513Z"
   },
   {
    "duration": 116,
    "start_time": "2023-01-05T18:09:05.638Z"
   },
   {
    "duration": 14,
    "start_time": "2023-01-05T18:09:05.756Z"
   },
   {
    "duration": 1080,
    "start_time": "2023-01-05T18:09:12.615Z"
   },
   {
    "duration": 115,
    "start_time": "2023-01-05T18:09:14.453Z"
   },
   {
    "duration": 338,
    "start_time": "2023-01-05T18:09:16.828Z"
   },
   {
    "duration": 169,
    "start_time": "2023-01-05T18:09:19.129Z"
   },
   {
    "duration": 4,
    "start_time": "2023-01-05T18:09:34.062Z"
   },
   {
    "duration": 14,
    "start_time": "2023-01-05T18:09:34.939Z"
   },
   {
    "duration": 61,
    "start_time": "2023-01-05T18:09:36.391Z"
   },
   {
    "duration": 3,
    "start_time": "2023-01-05T18:09:37.090Z"
   },
   {
    "duration": 48,
    "start_time": "2023-01-05T18:09:38.279Z"
   },
   {
    "duration": 19,
    "start_time": "2023-01-05T18:09:39.250Z"
   },
   {
    "duration": 28,
    "start_time": "2023-01-05T18:09:40.513Z"
   },
   {
    "duration": 40,
    "start_time": "2023-01-05T18:09:41.857Z"
   },
   {
    "duration": 24,
    "start_time": "2023-01-05T18:09:43.377Z"
   },
   {
    "duration": 17,
    "start_time": "2023-01-05T18:09:44.550Z"
   },
   {
    "duration": 94,
    "start_time": "2023-01-05T18:09:46.471Z"
   },
   {
    "duration": 116,
    "start_time": "2023-01-05T18:09:47.292Z"
   },
   {
    "duration": 104,
    "start_time": "2023-01-05T18:09:50.800Z"
   },
   {
    "duration": 18,
    "start_time": "2023-01-05T18:10:05.439Z"
   },
   {
    "duration": 15,
    "start_time": "2023-01-05T18:10:10.009Z"
   },
   {
    "duration": 17,
    "start_time": "2023-01-05T18:10:12.199Z"
   },
   {
    "duration": 573,
    "start_time": "2023-01-05T18:11:08.265Z"
   },
   {
    "duration": 618,
    "start_time": "2023-01-05T18:11:43.448Z"
   },
   {
    "duration": 484,
    "start_time": "2023-01-05T18:12:04.696Z"
   },
   {
    "duration": 504,
    "start_time": "2023-01-05T18:12:12.531Z"
   },
   {
    "duration": 421,
    "start_time": "2023-01-05T18:12:59.618Z"
   },
   {
    "duration": 431,
    "start_time": "2023-01-05T18:13:04.031Z"
   },
   {
    "duration": 517,
    "start_time": "2023-01-05T18:13:48.101Z"
   },
   {
    "duration": 434,
    "start_time": "2023-01-05T18:14:08.667Z"
   },
   {
    "duration": 493,
    "start_time": "2023-01-05T18:14:12.581Z"
   },
   {
    "duration": 544,
    "start_time": "2023-01-05T18:14:48.259Z"
   },
   {
    "duration": 568,
    "start_time": "2023-01-05T18:15:16.485Z"
   },
   {
    "duration": 508,
    "start_time": "2023-01-05T18:15:26.489Z"
   },
   {
    "duration": 20,
    "start_time": "2023-01-05T18:15:56.724Z"
   },
   {
    "duration": 470,
    "start_time": "2023-01-05T18:16:13.745Z"
   },
   {
    "duration": 5,
    "start_time": "2023-01-05T18:16:23.556Z"
   },
   {
    "duration": 395,
    "start_time": "2023-01-05T18:16:27.124Z"
   },
   {
    "duration": 357,
    "start_time": "2023-01-05T18:17:25.559Z"
   },
   {
    "duration": 358,
    "start_time": "2023-01-05T18:17:37.515Z"
   },
   {
    "duration": 50,
    "start_time": "2023-01-05T18:59:59.647Z"
   },
   {
    "duration": 120,
    "start_time": "2023-01-05T19:00:21.840Z"
   },
   {
    "duration": 81,
    "start_time": "2023-01-05T19:00:26.045Z"
   },
   {
    "duration": 105,
    "start_time": "2023-01-05T19:00:35.049Z"
   },
   {
    "duration": 9,
    "start_time": "2023-01-05T19:30:21.093Z"
   },
   {
    "duration": 18,
    "start_time": "2023-01-05T19:30:38.652Z"
   },
   {
    "duration": 58,
    "start_time": "2023-01-05T19:30:52.275Z"
   },
   {
    "duration": 11,
    "start_time": "2023-01-05T20:07:08.605Z"
   },
   {
    "duration": 19,
    "start_time": "2023-01-05T20:28:34.923Z"
   },
   {
    "duration": 230,
    "start_time": "2023-01-05T20:29:02.148Z"
   },
   {
    "duration": 1319,
    "start_time": "2023-01-05T20:29:59.315Z"
   },
   {
    "duration": 934,
    "start_time": "2023-01-05T20:30:00.637Z"
   },
   {
    "duration": 129,
    "start_time": "2023-01-05T20:30:01.573Z"
   },
   {
    "duration": 193,
    "start_time": "2023-01-05T20:30:01.705Z"
   },
   {
    "duration": 26,
    "start_time": "2023-01-05T20:30:01.900Z"
   },
   {
    "duration": 1161,
    "start_time": "2023-01-05T20:30:01.929Z"
   },
   {
    "duration": 124,
    "start_time": "2023-01-05T20:30:03.092Z"
   },
   {
    "duration": 448,
    "start_time": "2023-01-05T20:30:03.219Z"
   },
   {
    "duration": 165,
    "start_time": "2023-01-05T20:30:03.668Z"
   },
   {
    "duration": 4,
    "start_time": "2023-01-05T20:30:03.835Z"
   },
   {
    "duration": 45,
    "start_time": "2023-01-05T20:30:03.840Z"
   },
   {
    "duration": 110,
    "start_time": "2023-01-05T20:30:03.888Z"
   },
   {
    "duration": 4,
    "start_time": "2023-01-05T20:30:04.001Z"
   },
   {
    "duration": 77,
    "start_time": "2023-01-05T20:30:04.006Z"
   },
   {
    "duration": 25,
    "start_time": "2023-01-05T20:30:04.203Z"
   },
   {
    "duration": 40,
    "start_time": "2023-01-05T20:30:04.560Z"
   },
   {
    "duration": 55,
    "start_time": "2023-01-05T20:30:04.878Z"
   },
   {
    "duration": 32,
    "start_time": "2023-01-05T20:30:05.190Z"
   },
   {
    "duration": 4,
    "start_time": "2023-01-05T20:30:05.740Z"
   },
   {
    "duration": 102,
    "start_time": "2023-01-05T20:30:05.839Z"
   },
   {
    "duration": 109,
    "start_time": "2023-01-05T20:30:06.173Z"
   },
   {
    "duration": 125,
    "start_time": "2023-01-05T20:30:06.473Z"
   },
   {
    "duration": 19,
    "start_time": "2023-01-05T20:30:06.814Z"
   },
   {
    "duration": 20,
    "start_time": "2023-01-05T20:30:07.199Z"
   },
   {
    "duration": 18,
    "start_time": "2023-01-05T20:30:07.520Z"
   },
   {
    "duration": 571,
    "start_time": "2023-01-05T20:30:07.934Z"
   },
   {
    "duration": 676,
    "start_time": "2023-01-05T20:30:08.507Z"
   },
   {
    "duration": 535,
    "start_time": "2023-01-05T20:30:09.185Z"
   },
   {
    "duration": 19,
    "start_time": "2023-01-05T20:30:09.722Z"
   },
   {
    "duration": 463,
    "start_time": "2023-01-05T20:30:09.743Z"
   },
   {
    "duration": 45,
    "start_time": "2023-01-05T20:30:10.209Z"
   },
   {
    "duration": 51,
    "start_time": "2023-01-05T20:30:10.256Z"
   },
   {
    "duration": 86,
    "start_time": "2023-01-05T20:30:10.565Z"
   },
   {
    "duration": 14,
    "start_time": "2023-01-05T20:30:11.164Z"
   },
   {
    "duration": 25,
    "start_time": "2023-01-05T20:30:11.570Z"
   },
   {
    "duration": 246,
    "start_time": "2023-01-05T20:30:12.750Z"
   },
   {
    "duration": 35,
    "start_time": "2023-01-05T20:33:28.196Z"
   },
   {
    "duration": 249,
    "start_time": "2023-01-05T20:33:54.055Z"
   },
   {
    "duration": 202,
    "start_time": "2023-01-05T20:34:01.086Z"
   },
   {
    "duration": 17,
    "start_time": "2023-01-05T20:57:03.896Z"
   },
   {
    "duration": 85,
    "start_time": "2023-01-05T20:57:06.267Z"
   },
   {
    "duration": 107,
    "start_time": "2023-01-05T20:57:07.098Z"
   },
   {
    "duration": 111,
    "start_time": "2023-01-05T20:57:15.041Z"
   },
   {
    "duration": 2,
    "start_time": "2023-01-05T20:58:11.735Z"
   },
   {
    "duration": 260,
    "start_time": "2023-01-05T20:58:12.366Z"
   },
   {
    "duration": 240,
    "start_time": "2023-01-05T20:58:32.311Z"
   },
   {
    "duration": 418,
    "start_time": "2023-01-05T20:58:46.796Z"
   },
   {
    "duration": 412,
    "start_time": "2023-01-05T20:59:24.825Z"
   },
   {
    "duration": 1238,
    "start_time": "2023-01-06T17:14:39.646Z"
   },
   {
    "duration": 1012,
    "start_time": "2023-01-06T17:14:40.886Z"
   },
   {
    "duration": 135,
    "start_time": "2023-01-06T17:14:41.899Z"
   },
   {
    "duration": 105,
    "start_time": "2023-01-06T17:14:42.036Z"
   },
   {
    "duration": 18,
    "start_time": "2023-01-06T17:14:42.143Z"
   },
   {
    "duration": 921,
    "start_time": "2023-01-06T17:14:42.163Z"
   },
   {
    "duration": 111,
    "start_time": "2023-01-06T17:14:43.085Z"
   },
   {
    "duration": 300,
    "start_time": "2023-01-06T17:14:43.198Z"
   },
   {
    "duration": 158,
    "start_time": "2023-01-06T17:14:43.500Z"
   },
   {
    "duration": 4,
    "start_time": "2023-01-06T17:14:58.861Z"
   },
   {
    "duration": 12,
    "start_time": "2023-01-06T17:14:59.224Z"
   },
   {
    "duration": 60,
    "start_time": "2023-01-06T17:14:59.826Z"
   },
   {
    "duration": 4,
    "start_time": "2023-01-06T17:15:00.164Z"
   },
   {
    "duration": 32,
    "start_time": "2023-01-06T17:15:00.557Z"
   },
   {
    "duration": 24,
    "start_time": "2023-01-06T17:15:00.941Z"
   },
   {
    "duration": 32,
    "start_time": "2023-01-06T17:15:01.292Z"
   },
   {
    "duration": 33,
    "start_time": "2023-01-06T17:15:05.593Z"
   },
   {
    "duration": 18,
    "start_time": "2023-01-06T17:15:06.050Z"
   },
   {
    "duration": 20,
    "start_time": "2023-01-06T17:15:07.147Z"
   },
   {
    "duration": 187,
    "start_time": "2023-01-06T17:15:07.168Z"
   },
   {
    "duration": 19,
    "start_time": "2023-01-06T17:15:10.957Z"
   },
   {
    "duration": 82,
    "start_time": "2023-01-06T17:15:11.277Z"
   },
   {
    "duration": 109,
    "start_time": "2023-01-06T17:15:11.546Z"
   },
   {
    "duration": 110,
    "start_time": "2023-01-06T17:15:12.680Z"
   },
   {
    "duration": 16,
    "start_time": "2023-01-06T17:15:16.972Z"
   },
   {
    "duration": 13,
    "start_time": "2023-01-06T17:15:17.367Z"
   },
   {
    "duration": 15,
    "start_time": "2023-01-06T17:15:17.751Z"
   },
   {
    "duration": 481,
    "start_time": "2023-01-06T17:15:24.434Z"
   },
   {
    "duration": 2,
    "start_time": "2023-01-06T19:47:36.744Z"
   },
   {
    "duration": 779,
    "start_time": "2023-01-06T19:47:37.005Z"
   },
   {
    "duration": 138,
    "start_time": "2023-01-06T19:47:37.786Z"
   },
   {
    "duration": 90,
    "start_time": "2023-01-06T19:47:37.926Z"
   },
   {
    "duration": 13,
    "start_time": "2023-01-06T19:47:38.019Z"
   },
   {
    "duration": 874,
    "start_time": "2023-01-06T19:47:38.236Z"
   },
   {
    "duration": 124,
    "start_time": "2023-01-06T19:47:39.112Z"
   },
   {
    "duration": 305,
    "start_time": "2023-01-06T19:47:39.238Z"
   },
   {
    "duration": 136,
    "start_time": "2023-01-06T19:47:39.544Z"
   },
   {
    "duration": 3,
    "start_time": "2023-01-06T19:47:39.681Z"
   },
   {
    "duration": 13,
    "start_time": "2023-01-06T19:47:39.720Z"
   },
   {
    "duration": 42,
    "start_time": "2023-01-06T19:47:40.029Z"
   },
   {
    "duration": 4,
    "start_time": "2023-01-06T19:47:40.352Z"
   },
   {
    "duration": 34,
    "start_time": "2023-01-06T19:47:40.685Z"
   },
   {
    "duration": 25,
    "start_time": "2023-01-06T19:47:41.072Z"
   },
   {
    "duration": 31,
    "start_time": "2023-01-06T19:47:41.550Z"
   },
   {
    "duration": 32,
    "start_time": "2023-01-06T19:47:41.972Z"
   },
   {
    "duration": 19,
    "start_time": "2023-01-06T19:47:42.439Z"
   },
   {
    "duration": 20,
    "start_time": "2023-01-06T19:47:42.851Z"
   },
   {
    "duration": 188,
    "start_time": "2023-01-06T19:47:43.251Z"
   },
   {
    "duration": 20,
    "start_time": "2023-01-06T19:47:43.692Z"
   },
   {
    "duration": 85,
    "start_time": "2023-01-06T19:47:44.120Z"
   },
   {
    "duration": 114,
    "start_time": "2023-01-06T19:47:44.580Z"
   },
   {
    "duration": 110,
    "start_time": "2023-01-06T19:47:45.044Z"
   },
   {
    "duration": 16,
    "start_time": "2023-01-06T19:47:45.731Z"
   },
   {
    "duration": 16,
    "start_time": "2023-01-06T19:47:46.288Z"
   },
   {
    "duration": 14,
    "start_time": "2023-01-06T19:47:47.080Z"
   },
   {
    "duration": 509,
    "start_time": "2023-01-06T19:47:47.733Z"
   },
   {
    "duration": 447,
    "start_time": "2023-01-06T19:47:48.365Z"
   },
   {
    "duration": 459,
    "start_time": "2023-01-06T19:47:49.092Z"
   },
   {
    "duration": 15,
    "start_time": "2023-01-06T19:47:49.731Z"
   },
   {
    "duration": 363,
    "start_time": "2023-01-06T19:47:50.337Z"
   },
   {
    "duration": 44,
    "start_time": "2023-01-06T19:47:50.846Z"
   },
   {
    "duration": 19,
    "start_time": "2023-01-06T19:47:51.467Z"
   },
   {
    "duration": 57,
    "start_time": "2023-01-06T19:47:52.212Z"
   },
   {
    "duration": 10,
    "start_time": "2023-01-06T19:48:17.003Z"
   },
   {
    "duration": 3,
    "start_time": "2023-01-06T19:48:17.419Z"
   },
   {
    "duration": 223,
    "start_time": "2023-01-06T19:48:17.832Z"
   },
   {
    "duration": 413,
    "start_time": "2023-01-06T19:48:19.389Z"
   },
   {
    "duration": 97,
    "start_time": "2023-01-06T19:48:50.855Z"
   },
   {
    "duration": 53,
    "start_time": "2023-01-06T19:49:06.690Z"
   },
   {
    "duration": 32,
    "start_time": "2023-01-06T20:38:02.315Z"
   },
   {
    "duration": 26,
    "start_time": "2023-01-06T20:38:03.461Z"
   },
   {
    "duration": 54,
    "start_time": "2023-01-06T20:38:04.109Z"
   },
   {
    "duration": 11,
    "start_time": "2023-01-06T20:38:05.820Z"
   },
   {
    "duration": 4,
    "start_time": "2023-01-06T20:38:07.132Z"
   },
   {
    "duration": 204,
    "start_time": "2023-01-06T20:38:07.722Z"
   },
   {
    "duration": 367,
    "start_time": "2023-01-06T20:38:08.851Z"
   },
   {
    "duration": 52,
    "start_time": "2023-01-06T20:38:10.592Z"
   },
   {
    "duration": 10,
    "start_time": "2023-01-06T20:45:11.669Z"
   },
   {
    "duration": 91,
    "start_time": "2023-01-06T20:45:18.260Z"
   },
   {
    "duration": 7,
    "start_time": "2023-01-06T20:45:39.033Z"
   },
   {
    "duration": 27,
    "start_time": "2023-01-06T20:45:44.854Z"
   },
   {
    "duration": 22,
    "start_time": "2023-01-06T20:46:16.800Z"
   },
   {
    "duration": 18,
    "start_time": "2023-01-06T20:46:17.364Z"
   },
   {
    "duration": 276,
    "start_time": "2023-01-06T21:10:06.251Z"
   },
   {
    "duration": 13,
    "start_time": "2023-01-06T21:10:17.304Z"
   },
   {
    "duration": 8,
    "start_time": "2023-01-06T21:11:06.999Z"
   },
   {
    "duration": 9,
    "start_time": "2023-01-06T21:12:16.064Z"
   },
   {
    "duration": 10,
    "start_time": "2023-01-06T21:12:21.577Z"
   },
   {
    "duration": 4,
    "start_time": "2023-01-06T21:12:30.478Z"
   },
   {
    "duration": 15,
    "start_time": "2023-01-06T21:13:56.758Z"
   },
   {
    "duration": 27,
    "start_time": "2023-01-06T21:14:05.699Z"
   },
   {
    "duration": 7,
    "start_time": "2023-01-06T21:17:40.074Z"
   },
   {
    "duration": 89,
    "start_time": "2023-01-06T21:19:41.953Z"
   },
   {
    "duration": 5,
    "start_time": "2023-01-06T21:20:00.945Z"
   },
   {
    "duration": 6,
    "start_time": "2023-01-06T21:20:27.565Z"
   },
   {
    "duration": 40,
    "start_time": "2023-01-06T21:20:31.893Z"
   },
   {
    "duration": 36,
    "start_time": "2023-01-06T21:20:44.730Z"
   },
   {
    "duration": 39,
    "start_time": "2023-01-06T21:21:03.344Z"
   },
   {
    "duration": 39,
    "start_time": "2023-01-06T21:21:09.683Z"
   },
   {
    "duration": 47,
    "start_time": "2023-01-06T21:21:43.351Z"
   },
   {
    "duration": 118,
    "start_time": "2023-01-06T21:22:25.552Z"
   },
   {
    "duration": 34,
    "start_time": "2023-01-06T21:22:26.424Z"
   },
   {
    "duration": 62,
    "start_time": "2023-01-06T21:24:35.438Z"
   },
   {
    "duration": 60,
    "start_time": "2023-01-06T21:24:41.269Z"
   },
   {
    "duration": 21,
    "start_time": "2023-01-06T21:24:46.999Z"
   },
   {
    "duration": 60,
    "start_time": "2023-01-06T21:25:54.816Z"
   },
   {
    "duration": 20,
    "start_time": "2023-01-06T21:25:59.837Z"
   },
   {
    "duration": 746,
    "start_time": "2023-01-06T21:30:59.891Z"
   },
   {
    "duration": 761,
    "start_time": "2023-01-06T21:31:15.153Z"
   },
   {
    "duration": 0,
    "start_time": "2023-01-06T21:31:15.916Z"
   },
   {
    "duration": 723,
    "start_time": "2023-01-06T21:31:16.018Z"
   },
   {
    "duration": 1117,
    "start_time": "2023-01-06T21:31:31.400Z"
   },
   {
    "duration": 779,
    "start_time": "2023-01-06T21:31:32.518Z"
   },
   {
    "duration": 128,
    "start_time": "2023-01-06T21:31:33.299Z"
   },
   {
    "duration": 90,
    "start_time": "2023-01-06T21:31:33.429Z"
   },
   {
    "duration": 12,
    "start_time": "2023-01-06T21:31:33.521Z"
   },
   {
    "duration": 858,
    "start_time": "2023-01-06T21:31:33.535Z"
   },
   {
    "duration": 124,
    "start_time": "2023-01-06T21:31:34.395Z"
   },
   {
    "duration": 297,
    "start_time": "2023-01-06T21:31:34.520Z"
   },
   {
    "duration": 152,
    "start_time": "2023-01-06T21:31:34.819Z"
   },
   {
    "duration": 4,
    "start_time": "2023-01-06T21:31:34.981Z"
   },
   {
    "duration": 12,
    "start_time": "2023-01-06T21:31:35.421Z"
   },
   {
    "duration": 64,
    "start_time": "2023-01-06T21:31:35.835Z"
   },
   {
    "duration": 3,
    "start_time": "2023-01-06T21:31:36.252Z"
   },
   {
    "duration": 29,
    "start_time": "2023-01-06T21:31:36.703Z"
   },
   {
    "duration": 21,
    "start_time": "2023-01-06T21:31:37.095Z"
   },
   {
    "duration": 31,
    "start_time": "2023-01-06T21:31:37.500Z"
   },
   {
    "duration": 30,
    "start_time": "2023-01-06T21:31:37.892Z"
   },
   {
    "duration": 18,
    "start_time": "2023-01-06T21:31:38.313Z"
   },
   {
    "duration": 20,
    "start_time": "2023-01-06T21:31:38.706Z"
   },
   {
    "duration": 180,
    "start_time": "2023-01-06T21:31:39.082Z"
   },
   {
    "duration": 18,
    "start_time": "2023-01-06T21:31:39.504Z"
   },
   {
    "duration": 85,
    "start_time": "2023-01-06T21:31:39.884Z"
   },
   {
    "duration": 106,
    "start_time": "2023-01-06T21:31:40.317Z"
   },
   {
    "duration": 118,
    "start_time": "2023-01-06T21:31:40.761Z"
   },
   {
    "duration": 16,
    "start_time": "2023-01-06T21:31:41.172Z"
   },
   {
    "duration": 14,
    "start_time": "2023-01-06T21:31:41.632Z"
   },
   {
    "duration": 15,
    "start_time": "2023-01-06T21:31:42.045Z"
   },
   {
    "duration": 467,
    "start_time": "2023-01-06T21:31:42.562Z"
   },
   {
    "duration": 446,
    "start_time": "2023-01-06T21:31:43.031Z"
   },
   {
    "duration": 426,
    "start_time": "2023-01-06T21:31:43.479Z"
   },
   {
    "duration": 15,
    "start_time": "2023-01-06T21:31:43.955Z"
   },
   {
    "duration": 347,
    "start_time": "2023-01-06T21:31:44.472Z"
   },
   {
    "duration": 38,
    "start_time": "2023-01-06T21:31:44.957Z"
   },
   {
    "duration": 22,
    "start_time": "2023-01-06T21:31:45.456Z"
   },
   {
    "duration": 56,
    "start_time": "2023-01-06T21:31:45.915Z"
   },
   {
    "duration": 9,
    "start_time": "2023-01-06T21:31:46.475Z"
   },
   {
    "duration": 3,
    "start_time": "2023-01-06T21:31:46.925Z"
   },
   {
    "duration": 211,
    "start_time": "2023-01-06T21:31:47.456Z"
   },
   {
    "duration": 392,
    "start_time": "2023-01-06T21:31:47.973Z"
   },
   {
    "duration": 50,
    "start_time": "2023-01-06T21:31:50.493Z"
   },
   {
    "duration": 65,
    "start_time": "2023-01-06T21:31:51.746Z"
   },
   {
    "duration": 39,
    "start_time": "2023-01-06T21:31:52.854Z"
   },
   {
    "duration": 122,
    "start_time": "2023-01-06T21:31:53.896Z"
   },
   {
    "duration": 16,
    "start_time": "2023-01-06T21:31:55.488Z"
   },
   {
    "duration": 824,
    "start_time": "2023-01-06T21:32:29.635Z"
   },
   {
    "duration": 1058,
    "start_time": "2023-01-06T21:32:45.747Z"
   },
   {
    "duration": 761,
    "start_time": "2023-01-06T21:32:46.807Z"
   },
   {
    "duration": 126,
    "start_time": "2023-01-06T21:32:47.570Z"
   },
   {
    "duration": 99,
    "start_time": "2023-01-06T21:32:47.698Z"
   },
   {
    "duration": 23,
    "start_time": "2023-01-06T21:32:47.798Z"
   },
   {
    "duration": 869,
    "start_time": "2023-01-06T21:32:47.992Z"
   },
   {
    "duration": 119,
    "start_time": "2023-01-06T21:32:48.863Z"
   },
   {
    "duration": 315,
    "start_time": "2023-01-06T21:32:48.984Z"
   },
   {
    "duration": 148,
    "start_time": "2023-01-06T21:32:49.344Z"
   },
   {
    "duration": 4,
    "start_time": "2023-01-06T21:32:49.850Z"
   },
   {
    "duration": 12,
    "start_time": "2023-01-06T21:32:50.314Z"
   },
   {
    "duration": 64,
    "start_time": "2023-01-06T21:32:50.756Z"
   },
   {
    "duration": 4,
    "start_time": "2023-01-06T21:32:51.220Z"
   },
   {
    "duration": 29,
    "start_time": "2023-01-06T21:32:51.682Z"
   },
   {
    "duration": 21,
    "start_time": "2023-01-06T21:32:52.175Z"
   },
   {
    "duration": 31,
    "start_time": "2023-01-06T21:32:53.720Z"
   },
   {
    "duration": 31,
    "start_time": "2023-01-06T21:32:54.197Z"
   },
   {
    "duration": 19,
    "start_time": "2023-01-06T21:32:55.631Z"
   },
   {
    "duration": 22,
    "start_time": "2023-01-06T21:32:56.087Z"
   },
   {
    "duration": 185,
    "start_time": "2023-01-06T21:32:56.402Z"
   },
   {
    "duration": 21,
    "start_time": "2023-01-06T21:32:57.873Z"
   },
   {
    "duration": 98,
    "start_time": "2023-01-06T21:32:58.253Z"
   },
   {
    "duration": 120,
    "start_time": "2023-01-06T21:32:58.566Z"
   },
   {
    "duration": 102,
    "start_time": "2023-01-06T21:32:58.934Z"
   },
   {
    "duration": 16,
    "start_time": "2023-01-06T21:33:00.365Z"
   },
   {
    "duration": 15,
    "start_time": "2023-01-06T21:33:00.709Z"
   },
   {
    "duration": 15,
    "start_time": "2023-01-06T21:33:01.897Z"
   },
   {
    "duration": 567,
    "start_time": "2023-01-06T21:33:02.214Z"
   },
   {
    "duration": 437,
    "start_time": "2023-01-06T21:33:03.466Z"
   },
   {
    "duration": 461,
    "start_time": "2023-01-06T21:33:03.905Z"
   },
   {
    "duration": 15,
    "start_time": "2023-01-06T21:33:05.104Z"
   },
   {
    "duration": 372,
    "start_time": "2023-01-06T21:33:05.456Z"
   },
   {
    "duration": 38,
    "start_time": "2023-01-06T21:33:07.005Z"
   },
   {
    "duration": 22,
    "start_time": "2023-01-06T21:33:07.387Z"
   },
   {
    "duration": 53,
    "start_time": "2023-01-06T21:33:08.630Z"
   },
   {
    "duration": 11,
    "start_time": "2023-01-06T21:33:08.980Z"
   },
   {
    "duration": 3,
    "start_time": "2023-01-06T21:33:10.812Z"
   },
   {
    "duration": 210,
    "start_time": "2023-01-06T21:33:11.172Z"
   },
   {
    "duration": 381,
    "start_time": "2023-01-06T21:33:12.501Z"
   },
   {
    "duration": 57,
    "start_time": "2023-01-06T21:33:12.883Z"
   },
   {
    "duration": 15,
    "start_time": "2023-01-06T21:33:13.963Z"
   },
   {
    "duration": 25,
    "start_time": "2023-01-06T21:33:34.997Z"
   },
   {
    "duration": 4978,
    "start_time": "2023-01-06T21:33:44.142Z"
   },
   {
    "duration": 15,
    "start_time": "2023-01-06T21:33:59.379Z"
   },
   {
    "duration": 14,
    "start_time": "2023-01-06T21:34:10.198Z"
   },
   {
    "duration": 101,
    "start_time": "2023-01-06T21:34:17.214Z"
   },
   {
    "duration": 16,
    "start_time": "2023-01-06T21:34:28.358Z"
   },
   {
    "duration": 133,
    "start_time": "2023-01-06T21:36:06.632Z"
   },
   {
    "duration": 138,
    "start_time": "2023-01-06T21:36:37.299Z"
   },
   {
    "duration": 734,
    "start_time": "2023-01-06T21:38:11.214Z"
   },
   {
    "duration": 1024,
    "start_time": "2023-01-06T21:38:37.661Z"
   },
   {
    "duration": 744,
    "start_time": "2023-01-06T21:38:38.686Z"
   },
   {
    "duration": 120,
    "start_time": "2023-01-06T21:38:39.432Z"
   },
   {
    "duration": 97,
    "start_time": "2023-01-06T21:38:39.553Z"
   },
   {
    "duration": 12,
    "start_time": "2023-01-06T21:38:39.652Z"
   },
   {
    "duration": 861,
    "start_time": "2023-01-06T21:38:39.756Z"
   },
   {
    "duration": 117,
    "start_time": "2023-01-06T21:38:40.619Z"
   },
   {
    "duration": 311,
    "start_time": "2023-01-06T21:38:40.737Z"
   },
   {
    "duration": 156,
    "start_time": "2023-01-06T21:38:41.104Z"
   },
   {
    "duration": 4,
    "start_time": "2023-01-06T21:38:41.573Z"
   },
   {
    "duration": 17,
    "start_time": "2023-01-06T21:38:42.065Z"
   },
   {
    "duration": 63,
    "start_time": "2023-01-06T21:38:42.529Z"
   },
   {
    "duration": 3,
    "start_time": "2023-01-06T21:38:42.997Z"
   },
   {
    "duration": 29,
    "start_time": "2023-01-06T21:38:43.491Z"
   },
   {
    "duration": 28,
    "start_time": "2023-01-06T21:38:43.975Z"
   },
   {
    "duration": 30,
    "start_time": "2023-01-06T21:38:45.760Z"
   },
   {
    "duration": 30,
    "start_time": "2023-01-06T21:38:46.174Z"
   },
   {
    "duration": 19,
    "start_time": "2023-01-06T21:38:47.712Z"
   },
   {
    "duration": 20,
    "start_time": "2023-01-06T21:38:48.135Z"
   },
   {
    "duration": 192,
    "start_time": "2023-01-06T21:38:48.525Z"
   },
   {
    "duration": 21,
    "start_time": "2023-01-06T21:38:50.198Z"
   },
   {
    "duration": 87,
    "start_time": "2023-01-06T21:38:50.590Z"
   },
   {
    "duration": 108,
    "start_time": "2023-01-06T21:38:50.990Z"
   },
   {
    "duration": 109,
    "start_time": "2023-01-06T21:38:52.420Z"
   },
   {
    "duration": 16,
    "start_time": "2023-01-06T21:38:52.863Z"
   },
   {
    "duration": 13,
    "start_time": "2023-01-06T21:38:54.306Z"
   },
   {
    "duration": 13,
    "start_time": "2023-01-06T21:38:54.715Z"
   },
   {
    "duration": 513,
    "start_time": "2023-01-06T21:38:55.987Z"
   },
   {
    "duration": 448,
    "start_time": "2023-01-06T21:38:56.501Z"
   },
   {
    "duration": 430,
    "start_time": "2023-01-06T21:38:56.951Z"
   },
   {
    "duration": 14,
    "start_time": "2023-01-06T21:38:57.382Z"
   },
   {
    "duration": 345,
    "start_time": "2023-01-06T21:38:57.672Z"
   },
   {
    "duration": 37,
    "start_time": "2023-01-06T21:38:59.131Z"
   },
   {
    "duration": 22,
    "start_time": "2023-01-06T21:38:59.604Z"
   },
   {
    "duration": 54,
    "start_time": "2023-01-06T21:38:59.913Z"
   },
   {
    "duration": 12,
    "start_time": "2023-01-06T21:39:01.822Z"
   },
   {
    "duration": 3,
    "start_time": "2023-01-06T21:39:02.451Z"
   },
   {
    "duration": 218,
    "start_time": "2023-01-06T21:39:02.635Z"
   },
   {
    "duration": 381,
    "start_time": "2023-01-06T21:39:03.011Z"
   },
   {
    "duration": 50,
    "start_time": "2023-01-06T21:39:05.871Z"
   },
   {
    "duration": 145,
    "start_time": "2023-01-06T21:39:06.331Z"
   },
   {
    "duration": 66,
    "start_time": "2023-01-06T21:39:07.753Z"
   },
   {
    "duration": 190,
    "start_time": "2023-01-06T21:39:09.115Z"
   },
   {
    "duration": 122,
    "start_time": "2023-01-06T21:39:17.171Z"
   },
   {
    "duration": 18,
    "start_time": "2023-01-06T21:39:18.695Z"
   },
   {
    "duration": 59,
    "start_time": "2023-01-06T21:39:32.084Z"
   },
   {
    "duration": 21,
    "start_time": "2023-01-06T21:39:41.482Z"
   },
   {
    "duration": 35,
    "start_time": "2023-01-06T21:39:42.323Z"
   },
   {
    "duration": 7,
    "start_time": "2023-01-06T21:40:10.360Z"
   },
   {
    "duration": 21,
    "start_time": "2023-01-06T21:40:11.051Z"
   },
   {
    "duration": 32,
    "start_time": "2023-01-06T21:40:11.887Z"
   },
   {
    "duration": 213,
    "start_time": "2023-01-06T21:41:15.099Z"
   },
   {
    "duration": 9,
    "start_time": "2023-01-06T21:43:11.566Z"
   },
   {
    "duration": 115,
    "start_time": "2023-01-06T21:51:15.162Z"
   },
   {
    "duration": 47,
    "start_time": "2023-01-06T21:52:13.661Z"
   },
   {
    "duration": 22,
    "start_time": "2023-01-06T21:54:14.744Z"
   },
   {
    "duration": 2499,
    "start_time": "2023-01-06T21:56:56.387Z"
   },
   {
    "duration": 3,
    "start_time": "2023-01-06T21:57:23.118Z"
   },
   {
    "duration": 2097,
    "start_time": "2023-01-06T21:57:30.183Z"
   },
   {
    "duration": 1949,
    "start_time": "2023-01-06T21:58:36.057Z"
   },
   {
    "duration": 22,
    "start_time": "2023-01-06T22:00:14.380Z"
   },
   {
    "duration": 237,
    "start_time": "2023-01-06T22:01:36.882Z"
   },
   {
    "duration": 259,
    "start_time": "2023-01-06T22:01:49.757Z"
   },
   {
    "duration": 19,
    "start_time": "2023-01-06T22:05:52.256Z"
   },
   {
    "duration": 290,
    "start_time": "2023-01-06T22:06:02.260Z"
   },
   {
    "duration": 1440,
    "start_time": "2023-01-07T10:42:50.087Z"
   },
   {
    "duration": 956,
    "start_time": "2023-01-07T10:42:51.528Z"
   },
   {
    "duration": 128,
    "start_time": "2023-01-07T10:42:52.485Z"
   },
   {
    "duration": 88,
    "start_time": "2023-01-07T10:42:52.615Z"
   },
   {
    "duration": 14,
    "start_time": "2023-01-07T10:42:52.704Z"
   },
   {
    "duration": 952,
    "start_time": "2023-01-07T10:42:52.719Z"
   },
   {
    "duration": 116,
    "start_time": "2023-01-07T10:42:53.672Z"
   },
   {
    "duration": 294,
    "start_time": "2023-01-07T10:42:53.798Z"
   },
   {
    "duration": 154,
    "start_time": "2023-01-07T10:42:54.093Z"
   },
   {
    "duration": 3,
    "start_time": "2023-01-07T10:42:54.249Z"
   },
   {
    "duration": 12,
    "start_time": "2023-01-07T10:42:54.315Z"
   },
   {
    "duration": 60,
    "start_time": "2023-01-07T10:42:55.674Z"
   },
   {
    "duration": 4,
    "start_time": "2023-01-07T10:42:56.000Z"
   },
   {
    "duration": 29,
    "start_time": "2023-01-07T10:42:57.781Z"
   },
   {
    "duration": 20,
    "start_time": "2023-01-07T10:42:58.117Z"
   },
   {
    "duration": 31,
    "start_time": "2023-01-07T10:42:59.410Z"
   },
   {
    "duration": 30,
    "start_time": "2023-01-07T10:42:59.745Z"
   },
   {
    "duration": 19,
    "start_time": "2023-01-07T10:43:00.055Z"
   },
   {
    "duration": 20,
    "start_time": "2023-01-07T10:43:01.140Z"
   },
   {
    "duration": 197,
    "start_time": "2023-01-07T10:43:01.457Z"
   },
   {
    "duration": 19,
    "start_time": "2023-01-07T10:43:01.763Z"
   },
   {
    "duration": 80,
    "start_time": "2023-01-07T10:43:02.890Z"
   },
   {
    "duration": 104,
    "start_time": "2023-01-07T10:43:03.211Z"
   },
   {
    "duration": 107,
    "start_time": "2023-01-07T10:43:03.491Z"
   },
   {
    "duration": 19,
    "start_time": "2023-01-07T10:43:04.769Z"
   },
   {
    "duration": 14,
    "start_time": "2023-01-07T10:43:05.084Z"
   },
   {
    "duration": 14,
    "start_time": "2023-01-07T10:43:06.286Z"
   },
   {
    "duration": 414,
    "start_time": "2023-01-07T10:43:06.578Z"
   },
   {
    "duration": 446,
    "start_time": "2023-01-07T10:43:07.895Z"
   },
   {
    "duration": 424,
    "start_time": "2023-01-07T10:43:08.342Z"
   },
   {
    "duration": 14,
    "start_time": "2023-01-07T10:43:09.736Z"
   },
   {
    "duration": 345,
    "start_time": "2023-01-07T10:43:10.055Z"
   },
   {
    "duration": 36,
    "start_time": "2023-01-07T10:43:12.048Z"
   },
   {
    "duration": 22,
    "start_time": "2023-01-07T10:43:12.349Z"
   },
   {
    "duration": 56,
    "start_time": "2023-01-07T10:43:12.709Z"
   },
   {
    "duration": 11,
    "start_time": "2023-01-07T10:43:14.087Z"
   },
   {
    "duration": 2,
    "start_time": "2023-01-07T10:43:14.431Z"
   },
   {
    "duration": 217,
    "start_time": "2023-01-07T10:43:15.712Z"
   },
   {
    "duration": 401,
    "start_time": "2023-01-07T10:43:16.092Z"
   },
   {
    "duration": 53,
    "start_time": "2023-01-07T10:43:19.086Z"
   },
   {
    "duration": 131,
    "start_time": "2023-01-07T10:43:19.446Z"
   },
   {
    "duration": 57,
    "start_time": "2023-01-07T10:43:36.314Z"
   },
   {
    "duration": 167,
    "start_time": "2023-01-07T10:43:36.631Z"
   },
   {
    "duration": 126,
    "start_time": "2023-01-07T10:43:38.194Z"
   },
   {
    "duration": 15,
    "start_time": "2023-01-07T10:43:39.445Z"
   },
   {
    "duration": 57,
    "start_time": "2023-01-07T10:44:12.493Z"
   },
   {
    "duration": 20,
    "start_time": "2023-01-07T10:44:12.832Z"
   },
   {
    "duration": 31,
    "start_time": "2023-01-07T10:44:13.873Z"
   },
   {
    "duration": 10,
    "start_time": "2023-01-07T10:44:17.938Z"
   },
   {
    "duration": 40,
    "start_time": "2023-01-07T10:44:18.269Z"
   },
   {
    "duration": 2189,
    "start_time": "2023-01-07T10:44:23.422Z"
   },
   {
    "duration": 331,
    "start_time": "2023-01-07T10:44:34.070Z"
   },
   {
    "duration": 339,
    "start_time": "2023-01-07T10:44:34.497Z"
   },
   {
    "duration": 3,
    "start_time": "2023-01-07T10:49:00.561Z"
   },
   {
    "duration": 4,
    "start_time": "2023-01-07T10:49:04.645Z"
   },
   {
    "duration": 37,
    "start_time": "2023-01-07T10:49:33.315Z"
   },
   {
    "duration": 851,
    "start_time": "2023-01-07T10:49:56.967Z"
   },
   {
    "duration": 1994,
    "start_time": "2023-01-07T10:50:11.660Z"
   },
   {
    "duration": 21,
    "start_time": "2023-01-07T17:18:36.750Z"
   },
   {
    "duration": 3,
    "start_time": "2023-01-07T17:18:43.441Z"
   },
   {
    "duration": 765,
    "start_time": "2023-01-07T17:18:44.491Z"
   },
   {
    "duration": 123,
    "start_time": "2023-01-07T17:18:45.258Z"
   },
   {
    "duration": 78,
    "start_time": "2023-01-07T17:18:45.761Z"
   },
   {
    "duration": 13,
    "start_time": "2023-01-07T17:18:46.341Z"
   },
   {
    "duration": 934,
    "start_time": "2023-01-07T17:18:46.949Z"
   },
   {
    "duration": 148,
    "start_time": "2023-01-07T17:18:47.885Z"
   },
   {
    "duration": 326,
    "start_time": "2023-01-07T17:18:48.045Z"
   },
   {
    "duration": 125,
    "start_time": "2023-01-07T17:18:51.312Z"
   },
   {
    "duration": 4,
    "start_time": "2023-01-07T17:18:55.900Z"
   },
   {
    "duration": 14,
    "start_time": "2023-01-07T17:18:58.196Z"
   },
   {
    "duration": 32,
    "start_time": "2023-01-07T17:18:59.283Z"
   },
   {
    "duration": 4,
    "start_time": "2023-01-07T17:19:00.224Z"
   },
   {
    "duration": 31,
    "start_time": "2023-01-07T17:19:01.511Z"
   },
   {
    "duration": 19,
    "start_time": "2023-01-07T17:19:01.877Z"
   },
   {
    "duration": 32,
    "start_time": "2023-01-07T17:19:02.243Z"
   },
   {
    "duration": 30,
    "start_time": "2023-01-07T17:19:02.586Z"
   },
   {
    "duration": 19,
    "start_time": "2023-01-07T17:19:02.921Z"
   },
   {
    "duration": 24,
    "start_time": "2023-01-07T17:19:04.079Z"
   },
   {
    "duration": 210,
    "start_time": "2023-01-07T17:19:04.392Z"
   },
   {
    "duration": 26,
    "start_time": "2023-01-07T17:19:04.695Z"
   },
   {
    "duration": 80,
    "start_time": "2023-01-07T17:19:05.819Z"
   },
   {
    "duration": 117,
    "start_time": "2023-01-07T17:19:06.097Z"
   },
   {
    "duration": 113,
    "start_time": "2023-01-07T17:19:06.374Z"
   },
   {
    "duration": 15,
    "start_time": "2023-01-07T17:19:07.999Z"
   },
   {
    "duration": 14,
    "start_time": "2023-01-07T17:19:08.250Z"
   },
   {
    "duration": 13,
    "start_time": "2023-01-07T17:19:09.520Z"
   },
   {
    "duration": 457,
    "start_time": "2023-01-07T17:19:09.789Z"
   },
   {
    "duration": 437,
    "start_time": "2023-01-07T17:19:11.275Z"
   },
   {
    "duration": 437,
    "start_time": "2023-01-07T17:19:12.530Z"
   },
   {
    "duration": 16,
    "start_time": "2023-01-07T17:19:13.840Z"
   },
   {
    "duration": 366,
    "start_time": "2023-01-07T17:19:15.298Z"
   },
   {
    "duration": 31,
    "start_time": "2023-01-07T17:19:17.417Z"
   },
   {
    "duration": 17,
    "start_time": "2023-01-07T17:19:18.177Z"
   },
   {
    "duration": 56,
    "start_time": "2023-01-07T17:19:18.512Z"
   },
   {
    "duration": 10,
    "start_time": "2023-01-07T17:19:27.750Z"
   },
   {
    "duration": 2,
    "start_time": "2023-01-07T17:19:28.090Z"
   },
   {
    "duration": 218,
    "start_time": "2023-01-07T17:19:30.825Z"
   },
   {
    "duration": 394,
    "start_time": "2023-01-07T17:19:31.164Z"
   },
   {
    "duration": 51,
    "start_time": "2023-01-07T17:19:34.855Z"
   },
   {
    "duration": 148,
    "start_time": "2023-01-07T17:19:35.181Z"
   },
   {
    "duration": 67,
    "start_time": "2023-01-07T17:19:37.912Z"
   },
   {
    "duration": 193,
    "start_time": "2023-01-07T17:19:38.875Z"
   },
   {
    "duration": 120,
    "start_time": "2023-01-07T17:19:39.216Z"
   },
   {
    "duration": 16,
    "start_time": "2023-01-07T17:19:40.664Z"
   },
   {
    "duration": 68,
    "start_time": "2023-01-07T17:19:41.031Z"
   },
   {
    "duration": 23,
    "start_time": "2023-01-07T17:19:46.498Z"
   },
   {
    "duration": 31,
    "start_time": "2023-01-07T17:19:46.768Z"
   },
   {
    "duration": 8,
    "start_time": "2023-01-07T17:19:48.160Z"
   },
   {
    "duration": 40,
    "start_time": "2023-01-07T17:19:48.450Z"
   },
   {
    "duration": 2163,
    "start_time": "2023-01-07T17:19:51.914Z"
   },
   {
    "duration": 344,
    "start_time": "2023-01-07T17:20:04.558Z"
   },
   {
    "duration": 346,
    "start_time": "2023-01-07T17:20:06.048Z"
   },
   {
    "duration": 2,
    "start_time": "2023-01-07T17:32:06.962Z"
   },
   {
    "duration": 54,
    "start_time": "2023-01-07T17:33:23.849Z"
   },
   {
    "duration": 2791,
    "start_time": "2023-01-07T17:33:30.925Z"
   },
   {
    "duration": 39178,
    "start_time": "2023-01-07T17:34:03.531Z"
   },
   {
    "duration": 2869,
    "start_time": "2023-01-07T17:36:31.332Z"
   },
   {
    "duration": 271,
    "start_time": "2023-01-07T17:38:07.194Z"
   },
   {
    "duration": 4,
    "start_time": "2023-01-07T17:55:42.589Z"
   },
   {
    "duration": 53,
    "start_time": "2023-01-07T18:01:21.449Z"
   },
   {
    "duration": 101631,
    "start_time": "2023-01-07T18:01:36.414Z"
   },
   {
    "duration": 101146,
    "start_time": "2023-01-07T18:28:37.905Z"
   },
   {
    "duration": 4,
    "start_time": "2023-01-07T18:30:19.054Z"
   },
   {
    "duration": 104285,
    "start_time": "2023-01-07T18:31:37.160Z"
   },
   {
    "duration": 3,
    "start_time": "2023-01-07T18:33:21.447Z"
   },
   {
    "duration": 4,
    "start_time": "2023-01-07T18:35:11.109Z"
   },
   {
    "duration": 51,
    "start_time": "2023-01-07T18:35:13.194Z"
   },
   {
    "duration": 7142,
    "start_time": "2023-01-07T18:35:50.115Z"
   },
   {
    "duration": 48,
    "start_time": "2023-01-07T18:41:29.034Z"
   },
   {
    "duration": 1489,
    "start_time": "2023-01-07T18:47:23.470Z"
   },
   {
    "duration": 4,
    "start_time": "2023-01-07T18:47:26.342Z"
   },
   {
    "duration": 769,
    "start_time": "2023-01-07T18:47:26.645Z"
   },
   {
    "duration": 142,
    "start_time": "2023-01-07T18:47:27.416Z"
   },
   {
    "duration": 103,
    "start_time": "2023-01-07T18:47:27.559Z"
   },
   {
    "duration": 16,
    "start_time": "2023-01-07T18:47:27.665Z"
   },
   {
    "duration": 1000,
    "start_time": "2023-01-07T18:47:27.911Z"
   },
   {
    "duration": 119,
    "start_time": "2023-01-07T18:47:28.912Z"
   },
   {
    "duration": 326,
    "start_time": "2023-01-07T18:47:29.033Z"
   },
   {
    "duration": 188,
    "start_time": "2023-01-07T18:47:29.361Z"
   },
   {
    "duration": 4,
    "start_time": "2023-01-07T18:47:29.550Z"
   },
   {
    "duration": 16,
    "start_time": "2023-01-07T18:47:29.556Z"
   },
   {
    "duration": 61,
    "start_time": "2023-01-07T18:47:29.686Z"
   },
   {
    "duration": 3,
    "start_time": "2023-01-07T18:47:29.986Z"
   },
   {
    "duration": 31,
    "start_time": "2023-01-07T18:47:30.248Z"
   },
   {
    "duration": 20,
    "start_time": "2023-01-07T18:47:30.529Z"
   },
   {
    "duration": 32,
    "start_time": "2023-01-07T18:47:30.810Z"
   },
   {
    "duration": 32,
    "start_time": "2023-01-07T18:47:31.068Z"
   },
   {
    "duration": 18,
    "start_time": "2023-01-07T18:47:31.392Z"
   },
   {
    "duration": 21,
    "start_time": "2023-01-07T18:47:31.687Z"
   },
   {
    "duration": 196,
    "start_time": "2023-01-07T18:47:32.240Z"
   },
   {
    "duration": 20,
    "start_time": "2023-01-07T18:47:32.500Z"
   },
   {
    "duration": 84,
    "start_time": "2023-01-07T18:47:32.786Z"
   },
   {
    "duration": 112,
    "start_time": "2023-01-07T18:47:33.067Z"
   },
   {
    "duration": 109,
    "start_time": "2023-01-07T18:47:33.355Z"
   },
   {
    "duration": 15,
    "start_time": "2023-01-07T18:47:33.606Z"
   },
   {
    "duration": 13,
    "start_time": "2023-01-07T18:47:33.885Z"
   },
   {
    "duration": 15,
    "start_time": "2023-01-07T18:47:34.152Z"
   },
   {
    "duration": 469,
    "start_time": "2023-01-07T18:47:34.413Z"
   },
   {
    "duration": 446,
    "start_time": "2023-01-07T18:47:34.884Z"
   },
   {
    "duration": 435,
    "start_time": "2023-01-07T18:47:35.332Z"
   },
   {
    "duration": 15,
    "start_time": "2023-01-07T18:47:35.768Z"
   },
   {
    "duration": 366,
    "start_time": "2023-01-07T18:47:35.785Z"
   },
   {
    "duration": 44,
    "start_time": "2023-01-07T18:47:36.153Z"
   },
   {
    "duration": 20,
    "start_time": "2023-01-07T18:47:36.199Z"
   },
   {
    "duration": 53,
    "start_time": "2023-01-07T18:47:40.311Z"
   },
   {
    "duration": 10,
    "start_time": "2023-01-07T18:47:41.651Z"
   },
   {
    "duration": 3,
    "start_time": "2023-01-07T18:47:41.940Z"
   },
   {
    "duration": 218,
    "start_time": "2023-01-07T18:47:42.251Z"
   },
   {
    "duration": 341,
    "start_time": "2023-01-07T18:47:42.509Z"
   },
   {
    "duration": 53,
    "start_time": "2023-01-07T18:47:43.931Z"
   },
   {
    "duration": 130,
    "start_time": "2023-01-07T18:47:45.236Z"
   },
   {
    "duration": 58,
    "start_time": "2023-01-07T18:47:45.527Z"
   },
   {
    "duration": 197,
    "start_time": "2023-01-07T18:47:45.804Z"
   },
   {
    "duration": 126,
    "start_time": "2023-01-07T18:47:46.064Z"
   },
   {
    "duration": 16,
    "start_time": "2023-01-07T18:47:46.336Z"
   },
   {
    "duration": 57,
    "start_time": "2023-01-07T18:47:46.616Z"
   },
   {
    "duration": 22,
    "start_time": "2023-01-07T18:47:46.886Z"
   },
   {
    "duration": 132,
    "start_time": "2023-01-07T18:47:48.010Z"
   },
   {
    "duration": 10,
    "start_time": "2023-01-07T18:47:48.275Z"
   },
   {
    "duration": 38,
    "start_time": "2023-01-07T18:47:49.437Z"
   },
   {
    "duration": 2061,
    "start_time": "2023-01-07T18:47:51.267Z"
   },
   {
    "duration": 287,
    "start_time": "2023-01-07T18:47:55.914Z"
   },
   {
    "duration": 3156,
    "start_time": "2023-01-07T18:47:57.948Z"
   },
   {
    "duration": 309,
    "start_time": "2023-01-07T18:48:06.198Z"
   },
   {
    "duration": 105366,
    "start_time": "2023-01-07T18:48:16.308Z"
   },
   {
    "duration": 121,
    "start_time": "2023-01-07T18:55:17.042Z"
   },
   {
    "duration": 7,
    "start_time": "2023-01-07T18:55:58.035Z"
   },
   {
    "duration": 121579,
    "start_time": "2023-01-07T18:57:03.384Z"
   },
   {
    "duration": 1453,
    "start_time": "2023-01-07T19:05:23.844Z"
   },
   {
    "duration": 3,
    "start_time": "2023-01-07T19:05:25.300Z"
   },
   {
    "duration": 879,
    "start_time": "2023-01-07T19:05:25.305Z"
   },
   {
    "duration": 125,
    "start_time": "2023-01-07T19:05:26.187Z"
   },
   {
    "duration": 98,
    "start_time": "2023-01-07T19:05:26.314Z"
   },
   {
    "duration": 13,
    "start_time": "2023-01-07T19:05:26.414Z"
   },
   {
    "duration": 1093,
    "start_time": "2023-01-07T19:05:26.428Z"
   },
   {
    "duration": 126,
    "start_time": "2023-01-07T19:05:27.524Z"
   },
   {
    "duration": 326,
    "start_time": "2023-01-07T19:05:27.651Z"
   },
   {
    "duration": 161,
    "start_time": "2023-01-07T19:05:27.979Z"
   },
   {
    "duration": 3,
    "start_time": "2023-01-07T19:05:28.142Z"
   },
   {
    "duration": 14,
    "start_time": "2023-01-07T19:05:28.146Z"
   },
   {
    "duration": 80,
    "start_time": "2023-01-07T19:05:28.161Z"
   },
   {
    "duration": 4,
    "start_time": "2023-01-07T19:05:28.242Z"
   },
   {
    "duration": 48,
    "start_time": "2023-01-07T19:05:28.248Z"
   },
   {
    "duration": 44,
    "start_time": "2023-01-07T19:05:28.299Z"
   },
   {
    "duration": 31,
    "start_time": "2023-01-07T19:05:28.354Z"
   },
   {
    "duration": 32,
    "start_time": "2023-01-07T19:05:28.651Z"
   },
   {
    "duration": 20,
    "start_time": "2023-01-07T19:05:28.966Z"
   },
   {
    "duration": 31,
    "start_time": "2023-01-07T19:05:29.251Z"
   },
   {
    "duration": 230,
    "start_time": "2023-01-07T19:05:29.551Z"
   },
   {
    "duration": 22,
    "start_time": "2023-01-07T19:05:29.841Z"
   },
   {
    "duration": 107,
    "start_time": "2023-01-07T19:05:30.136Z"
   },
   {
    "duration": 111,
    "start_time": "2023-01-07T19:05:30.414Z"
   },
   {
    "duration": 135,
    "start_time": "2023-01-07T19:05:30.692Z"
   },
   {
    "duration": 17,
    "start_time": "2023-01-07T19:05:30.979Z"
   },
   {
    "duration": 14,
    "start_time": "2023-01-07T19:05:31.275Z"
   },
   {
    "duration": 16,
    "start_time": "2023-01-07T19:05:31.579Z"
   },
   {
    "duration": 439,
    "start_time": "2023-01-07T19:05:31.875Z"
   },
   {
    "duration": 548,
    "start_time": "2023-01-07T19:05:32.316Z"
   },
   {
    "duration": 467,
    "start_time": "2023-01-07T19:05:32.866Z"
   },
   {
    "duration": 15,
    "start_time": "2023-01-07T19:05:33.335Z"
   },
   {
    "duration": 394,
    "start_time": "2023-01-07T19:05:33.352Z"
   },
   {
    "duration": 52,
    "start_time": "2023-01-07T19:05:33.749Z"
   },
   {
    "duration": 27,
    "start_time": "2023-01-07T19:05:33.803Z"
   },
   {
    "duration": 56,
    "start_time": "2023-01-07T19:05:34.970Z"
   },
   {
    "duration": 11,
    "start_time": "2023-01-07T19:05:35.389Z"
   },
   {
    "duration": 3,
    "start_time": "2023-01-07T19:05:36.488Z"
   },
   {
    "duration": 226,
    "start_time": "2023-01-07T19:05:36.764Z"
   },
   {
    "duration": 417,
    "start_time": "2023-01-07T19:05:37.758Z"
   },
   {
    "duration": 57,
    "start_time": "2023-01-07T19:05:38.177Z"
   },
   {
    "duration": 131,
    "start_time": "2023-01-07T19:05:39.147Z"
   },
   {
    "duration": 65,
    "start_time": "2023-01-07T19:05:39.384Z"
   },
   {
    "duration": 203,
    "start_time": "2023-01-07T19:05:39.569Z"
   },
   {
    "duration": 139,
    "start_time": "2023-01-07T19:05:39.799Z"
   },
   {
    "duration": 15,
    "start_time": "2023-01-07T19:05:40.783Z"
   },
   {
    "duration": 59,
    "start_time": "2023-01-07T19:05:41.027Z"
   },
   {
    "duration": 20,
    "start_time": "2023-01-07T19:05:41.265Z"
   },
   {
    "duration": 145,
    "start_time": "2023-01-07T19:05:42.169Z"
   },
   {
    "duration": 10,
    "start_time": "2023-01-07T19:05:42.435Z"
   },
   {
    "duration": 38,
    "start_time": "2023-01-07T19:05:43.466Z"
   },
   {
    "duration": 2183,
    "start_time": "2023-01-07T19:05:44.683Z"
   },
   {
    "duration": 335,
    "start_time": "2023-01-07T19:05:46.867Z"
   },
   {
    "duration": 85637,
    "start_time": "2023-01-07T19:05:47.205Z"
   },
   {
    "duration": 289,
    "start_time": "2023-01-07T19:07:12.845Z"
   },
   {
    "duration": 1368,
    "start_time": "2023-01-07T19:32:49.929Z"
   },
   {
    "duration": 6,
    "start_time": "2023-01-07T19:32:51.299Z"
   },
   {
    "duration": 847,
    "start_time": "2023-01-07T19:32:51.306Z"
   },
   {
    "duration": 142,
    "start_time": "2023-01-07T19:32:52.155Z"
   },
   {
    "duration": 130,
    "start_time": "2023-01-07T19:32:52.299Z"
   },
   {
    "duration": 19,
    "start_time": "2023-01-07T19:32:52.431Z"
   },
   {
    "duration": 1122,
    "start_time": "2023-01-07T19:32:52.452Z"
   },
   {
    "duration": 149,
    "start_time": "2023-01-07T19:32:53.576Z"
   },
   {
    "duration": 361,
    "start_time": "2023-01-07T19:32:53.726Z"
   },
   {
    "duration": 190,
    "start_time": "2023-01-07T19:32:54.097Z"
   },
   {
    "duration": 13,
    "start_time": "2023-01-07T19:32:54.289Z"
   },
   {
    "duration": 33,
    "start_time": "2023-01-07T19:32:54.304Z"
   },
   {
    "duration": 70,
    "start_time": "2023-01-07T19:32:54.339Z"
   },
   {
    "duration": 8,
    "start_time": "2023-01-07T19:32:54.411Z"
   },
   {
    "duration": 41,
    "start_time": "2023-01-07T19:32:54.421Z"
   },
   {
    "duration": 41,
    "start_time": "2023-01-07T19:32:54.464Z"
   },
   {
    "duration": 86,
    "start_time": "2023-01-07T19:32:54.510Z"
   },
   {
    "duration": 92,
    "start_time": "2023-01-07T19:32:54.599Z"
   },
   {
    "duration": 67,
    "start_time": "2023-01-07T19:32:54.694Z"
   },
   {
    "duration": 51,
    "start_time": "2023-01-07T19:32:54.764Z"
   },
   {
    "duration": 252,
    "start_time": "2023-01-07T19:32:55.029Z"
   },
   {
    "duration": 40,
    "start_time": "2023-01-07T19:32:55.284Z"
   },
   {
    "duration": 86,
    "start_time": "2023-01-07T19:32:56.642Z"
   },
   {
    "duration": 180,
    "start_time": "2023-01-07T19:32:56.877Z"
   },
   {
    "duration": 144,
    "start_time": "2023-01-07T19:32:58.027Z"
   },
   {
    "duration": 26,
    "start_time": "2023-01-07T19:32:58.234Z"
   },
   {
    "duration": 18,
    "start_time": "2023-01-07T19:32:58.444Z"
   },
   {
    "duration": 19,
    "start_time": "2023-01-07T19:33:00.888Z"
   },
   {
    "duration": 499,
    "start_time": "2023-01-07T19:33:01.216Z"
   },
   {
    "duration": 555,
    "start_time": "2023-01-07T19:33:01.717Z"
   },
   {
    "duration": 507,
    "start_time": "2023-01-07T19:33:02.275Z"
   },
   {
    "duration": 25,
    "start_time": "2023-01-07T19:33:02.784Z"
   },
   {
    "duration": 401,
    "start_time": "2023-01-07T19:33:02.811Z"
   },
   {
    "duration": 39,
    "start_time": "2023-01-07T19:33:03.215Z"
   },
   {
    "duration": 25,
    "start_time": "2023-01-07T19:33:03.428Z"
   },
   {
    "duration": 83,
    "start_time": "2023-01-07T19:33:03.820Z"
   },
   {
    "duration": 18,
    "start_time": "2023-01-07T19:33:04.111Z"
   },
   {
    "duration": 4,
    "start_time": "2023-01-07T19:33:04.493Z"
   },
   {
    "duration": 257,
    "start_time": "2023-01-07T19:33:04.879Z"
   },
   {
    "duration": 403,
    "start_time": "2023-01-07T19:33:05.185Z"
   },
   {
    "duration": 65,
    "start_time": "2023-01-07T19:33:05.656Z"
   },
   {
    "duration": 175,
    "start_time": "2023-01-07T19:33:06.087Z"
   },
   {
    "duration": 77,
    "start_time": "2023-01-07T19:33:06.410Z"
   },
   {
    "duration": 327,
    "start_time": "2023-01-07T19:33:09.397Z"
   },
   {
    "duration": 174,
    "start_time": "2023-01-07T19:33:09.726Z"
   },
   {
    "duration": 17,
    "start_time": "2023-01-07T19:33:09.908Z"
   },
   {
    "duration": 61,
    "start_time": "2023-01-07T19:33:10.954Z"
   },
   {
    "duration": 21,
    "start_time": "2023-01-07T19:33:11.235Z"
   },
   {
    "duration": 164,
    "start_time": "2023-01-07T19:33:12.395Z"
   },
   {
    "duration": 10,
    "start_time": "2023-01-07T19:33:12.666Z"
   },
   {
    "duration": 65,
    "start_time": "2023-01-07T19:33:14.274Z"
   },
   {
    "duration": 39855,
    "start_time": "2023-01-07T19:33:17.336Z"
   },
   {
    "duration": 344,
    "start_time": "2023-01-07T19:34:16.557Z"
   },
   {
    "duration": 3837,
    "start_time": "2023-01-08T16:09:54.574Z"
   },
   {
    "duration": 14,
    "start_time": "2023-01-08T16:09:58.417Z"
   },
   {
    "duration": 219,
    "start_time": "2023-01-08T16:09:58.442Z"
   },
   {
    "duration": 0,
    "start_time": "2023-01-08T16:09:58.665Z"
   },
   {
    "duration": 0,
    "start_time": "2023-01-08T16:09:58.666Z"
   },
   {
    "duration": 0,
    "start_time": "2023-01-08T16:09:58.667Z"
   },
   {
    "duration": 0,
    "start_time": "2023-01-08T16:09:58.668Z"
   },
   {
    "duration": 0,
    "start_time": "2023-01-08T16:09:58.670Z"
   },
   {
    "duration": 0,
    "start_time": "2023-01-08T16:09:58.671Z"
   },
   {
    "duration": 0,
    "start_time": "2023-01-08T16:09:58.672Z"
   },
   {
    "duration": 0,
    "start_time": "2023-01-08T16:09:58.673Z"
   },
   {
    "duration": 0,
    "start_time": "2023-01-08T16:09:58.674Z"
   },
   {
    "duration": 0,
    "start_time": "2023-01-08T16:09:58.675Z"
   },
   {
    "duration": 0,
    "start_time": "2023-01-08T16:09:58.677Z"
   },
   {
    "duration": 0,
    "start_time": "2023-01-08T16:09:58.678Z"
   },
   {
    "duration": 0,
    "start_time": "2023-01-08T16:09:58.679Z"
   },
   {
    "duration": 0,
    "start_time": "2023-01-08T16:09:58.680Z"
   },
   {
    "duration": 0,
    "start_time": "2023-01-08T16:09:58.681Z"
   },
   {
    "duration": 0,
    "start_time": "2023-01-08T16:09:58.716Z"
   },
   {
    "duration": 0,
    "start_time": "2023-01-08T16:09:58.717Z"
   },
   {
    "duration": 0,
    "start_time": "2023-01-08T16:09:58.719Z"
   },
   {
    "duration": 0,
    "start_time": "2023-01-08T16:09:58.720Z"
   },
   {
    "duration": 0,
    "start_time": "2023-01-08T16:09:58.721Z"
   },
   {
    "duration": 0,
    "start_time": "2023-01-08T16:09:58.723Z"
   },
   {
    "duration": 0,
    "start_time": "2023-01-08T16:09:58.724Z"
   },
   {
    "duration": 0,
    "start_time": "2023-01-08T16:09:58.725Z"
   },
   {
    "duration": 0,
    "start_time": "2023-01-08T16:09:58.727Z"
   },
   {
    "duration": 0,
    "start_time": "2023-01-08T16:09:58.728Z"
   },
   {
    "duration": 0,
    "start_time": "2023-01-08T16:09:58.729Z"
   },
   {
    "duration": 0,
    "start_time": "2023-01-08T16:09:58.730Z"
   },
   {
    "duration": 0,
    "start_time": "2023-01-08T16:09:58.731Z"
   },
   {
    "duration": 0,
    "start_time": "2023-01-08T16:09:58.733Z"
   },
   {
    "duration": 0,
    "start_time": "2023-01-08T16:09:58.734Z"
   },
   {
    "duration": 0,
    "start_time": "2023-01-08T16:09:58.736Z"
   },
   {
    "duration": 0,
    "start_time": "2023-01-08T16:09:58.737Z"
   },
   {
    "duration": 0,
    "start_time": "2023-01-08T16:09:58.738Z"
   },
   {
    "duration": 0,
    "start_time": "2023-01-08T16:09:58.739Z"
   },
   {
    "duration": 0,
    "start_time": "2023-01-08T16:09:58.740Z"
   },
   {
    "duration": 0,
    "start_time": "2023-01-08T16:09:58.741Z"
   },
   {
    "duration": 0,
    "start_time": "2023-01-08T16:09:58.743Z"
   },
   {
    "duration": 0,
    "start_time": "2023-01-08T16:09:58.744Z"
   },
   {
    "duration": 0,
    "start_time": "2023-01-08T16:09:58.745Z"
   },
   {
    "duration": 0,
    "start_time": "2023-01-08T16:09:58.746Z"
   },
   {
    "duration": 0,
    "start_time": "2023-01-08T16:09:58.747Z"
   },
   {
    "duration": 0,
    "start_time": "2023-01-08T16:09:58.748Z"
   },
   {
    "duration": 0,
    "start_time": "2023-01-08T16:09:58.750Z"
   },
   {
    "duration": 0,
    "start_time": "2023-01-08T16:09:58.751Z"
   },
   {
    "duration": 1171,
    "start_time": "2023-01-08T16:10:26.730Z"
   },
   {
    "duration": 2262,
    "start_time": "2023-01-08T16:10:47.534Z"
   },
   {
    "duration": 3,
    "start_time": "2023-01-08T16:10:49.798Z"
   },
   {
    "duration": 1545,
    "start_time": "2023-01-08T16:10:49.803Z"
   },
   {
    "duration": 129,
    "start_time": "2023-01-08T16:10:51.350Z"
   },
   {
    "duration": 110,
    "start_time": "2023-01-08T16:10:51.481Z"
   },
   {
    "duration": 40,
    "start_time": "2023-01-08T16:10:51.593Z"
   },
   {
    "duration": 1126,
    "start_time": "2023-01-08T16:10:51.634Z"
   },
   {
    "duration": 113,
    "start_time": "2023-01-08T16:10:52.761Z"
   },
   {
    "duration": 332,
    "start_time": "2023-01-08T16:10:52.876Z"
   },
   {
    "duration": 163,
    "start_time": "2023-01-08T16:10:53.214Z"
   },
   {
    "duration": 3,
    "start_time": "2023-01-08T16:10:53.380Z"
   },
   {
    "duration": 46,
    "start_time": "2023-01-08T16:10:53.385Z"
   },
   {
    "duration": 60,
    "start_time": "2023-01-08T16:10:53.432Z"
   },
   {
    "duration": 4,
    "start_time": "2023-01-08T16:10:53.494Z"
   },
   {
    "duration": 40,
    "start_time": "2023-01-08T16:10:53.499Z"
   },
   {
    "duration": 19,
    "start_time": "2023-01-08T16:10:53.540Z"
   },
   {
    "duration": 27,
    "start_time": "2023-01-08T16:10:53.560Z"
   },
   {
    "duration": 58,
    "start_time": "2023-01-08T16:10:53.589Z"
   },
   {
    "duration": 18,
    "start_time": "2023-01-08T16:10:53.649Z"
   },
   {
    "duration": 19,
    "start_time": "2023-01-08T16:10:53.669Z"
   },
   {
    "duration": 215,
    "start_time": "2023-01-08T16:10:53.690Z"
   },
   {
    "duration": 32,
    "start_time": "2023-01-08T16:10:53.907Z"
   },
   {
    "duration": 95,
    "start_time": "2023-01-08T16:10:53.941Z"
   },
   {
    "duration": 128,
    "start_time": "2023-01-08T16:10:54.038Z"
   },
   {
    "duration": 128,
    "start_time": "2023-01-08T16:10:54.167Z"
   },
   {
    "duration": 38,
    "start_time": "2023-01-08T16:10:54.297Z"
   },
   {
    "duration": 14,
    "start_time": "2023-01-08T16:10:54.337Z"
   },
   {
    "duration": 19,
    "start_time": "2023-01-08T16:10:54.352Z"
   },
   {
    "duration": 503,
    "start_time": "2023-01-08T16:10:54.373Z"
   },
   {
    "duration": 490,
    "start_time": "2023-01-08T16:10:54.879Z"
   },
   {
    "duration": 459,
    "start_time": "2023-01-08T16:10:55.371Z"
   },
   {
    "duration": 16,
    "start_time": "2023-01-08T16:10:55.831Z"
   },
   {
    "duration": 425,
    "start_time": "2023-01-08T16:10:55.849Z"
   },
   {
    "duration": 51,
    "start_time": "2023-01-08T16:10:56.276Z"
   },
   {
    "duration": 32,
    "start_time": "2023-01-08T16:10:56.329Z"
   },
   {
    "duration": 95,
    "start_time": "2023-01-08T16:10:56.370Z"
   },
   {
    "duration": 25,
    "start_time": "2023-01-08T16:10:56.467Z"
   },
   {
    "duration": 10,
    "start_time": "2023-01-08T16:10:56.495Z"
   },
   {
    "duration": 300,
    "start_time": "2023-01-08T16:10:56.507Z"
   },
   {
    "duration": 427,
    "start_time": "2023-01-08T16:10:56.809Z"
   },
   {
    "duration": 58,
    "start_time": "2023-01-08T16:10:57.241Z"
   },
   {
    "duration": 148,
    "start_time": "2023-01-08T16:10:57.312Z"
   },
   {
    "duration": 130,
    "start_time": "2023-01-08T16:10:57.462Z"
   },
   {
    "duration": 90,
    "start_time": "2023-01-08T16:10:57.594Z"
   },
   {
    "duration": 211,
    "start_time": "2023-01-08T16:10:57.686Z"
   },
   {
    "duration": 139,
    "start_time": "2023-01-08T16:10:57.899Z"
   },
   {
    "duration": 1062,
    "start_time": "2023-01-08T16:10:58.040Z"
   },
   {
    "duration": 5,
    "start_time": "2023-01-08T16:11:30.348Z"
   },
   {
    "duration": 9,
    "start_time": "2023-01-08T16:11:30.355Z"
   },
   {
    "duration": 1291,
    "start_time": "2023-01-08T16:11:30.366Z"
   },
   {
    "duration": 141,
    "start_time": "2023-01-08T16:11:31.662Z"
   },
   {
    "duration": 219,
    "start_time": "2023-01-08T16:11:31.812Z"
   },
   {
    "duration": 14,
    "start_time": "2023-01-08T16:11:32.033Z"
   },
   {
    "duration": 1091,
    "start_time": "2023-01-08T16:11:32.049Z"
   },
   {
    "duration": 141,
    "start_time": "2023-01-08T16:11:33.142Z"
   },
   {
    "duration": 343,
    "start_time": "2023-01-08T16:11:33.285Z"
   },
   {
    "duration": 142,
    "start_time": "2023-01-08T16:11:33.629Z"
   },
   {
    "duration": 3,
    "start_time": "2023-01-08T16:11:33.773Z"
   },
   {
    "duration": 54,
    "start_time": "2023-01-08T16:11:33.782Z"
   },
   {
    "duration": 57,
    "start_time": "2023-01-08T16:11:33.838Z"
   },
   {
    "duration": 4,
    "start_time": "2023-01-08T16:11:33.899Z"
   },
   {
    "duration": 65,
    "start_time": "2023-01-08T16:11:33.905Z"
   },
   {
    "duration": 31,
    "start_time": "2023-01-08T16:11:33.972Z"
   },
   {
    "duration": 40,
    "start_time": "2023-01-08T16:11:34.005Z"
   },
   {
    "duration": 38,
    "start_time": "2023-01-08T16:11:34.047Z"
   },
   {
    "duration": 33,
    "start_time": "2023-01-08T16:11:34.087Z"
   },
   {
    "duration": 42,
    "start_time": "2023-01-08T16:11:34.126Z"
   },
   {
    "duration": 278,
    "start_time": "2023-01-08T16:11:34.170Z"
   },
   {
    "duration": 16,
    "start_time": "2023-01-08T16:11:34.449Z"
   },
   {
    "duration": 88,
    "start_time": "2023-01-08T16:11:34.467Z"
   },
   {
    "duration": 118,
    "start_time": "2023-01-08T16:11:34.557Z"
   },
   {
    "duration": 140,
    "start_time": "2023-01-08T16:11:34.676Z"
   },
   {
    "duration": 60,
    "start_time": "2023-01-08T16:11:34.817Z"
   },
   {
    "duration": 37,
    "start_time": "2023-01-08T16:11:34.879Z"
   },
   {
    "duration": 42,
    "start_time": "2023-01-08T16:11:34.918Z"
   },
   {
    "duration": 530,
    "start_time": "2023-01-08T16:11:34.962Z"
   },
   {
    "duration": 554,
    "start_time": "2023-01-08T16:11:35.494Z"
   },
   {
    "duration": 556,
    "start_time": "2023-01-08T16:11:36.049Z"
   },
   {
    "duration": 25,
    "start_time": "2023-01-08T16:11:36.612Z"
   },
   {
    "duration": 433,
    "start_time": "2023-01-08T16:11:36.639Z"
   },
   {
    "duration": 61,
    "start_time": "2023-01-08T16:11:37.074Z"
   },
   {
    "duration": 21,
    "start_time": "2023-01-08T16:11:37.137Z"
   },
   {
    "duration": 95,
    "start_time": "2023-01-08T16:11:37.160Z"
   },
   {
    "duration": 15,
    "start_time": "2023-01-08T16:11:37.257Z"
   },
   {
    "duration": 23,
    "start_time": "2023-01-08T16:11:37.275Z"
   },
   {
    "duration": 333,
    "start_time": "2023-01-08T16:11:37.300Z"
   },
   {
    "duration": 560,
    "start_time": "2023-01-08T16:11:37.635Z"
   },
   {
    "duration": 59,
    "start_time": "2023-01-08T16:11:38.199Z"
   },
   {
    "duration": 189,
    "start_time": "2023-01-08T16:11:38.260Z"
   },
   {
    "duration": 212,
    "start_time": "2023-01-08T16:11:38.451Z"
   },
   {
    "duration": 84,
    "start_time": "2023-01-08T16:11:38.666Z"
   },
   {
    "duration": 327,
    "start_time": "2023-01-08T16:11:38.753Z"
   },
   {
    "duration": 89,
    "start_time": "2023-01-08T16:11:39.082Z"
   },
   {
    "duration": 1560,
    "start_time": "2023-01-08T16:54:46.355Z"
   },
   {
    "duration": 3,
    "start_time": "2023-01-08T16:54:47.917Z"
   },
   {
    "duration": 1446,
    "start_time": "2023-01-08T16:54:47.922Z"
   },
   {
    "duration": 162,
    "start_time": "2023-01-08T16:54:49.369Z"
   },
   {
    "duration": 102,
    "start_time": "2023-01-08T16:54:49.532Z"
   },
   {
    "duration": 12,
    "start_time": "2023-01-08T16:54:49.636Z"
   },
   {
    "duration": 999,
    "start_time": "2023-01-08T16:54:50.510Z"
   },
   {
    "duration": 117,
    "start_time": "2023-01-08T16:54:53.111Z"
   },
   {
    "duration": 301,
    "start_time": "2023-01-08T16:54:53.360Z"
   },
   {
    "duration": 157,
    "start_time": "2023-01-08T16:54:55.571Z"
   },
   {
    "duration": 3,
    "start_time": "2023-01-08T16:54:57.560Z"
   },
   {
    "duration": 12,
    "start_time": "2023-01-08T16:54:57.809Z"
   },
   {
    "duration": 60,
    "start_time": "2023-01-08T16:54:58.054Z"
   },
   {
    "duration": 3,
    "start_time": "2023-01-08T16:54:59.318Z"
   },
   {
    "duration": 31,
    "start_time": "2023-01-08T16:55:01.164Z"
   },
   {
    "duration": 20,
    "start_time": "2023-01-08T16:55:01.367Z"
   },
   {
    "duration": 37,
    "start_time": "2023-01-08T16:55:01.586Z"
   },
   {
    "duration": 32,
    "start_time": "2023-01-08T16:55:03.417Z"
   },
   {
    "duration": 21,
    "start_time": "2023-01-08T16:55:04.577Z"
   },
   {
    "duration": 26,
    "start_time": "2023-01-08T16:55:05.241Z"
   },
   {
    "duration": 202,
    "start_time": "2023-01-08T16:55:05.430Z"
   },
   {
    "duration": 20,
    "start_time": "2023-01-08T16:55:06.755Z"
   },
   {
    "duration": 88,
    "start_time": "2023-01-08T16:55:08.334Z"
   },
   {
    "duration": 110,
    "start_time": "2023-01-08T16:55:08.983Z"
   },
   {
    "duration": 101,
    "start_time": "2023-01-08T16:55:09.216Z"
   },
   {
    "duration": 18,
    "start_time": "2023-01-08T16:55:11.523Z"
   },
   {
    "duration": 14,
    "start_time": "2023-01-08T16:55:13.004Z"
   },
   {
    "duration": 14,
    "start_time": "2023-01-08T16:55:13.230Z"
   },
   {
    "duration": 415,
    "start_time": "2023-01-08T16:55:13.438Z"
   },
   {
    "duration": 458,
    "start_time": "2023-01-08T16:55:15.652Z"
   },
   {
    "duration": 442,
    "start_time": "2023-01-08T16:55:16.112Z"
   },
   {
    "duration": 16,
    "start_time": "2023-01-08T16:55:18.541Z"
   },
   {
    "duration": 377,
    "start_time": "2023-01-08T16:55:18.776Z"
   },
   {
    "duration": 5,
    "start_time": "2023-01-08T16:55:46.224Z"
   },
   {
    "duration": 5,
    "start_time": "2023-01-08T16:57:13.338Z"
   },
   {
    "duration": 142,
    "start_time": "2023-01-08T16:57:16.992Z"
   },
   {
    "duration": 237,
    "start_time": "2023-01-08T16:57:34.366Z"
   },
   {
    "duration": 118,
    "start_time": "2023-01-08T16:57:37.957Z"
   },
   {
    "duration": 5,
    "start_time": "2023-01-08T16:58:10.881Z"
   },
   {
    "duration": 5,
    "start_time": "2023-01-08T16:58:30.180Z"
   },
   {
    "duration": 107,
    "start_time": "2023-01-08T17:59:37.964Z"
   },
   {
    "duration": 4,
    "start_time": "2023-01-08T18:01:29.808Z"
   },
   {
    "duration": 3,
    "start_time": "2023-01-08T18:01:30.502Z"
   },
   {
    "duration": 1518,
    "start_time": "2023-01-08T18:01:30.786Z"
   },
   {
    "duration": 131,
    "start_time": "2023-01-08T18:01:32.306Z"
   },
   {
    "duration": 95,
    "start_time": "2023-01-08T18:01:32.439Z"
   },
   {
    "duration": 14,
    "start_time": "2023-01-08T18:01:32.536Z"
   },
   {
    "duration": 973,
    "start_time": "2023-01-08T18:01:32.551Z"
   },
   {
    "duration": 124,
    "start_time": "2023-01-08T18:01:33.525Z"
   },
   {
    "duration": 308,
    "start_time": "2023-01-08T18:01:33.829Z"
   },
   {
    "duration": 142,
    "start_time": "2023-01-08T18:01:34.139Z"
   },
   {
    "duration": 3,
    "start_time": "2023-01-08T18:01:34.747Z"
   },
   {
    "duration": 13,
    "start_time": "2023-01-08T18:01:35.028Z"
   },
   {
    "duration": 38,
    "start_time": "2023-01-08T18:01:35.357Z"
   },
   {
    "duration": 4,
    "start_time": "2023-01-08T18:01:35.658Z"
   },
   {
    "duration": 31,
    "start_time": "2023-01-08T18:01:36.509Z"
   },
   {
    "duration": 22,
    "start_time": "2023-01-08T18:01:42.762Z"
   },
   {
    "duration": 30,
    "start_time": "2023-01-08T18:01:43.055Z"
   },
   {
    "duration": 31,
    "start_time": "2023-01-08T18:01:44.712Z"
   },
   {
    "duration": 19,
    "start_time": "2023-01-08T18:01:44.955Z"
   },
   {
    "duration": 20,
    "start_time": "2023-01-08T18:01:46.453Z"
   },
   {
    "duration": 200,
    "start_time": "2023-01-08T18:01:46.659Z"
   },
   {
    "duration": 19,
    "start_time": "2023-01-08T18:01:47.923Z"
   },
   {
    "duration": 85,
    "start_time": "2023-01-08T18:01:49.561Z"
   },
   {
    "duration": 120,
    "start_time": "2023-01-08T18:01:50.207Z"
   },
   {
    "duration": 116,
    "start_time": "2023-01-08T18:01:51.798Z"
   },
   {
    "duration": 16,
    "start_time": "2023-01-08T18:01:53.414Z"
   },
   {
    "duration": 13,
    "start_time": "2023-01-08T18:01:53.620Z"
   },
   {
    "duration": 15,
    "start_time": "2023-01-08T18:01:53.854Z"
   },
   {
    "duration": 452,
    "start_time": "2023-01-08T18:01:54.908Z"
   },
   {
    "duration": 476,
    "start_time": "2023-01-08T18:01:55.363Z"
   },
   {
    "duration": 567,
    "start_time": "2023-01-08T18:01:56.329Z"
   },
   {
    "duration": 16,
    "start_time": "2023-01-08T18:01:57.052Z"
   },
   {
    "duration": 369,
    "start_time": "2023-01-08T18:01:57.293Z"
   },
   {
    "duration": 6,
    "start_time": "2023-01-08T18:02:02.229Z"
   },
   {
    "duration": 131,
    "start_time": "2023-01-08T18:02:02.450Z"
   },
   {
    "duration": 34,
    "start_time": "2023-01-08T18:02:04.982Z"
   },
   {
    "duration": 6,
    "start_time": "2023-01-08T18:02:06.002Z"
   },
   {
    "duration": 5,
    "start_time": "2023-01-08T18:02:07.041Z"
   },
   {
    "duration": 18,
    "start_time": "2023-01-08T18:02:09.792Z"
   },
   {
    "duration": 52,
    "start_time": "2023-01-08T18:02:10.661Z"
   },
   {
    "duration": 11,
    "start_time": "2023-01-08T18:02:11.929Z"
   },
   {
    "duration": 3,
    "start_time": "2023-01-08T18:02:12.770Z"
   },
   {
    "duration": 184,
    "start_time": "2023-01-08T18:02:14.810Z"
   },
   {
    "duration": 449,
    "start_time": "2023-01-08T18:02:19.392Z"
   },
   {
    "duration": 82,
    "start_time": "2023-01-08T18:02:22.539Z"
   },
   {
    "duration": 137,
    "start_time": "2023-01-08T18:02:25.901Z"
   },
   {
    "duration": 125,
    "start_time": "2023-01-08T18:02:26.177Z"
   },
   {
    "duration": 58,
    "start_time": "2023-01-08T18:02:28.054Z"
   },
   {
    "duration": 195,
    "start_time": "2023-01-08T18:02:28.367Z"
   },
   {
    "duration": 3,
    "start_time": "2023-01-08T18:03:28.690Z"
   },
   {
    "duration": 40,
    "start_time": "2023-01-08T18:03:42.437Z"
   },
   {
    "duration": 74,
    "start_time": "2023-01-08T18:03:42.687Z"
   },
   {
    "duration": 3,
    "start_time": "2023-01-08T18:03:46.467Z"
   },
   {
    "duration": 21,
    "start_time": "2023-01-08T18:03:47.337Z"
   },
   {
    "duration": 4,
    "start_time": "2023-01-08T18:04:09.271Z"
   },
   {
    "duration": 429,
    "start_time": "2023-01-08T18:04:23.459Z"
   },
   {
    "duration": 518,
    "start_time": "2023-01-08T18:05:17.037Z"
   },
   {
    "duration": 1764,
    "start_time": "2023-01-08T18:06:44.177Z"
   },
   {
    "duration": 1311,
    "start_time": "2023-01-08T18:07:29.383Z"
   },
   {
    "duration": 1763,
    "start_time": "2023-01-08T18:21:28.860Z"
   },
   {
    "duration": 89,
    "start_time": "2023-01-08T18:48:53.370Z"
   },
   {
    "duration": 3,
    "start_time": "2023-01-08T18:48:55.870Z"
   },
   {
    "duration": 1616,
    "start_time": "2023-01-08T18:48:58.473Z"
   },
   {
    "duration": 1591,
    "start_time": "2023-01-08T18:50:13.337Z"
   },
   {
    "duration": 1547,
    "start_time": "2023-01-08T18:50:27.006Z"
   },
   {
    "duration": 9,
    "start_time": "2023-01-08T18:51:27.783Z"
   },
   {
    "duration": 57,
    "start_time": "2023-01-08T18:51:43.211Z"
   },
   {
    "duration": 57,
    "start_time": "2023-01-08T18:51:53.932Z"
   },
   {
    "duration": 168,
    "start_time": "2023-01-08T18:51:54.216Z"
   },
   {
    "duration": 59,
    "start_time": "2023-01-08T18:51:56.427Z"
   },
   {
    "duration": 101,
    "start_time": "2023-01-08T18:52:12.159Z"
   },
   {
    "duration": 1615,
    "start_time": "2023-01-08T18:52:29.980Z"
   },
   {
    "duration": 1489,
    "start_time": "2023-01-08T18:52:36.388Z"
   },
   {
    "duration": 3,
    "start_time": "2023-01-08T18:53:11.440Z"
   },
   {
    "duration": 2,
    "start_time": "2023-01-08T18:53:11.926Z"
   },
   {
    "duration": 32,
    "start_time": "2023-01-08T18:53:39.653Z"
   },
   {
    "duration": 8,
    "start_time": "2023-01-08T18:53:44.060Z"
   },
   {
    "duration": 39,
    "start_time": "2023-01-08T18:53:44.894Z"
   },
   {
    "duration": 758,
    "start_time": "2023-01-08T18:53:47.567Z"
   },
   {
    "duration": 107,
    "start_time": "2023-01-08T18:54:42.480Z"
   },
   {
    "duration": 99,
    "start_time": "2023-01-08T18:54:42.795Z"
   },
   {
    "duration": 8,
    "start_time": "2023-01-08T18:54:49.171Z"
   },
   {
    "duration": 24,
    "start_time": "2023-01-08T18:56:19.673Z"
   },
   {
    "duration": 101,
    "start_time": "2023-01-08T18:56:26.557Z"
   },
   {
    "duration": 95,
    "start_time": "2023-01-08T18:56:26.799Z"
   },
   {
    "duration": 3,
    "start_time": "2023-01-08T18:56:27.251Z"
   },
   {
    "duration": 3,
    "start_time": "2023-01-08T18:56:27.477Z"
   },
   {
    "duration": 2,
    "start_time": "2023-01-08T18:56:27.924Z"
   },
   {
    "duration": 25,
    "start_time": "2023-01-08T18:56:28.683Z"
   },
   {
    "duration": 1341,
    "start_time": "2023-01-08T18:56:49.031Z"
   },
   {
    "duration": 3,
    "start_time": "2023-01-08T18:56:50.373Z"
   },
   {
    "duration": 1310,
    "start_time": "2023-01-08T18:56:50.378Z"
   },
   {
    "duration": 125,
    "start_time": "2023-01-08T18:56:51.690Z"
   },
   {
    "duration": 88,
    "start_time": "2023-01-08T18:56:51.821Z"
   },
   {
    "duration": 19,
    "start_time": "2023-01-08T18:56:51.910Z"
   },
   {
    "duration": 1002,
    "start_time": "2023-01-08T18:56:51.931Z"
   },
   {
    "duration": 121,
    "start_time": "2023-01-08T18:56:52.935Z"
   },
   {
    "duration": 319,
    "start_time": "2023-01-08T18:56:53.057Z"
   },
   {
    "duration": 162,
    "start_time": "2023-01-08T18:56:53.378Z"
   },
   {
    "duration": 4,
    "start_time": "2023-01-08T18:56:53.600Z"
   },
   {
    "duration": 14,
    "start_time": "2023-01-08T18:56:53.877Z"
   },
   {
    "duration": 56,
    "start_time": "2023-01-08T18:56:54.148Z"
   },
   {
    "duration": 4,
    "start_time": "2023-01-08T18:56:54.421Z"
   },
   {
    "duration": 30,
    "start_time": "2023-01-08T18:56:55.228Z"
   },
   {
    "duration": 28,
    "start_time": "2023-01-08T18:56:55.488Z"
   },
   {
    "duration": 31,
    "start_time": "2023-01-08T18:56:55.756Z"
   },
   {
    "duration": 31,
    "start_time": "2023-01-08T18:56:56.548Z"
   },
   {
    "duration": 19,
    "start_time": "2023-01-08T18:56:56.808Z"
   },
   {
    "duration": 21,
    "start_time": "2023-01-08T18:56:57.642Z"
   },
   {
    "duration": 193,
    "start_time": "2023-01-08T18:56:57.930Z"
   },
   {
    "duration": 18,
    "start_time": "2023-01-08T18:56:58.191Z"
   },
   {
    "duration": 83,
    "start_time": "2023-01-08T18:56:59.064Z"
   },
   {
    "duration": 111,
    "start_time": "2023-01-08T18:56:59.901Z"
   },
   {
    "duration": 104,
    "start_time": "2023-01-08T18:57:00.151Z"
   },
   {
    "duration": 17,
    "start_time": "2023-01-08T18:57:00.953Z"
   },
   {
    "duration": 13,
    "start_time": "2023-01-08T18:57:01.243Z"
   },
   {
    "duration": 17,
    "start_time": "2023-01-08T18:57:01.540Z"
   },
   {
    "duration": 452,
    "start_time": "2023-01-08T18:57:01.815Z"
   },
   {
    "duration": 471,
    "start_time": "2023-01-08T18:57:02.269Z"
   },
   {
    "duration": 457,
    "start_time": "2023-01-08T18:57:02.743Z"
   },
   {
    "duration": 22,
    "start_time": "2023-01-08T18:57:03.202Z"
   },
   {
    "duration": 361,
    "start_time": "2023-01-08T18:57:03.226Z"
   },
   {
    "duration": 5,
    "start_time": "2023-01-08T18:57:04.761Z"
   },
   {
    "duration": 183,
    "start_time": "2023-01-08T18:57:05.219Z"
   },
   {
    "duration": 36,
    "start_time": "2023-01-08T18:57:05.639Z"
   },
   {
    "duration": 5,
    "start_time": "2023-01-08T18:57:06.940Z"
   },
   {
    "duration": 5,
    "start_time": "2023-01-08T18:57:07.514Z"
   },
   {
    "duration": 24,
    "start_time": "2023-01-08T18:57:08.292Z"
   },
   {
    "duration": 52,
    "start_time": "2023-01-08T18:57:09.060Z"
   },
   {
    "duration": 10,
    "start_time": "2023-01-08T18:57:09.451Z"
   },
   {
    "duration": 2,
    "start_time": "2023-01-08T18:57:09.866Z"
   },
   {
    "duration": 187,
    "start_time": "2023-01-08T18:57:10.659Z"
   },
   {
    "duration": 381,
    "start_time": "2023-01-08T18:57:12.787Z"
   },
   {
    "duration": 52,
    "start_time": "2023-01-08T18:57:14.592Z"
   },
   {
    "duration": 119,
    "start_time": "2023-01-08T18:57:18.346Z"
   },
   {
    "duration": 122,
    "start_time": "2023-01-08T18:57:18.730Z"
   },
   {
    "duration": 17,
    "start_time": "2023-01-08T18:57:21.831Z"
   },
   {
    "duration": 93,
    "start_time": "2023-01-08T18:57:35.401Z"
   },
   {
    "duration": 5,
    "start_time": "2023-01-08T18:57:46.236Z"
   },
   {
    "duration": 178,
    "start_time": "2023-01-08T18:57:46.499Z"
   },
   {
    "duration": 860,
    "start_time": "2023-01-08T18:57:48.172Z"
   },
   {
    "duration": 3,
    "start_time": "2023-01-08T18:58:39.115Z"
   },
   {
    "duration": 4359,
    "start_time": "2023-01-08T18:58:57.571Z"
   },
   {
    "duration": 293,
    "start_time": "2023-01-08T19:01:57.464Z"
   },
   {
    "duration": 399,
    "start_time": "2023-01-08T19:02:18.912Z"
   },
   {
    "duration": 102,
    "start_time": "2023-01-08T19:02:36.628Z"
   },
   {
    "duration": 3141,
    "start_time": "2023-01-08T19:04:12.592Z"
   },
   {
    "duration": 115,
    "start_time": "2023-01-08T19:06:33.152Z"
   },
   {
    "duration": 33,
    "start_time": "2023-01-08T19:06:54.401Z"
   },
   {
    "duration": 420,
    "start_time": "2023-01-08T19:07:45.382Z"
   },
   {
    "duration": 1267,
    "start_time": "2023-01-08T19:08:03.369Z"
   },
   {
    "duration": 4079,
    "start_time": "2023-01-08T19:08:24.924Z"
   },
   {
    "duration": 75,
    "start_time": "2023-01-08T19:09:20.499Z"
   },
   {
    "duration": 73,
    "start_time": "2023-01-08T19:09:34.150Z"
   },
   {
    "duration": 3,
    "start_time": "2023-01-08T19:09:47.841Z"
   },
   {
    "duration": 4156,
    "start_time": "2023-01-08T19:09:49.013Z"
   },
   {
    "duration": 363,
    "start_time": "2023-01-08T19:09:55.490Z"
   },
   {
    "duration": 167,
    "start_time": "2023-01-08T19:09:55.855Z"
   },
   {
    "duration": 3159,
    "start_time": "2023-01-08T19:10:00.883Z"
   },
   {
    "duration": 86,
    "start_time": "2023-01-08T19:10:06.727Z"
   },
   {
    "duration": 226,
    "start_time": "2023-01-08T19:11:02.768Z"
   },
   {
    "duration": 442,
    "start_time": "2023-01-08T19:13:19.855Z"
   },
   {
    "duration": 1326,
    "start_time": "2023-01-08T19:13:33.918Z"
   },
   {
    "duration": 2089,
    "start_time": "2023-01-08T19:13:47.857Z"
   },
   {
    "duration": 3,
    "start_time": "2023-01-08T19:14:50.451Z"
   },
   {
    "duration": 410,
    "start_time": "2023-01-08T19:14:50.780Z"
   },
   {
    "duration": 1444,
    "start_time": "2023-01-08T19:15:15.414Z"
   },
   {
    "duration": 4,
    "start_time": "2023-01-08T19:15:16.860Z"
   },
   {
    "duration": 1170,
    "start_time": "2023-01-08T19:15:16.866Z"
   },
   {
    "duration": 146,
    "start_time": "2023-01-08T19:15:18.038Z"
   },
   {
    "duration": 100,
    "start_time": "2023-01-08T19:15:18.186Z"
   },
   {
    "duration": 15,
    "start_time": "2023-01-08T19:15:18.287Z"
   },
   {
    "duration": 1147,
    "start_time": "2023-01-08T19:15:18.303Z"
   },
   {
    "duration": 232,
    "start_time": "2023-01-08T19:15:19.453Z"
   },
   {
    "duration": 524,
    "start_time": "2023-01-08T19:15:19.686Z"
   },
   {
    "duration": 209,
    "start_time": "2023-01-08T19:15:20.213Z"
   },
   {
    "duration": 4,
    "start_time": "2023-01-08T19:15:20.424Z"
   },
   {
    "duration": 48,
    "start_time": "2023-01-08T19:15:20.430Z"
   },
   {
    "duration": 68,
    "start_time": "2023-01-08T19:15:20.689Z"
   },
   {
    "duration": 4,
    "start_time": "2023-01-08T19:15:20.983Z"
   },
   {
    "duration": 66,
    "start_time": "2023-01-08T19:15:22.877Z"
   },
   {
    "duration": 23,
    "start_time": "2023-01-08T19:15:23.142Z"
   },
   {
    "duration": 59,
    "start_time": "2023-01-08T19:15:23.411Z"
   },
   {
    "duration": 54,
    "start_time": "2023-01-08T19:15:24.910Z"
   },
   {
    "duration": 19,
    "start_time": "2023-01-08T19:15:25.900Z"
   },
   {
    "duration": 21,
    "start_time": "2023-01-08T19:15:26.489Z"
   },
   {
    "duration": 288,
    "start_time": "2023-01-08T19:15:26.715Z"
   },
   {
    "duration": 24,
    "start_time": "2023-01-08T19:15:27.005Z"
   },
   {
    "duration": 125,
    "start_time": "2023-01-08T19:15:28.706Z"
   },
   {
    "duration": 123,
    "start_time": "2023-01-08T19:15:29.437Z"
   },
   {
    "duration": 162,
    "start_time": "2023-01-08T19:15:30.551Z"
   },
   {
    "duration": 17,
    "start_time": "2023-01-08T19:15:32.055Z"
   },
   {
    "duration": 15,
    "start_time": "2023-01-08T19:15:33.066Z"
   },
   {
    "duration": 15,
    "start_time": "2023-01-08T19:15:33.325Z"
   },
   {
    "duration": 455,
    "start_time": "2023-01-08T19:15:33.456Z"
   },
   {
    "duration": 567,
    "start_time": "2023-01-08T19:15:35.351Z"
   },
   {
    "duration": 478,
    "start_time": "2023-01-08T19:15:36.360Z"
   },
   {
    "duration": 16,
    "start_time": "2023-01-08T19:15:36.840Z"
   },
   {
    "duration": 389,
    "start_time": "2023-01-08T19:15:36.858Z"
   },
   {
    "duration": 6,
    "start_time": "2023-01-08T19:15:40.469Z"
   },
   {
    "duration": 122,
    "start_time": "2023-01-08T19:15:40.692Z"
   },
   {
    "duration": 47,
    "start_time": "2023-01-08T19:15:41.741Z"
   },
   {
    "duration": 6,
    "start_time": "2023-01-08T19:15:43.697Z"
   },
   {
    "duration": 6,
    "start_time": "2023-01-08T19:15:43.948Z"
   },
   {
    "duration": 28,
    "start_time": "2023-01-08T19:15:44.370Z"
   },
   {
    "duration": 52,
    "start_time": "2023-01-08T19:15:44.732Z"
   },
   {
    "duration": 10,
    "start_time": "2023-01-08T19:15:44.952Z"
   },
   {
    "duration": 3,
    "start_time": "2023-01-08T19:15:45.164Z"
   },
   {
    "duration": 208,
    "start_time": "2023-01-08T19:15:46.452Z"
   },
   {
    "duration": 404,
    "start_time": "2023-01-08T19:15:47.876Z"
   },
   {
    "duration": 65,
    "start_time": "2023-01-08T19:15:48.544Z"
   },
   {
    "duration": 144,
    "start_time": "2023-01-08T19:15:50.600Z"
   },
   {
    "duration": 126,
    "start_time": "2023-01-08T19:15:50.829Z"
   },
   {
    "duration": 154,
    "start_time": "2023-01-08T19:17:18.847Z"
   },
   {
    "duration": 50,
    "start_time": "2023-01-08T19:17:27.216Z"
   },
   {
    "duration": 127,
    "start_time": "2023-01-08T19:17:41.672Z"
   },
   {
    "duration": 87,
    "start_time": "2023-01-08T19:17:43.830Z"
   },
   {
    "duration": 3,
    "start_time": "2023-01-08T19:17:44.558Z"
   },
   {
    "duration": 3,
    "start_time": "2023-01-08T19:17:45.859Z"
   },
   {
    "duration": 6,
    "start_time": "2023-01-08T19:17:46.523Z"
   },
   {
    "duration": 34,
    "start_time": "2023-01-08T19:17:46.851Z"
   },
   {
    "duration": 3,
    "start_time": "2023-01-08T19:17:48.332Z"
   },
   {
    "duration": 423,
    "start_time": "2023-01-08T19:17:48.646Z"
   },
   {
    "duration": 2282,
    "start_time": "2023-01-08T19:17:50.670Z"
   },
   {
    "duration": 407,
    "start_time": "2023-01-08T19:17:55.475Z"
   },
   {
    "duration": 214,
    "start_time": "2023-01-08T19:17:57.307Z"
   },
   {
    "duration": 1657,
    "start_time": "2023-01-08T19:22:15.017Z"
   },
   {
    "duration": 3,
    "start_time": "2023-01-08T19:22:16.676Z"
   },
   {
    "duration": 1236,
    "start_time": "2023-01-08T19:22:16.681Z"
   },
   {
    "duration": 134,
    "start_time": "2023-01-08T19:22:17.919Z"
   },
   {
    "duration": 116,
    "start_time": "2023-01-08T19:22:18.055Z"
   },
   {
    "duration": 14,
    "start_time": "2023-01-08T19:22:18.172Z"
   },
   {
    "duration": 1166,
    "start_time": "2023-01-08T19:22:18.187Z"
   },
   {
    "duration": 121,
    "start_time": "2023-01-08T19:22:19.356Z"
   },
   {
    "duration": 346,
    "start_time": "2023-01-08T19:22:19.479Z"
   },
   {
    "duration": 214,
    "start_time": "2023-01-08T19:22:19.827Z"
   },
   {
    "duration": 3,
    "start_time": "2023-01-08T19:22:20.044Z"
   },
   {
    "duration": 26,
    "start_time": "2023-01-08T19:22:20.050Z"
   },
   {
    "duration": 76,
    "start_time": "2023-01-08T19:22:20.078Z"
   },
   {
    "duration": 8,
    "start_time": "2023-01-08T19:22:20.156Z"
   },
   {
    "duration": 44,
    "start_time": "2023-01-08T19:22:20.643Z"
   },
   {
    "duration": 32,
    "start_time": "2023-01-08T19:22:20.859Z"
   },
   {
    "duration": 49,
    "start_time": "2023-01-08T19:22:21.091Z"
   },
   {
    "duration": 53,
    "start_time": "2023-01-08T19:22:21.779Z"
   },
   {
    "duration": 19,
    "start_time": "2023-01-08T19:22:21.996Z"
   },
   {
    "duration": 26,
    "start_time": "2023-01-08T19:22:22.659Z"
   },
   {
    "duration": 301,
    "start_time": "2023-01-08T19:22:22.896Z"
   },
   {
    "duration": 27,
    "start_time": "2023-01-08T19:22:23.199Z"
   },
   {
    "duration": 124,
    "start_time": "2023-01-08T19:22:23.834Z"
   },
   {
    "duration": 138,
    "start_time": "2023-01-08T19:22:24.493Z"
   },
   {
    "duration": 109,
    "start_time": "2023-01-08T19:22:24.738Z"
   },
   {
    "duration": 20,
    "start_time": "2023-01-08T19:22:25.652Z"
   },
   {
    "duration": 17,
    "start_time": "2023-01-08T19:22:25.943Z"
   },
   {
    "duration": 20,
    "start_time": "2023-01-08T19:22:26.211Z"
   },
   {
    "duration": 610,
    "start_time": "2023-01-08T19:22:26.496Z"
   },
   {
    "duration": 571,
    "start_time": "2023-01-08T19:22:27.108Z"
   },
   {
    "duration": 490,
    "start_time": "2023-01-08T19:22:27.681Z"
   },
   {
    "duration": 17,
    "start_time": "2023-01-08T19:22:28.173Z"
   },
   {
    "duration": 407,
    "start_time": "2023-01-08T19:22:28.192Z"
   },
   {
    "duration": 6,
    "start_time": "2023-01-08T19:22:28.747Z"
   },
   {
    "duration": 137,
    "start_time": "2023-01-08T19:22:29.071Z"
   },
   {
    "duration": 47,
    "start_time": "2023-01-08T19:22:29.330Z"
   },
   {
    "duration": 7,
    "start_time": "2023-01-08T19:22:30.218Z"
   },
   {
    "duration": 6,
    "start_time": "2023-01-08T19:22:30.480Z"
   },
   {
    "duration": 28,
    "start_time": "2023-01-08T19:22:31.087Z"
   },
   {
    "duration": 94,
    "start_time": "2023-01-08T19:22:31.665Z"
   },
   {
    "duration": 19,
    "start_time": "2023-01-08T19:22:31.956Z"
   },
   {
    "duration": 3,
    "start_time": "2023-01-08T19:22:32.251Z"
   },
   {
    "duration": 253,
    "start_time": "2023-01-08T19:22:32.816Z"
   },
   {
    "duration": 456,
    "start_time": "2023-01-08T19:22:33.665Z"
   },
   {
    "duration": 92,
    "start_time": "2023-01-08T19:22:34.508Z"
   },
   {
    "duration": 229,
    "start_time": "2023-01-08T19:22:35.874Z"
   },
   {
    "duration": 175,
    "start_time": "2023-01-08T19:22:36.153Z"
   },
   {
    "duration": 4,
    "start_time": "2023-01-08T19:22:36.667Z"
   },
   {
    "duration": 3,
    "start_time": "2023-01-08T19:22:36.948Z"
   },
   {
    "duration": 3,
    "start_time": "2023-01-08T19:22:37.493Z"
   },
   {
    "duration": 25,
    "start_time": "2023-01-08T19:22:38.299Z"
   },
   {
    "duration": 100,
    "start_time": "2023-01-08T19:22:38.812Z"
   },
   {
    "duration": 3,
    "start_time": "2023-01-08T19:22:39.339Z"
   },
   {
    "duration": 3,
    "start_time": "2023-01-08T19:22:39.794Z"
   },
   {
    "duration": 7,
    "start_time": "2023-01-08T19:22:40.333Z"
   },
   {
    "duration": 152,
    "start_time": "2023-01-08T19:22:40.587Z"
   },
   {
    "duration": 3,
    "start_time": "2023-01-08T19:22:41.077Z"
   },
   {
    "duration": 459,
    "start_time": "2023-01-08T19:22:41.343Z"
   },
   {
    "duration": 2236,
    "start_time": "2023-01-08T19:22:42.388Z"
   },
   {
    "duration": 99,
    "start_time": "2023-01-08T19:22:46.637Z"
   },
   {
    "duration": 335013,
    "start_time": "2023-01-08T19:22:49.519Z"
   },
   {
    "duration": 259,
    "start_time": "2023-01-08T19:30:02.015Z"
   },
   {
    "duration": 115324,
    "start_time": "2023-01-08T19:30:10.232Z"
   },
   {
    "duration": 4,
    "start_time": "2023-01-08T19:33:34.038Z"
   },
   {
    "duration": 7698,
    "start_time": "2023-01-08T19:33:41.093Z"
   },
   {
    "duration": 3258,
    "start_time": "2023-01-10T18:56:03.908Z"
   },
   {
    "duration": 3,
    "start_time": "2023-01-10T18:56:07.168Z"
   },
   {
    "duration": 1697,
    "start_time": "2023-01-10T18:56:07.173Z"
   },
   {
    "duration": 119,
    "start_time": "2023-01-10T18:56:08.871Z"
   },
   {
    "duration": 101,
    "start_time": "2023-01-10T18:56:08.993Z"
   },
   {
    "duration": 12,
    "start_time": "2023-01-10T18:56:09.096Z"
   },
   {
    "duration": 1032,
    "start_time": "2023-01-10T18:56:09.110Z"
   },
   {
    "duration": 104,
    "start_time": "2023-01-10T18:56:10.144Z"
   },
   {
    "duration": 315,
    "start_time": "2023-01-10T18:56:10.251Z"
   },
   {
    "duration": 145,
    "start_time": "2023-01-10T18:56:10.568Z"
   },
   {
    "duration": 3,
    "start_time": "2023-01-10T18:56:10.715Z"
   },
   {
    "duration": 17,
    "start_time": "2023-01-10T18:56:10.720Z"
   },
   {
    "duration": 59,
    "start_time": "2023-01-10T18:56:10.753Z"
   },
   {
    "duration": 3,
    "start_time": "2023-01-10T18:56:10.816Z"
   },
   {
    "duration": 45,
    "start_time": "2023-01-10T18:56:10.821Z"
   },
   {
    "duration": 23,
    "start_time": "2023-01-10T18:56:10.867Z"
   },
   {
    "duration": 28,
    "start_time": "2023-01-10T18:56:10.892Z"
   },
   {
    "duration": 46,
    "start_time": "2023-01-10T18:56:10.922Z"
   },
   {
    "duration": 20,
    "start_time": "2023-01-10T18:56:10.970Z"
   },
   {
    "duration": 20,
    "start_time": "2023-01-10T18:56:10.991Z"
   },
   {
    "duration": 210,
    "start_time": "2023-01-10T18:56:11.013Z"
   },
   {
    "duration": 29,
    "start_time": "2023-01-10T18:56:11.224Z"
   },
   {
    "duration": 76,
    "start_time": "2023-01-10T18:56:11.255Z"
   },
   {
    "duration": 100,
    "start_time": "2023-01-10T18:56:11.333Z"
   },
   {
    "duration": 95,
    "start_time": "2023-01-10T18:56:11.435Z"
   },
   {
    "duration": 33,
    "start_time": "2023-01-10T18:56:11.531Z"
   },
   {
    "duration": 16,
    "start_time": "2023-01-10T18:56:11.565Z"
   },
   {
    "duration": 15,
    "start_time": "2023-01-10T18:56:11.582Z"
   },
   {
    "duration": 436,
    "start_time": "2023-01-10T18:56:11.599Z"
   },
   {
    "duration": 472,
    "start_time": "2023-01-10T18:56:12.037Z"
   },
   {
    "duration": 465,
    "start_time": "2023-01-10T18:56:12.511Z"
   },
   {
    "duration": 18,
    "start_time": "2023-01-10T18:56:12.977Z"
   },
   {
    "duration": 345,
    "start_time": "2023-01-10T18:56:12.997Z"
   },
   {
    "duration": 9,
    "start_time": "2023-01-10T18:56:13.344Z"
   },
   {
    "duration": 134,
    "start_time": "2023-01-10T18:56:13.354Z"
   },
   {
    "duration": 36,
    "start_time": "2023-01-10T18:56:13.489Z"
   },
   {
    "duration": 6,
    "start_time": "2023-01-10T18:56:13.526Z"
   },
   {
    "duration": 20,
    "start_time": "2023-01-10T18:56:13.533Z"
   },
   {
    "duration": 29,
    "start_time": "2023-01-10T18:56:13.555Z"
   },
   {
    "duration": 56,
    "start_time": "2023-01-10T18:56:13.586Z"
   },
   {
    "duration": 11,
    "start_time": "2023-01-10T18:56:13.646Z"
   },
   {
    "duration": 7,
    "start_time": "2023-01-10T18:56:13.658Z"
   },
   {
    "duration": 199,
    "start_time": "2023-01-10T18:56:13.667Z"
   },
   {
    "duration": 350,
    "start_time": "2023-01-10T18:56:13.868Z"
   },
   {
    "duration": 52,
    "start_time": "2023-01-10T18:56:14.219Z"
   },
   {
    "duration": 150,
    "start_time": "2023-01-10T18:56:14.274Z"
   },
   {
    "duration": 124,
    "start_time": "2023-01-10T18:56:14.426Z"
   },
   {
    "duration": 38,
    "start_time": "2023-01-10T18:56:14.552Z"
   },
   {
    "duration": 57,
    "start_time": "2023-01-10T18:56:14.592Z"
   },
   {
    "duration": 34,
    "start_time": "2023-01-10T18:56:14.651Z"
   },
   {
    "duration": 27,
    "start_time": "2023-01-10T18:56:14.687Z"
   },
   {
    "duration": 110,
    "start_time": "2023-01-10T18:56:14.716Z"
   },
   {
    "duration": 6,
    "start_time": "2023-01-10T18:56:14.846Z"
   },
   {
    "duration": 34,
    "start_time": "2023-01-10T18:56:14.854Z"
   },
   {
    "duration": 27,
    "start_time": "2023-01-10T18:56:14.890Z"
   },
   {
    "duration": 168,
    "start_time": "2023-01-10T18:56:14.919Z"
   },
   {
    "duration": 16,
    "start_time": "2023-01-10T18:56:15.088Z"
   },
   {
    "duration": 551,
    "start_time": "2023-01-10T18:56:15.105Z"
   },
   {
    "duration": 2266,
    "start_time": "2023-01-10T18:56:15.658Z"
   },
   {
    "duration": 286,
    "start_time": "2023-01-10T18:56:17.926Z"
   },
   {
    "duration": 333,
    "start_time": "2023-01-10T18:56:18.214Z"
   },
   {
    "duration": 4,
    "start_time": "2023-01-10T18:56:18.548Z"
   },
   {
    "duration": 10503,
    "start_time": "2023-01-10T18:56:18.554Z"
   },
   {
    "duration": 24,
    "start_time": "2023-01-10T18:56:29.059Z"
   },
   {
    "duration": 8511,
    "start_time": "2023-01-10T18:56:45.246Z"
   },
   {
    "duration": 1964,
    "start_time": "2023-01-10T18:58:37.612Z"
   },
   {
    "duration": 3,
    "start_time": "2023-01-10T18:58:39.578Z"
   },
   {
    "duration": 1073,
    "start_time": "2023-01-10T18:58:39.582Z"
   },
   {
    "duration": 102,
    "start_time": "2023-01-10T18:58:40.657Z"
   },
   {
    "duration": 136,
    "start_time": "2023-01-10T18:58:40.760Z"
   },
   {
    "duration": 14,
    "start_time": "2023-01-10T18:58:40.897Z"
   },
   {
    "duration": 1019,
    "start_time": "2023-01-10T18:58:40.912Z"
   },
   {
    "duration": 96,
    "start_time": "2023-01-10T18:58:41.932Z"
   },
   {
    "duration": 296,
    "start_time": "2023-01-10T18:58:42.030Z"
   },
   {
    "duration": 170,
    "start_time": "2023-01-10T18:58:42.328Z"
   },
   {
    "duration": 4,
    "start_time": "2023-01-10T18:58:42.500Z"
   },
   {
    "duration": 22,
    "start_time": "2023-01-10T18:58:42.505Z"
   },
   {
    "duration": 82,
    "start_time": "2023-01-10T18:58:42.529Z"
   },
   {
    "duration": 3,
    "start_time": "2023-01-10T18:58:42.613Z"
   },
   {
    "duration": 43,
    "start_time": "2023-01-10T18:58:42.618Z"
   },
   {
    "duration": 22,
    "start_time": "2023-01-10T18:58:42.663Z"
   },
   {
    "duration": 35,
    "start_time": "2023-01-10T18:58:42.687Z"
   },
   {
    "duration": 46,
    "start_time": "2023-01-10T18:58:42.723Z"
   },
   {
    "duration": 44,
    "start_time": "2023-01-10T18:58:42.771Z"
   },
   {
    "duration": 35,
    "start_time": "2023-01-10T18:58:42.816Z"
   },
   {
    "duration": 209,
    "start_time": "2023-01-10T18:58:42.853Z"
   },
   {
    "duration": 20,
    "start_time": "2023-01-10T18:58:43.064Z"
   },
   {
    "duration": 87,
    "start_time": "2023-01-10T18:58:43.086Z"
   },
   {
    "duration": 97,
    "start_time": "2023-01-10T18:58:43.176Z"
   },
   {
    "duration": 91,
    "start_time": "2023-01-10T18:58:43.275Z"
   },
   {
    "duration": 16,
    "start_time": "2023-01-10T18:58:43.368Z"
   },
   {
    "duration": 15,
    "start_time": "2023-01-10T18:58:43.385Z"
   },
   {
    "duration": 15,
    "start_time": "2023-01-10T18:58:43.405Z"
   },
   {
    "duration": 440,
    "start_time": "2023-01-10T18:58:43.422Z"
   },
   {
    "duration": 477,
    "start_time": "2023-01-10T18:58:43.864Z"
   },
   {
    "duration": 442,
    "start_time": "2023-01-10T18:58:44.342Z"
   },
   {
    "duration": 16,
    "start_time": "2023-01-10T18:58:44.786Z"
   },
   {
    "duration": 367,
    "start_time": "2023-01-10T18:58:44.803Z"
   },
   {
    "duration": 6,
    "start_time": "2023-01-10T18:58:45.173Z"
   },
   {
    "duration": 163,
    "start_time": "2023-01-10T18:58:45.181Z"
   },
   {
    "duration": 40,
    "start_time": "2023-01-10T18:58:45.347Z"
   },
   {
    "duration": 5,
    "start_time": "2023-01-10T18:58:45.389Z"
   },
   {
    "duration": 6,
    "start_time": "2023-01-10T18:58:45.396Z"
   },
   {
    "duration": 24,
    "start_time": "2023-01-10T18:58:45.404Z"
   },
   {
    "duration": 62,
    "start_time": "2023-01-10T18:58:45.429Z"
   },
   {
    "duration": 11,
    "start_time": "2023-01-10T18:58:45.493Z"
   },
   {
    "duration": 4,
    "start_time": "2023-01-10T18:58:45.506Z"
   },
   {
    "duration": 210,
    "start_time": "2023-01-10T18:58:45.511Z"
   },
   {
    "duration": 389,
    "start_time": "2023-01-10T18:58:45.723Z"
   },
   {
    "duration": 48,
    "start_time": "2023-01-10T18:58:46.114Z"
   },
   {
    "duration": 113,
    "start_time": "2023-01-10T18:58:46.164Z"
   },
   {
    "duration": 119,
    "start_time": "2023-01-10T18:58:46.279Z"
   },
   {
    "duration": 2,
    "start_time": "2023-01-10T18:58:46.400Z"
   },
   {
    "duration": 5,
    "start_time": "2023-01-10T18:58:46.404Z"
   },
   {
    "duration": 6,
    "start_time": "2023-01-10T18:58:46.410Z"
   },
   {
    "duration": 17,
    "start_time": "2023-01-10T18:58:46.418Z"
   },
   {
    "duration": 99,
    "start_time": "2023-01-10T18:58:46.437Z"
   },
   {
    "duration": 15,
    "start_time": "2023-01-10T18:58:46.538Z"
   },
   {
    "duration": 5,
    "start_time": "2023-01-10T18:58:46.555Z"
   },
   {
    "duration": 7,
    "start_time": "2023-01-10T18:58:46.561Z"
   },
   {
    "duration": 160,
    "start_time": "2023-01-10T18:58:46.570Z"
   },
   {
    "duration": 3,
    "start_time": "2023-01-10T18:58:46.732Z"
   },
   {
    "duration": 470,
    "start_time": "2023-01-10T18:58:46.736Z"
   },
   {
    "duration": 2177,
    "start_time": "2023-01-10T18:58:47.208Z"
   },
   {
    "duration": 309,
    "start_time": "2023-01-10T18:58:49.386Z"
   },
   {
    "duration": 337,
    "start_time": "2023-01-10T18:58:49.696Z"
   },
   {
    "duration": 3,
    "start_time": "2023-01-10T18:58:50.034Z"
   },
   {
    "duration": 127,
    "start_time": "2023-01-10T18:58:50.038Z"
   },
   {
    "duration": 15,
    "start_time": "2023-01-10T18:58:50.167Z"
   },
   {
    "duration": 8871,
    "start_time": "2023-01-10T18:58:50.184Z"
   },
   {
    "duration": 126,
    "start_time": "2023-01-10T19:00:38.899Z"
   },
   {
    "duration": 10040,
    "start_time": "2023-01-10T19:03:12.751Z"
   },
   {
    "duration": 2,
    "start_time": "2023-01-10T19:03:29.298Z"
   },
   {
    "duration": 10964,
    "start_time": "2023-01-10T19:03:32.298Z"
   },
   {
    "duration": 88,
    "start_time": "2023-01-10T19:03:51.366Z"
   },
   {
    "duration": 5,
    "start_time": "2023-01-10T19:05:46.886Z"
   },
   {
    "duration": 5,
    "start_time": "2023-01-10T19:06:00.766Z"
   },
   {
    "duration": 5,
    "start_time": "2023-01-10T19:06:10.838Z"
   },
   {
    "duration": 1799,
    "start_time": "2023-03-09T13:11:20.645Z"
   },
   {
    "duration": 4,
    "start_time": "2023-03-09T13:11:22.446Z"
   },
   {
    "duration": 1681,
    "start_time": "2023-03-09T13:11:24.685Z"
   },
   {
    "duration": 168,
    "start_time": "2023-03-09T13:11:26.368Z"
   },
   {
    "duration": 144,
    "start_time": "2023-03-09T13:11:30.173Z"
   },
   {
    "duration": 15,
    "start_time": "2023-03-09T13:11:33.268Z"
   },
   {
    "duration": 1060,
    "start_time": "2023-03-09T13:11:37.708Z"
   },
   {
    "duration": 133,
    "start_time": "2023-03-09T13:11:47.124Z"
   },
   {
    "duration": 349,
    "start_time": "2023-03-09T13:11:48.556Z"
   },
   {
    "duration": 182,
    "start_time": "2023-03-09T13:11:51.299Z"
   },
   {
    "duration": 3,
    "start_time": "2023-03-09T13:11:53.364Z"
   },
   {
    "duration": 14,
    "start_time": "2023-03-09T13:11:53.669Z"
   },
   {
    "duration": 69,
    "start_time": "2023-03-09T13:11:55.588Z"
   },
   {
    "duration": 4,
    "start_time": "2023-03-09T13:11:55.852Z"
   },
   {
    "duration": 36,
    "start_time": "2023-03-09T13:11:57.483Z"
   },
   {
    "duration": 22,
    "start_time": "2023-03-09T13:11:57.748Z"
   },
   {
    "duration": 35,
    "start_time": "2023-03-09T13:11:58.366Z"
   },
   {
    "duration": 35,
    "start_time": "2023-03-09T13:12:00.211Z"
   },
   {
    "duration": 20,
    "start_time": "2023-03-09T13:12:00.500Z"
   },
   {
    "duration": 25,
    "start_time": "2023-03-09T13:12:04.164Z"
   },
   {
    "duration": 226,
    "start_time": "2023-03-09T13:12:04.411Z"
   },
   {
    "duration": 22,
    "start_time": "2023-03-09T13:12:06.083Z"
   },
   {
    "duration": 96,
    "start_time": "2023-03-09T13:12:07.955Z"
   },
   {
    "duration": 129,
    "start_time": "2023-03-09T13:12:10.011Z"
   },
   {
    "duration": 111,
    "start_time": "2023-03-09T13:12:11.347Z"
   },
   {
    "duration": 18,
    "start_time": "2023-03-09T13:12:13.771Z"
   },
   {
    "duration": 15,
    "start_time": "2023-03-09T13:12:15.387Z"
   },
   {
    "duration": 18,
    "start_time": "2023-03-09T13:12:17.059Z"
   },
   {
    "duration": 484,
    "start_time": "2023-03-09T13:12:17.316Z"
   },
   {
    "duration": 536,
    "start_time": "2023-03-09T13:12:18.964Z"
   },
   {
    "duration": 496,
    "start_time": "2023-03-09T13:12:24.011Z"
   },
   {
    "duration": 19,
    "start_time": "2023-03-09T13:12:28.420Z"
   },
   {
    "duration": 455,
    "start_time": "2023-03-09T13:12:29.275Z"
   },
   {
    "duration": 6,
    "start_time": "2023-03-09T13:12:45.611Z"
   },
   {
    "duration": 141,
    "start_time": "2023-03-09T13:12:45.923Z"
   },
   {
    "duration": 42,
    "start_time": "2023-03-09T13:12:47.268Z"
   },
   {
    "duration": 6,
    "start_time": "2023-03-09T13:12:49.666Z"
   },
   {
    "duration": 5,
    "start_time": "2023-03-09T13:12:49.948Z"
   },
   {
    "duration": 25,
    "start_time": "2023-03-09T13:12:51.546Z"
   },
   {
    "duration": 59,
    "start_time": "2023-03-09T13:12:53.052Z"
   },
   {
    "duration": 13,
    "start_time": "2023-03-09T13:12:55.123Z"
   },
   {
    "duration": 3,
    "start_time": "2023-03-09T13:12:56.595Z"
   },
   {
    "duration": 212,
    "start_time": "2023-03-09T13:12:57.258Z"
   },
   {
    "duration": 467,
    "start_time": "2023-03-09T13:13:00.274Z"
   },
   {
    "duration": 54,
    "start_time": "2023-03-09T13:13:04.762Z"
   },
   {
    "duration": 140,
    "start_time": "2023-03-09T13:13:07.428Z"
   },
   {
    "duration": 149,
    "start_time": "2023-03-09T13:13:08.706Z"
   },
   {
    "duration": 18,
    "start_time": "2023-03-09T13:13:14.643Z"
   },
   {
    "duration": 95,
    "start_time": "2023-03-09T13:13:17.110Z"
   },
   {
    "duration": 7,
    "start_time": "2023-03-09T13:13:22.403Z"
   },
   {
    "duration": 170,
    "start_time": "2023-03-09T13:13:23.482Z"
   },
   {
    "duration": 3,
    "start_time": "2023-03-09T13:13:34.850Z"
   },
   {
    "duration": 497,
    "start_time": "2023-03-09T13:13:35.139Z"
   },
   {
    "duration": 2876,
    "start_time": "2023-03-09T13:15:21.984Z"
   },
   {
    "duration": 284,
    "start_time": "2023-03-09T13:15:32.184Z"
   },
   {
    "duration": 320,
    "start_time": "2023-03-09T13:15:33.865Z"
   },
   {
    "duration": 3,
    "start_time": "2023-03-09T13:15:35.048Z"
   },
   {
    "duration": 115,
    "start_time": "2023-03-09T13:15:36.216Z"
   },
   {
    "duration": 16,
    "start_time": "2023-03-09T13:15:37.624Z"
   },
   {
    "duration": 8998,
    "start_time": "2023-03-09T13:15:39.784Z"
   },
   {
    "duration": 4267,
    "start_time": "2023-03-09T13:15:58.919Z"
   },
   {
    "duration": 237,
    "start_time": "2023-03-09T13:16:07.247Z"
   },
   {
    "duration": 140485,
    "start_time": "2023-03-09T13:16:11.334Z"
   },
   {
    "duration": 4,
    "start_time": "2023-03-09T13:18:38.214Z"
   },
   {
    "duration": 13725,
    "start_time": "2023-03-09T13:18:39.805Z"
   },
   {
    "duration": 2787574,
    "start_time": "2023-03-09T13:19:04.116Z"
   }
  ],
  "kernelspec": {
   "display_name": "Python 3 (ipykernel)",
   "language": "python",
   "name": "python3"
  },
  "language_info": {
   "codemirror_mode": {
    "name": "ipython",
    "version": 3
   },
   "file_extension": ".py",
   "mimetype": "text/x-python",
   "name": "python",
   "nbconvert_exporter": "python",
   "pygments_lexer": "ipython3",
   "version": "3.9.13"
  },
  "toc": {
   "base_numbering": 1,
   "nav_menu": {},
   "number_sections": true,
   "sideBar": true,
   "skip_h1_title": true,
   "title_cell": "Table of Contents",
   "title_sidebar": "Contents",
   "toc_cell": false,
   "toc_position": {
    "height": "calc(100% - 180px)",
    "left": "10px",
    "top": "150px",
    "width": "222.188px"
   },
   "toc_section_display": true,
   "toc_window_display": true
  }
 },
 "nbformat": 4,
 "nbformat_minor": 2
}
