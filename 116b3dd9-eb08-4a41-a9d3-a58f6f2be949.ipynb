{
 "cells": [
  {
   "cell_type": "markdown",
   "id": "bb51a0fd",
   "metadata": {},
   "source": [
    "<div style=\"border:solid Chocolate 2px; padding: 40px\">\n",
    "\n",
    "<b>Мария, привет!</b>\n",
    "\n",
    "Меня зовут Евгений Головин, я буду ревьюером твоего проекта. Если ты не против, то предлагаю посмотрить наше общение на \"ты\" ;) Если удобнее на \"вы\", то нет проблем, только скажи об этом. \n",
    "\n",
    "В ходе работы я оставил тебе комментарии <font color='green'>зеленого</font>, <font color='gold'>желтого</font> и <font color='red'>красного</font> цветов. Сейчас объясню, что они значат:\n",
    "\n",
    "<br/>\n",
    "\n",
    "<div class=\"alert alert-success\">\n",
    "<h2> Комментарий ревьюера <a class=\"tocSkip\"> </h2>\n",
    "\n",
    "<b>Все супер!👍:</b> Решение на этом шаге является полностью правильным.\n",
    "</div>\n",
    "\n",
    "<br/>\n",
    "\n",
    "<div class=\"alert alert-warning\">\n",
    "    <h2> Комментарий ревьюера <a class=\"tocSkip\"> </h2>\n",
    "    \n",
    "<b>Небольшие замечания и рекомендации💡:</b> Решение на этом шаге станет еще лучше, если внести небольшие коррективы.\n",
    "</div>\n",
    "\n",
    "\n",
    "<br/>\n",
    "<div class=\"alert alert-block alert-danger\">\n",
    "<h2> Комментарий ревьюера <a class=\"tocSkip\"></h2>\n",
    "\n",
    "    \n",
    "<b>На доработку🤔:</b>\n",
    " Решение на этом шаге требует существенной переработки и внесения правок. Напоминаю, что проект не может быть принят с первого раза, если ревью содержит комментарии, рекомендующие доработать шаги.\n",
    "</div>\n",
    "    \n",
    "Увидев мой комментарий, не удаляй его, он будет очень полезен в случае повторной проверки работы :)\n",
    "    \n",
    "<div class=\"alert alert-info\">\n",
    "<b>А свой помечай вот так, чтобы я его не потерял ;)</b> \n",
    "</div>\n",
    "    \n",
    "Увидев мой комментарий, не удаляй его, он будет очень полезен в случае повторной проверки работы :)\n",
    "    \n",
    "На мои комменатрии можно и нужно реагировать, только делать это стоит так, чтобы твои и мои комменты не смешались: выделяй свои цветами, сильно отличающимися от моих.\n",
    "    \n",
    "Увидев у тебя неточность, в первый раз я лишь укажу на ее наличие и дам тебе возможность самому найти и исправить ее. На реальной работе твой руководитель будет поступать также, и я пытаюсь подготовить тебя именно к работе аналитиком. Но если ты пока не справишься с такой задачей - при следующей проверке я дам более точную подсказку!"
   ]
  },
  {
   "cell_type": "markdown",
   "id": "e645ee61",
   "metadata": {
    "deletable": false,
    "editable": false,
    "id": "c81daeeb"
   },
   "source": [
    "# Исследование надежности заемщиков\n"
   ]
  },
  {
   "cell_type": "markdown",
   "id": "00f43d09",
   "metadata": {
    "deletable": false,
    "editable": false,
    "id": "827c20bf"
   },
   "source": [
    "Во второй части проекта вы выполните шаги 3 и 4. Их вручную проверит ревьюер.\n",
    "Чтобы вам не пришлось писать код заново для шагов 1 и 2, мы добавили авторские решения в ячейки с кодом. \n",
    "\n"
   ]
  },
  {
   "cell_type": "markdown",
   "id": "bb4cb23b",
   "metadata": {},
   "source": [
    "<div class=\"alert alert-success\">\n",
    "<h2> Комментарий ревьюера <a class=\"tocSkip\"> </h2>\n",
    "\n",
    "<b>Все супер!👍:</b> ТОгда давай туда и переходить)"
   ]
  },
  {
   "cell_type": "markdown",
   "id": "9fac59bd",
   "metadata": {
    "deletable": false,
    "editable": false,
    "id": "744d7639"
   },
   "source": [
    "## Откройте таблицу и изучите общую информацию о данных"
   ]
  },
  {
   "cell_type": "markdown",
   "id": "de8778c9",
   "metadata": {
    "deletable": false,
    "editable": false,
    "id": "e7a14c31"
   },
   "source": [
    "**Задание 1. Импортируйте библиотеку pandas. Считайте данные из csv-файла в датафрейм и сохраните в переменную `data`. Путь к файлу:**\n",
    "\n",
    "`/datasets/data.csv`"
   ]
  },
  {
   "cell_type": "code",
   "execution_count": 2,
   "id": "175bd33c",
   "metadata": {
    "deletable": false,
    "id": "7bcf75c9"
   },
   "outputs": [],
   "source": [
    "import pandas as pd\n",
    "\n",
    "try:\n",
    "    data = pd.read_csv('/datasets/data.csv')\n",
    "except:\n",
    "    data = pd.read_csv('https://code.s3.yandex.net/datasets/data.csv')"
   ]
  },
  {
   "cell_type": "markdown",
   "id": "5e7f34c1",
   "metadata": {
    "deletable": false,
    "editable": false,
    "id": "b8038fe3"
   },
   "source": [
    "**Задание 2. Выведите первые 20 строчек датафрейма `data` на экран.**"
   ]
  },
  {
   "cell_type": "code",
   "execution_count": 3,
   "id": "24a76261",
   "metadata": {
    "deletable": false,
    "id": "2a7cab99",
    "outputId": "1a8f3ef2-d323-4ec2-ddf7-89670b5944c4"
   },
   "outputs": [
    {
     "data": {
      "text/html": [
       "<div>\n",
       "<style scoped>\n",
       "    .dataframe tbody tr th:only-of-type {\n",
       "        vertical-align: middle;\n",
       "    }\n",
       "\n",
       "    .dataframe tbody tr th {\n",
       "        vertical-align: top;\n",
       "    }\n",
       "\n",
       "    .dataframe thead th {\n",
       "        text-align: right;\n",
       "    }\n",
       "</style>\n",
       "<table border=\"1\" class=\"dataframe\">\n",
       "  <thead>\n",
       "    <tr style=\"text-align: right;\">\n",
       "      <th></th>\n",
       "      <th>children</th>\n",
       "      <th>days_employed</th>\n",
       "      <th>dob_years</th>\n",
       "      <th>education</th>\n",
       "      <th>education_id</th>\n",
       "      <th>family_status</th>\n",
       "      <th>family_status_id</th>\n",
       "      <th>gender</th>\n",
       "      <th>income_type</th>\n",
       "      <th>debt</th>\n",
       "      <th>total_income</th>\n",
       "      <th>purpose</th>\n",
       "    </tr>\n",
       "  </thead>\n",
       "  <tbody>\n",
       "    <tr>\n",
       "      <th>0</th>\n",
       "      <td>1</td>\n",
       "      <td>-8437.673028</td>\n",
       "      <td>42</td>\n",
       "      <td>высшее</td>\n",
       "      <td>0</td>\n",
       "      <td>женат / замужем</td>\n",
       "      <td>0</td>\n",
       "      <td>F</td>\n",
       "      <td>сотрудник</td>\n",
       "      <td>0</td>\n",
       "      <td>253875.639453</td>\n",
       "      <td>покупка жилья</td>\n",
       "    </tr>\n",
       "    <tr>\n",
       "      <th>1</th>\n",
       "      <td>1</td>\n",
       "      <td>-4024.803754</td>\n",
       "      <td>36</td>\n",
       "      <td>среднее</td>\n",
       "      <td>1</td>\n",
       "      <td>женат / замужем</td>\n",
       "      <td>0</td>\n",
       "      <td>F</td>\n",
       "      <td>сотрудник</td>\n",
       "      <td>0</td>\n",
       "      <td>112080.014102</td>\n",
       "      <td>приобретение автомобиля</td>\n",
       "    </tr>\n",
       "    <tr>\n",
       "      <th>2</th>\n",
       "      <td>0</td>\n",
       "      <td>-5623.422610</td>\n",
       "      <td>33</td>\n",
       "      <td>Среднее</td>\n",
       "      <td>1</td>\n",
       "      <td>женат / замужем</td>\n",
       "      <td>0</td>\n",
       "      <td>M</td>\n",
       "      <td>сотрудник</td>\n",
       "      <td>0</td>\n",
       "      <td>145885.952297</td>\n",
       "      <td>покупка жилья</td>\n",
       "    </tr>\n",
       "    <tr>\n",
       "      <th>3</th>\n",
       "      <td>3</td>\n",
       "      <td>-4124.747207</td>\n",
       "      <td>32</td>\n",
       "      <td>среднее</td>\n",
       "      <td>1</td>\n",
       "      <td>женат / замужем</td>\n",
       "      <td>0</td>\n",
       "      <td>M</td>\n",
       "      <td>сотрудник</td>\n",
       "      <td>0</td>\n",
       "      <td>267628.550329</td>\n",
       "      <td>дополнительное образование</td>\n",
       "    </tr>\n",
       "    <tr>\n",
       "      <th>4</th>\n",
       "      <td>0</td>\n",
       "      <td>340266.072047</td>\n",
       "      <td>53</td>\n",
       "      <td>среднее</td>\n",
       "      <td>1</td>\n",
       "      <td>гражданский брак</td>\n",
       "      <td>1</td>\n",
       "      <td>F</td>\n",
       "      <td>пенсионер</td>\n",
       "      <td>0</td>\n",
       "      <td>158616.077870</td>\n",
       "      <td>сыграть свадьбу</td>\n",
       "    </tr>\n",
       "    <tr>\n",
       "      <th>5</th>\n",
       "      <td>0</td>\n",
       "      <td>-926.185831</td>\n",
       "      <td>27</td>\n",
       "      <td>высшее</td>\n",
       "      <td>0</td>\n",
       "      <td>гражданский брак</td>\n",
       "      <td>1</td>\n",
       "      <td>M</td>\n",
       "      <td>компаньон</td>\n",
       "      <td>0</td>\n",
       "      <td>255763.565419</td>\n",
       "      <td>покупка жилья</td>\n",
       "    </tr>\n",
       "    <tr>\n",
       "      <th>6</th>\n",
       "      <td>0</td>\n",
       "      <td>-2879.202052</td>\n",
       "      <td>43</td>\n",
       "      <td>высшее</td>\n",
       "      <td>0</td>\n",
       "      <td>женат / замужем</td>\n",
       "      <td>0</td>\n",
       "      <td>F</td>\n",
       "      <td>компаньон</td>\n",
       "      <td>0</td>\n",
       "      <td>240525.971920</td>\n",
       "      <td>операции с жильем</td>\n",
       "    </tr>\n",
       "    <tr>\n",
       "      <th>7</th>\n",
       "      <td>0</td>\n",
       "      <td>-152.779569</td>\n",
       "      <td>50</td>\n",
       "      <td>СРЕДНЕЕ</td>\n",
       "      <td>1</td>\n",
       "      <td>женат / замужем</td>\n",
       "      <td>0</td>\n",
       "      <td>M</td>\n",
       "      <td>сотрудник</td>\n",
       "      <td>0</td>\n",
       "      <td>135823.934197</td>\n",
       "      <td>образование</td>\n",
       "    </tr>\n",
       "    <tr>\n",
       "      <th>8</th>\n",
       "      <td>2</td>\n",
       "      <td>-6929.865299</td>\n",
       "      <td>35</td>\n",
       "      <td>ВЫСШЕЕ</td>\n",
       "      <td>0</td>\n",
       "      <td>гражданский брак</td>\n",
       "      <td>1</td>\n",
       "      <td>F</td>\n",
       "      <td>сотрудник</td>\n",
       "      <td>0</td>\n",
       "      <td>95856.832424</td>\n",
       "      <td>на проведение свадьбы</td>\n",
       "    </tr>\n",
       "    <tr>\n",
       "      <th>9</th>\n",
       "      <td>0</td>\n",
       "      <td>-2188.756445</td>\n",
       "      <td>41</td>\n",
       "      <td>среднее</td>\n",
       "      <td>1</td>\n",
       "      <td>женат / замужем</td>\n",
       "      <td>0</td>\n",
       "      <td>M</td>\n",
       "      <td>сотрудник</td>\n",
       "      <td>0</td>\n",
       "      <td>144425.938277</td>\n",
       "      <td>покупка жилья для семьи</td>\n",
       "    </tr>\n",
       "    <tr>\n",
       "      <th>10</th>\n",
       "      <td>2</td>\n",
       "      <td>-4171.483647</td>\n",
       "      <td>36</td>\n",
       "      <td>высшее</td>\n",
       "      <td>0</td>\n",
       "      <td>женат / замужем</td>\n",
       "      <td>0</td>\n",
       "      <td>M</td>\n",
       "      <td>компаньон</td>\n",
       "      <td>0</td>\n",
       "      <td>113943.491460</td>\n",
       "      <td>покупка недвижимости</td>\n",
       "    </tr>\n",
       "    <tr>\n",
       "      <th>11</th>\n",
       "      <td>0</td>\n",
       "      <td>-792.701887</td>\n",
       "      <td>40</td>\n",
       "      <td>среднее</td>\n",
       "      <td>1</td>\n",
       "      <td>женат / замужем</td>\n",
       "      <td>0</td>\n",
       "      <td>F</td>\n",
       "      <td>сотрудник</td>\n",
       "      <td>0</td>\n",
       "      <td>77069.234271</td>\n",
       "      <td>покупка коммерческой недвижимости</td>\n",
       "    </tr>\n",
       "    <tr>\n",
       "      <th>12</th>\n",
       "      <td>0</td>\n",
       "      <td>NaN</td>\n",
       "      <td>65</td>\n",
       "      <td>среднее</td>\n",
       "      <td>1</td>\n",
       "      <td>гражданский брак</td>\n",
       "      <td>1</td>\n",
       "      <td>M</td>\n",
       "      <td>пенсионер</td>\n",
       "      <td>0</td>\n",
       "      <td>NaN</td>\n",
       "      <td>сыграть свадьбу</td>\n",
       "    </tr>\n",
       "    <tr>\n",
       "      <th>13</th>\n",
       "      <td>0</td>\n",
       "      <td>-1846.641941</td>\n",
       "      <td>54</td>\n",
       "      <td>неоконченное высшее</td>\n",
       "      <td>2</td>\n",
       "      <td>женат / замужем</td>\n",
       "      <td>0</td>\n",
       "      <td>F</td>\n",
       "      <td>сотрудник</td>\n",
       "      <td>0</td>\n",
       "      <td>130458.228857</td>\n",
       "      <td>приобретение автомобиля</td>\n",
       "    </tr>\n",
       "    <tr>\n",
       "      <th>14</th>\n",
       "      <td>0</td>\n",
       "      <td>-1844.956182</td>\n",
       "      <td>56</td>\n",
       "      <td>высшее</td>\n",
       "      <td>0</td>\n",
       "      <td>гражданский брак</td>\n",
       "      <td>1</td>\n",
       "      <td>F</td>\n",
       "      <td>компаньон</td>\n",
       "      <td>1</td>\n",
       "      <td>165127.911772</td>\n",
       "      <td>покупка жилой недвижимости</td>\n",
       "    </tr>\n",
       "    <tr>\n",
       "      <th>15</th>\n",
       "      <td>1</td>\n",
       "      <td>-972.364419</td>\n",
       "      <td>26</td>\n",
       "      <td>среднее</td>\n",
       "      <td>1</td>\n",
       "      <td>женат / замужем</td>\n",
       "      <td>0</td>\n",
       "      <td>F</td>\n",
       "      <td>сотрудник</td>\n",
       "      <td>0</td>\n",
       "      <td>116820.904450</td>\n",
       "      <td>строительство собственной недвижимости</td>\n",
       "    </tr>\n",
       "    <tr>\n",
       "      <th>16</th>\n",
       "      <td>0</td>\n",
       "      <td>-1719.934226</td>\n",
       "      <td>35</td>\n",
       "      <td>среднее</td>\n",
       "      <td>1</td>\n",
       "      <td>женат / замужем</td>\n",
       "      <td>0</td>\n",
       "      <td>F</td>\n",
       "      <td>сотрудник</td>\n",
       "      <td>0</td>\n",
       "      <td>289202.704229</td>\n",
       "      <td>недвижимость</td>\n",
       "    </tr>\n",
       "    <tr>\n",
       "      <th>17</th>\n",
       "      <td>0</td>\n",
       "      <td>-2369.999720</td>\n",
       "      <td>33</td>\n",
       "      <td>высшее</td>\n",
       "      <td>0</td>\n",
       "      <td>гражданский брак</td>\n",
       "      <td>1</td>\n",
       "      <td>M</td>\n",
       "      <td>сотрудник</td>\n",
       "      <td>0</td>\n",
       "      <td>90410.586745</td>\n",
       "      <td>строительство недвижимости</td>\n",
       "    </tr>\n",
       "    <tr>\n",
       "      <th>18</th>\n",
       "      <td>0</td>\n",
       "      <td>400281.136913</td>\n",
       "      <td>53</td>\n",
       "      <td>среднее</td>\n",
       "      <td>1</td>\n",
       "      <td>вдовец / вдова</td>\n",
       "      <td>2</td>\n",
       "      <td>F</td>\n",
       "      <td>пенсионер</td>\n",
       "      <td>0</td>\n",
       "      <td>56823.777243</td>\n",
       "      <td>на покупку подержанного автомобиля</td>\n",
       "    </tr>\n",
       "    <tr>\n",
       "      <th>19</th>\n",
       "      <td>0</td>\n",
       "      <td>-10038.818549</td>\n",
       "      <td>48</td>\n",
       "      <td>СРЕДНЕЕ</td>\n",
       "      <td>1</td>\n",
       "      <td>в разводе</td>\n",
       "      <td>3</td>\n",
       "      <td>F</td>\n",
       "      <td>сотрудник</td>\n",
       "      <td>0</td>\n",
       "      <td>242831.107982</td>\n",
       "      <td>на покупку своего автомобиля</td>\n",
       "    </tr>\n",
       "  </tbody>\n",
       "</table>\n",
       "</div>"
      ],
      "text/plain": [
       "    children  days_employed  dob_years            education  education_id  \\\n",
       "0          1   -8437.673028         42               высшее             0   \n",
       "1          1   -4024.803754         36              среднее             1   \n",
       "2          0   -5623.422610         33              Среднее             1   \n",
       "3          3   -4124.747207         32              среднее             1   \n",
       "4          0  340266.072047         53              среднее             1   \n",
       "5          0    -926.185831         27               высшее             0   \n",
       "6          0   -2879.202052         43               высшее             0   \n",
       "7          0    -152.779569         50              СРЕДНЕЕ             1   \n",
       "8          2   -6929.865299         35               ВЫСШЕЕ             0   \n",
       "9          0   -2188.756445         41              среднее             1   \n",
       "10         2   -4171.483647         36               высшее             0   \n",
       "11         0    -792.701887         40              среднее             1   \n",
       "12         0            NaN         65              среднее             1   \n",
       "13         0   -1846.641941         54  неоконченное высшее             2   \n",
       "14         0   -1844.956182         56               высшее             0   \n",
       "15         1    -972.364419         26              среднее             1   \n",
       "16         0   -1719.934226         35              среднее             1   \n",
       "17         0   -2369.999720         33               высшее             0   \n",
       "18         0  400281.136913         53              среднее             1   \n",
       "19         0  -10038.818549         48              СРЕДНЕЕ             1   \n",
       "\n",
       "       family_status  family_status_id gender income_type  debt  \\\n",
       "0    женат / замужем                 0      F   сотрудник     0   \n",
       "1    женат / замужем                 0      F   сотрудник     0   \n",
       "2    женат / замужем                 0      M   сотрудник     0   \n",
       "3    женат / замужем                 0      M   сотрудник     0   \n",
       "4   гражданский брак                 1      F   пенсионер     0   \n",
       "5   гражданский брак                 1      M   компаньон     0   \n",
       "6    женат / замужем                 0      F   компаньон     0   \n",
       "7    женат / замужем                 0      M   сотрудник     0   \n",
       "8   гражданский брак                 1      F   сотрудник     0   \n",
       "9    женат / замужем                 0      M   сотрудник     0   \n",
       "10   женат / замужем                 0      M   компаньон     0   \n",
       "11   женат / замужем                 0      F   сотрудник     0   \n",
       "12  гражданский брак                 1      M   пенсионер     0   \n",
       "13   женат / замужем                 0      F   сотрудник     0   \n",
       "14  гражданский брак                 1      F   компаньон     1   \n",
       "15   женат / замужем                 0      F   сотрудник     0   \n",
       "16   женат / замужем                 0      F   сотрудник     0   \n",
       "17  гражданский брак                 1      M   сотрудник     0   \n",
       "18    вдовец / вдова                 2      F   пенсионер     0   \n",
       "19         в разводе                 3      F   сотрудник     0   \n",
       "\n",
       "     total_income                                 purpose  \n",
       "0   253875.639453                           покупка жилья  \n",
       "1   112080.014102                 приобретение автомобиля  \n",
       "2   145885.952297                           покупка жилья  \n",
       "3   267628.550329              дополнительное образование  \n",
       "4   158616.077870                         сыграть свадьбу  \n",
       "5   255763.565419                           покупка жилья  \n",
       "6   240525.971920                       операции с жильем  \n",
       "7   135823.934197                             образование  \n",
       "8    95856.832424                   на проведение свадьбы  \n",
       "9   144425.938277                 покупка жилья для семьи  \n",
       "10  113943.491460                    покупка недвижимости  \n",
       "11   77069.234271       покупка коммерческой недвижимости  \n",
       "12            NaN                         сыграть свадьбу  \n",
       "13  130458.228857                 приобретение автомобиля  \n",
       "14  165127.911772              покупка жилой недвижимости  \n",
       "15  116820.904450  строительство собственной недвижимости  \n",
       "16  289202.704229                            недвижимость  \n",
       "17   90410.586745              строительство недвижимости  \n",
       "18   56823.777243      на покупку подержанного автомобиля  \n",
       "19  242831.107982            на покупку своего автомобиля  "
      ]
     },
     "execution_count": 3,
     "metadata": {},
     "output_type": "execute_result"
    }
   ],
   "source": [
    "data.head(20)"
   ]
  },
  {
   "cell_type": "markdown",
   "id": "571d7c7a",
   "metadata": {
    "deletable": false,
    "editable": false,
    "id": "1c12e233"
   },
   "source": [
    "**Задание 3. Выведите основную информацию о датафрейме с помощью метода `info()`.**"
   ]
  },
  {
   "cell_type": "code",
   "execution_count": 4,
   "id": "5d1ecbe5",
   "metadata": {
    "deletable": false,
    "id": "2b757bca",
    "outputId": "15376089-8dad-46c9-b520-c05248d43158"
   },
   "outputs": [
    {
     "name": "stdout",
     "output_type": "stream",
     "text": [
      "<class 'pandas.core.frame.DataFrame'>\n",
      "RangeIndex: 21525 entries, 0 to 21524\n",
      "Data columns (total 12 columns):\n",
      " #   Column            Non-Null Count  Dtype  \n",
      "---  ------            --------------  -----  \n",
      " 0   children          21525 non-null  int64  \n",
      " 1   days_employed     19351 non-null  float64\n",
      " 2   dob_years         21525 non-null  int64  \n",
      " 3   education         21525 non-null  object \n",
      " 4   education_id      21525 non-null  int64  \n",
      " 5   family_status     21525 non-null  object \n",
      " 6   family_status_id  21525 non-null  int64  \n",
      " 7   gender            21525 non-null  object \n",
      " 8   income_type       21525 non-null  object \n",
      " 9   debt              21525 non-null  int64  \n",
      " 10  total_income      19351 non-null  float64\n",
      " 11  purpose           21525 non-null  object \n",
      "dtypes: float64(2), int64(5), object(5)\n",
      "memory usage: 2.0+ MB\n"
     ]
    }
   ],
   "source": [
    "data.info()"
   ]
  },
  {
   "cell_type": "markdown",
   "id": "60e31cbb",
   "metadata": {
    "deletable": false,
    "editable": false,
    "id": "333ec665"
   },
   "source": [
    "## Предобработка данных"
   ]
  },
  {
   "cell_type": "markdown",
   "id": "57f93712",
   "metadata": {
    "deletable": false,
    "editable": false,
    "id": "02d92d53"
   },
   "source": [
    "### Удаление пропусков"
   ]
  },
  {
   "cell_type": "markdown",
   "id": "69d35ccf",
   "metadata": {
    "deletable": false,
    "editable": false,
    "id": "cd84967c"
   },
   "source": [
    "**Задание 4. Выведите количество пропущенных значений для каждого столбца. Используйте комбинацию двух методов.**"
   ]
  },
  {
   "cell_type": "code",
   "execution_count": 5,
   "id": "294c5f4c",
   "metadata": {
    "deletable": false,
    "id": "7f9b2309",
    "outputId": "81f4d817-781c-465c-ed15-91ce4446810d"
   },
   "outputs": [
    {
     "data": {
      "text/plain": [
       "children               0\n",
       "days_employed       2174\n",
       "dob_years              0\n",
       "education              0\n",
       "education_id           0\n",
       "family_status          0\n",
       "family_status_id       0\n",
       "gender                 0\n",
       "income_type            0\n",
       "debt                   0\n",
       "total_income        2174\n",
       "purpose                0\n",
       "dtype: int64"
      ]
     },
     "execution_count": 5,
     "metadata": {},
     "output_type": "execute_result"
    }
   ],
   "source": [
    "data.isna().sum()"
   ]
  },
  {
   "cell_type": "markdown",
   "id": "f0aba6d6",
   "metadata": {
    "deletable": false,
    "editable": false,
    "id": "db86e27b"
   },
   "source": [
    "**Задание 5. В двух столбцах есть пропущенные значения. Один из них — `days_employed`. Пропуски в этом столбце вы обработаете на следующем этапе. Другой столбец с пропущенными значениями — `total_income` — хранит данные о доходах. На сумму дохода сильнее всего влияет тип занятости, поэтому заполнить пропуски в этом столбце нужно медианным значением по каждому типу из столбца `income_type`. Например, у человека с типом занятости `сотрудник` пропуск в столбце `total_income` должен быть заполнен медианным доходом среди всех записей с тем же типом.**"
   ]
  },
  {
   "cell_type": "code",
   "execution_count": 6,
   "id": "d96c2d0c",
   "metadata": {
    "deletable": false,
    "id": "42006a93"
   },
   "outputs": [],
   "source": [
    "for t in data['income_type'].unique():\n",
    "    data.loc[(data['income_type'] == t) & (data['total_income'].isna()), 'total_income'] = \\\n",
    "    data.loc[(data['income_type'] == t), 'total_income'].median()"
   ]
  },
  {
   "cell_type": "markdown",
   "id": "41287e45",
   "metadata": {
    "deletable": false,
    "editable": false,
    "id": "89da5ece"
   },
   "source": [
    "### Обработка аномальных значений"
   ]
  },
  {
   "cell_type": "markdown",
   "id": "a05a3681",
   "metadata": {
    "deletable": false,
    "editable": false,
    "id": "57964554"
   },
   "source": [
    "**Задание 6. В данных могут встречаться артефакты (аномалии) — значения, которые не отражают действительность и появились по какой-то ошибке. таким артефактом будет отрицательное количество дней трудового стажа в столбце `days_employed`. Для реальных данных это нормально. Обработайте значения в этом столбце: замените все отрицательные значения положительными с помощью метода `abs()`.**"
   ]
  },
  {
   "cell_type": "code",
   "execution_count": 7,
   "id": "878d44f5",
   "metadata": {
    "deletable": false,
    "id": "f6f055bf"
   },
   "outputs": [],
   "source": [
    "data['days_employed'] = data['days_employed'].abs()"
   ]
  },
  {
   "cell_type": "markdown",
   "id": "765cafea",
   "metadata": {
    "deletable": false,
    "editable": false,
    "id": "6107dd2f"
   },
   "source": [
    "**Задание 7. Для каждого типа занятости выведите медианное значение трудового стажа `days_employed` в днях.**"
   ]
  },
  {
   "cell_type": "code",
   "execution_count": 8,
   "id": "05e1e12f",
   "metadata": {
    "deletable": false,
    "id": "85a5faf6",
    "outputId": "801ef80e-522b-4668-f34e-565af7432bcf"
   },
   "outputs": [
    {
     "data": {
      "text/plain": [
       "income_type\n",
       "безработный        366413.652744\n",
       "в декрете            3296.759962\n",
       "госслужащий          2689.368353\n",
       "компаньон            1547.382223\n",
       "пенсионер          365213.306266\n",
       "предприниматель       520.848083\n",
       "сотрудник            1574.202821\n",
       "студент               578.751554\n",
       "Name: days_employed, dtype: float64"
      ]
     },
     "execution_count": 8,
     "metadata": {},
     "output_type": "execute_result"
    }
   ],
   "source": [
    "data.groupby('income_type')['days_employed'].agg('median')"
   ]
  },
  {
   "cell_type": "markdown",
   "id": "c6cc913b",
   "metadata": {
    "deletable": false,
    "editable": false,
    "id": "38d1a030"
   },
   "source": [
    "У двух типов (безработные и пенсионеры) получатся аномально большие значения. Исправить такие значения сложно, поэтому оставьте их как есть. Тем более этот столбец не понадобится вам для исследования."
   ]
  },
  {
   "cell_type": "markdown",
   "id": "acee0729",
   "metadata": {
    "deletable": false,
    "editable": false,
    "id": "d8a9f147"
   },
   "source": [
    "**Задание 8. Выведите перечень уникальных значений столбца `children`.**"
   ]
  },
  {
   "cell_type": "code",
   "execution_count": 9,
   "id": "90b0b22b",
   "metadata": {
    "deletable": false,
    "id": "ef5056eb",
    "outputId": "6975b15c-7f95-4697-d16d-a0c79b657b03"
   },
   "outputs": [
    {
     "data": {
      "text/plain": [
       "array([ 1,  0,  3,  2, -1,  4, 20,  5])"
      ]
     },
     "execution_count": 9,
     "metadata": {},
     "output_type": "execute_result"
    }
   ],
   "source": [
    "data['children'].unique()"
   ]
  },
  {
   "cell_type": "markdown",
   "id": "8344fb2f",
   "metadata": {
    "deletable": false,
    "editable": false,
    "id": "40b9ebf2"
   },
   "source": [
    "**Задание 9. В столбце `children` есть два аномальных значения. Удалите строки, в которых встречаются такие аномальные значения из датафрейма `data`.**"
   ]
  },
  {
   "cell_type": "code",
   "execution_count": 10,
   "id": "eafb1504",
   "metadata": {
    "deletable": false,
    "id": "3ff9801d"
   },
   "outputs": [],
   "source": [
    "data = data[(data['children'] != -1) & (data['children'] != 20)]"
   ]
  },
  {
   "cell_type": "markdown",
   "id": "aa2ca31a",
   "metadata": {
    "deletable": false,
    "editable": false,
    "id": "bbc4d0ce"
   },
   "source": [
    "**Задание 10. Ещё раз выведите перечень уникальных значений столбца `children`, чтобы убедиться, что артефакты удалены.**"
   ]
  },
  {
   "cell_type": "code",
   "execution_count": 11,
   "id": "fdf08d87",
   "metadata": {
    "deletable": false,
    "id": "ad4fa8b7",
    "outputId": "b2097101-d49d-44d9-901b-32a65c9463d1"
   },
   "outputs": [
    {
     "data": {
      "text/plain": [
       "array([1, 0, 3, 2, 4, 5])"
      ]
     },
     "execution_count": 11,
     "metadata": {},
     "output_type": "execute_result"
    }
   ],
   "source": [
    "data['children'].unique()"
   ]
  },
  {
   "cell_type": "markdown",
   "id": "4cd338af",
   "metadata": {
    "deletable": false,
    "editable": false,
    "id": "75440b63"
   },
   "source": [
    "### Удаление пропусков (продолжение)"
   ]
  },
  {
   "cell_type": "markdown",
   "id": "01adacc2",
   "metadata": {
    "deletable": false,
    "editable": false,
    "id": "f4ea573f"
   },
   "source": [
    "**Задание 11. Заполните пропуски в столбце `days_employed` медианными значениями по каждого типа занятости `income_type`.**"
   ]
  },
  {
   "cell_type": "code",
   "execution_count": 12,
   "id": "c108a176",
   "metadata": {
    "deletable": false,
    "id": "af6b1a7e"
   },
   "outputs": [],
   "source": [
    "for t in data['income_type'].unique():\n",
    "    data.loc[(data['income_type'] == t) & (data['days_employed'].isna()), 'days_employed'] = \\\n",
    "    data.loc[(data['income_type'] == t), 'days_employed'].median()"
   ]
  },
  {
   "cell_type": "markdown",
   "id": "6cef2b9e",
   "metadata": {
    "deletable": false,
    "editable": false,
    "id": "2753f40d"
   },
   "source": [
    "**Задание 12. Убедитесь, что все пропуски заполнены. Проверьте себя и ещё раз выведите количество пропущенных значений для каждого столбца с помощью двух методов.**"
   ]
  },
  {
   "cell_type": "code",
   "execution_count": 13,
   "id": "b265e25b",
   "metadata": {
    "deletable": false,
    "id": "55f78bc2",
    "outputId": "8da1e4e1-358e-4e87-98c9-f261bce0a7b2"
   },
   "outputs": [
    {
     "data": {
      "text/plain": [
       "children            0\n",
       "days_employed       0\n",
       "dob_years           0\n",
       "education           0\n",
       "education_id        0\n",
       "family_status       0\n",
       "family_status_id    0\n",
       "gender              0\n",
       "income_type         0\n",
       "debt                0\n",
       "total_income        0\n",
       "purpose             0\n",
       "dtype: int64"
      ]
     },
     "execution_count": 13,
     "metadata": {},
     "output_type": "execute_result"
    }
   ],
   "source": [
    "data.isna().sum()"
   ]
  },
  {
   "cell_type": "markdown",
   "id": "36fa866f",
   "metadata": {
    "deletable": false,
    "editable": false,
    "id": "ddc81e43"
   },
   "source": [
    "### Изменение типов данных"
   ]
  },
  {
   "cell_type": "markdown",
   "id": "1498b3be",
   "metadata": {
    "deletable": false,
    "editable": false,
    "id": "42d19d24"
   },
   "source": [
    "**Задание 13. Замените вещественный тип данных в столбце `total_income` на целочисленный с помощью метода `astype()`.**"
   ]
  },
  {
   "cell_type": "code",
   "execution_count": 14,
   "id": "f6bc80a2",
   "metadata": {
    "deletable": false,
    "id": "920b65ad"
   },
   "outputs": [],
   "source": [
    "data['total_income'] = data['total_income'].astype(int)"
   ]
  },
  {
   "cell_type": "markdown",
   "id": "91ab34f6",
   "metadata": {
    "deletable": false,
    "editable": false,
    "id": "80c420ba"
   },
   "source": [
    "### Обработка дубликатов"
   ]
  },
  {
   "cell_type": "markdown",
   "id": "61af5691",
   "metadata": {
    "deletable": false,
    "editable": false
   },
   "source": [
    "**Задание 14. Обработайте неявные дубликаты в столбце `education`. В этом столбце есть одни и те же значения, но записанные по-разному: с использованием заглавных и строчных букв. Приведите их к нижнему регистру. Проверьте остальные столбцы.**"
   ]
  },
  {
   "cell_type": "code",
   "execution_count": 15,
   "id": "f99af335",
   "metadata": {
    "deletable": false
   },
   "outputs": [],
   "source": [
    "data['education'] = data['education'].str.lower()"
   ]
  },
  {
   "cell_type": "markdown",
   "id": "9805d13c",
   "metadata": {
    "deletable": false,
    "editable": false,
    "id": "dc587695"
   },
   "source": [
    "**Задание 15. Выведите на экран количество строк-дубликатов в данных. Если такие строки присутствуют, удалите их.**"
   ]
  },
  {
   "cell_type": "code",
   "execution_count": 16,
   "id": "a899e915",
   "metadata": {
    "deletable": false,
    "id": "3ee445e4",
    "outputId": "9684deba-1934-42d1-99e1-cda61740f822"
   },
   "outputs": [
    {
     "data": {
      "text/plain": [
       "71"
      ]
     },
     "execution_count": 16,
     "metadata": {},
     "output_type": "execute_result"
    }
   ],
   "source": [
    "data.duplicated().sum()"
   ]
  },
  {
   "cell_type": "code",
   "execution_count": 17,
   "id": "593623b9",
   "metadata": {
    "deletable": false,
    "id": "8575fe05"
   },
   "outputs": [],
   "source": [
    "data = data.drop_duplicates()"
   ]
  },
  {
   "cell_type": "markdown",
   "id": "89823a6c",
   "metadata": {
    "deletable": false,
    "editable": false,
    "id": "9904cf55"
   },
   "source": [
    "### Категоризация данных"
   ]
  },
  {
   "cell_type": "markdown",
   "id": "6c672f55",
   "metadata": {
    "deletable": false,
    "editable": false,
    "id": "72fcc8a2"
   },
   "source": [
    "**Задание 16. На основании диапазонов, указанных ниже, создайте в датафрейме `data` столбец `total_income_category` с категориями:**\n",
    "\n",
    "- 0–30000 — `'E'`;\n",
    "- 30001–50000 — `'D'`;\n",
    "- 50001–200000 — `'C'`;\n",
    "- 200001–1000000 — `'B'`;\n",
    "- 1000001 и выше — `'A'`.\n",
    "\n",
    "\n",
    "**Например, кредитополучателю с доходом 25000 нужно назначить категорию `'E'`, а клиенту, получающему 235000, — `'B'`. Используйте собственную функцию с именем `categorize_income()` и метод `apply()`.**"
   ]
  },
  {
   "cell_type": "code",
   "execution_count": 18,
   "id": "99052a5c",
   "metadata": {
    "deletable": false,
    "id": "e1771346"
   },
   "outputs": [],
   "source": [
    "def categorize_income(income):\n",
    "    try:\n",
    "        if 0 <= income <= 30000:\n",
    "            return 'E'\n",
    "        elif 30001 <= income <= 50000:\n",
    "            return 'D'\n",
    "        elif 50001 <= income <= 200000:\n",
    "            return 'C'\n",
    "        elif 200001 <= income <= 1000000:\n",
    "            return 'B'\n",
    "        elif income >= 1000001:\n",
    "            return 'A'\n",
    "    except:\n",
    "        pass"
   ]
  },
  {
   "cell_type": "code",
   "execution_count": 19,
   "id": "e6111422",
   "metadata": {
    "deletable": false,
    "id": "d5f3586d"
   },
   "outputs": [],
   "source": [
    "data['total_income_category'] = data['total_income'].apply(categorize_income)"
   ]
  },
  {
   "cell_type": "markdown",
   "id": "5a03f093",
   "metadata": {
    "deletable": false,
    "editable": false,
    "id": "dde49b5c"
   },
   "source": [
    "**Задание 17. Выведите на экран перечень уникальных целей взятия кредита из столбца `purpose`.**"
   ]
  },
  {
   "cell_type": "code",
   "execution_count": 20,
   "id": "38fdbdd7",
   "metadata": {
    "deletable": false,
    "id": "f67ce9b3",
    "outputId": "673c12d9-7d7e-4ae0-9812-c622c89dd244"
   },
   "outputs": [
    {
     "data": {
      "text/plain": [
       "array(['покупка жилья', 'приобретение автомобиля',\n",
       "       'дополнительное образование', 'сыграть свадьбу',\n",
       "       'операции с жильем', 'образование', 'на проведение свадьбы',\n",
       "       'покупка жилья для семьи', 'покупка недвижимости',\n",
       "       'покупка коммерческой недвижимости', 'покупка жилой недвижимости',\n",
       "       'строительство собственной недвижимости', 'недвижимость',\n",
       "       'строительство недвижимости', 'на покупку подержанного автомобиля',\n",
       "       'на покупку своего автомобиля',\n",
       "       'операции с коммерческой недвижимостью',\n",
       "       'строительство жилой недвижимости', 'жилье',\n",
       "       'операции со своей недвижимостью', 'автомобили',\n",
       "       'заняться образованием', 'сделка с подержанным автомобилем',\n",
       "       'получение образования', 'автомобиль', 'свадьба',\n",
       "       'получение дополнительного образования', 'покупка своего жилья',\n",
       "       'операции с недвижимостью', 'получение высшего образования',\n",
       "       'свой автомобиль', 'сделка с автомобилем',\n",
       "       'профильное образование', 'высшее образование',\n",
       "       'покупка жилья для сдачи', 'на покупку автомобиля', 'ремонт жилью',\n",
       "       'заняться высшим образованием'], dtype=object)"
      ]
     },
     "execution_count": 20,
     "metadata": {},
     "output_type": "execute_result"
    }
   ],
   "source": [
    "data['purpose'].unique()"
   ]
  },
  {
   "cell_type": "markdown",
   "id": "7ad208bc",
   "metadata": {
    "deletable": false,
    "editable": false,
    "id": "85d0aef0"
   },
   "source": [
    "**Задание 18. Создайте функцию, которая на основании данных из столбца `purpose` сформирует новый столбец `purpose_category`, в который войдут следующие категории:**\n",
    "\n",
    "- `'операции с автомобилем'`,\n",
    "- `'операции с недвижимостью'`,\n",
    "- `'проведение свадьбы'`,\n",
    "- `'получение образования'`.\n",
    "\n",
    "**Например, если в столбце `purpose` находится подстрока `'на покупку автомобиля'`, то в столбце `purpose_category` должна появиться строка `'операции с автомобилем'`.**\n",
    "\n",
    "**Используйте собственную функцию с именем `categorize_purpose()` и метод `apply()`. Изучите данные в столбце `purpose` и определите, какие подстроки помогут вам правильно определить категорию.**"
   ]
  },
  {
   "cell_type": "code",
   "execution_count": 21,
   "id": "2ea9f52a",
   "metadata": {
    "deletable": false,
    "id": "e149fab4"
   },
   "outputs": [],
   "source": [
    "def categorize_purpose(row):\n",
    "    try:\n",
    "        if 'автом' in row:\n",
    "            return 'операции с автомобилем'\n",
    "        elif 'жил' in row or 'недвиж' in row:\n",
    "            return 'операции с недвижимостью'\n",
    "        elif 'свад' in row:\n",
    "            return 'проведение свадьбы'\n",
    "        elif 'образов' in row:\n",
    "            return 'получение образования'\n",
    "    except:\n",
    "        return 'нет категории'"
   ]
  },
  {
   "cell_type": "code",
   "execution_count": 22,
   "id": "20341126",
   "metadata": {
    "deletable": false,
    "id": "bf36e69b"
   },
   "outputs": [],
   "source": [
    "data['purpose_category'] = data['purpose'].apply(categorize_purpose)"
   ]
  },
  {
   "cell_type": "markdown",
   "id": "0ba3d408",
   "metadata": {},
   "source": [
    "<div class=\"alert alert-success\">\n",
    "<h2> Комментарий ревьюера <a class=\"tocSkip\"> </h2>\n",
    "\n",
    "<b>Все супер!👍:</b> Так, нам сюда)"
   ]
  },
  {
   "cell_type": "markdown",
   "id": "27194a0a",
   "metadata": {
    "deletable": false,
    "editable": false,
    "id": "09b242bf"
   },
   "source": [
    "### Шаг 3. Исследуйте данные и ответьте на вопросы"
   ]
  },
  {
   "cell_type": "markdown",
   "id": "a4048650",
   "metadata": {
    "deletable": false,
    "editable": false,
    "id": "c5d66278"
   },
   "source": [
    "#### 3.1 Есть ли зависимость между количеством детей и возвратом кредита в срок?"
   ]
  },
  {
   "cell_type": "markdown",
   "id": "8be0f3ec",
   "metadata": {},
   "source": [
    "Для ответа на поставленный вопрос - есть ли зависимость между количеством детей и возвратом кредита в срок, разделим заемщиков по категориям, в соответствии с социально-демографическими характеристиками семей по количеству детей семьи бывают: \n",
    "1. Бездетные (супружеские)\n",
    "2. Малодетные (1-2 ребёнка)\n",
    "3. Многодетные (3 и более детей)\n",
    "Создадим функцию c насзванием categorize_children, котора будет возвращать следующие значения при значении столбца children:\n",
    "0 - бездетные\n",
    "1-2 - малодетные\n",
    "3 и более - многодетные"
   ]
  },
  {
   "cell_type": "code",
   "execution_count": 23,
   "id": "68df8c7a",
   "metadata": {
    "deletable": false,
    "id": "2cacfc4a"
   },
   "outputs": [],
   "source": [
    "def categorize_children(child):\n",
    "    try:\n",
    "        if child <= 0:\n",
    "            return 'бездетная семья'\n",
    "        if 1 <= child <= 2:\n",
    "            return 'малодетная семья'\n",
    "        if child >= 3:\n",
    "            return 'многодетная семья'\n",
    "    except:\n",
    "            pass"
   ]
  },
  {
   "cell_type": "markdown",
   "id": "0038975c",
   "metadata": {},
   "source": [
    "Итак, функция работает. Теперь добавим в таблицу столбец children_category, содержащий сведения о категории семьи заемщика:"
   ]
  },
  {
   "cell_type": "code",
   "execution_count": 24,
   "id": "e88146d5",
   "metadata": {},
   "outputs": [],
   "source": [
    "data['children_category'] = data['children'].apply(categorize_children)"
   ]
  },
  {
   "cell_type": "markdown",
   "id": "2a84c21e",
   "metadata": {},
   "source": [
    "Для продолжения исследования разобьем заемщиков на категории в зависимости от наличия просрочек. Для этого создадим функцию categorize_debt, которая вернет нам следующие значения, при значении столбца debt:\n",
    "0 - 'нет просроченных платежей'\n",
    "1 - 'есть просроченные платежи'"
   ]
  },
  {
   "cell_type": "code",
   "execution_count": 25,
   "id": "1ee8224f",
   "metadata": {},
   "outputs": [
    {
     "name": "stdout",
     "output_type": "stream",
     "text": [
      "есть просроченные платежи\n"
     ]
    }
   ],
   "source": [
    "def categorize_debt(row):\n",
    "    if row == 0:\n",
    "        return 'нет просроченных платежей'\n",
    "    if row == 1:\n",
    "        return 'есть просроченные платежи'\n",
    "    \n",
    "print(categorize_debt(1))"
   ]
  },
  {
   "cell_type": "markdown",
   "id": "c917fa92",
   "metadata": {},
   "source": [
    "Добавим в таблицу столбец debt_category, содержащий сведения о наличии задолженности:"
   ]
  },
  {
   "cell_type": "code",
   "execution_count": 26,
   "id": "4d136a88",
   "metadata": {},
   "outputs": [],
   "source": [
    "data['debt_category'] = data['debt'].apply(categorize_debt)\n"
   ]
  },
  {
   "cell_type": "markdown",
   "id": "cc323097",
   "metadata": {},
   "source": [
    "Теперь сравним выборку по двум категориям - в первой категория заемщика, в зависимости от количества детей, во второй - в зависимости от отсутсвия или наличия просроченных платежей: "
   ]
  },
  {
   "cell_type": "code",
   "execution_count": 27,
   "id": "971b0e5e",
   "metadata": {},
   "outputs": [
    {
     "name": "stdout",
     "output_type": "stream",
     "text": [
      "                                              debt\n",
      "children_category debt_category                   \n",
      "бездетная семья   есть просроченные платежи   1063\n",
      "                  нет просроченных платежей  13028\n",
      "малодетная семья  есть просроченные платежи    638\n",
      "                  нет просроченных платежей   6222\n",
      "многодетная семья есть просроченные платежи     31\n",
      "                  нет просроченных платежей    349\n"
     ]
    }
   ],
   "source": [
    "print(data.pivot_table('debt', ['children_category', 'debt_category'], aggfunc = 'count'))\n"
   ]
  },
  {
   "cell_type": "markdown",
   "id": "d889d8c7",
   "metadata": {},
   "source": [
    "Теперь пересчитаем количество заемщиков в каждой категории семей для вычисления корреляции между категориями по наличию просроченных платежей и отсортируем от меньшего к большему:"
   ]
  },
  {
   "cell_type": "code",
   "execution_count": 28,
   "id": "56649e0f",
   "metadata": {
    "scrolled": true
   },
   "outputs": [
    {
     "name": "stdout",
     "output_type": "stream",
     "text": [
      "                   count   sum  correlation\n",
      "children_category                          \n",
      "бездетная семья    14091  1063     7.543822\n",
      "многодетная семья    380    31     8.157895\n",
      "малодетная семья    6860   638     9.300292\n"
     ]
    }
   ],
   "source": [
    "children_grouped = data.groupby('children_category')['debt'].agg(['count', 'sum'])\n",
    "children_grouped['correlation'] = (children_grouped['sum']/children_grouped['count'])*100\n",
    "print(children_grouped.sort_values('correlation'))"
   ]
  },
  {
   "cell_type": "markdown",
   "id": "77ca2586",
   "metadata": {
    "deletable": false,
    "id": "3a6b99ec"
   },
   "source": [
    "**Вывод:** "
   ]
  },
  {
   "cell_type": "markdown",
   "id": "0b740d1f",
   "metadata": {},
   "source": [
    "Вопрос исследования - есть ли зависимость между количеством детей заемщика и возвратом кредита в срок. По существу исследования можно сказать, что среди всех заемщиков самую большую долю имеют бездетные заемщики, они же имеют самый маленький процент просроченных платежей. Многодетные семьи имеют меньше всего займов и занимают второе место по количеству просроченных платежей. Доля заемщиков с 1-2 детьми составляет немного менее 30% от общего количества заемщиков, но при этом имеет самое большое количество просроченных платежей. Соответственно самая надежная категория заемщиков в текущем разрезе - бездетные заемщики, самые ненадежные - заемщики из малодетных семей.\n"
   ]
  },
  {
   "cell_type": "markdown",
   "id": "04861735",
   "metadata": {},
   "source": [
    "<div class=\"alert alert-success\">\n",
    "<h2> Комментарий ревьюера <a class=\"tocSkip\"> </h2>\n",
    "\n",
    "<b>Все супер!👍:</b> Все верно, молодец. Отмечу, что подобного результат можно добиться более простым способом, если использовать сводные таблицы."
   ]
  },
  {
   "cell_type": "markdown",
   "id": "bc2c4376",
   "metadata": {
    "deletable": false,
    "editable": false,
    "id": "97be82ca"
   },
   "source": [
    "#### 3.2 Есть ли зависимость между семейным положением и возвратом кредита в срок?"
   ]
  },
  {
   "cell_type": "markdown",
   "id": "93800df5",
   "metadata": {},
   "source": [
    "Переберем количество уникальных значений столбца \"семейный статус\". Их количества достаточно для того, чтобы не производить категоризацию и сохранить читаемость и доступность информации."
   ]
  },
  {
   "cell_type": "code",
   "execution_count": 32,
   "id": "a445ff20",
   "metadata": {
    "deletable": false,
    "id": "dc3f7ee8"
   },
   "outputs": [
    {
     "data": {
      "text/plain": [
       "array(['женат / замужем', 'гражданский брак', 'вдовец / вдова',\n",
       "       'в разводе', 'Не женат / не замужем'], dtype=object)"
      ]
     },
     "execution_count": 32,
     "metadata": {},
     "output_type": "execute_result"
    }
   ],
   "source": [
    "data['family_status'].unique() # Ваш код будет здесь. Вы можете создавать новые ячейки."
   ]
  },
  {
   "cell_type": "markdown",
   "id": "1d55d141",
   "metadata": {},
   "source": [
    "Сгруппируем данные в столбце, и сразу же подсчитаем количество значений для разных статусов, и сумму значений в стобце debt. Следующим действием установим отношение количества заемщиков с просроченными платежами относительно заемщиков без таковых в процентном соотношении."
   ]
  },
  {
   "cell_type": "code",
   "execution_count": 37,
   "id": "3cf0cb8d",
   "metadata": {},
   "outputs": [
    {
     "name": "stdout",
     "output_type": "stream",
     "text": [
      "                       count  sum  correlation\n",
      "family_status                                 \n",
      "вдовец / вдова           951   63     6.624606\n",
      "в разводе               1189   84     7.064760\n",
      "женат / замужем        12261  927     7.560558\n",
      "гражданский брак        4134  385     9.313014\n",
      "Не женат / не замужем   2796  273     9.763948\n"
     ]
    }
   ],
   "source": [
    "family_status_grouped = data.groupby('family_status')['debt'].agg(['count', 'sum'])\n",
    "family_status_grouped['correlation'] = (family_status_grouped['sum']/family_status_grouped['count'])*100\n",
    "print(family_status_grouped.sort_values('correlation'))"
   ]
  },
  {
   "cell_type": "markdown",
   "id": "6c4ab661",
   "metadata": {
    "deletable": false,
    "id": "1cef7837"
   },
   "source": [
    "**Вывод:** "
   ]
  },
  {
   "cell_type": "markdown",
   "id": "8d95a9c1",
   "metadata": {},
   "source": [
    "Отсортировав данные в столбце correlation в порядке возрастания мы видим, что самые надежные заемщики в статусе \"вдовец/вдова\", а самые ненадежные - состоят в незарегистрированном сожительстве или холосты."
   ]
  },
  {
   "cell_type": "markdown",
   "id": "37a0f8c9",
   "metadata": {},
   "source": [
    "<div class=\"alert alert-success\">\n",
    "<h2> Комментарий ревьюера <a class=\"tocSkip\"> </h2>\n",
    "\n",
    "<b>Все супер!👍:</b> Верно. Если пожвести итог, то можно сказать, что надежнее те люди, кто когда-либо вступал в брак, верно?"
   ]
  },
  {
   "cell_type": "markdown",
   "id": "e80058fc",
   "metadata": {
    "deletable": false,
    "editable": false,
    "id": "1e8b2fca"
   },
   "source": [
    "#### 3.3 Есть ли зависимость между уровнем дохода и возвратом кредита в срок?"
   ]
  },
  {
   "cell_type": "markdown",
   "id": "c7c06562",
   "metadata": {},
   "source": [
    "Для ответа на поставленный вопрос сгруппируем данные в столбце total_income_category и сопоставим со столбцом debt."
   ]
  },
  {
   "cell_type": "code",
   "execution_count": 46,
   "id": "4e663f07",
   "metadata": {
    "deletable": false,
    "id": "cd7e3720"
   },
   "outputs": [
    {
     "name": "stdout",
     "output_type": "stream",
     "text": [
      "                       count   sum  correlation\n",
      "total_income_category                          \n",
      "D                        349    21     6.017192\n",
      "B                       5014   354     7.060231\n",
      "A                         25     2     8.000000\n",
      "C                      15921  1353     8.498210\n",
      "E                         22     2     9.090909\n"
     ]
    }
   ],
   "source": [
    "total_income_category_grouped = data.groupby('total_income_category')['debt'].agg(['count', 'sum'])\n",
    "total_income_category_grouped['correlation'] = (total_income_category_grouped['sum']/total_income_category_grouped['count'])*100\n",
    "print(total_income_category_grouped.sort_values('correlation'))"
   ]
  },
  {
   "cell_type": "markdown",
   "id": "125f2e94",
   "metadata": {
    "deletable": false,
    "id": "e8593def"
   },
   "source": [
    "**Вывод:** "
   ]
  },
  {
   "cell_type": "markdown",
   "id": "e909f5d7",
   "metadata": {},
   "source": [
    "Вспомним, что категории присваивались по следующим параметрам:\n",
    "0–30000 — 'E';\n",
    "30001–50000 — 'D';\n",
    "50001–200000 — 'C';\n",
    "200001–1000000 — 'B';\n",
    "1000001 и выше — 'A'.\n",
    "Исходя из этого сделаем вывод, что заемщики с категорией дохода D имеют меньше всех просроченных платежей. В то время как заемщики категории С берут займы чаще всего, но и допускают значительное количество просрочек. Объем выборки по категориям A и C - 25 и 22 человека мал и может быть не репрезентативен, что следует учитывать при принятии решений."
   ]
  },
  {
   "cell_type": "markdown",
   "id": "95c4d950",
   "metadata": {},
   "source": [
    "<div class=\"alert alert-success\">\n",
    "<h2> Комментарий ревьюера <a class=\"tocSkip\"> </h2>\n",
    "\n",
    "<b>Все супер!👍:</b> Все верно, молодец. Только еще репрезентатвиность вывода по категории D тоже можно ставить под впорос, в ней меньше 5% данных от датафрейма"
   ]
  },
  {
   "cell_type": "markdown",
   "id": "5f4d361f",
   "metadata": {
    "deletable": false,
    "editable": false,
    "id": "99ecbd1f"
   },
   "source": [
    "#### 3.4 Как разные цели кредита влияют на его возврат в срок?"
   ]
  },
  {
   "cell_type": "code",
   "execution_count": 51,
   "id": "37ff6558",
   "metadata": {
    "deletable": false,
    "id": "2b687290"
   },
   "outputs": [
    {
     "name": "stdout",
     "output_type": "stream",
     "text": [
      "                          count  sum  correlation\n",
      "purpose_category                                 \n",
      "операции с недвижимостью  10751  780     7.255139\n",
      "проведение свадьбы         2313  183     7.911803\n",
      "получение образования      3988  369     9.252758\n",
      "операции с автомобилем     4279  400     9.347978\n"
     ]
    }
   ],
   "source": [
    "purpose_category_grouped = data.groupby('purpose_category')['debt'].agg(['count', 'sum'])\n",
    "purpose_category_grouped['correlation'] = (purpose_category_grouped['sum']/purpose_category_grouped['count'])*100\n",
    "print(purpose_category_grouped.sort_values('correlation'))\n"
   ]
  },
  {
   "cell_type": "markdown",
   "id": "98bc5907",
   "metadata": {
    "deletable": false,
    "id": "b4bb2ce6"
   },
   "source": [
    "**Вывод:** "
   ]
  },
  {
   "cell_type": "markdown",
   "id": "b59e6d64",
   "metadata": {},
   "source": [
    "По итогам последнего сравнения самые надежные заемщики - те, что планируют проведение операций с недвижимостью, а чаще всех допускают просрочки заемщики, цель которых операции с автомобилем."
   ]
  },
  {
   "cell_type": "markdown",
   "id": "b7dd44b7",
   "metadata": {},
   "source": [
    "<div class=\"alert alert-success\">\n",
    "<h2> Комментарий ревьюера <a class=\"tocSkip\"> </h2>\n",
    "\n",
    "<b>Все супер!👍:</b> Верно)"
   ]
  },
  {
   "cell_type": "markdown",
   "id": "b7bbe15e",
   "metadata": {},
   "source": [
    "Финальный просмотр дата-сета:"
   ]
  },
  {
   "cell_type": "code",
   "execution_count": 61,
   "id": "980a86d4",
   "metadata": {
    "scrolled": true
   },
   "outputs": [
    {
     "data": {
      "text/html": [
       "<div>\n",
       "<style scoped>\n",
       "    .dataframe tbody tr th:only-of-type {\n",
       "        vertical-align: middle;\n",
       "    }\n",
       "\n",
       "    .dataframe tbody tr th {\n",
       "        vertical-align: top;\n",
       "    }\n",
       "\n",
       "    .dataframe thead th {\n",
       "        text-align: right;\n",
       "    }\n",
       "</style>\n",
       "<table border=\"1\" class=\"dataframe\">\n",
       "  <thead>\n",
       "    <tr style=\"text-align: right;\">\n",
       "      <th></th>\n",
       "      <th>children</th>\n",
       "      <th>days_employed</th>\n",
       "      <th>dob_years</th>\n",
       "      <th>education</th>\n",
       "      <th>education_id</th>\n",
       "      <th>family_status</th>\n",
       "      <th>family_status_id</th>\n",
       "      <th>gender</th>\n",
       "      <th>income_type</th>\n",
       "      <th>debt</th>\n",
       "      <th>total_income</th>\n",
       "      <th>purpose</th>\n",
       "      <th>total_income_category</th>\n",
       "      <th>purpose_category</th>\n",
       "      <th>children_category</th>\n",
       "      <th>debt_category</th>\n",
       "    </tr>\n",
       "  </thead>\n",
       "  <tbody>\n",
       "    <tr>\n",
       "      <th>0</th>\n",
       "      <td>1</td>\n",
       "      <td>8437.673028</td>\n",
       "      <td>42</td>\n",
       "      <td>высшее</td>\n",
       "      <td>0</td>\n",
       "      <td>женат / замужем</td>\n",
       "      <td>0</td>\n",
       "      <td>F</td>\n",
       "      <td>сотрудник</td>\n",
       "      <td>0</td>\n",
       "      <td>253875</td>\n",
       "      <td>покупка жилья</td>\n",
       "      <td>B</td>\n",
       "      <td>операции с недвижимостью</td>\n",
       "      <td>малодетная семья</td>\n",
       "      <td>нет просроченных платежей</td>\n",
       "    </tr>\n",
       "    <tr>\n",
       "      <th>1</th>\n",
       "      <td>1</td>\n",
       "      <td>4024.803754</td>\n",
       "      <td>36</td>\n",
       "      <td>среднее</td>\n",
       "      <td>1</td>\n",
       "      <td>женат / замужем</td>\n",
       "      <td>0</td>\n",
       "      <td>F</td>\n",
       "      <td>сотрудник</td>\n",
       "      <td>0</td>\n",
       "      <td>112080</td>\n",
       "      <td>приобретение автомобиля</td>\n",
       "      <td>C</td>\n",
       "      <td>операции с автомобилем</td>\n",
       "      <td>малодетная семья</td>\n",
       "      <td>нет просроченных платежей</td>\n",
       "    </tr>\n",
       "    <tr>\n",
       "      <th>2</th>\n",
       "      <td>0</td>\n",
       "      <td>5623.422610</td>\n",
       "      <td>33</td>\n",
       "      <td>среднее</td>\n",
       "      <td>1</td>\n",
       "      <td>женат / замужем</td>\n",
       "      <td>0</td>\n",
       "      <td>M</td>\n",
       "      <td>сотрудник</td>\n",
       "      <td>0</td>\n",
       "      <td>145885</td>\n",
       "      <td>покупка жилья</td>\n",
       "      <td>C</td>\n",
       "      <td>операции с недвижимостью</td>\n",
       "      <td>бездетная семья</td>\n",
       "      <td>нет просроченных платежей</td>\n",
       "    </tr>\n",
       "    <tr>\n",
       "      <th>3</th>\n",
       "      <td>3</td>\n",
       "      <td>4124.747207</td>\n",
       "      <td>32</td>\n",
       "      <td>среднее</td>\n",
       "      <td>1</td>\n",
       "      <td>женат / замужем</td>\n",
       "      <td>0</td>\n",
       "      <td>M</td>\n",
       "      <td>сотрудник</td>\n",
       "      <td>0</td>\n",
       "      <td>267628</td>\n",
       "      <td>дополнительное образование</td>\n",
       "      <td>B</td>\n",
       "      <td>получение образования</td>\n",
       "      <td>многодетная семья</td>\n",
       "      <td>нет просроченных платежей</td>\n",
       "    </tr>\n",
       "    <tr>\n",
       "      <th>4</th>\n",
       "      <td>0</td>\n",
       "      <td>340266.072047</td>\n",
       "      <td>53</td>\n",
       "      <td>среднее</td>\n",
       "      <td>1</td>\n",
       "      <td>гражданский брак</td>\n",
       "      <td>1</td>\n",
       "      <td>F</td>\n",
       "      <td>пенсионер</td>\n",
       "      <td>0</td>\n",
       "      <td>158616</td>\n",
       "      <td>сыграть свадьбу</td>\n",
       "      <td>C</td>\n",
       "      <td>проведение свадьбы</td>\n",
       "      <td>бездетная семья</td>\n",
       "      <td>нет просроченных платежей</td>\n",
       "    </tr>\n",
       "    <tr>\n",
       "      <th>5</th>\n",
       "      <td>0</td>\n",
       "      <td>926.185831</td>\n",
       "      <td>27</td>\n",
       "      <td>высшее</td>\n",
       "      <td>0</td>\n",
       "      <td>гражданский брак</td>\n",
       "      <td>1</td>\n",
       "      <td>M</td>\n",
       "      <td>компаньон</td>\n",
       "      <td>0</td>\n",
       "      <td>255763</td>\n",
       "      <td>покупка жилья</td>\n",
       "      <td>B</td>\n",
       "      <td>операции с недвижимостью</td>\n",
       "      <td>бездетная семья</td>\n",
       "      <td>нет просроченных платежей</td>\n",
       "    </tr>\n",
       "    <tr>\n",
       "      <th>6</th>\n",
       "      <td>0</td>\n",
       "      <td>2879.202052</td>\n",
       "      <td>43</td>\n",
       "      <td>высшее</td>\n",
       "      <td>0</td>\n",
       "      <td>женат / замужем</td>\n",
       "      <td>0</td>\n",
       "      <td>F</td>\n",
       "      <td>компаньон</td>\n",
       "      <td>0</td>\n",
       "      <td>240525</td>\n",
       "      <td>операции с жильем</td>\n",
       "      <td>B</td>\n",
       "      <td>операции с недвижимостью</td>\n",
       "      <td>бездетная семья</td>\n",
       "      <td>нет просроченных платежей</td>\n",
       "    </tr>\n",
       "    <tr>\n",
       "      <th>7</th>\n",
       "      <td>0</td>\n",
       "      <td>152.779569</td>\n",
       "      <td>50</td>\n",
       "      <td>среднее</td>\n",
       "      <td>1</td>\n",
       "      <td>женат / замужем</td>\n",
       "      <td>0</td>\n",
       "      <td>M</td>\n",
       "      <td>сотрудник</td>\n",
       "      <td>0</td>\n",
       "      <td>135823</td>\n",
       "      <td>образование</td>\n",
       "      <td>C</td>\n",
       "      <td>получение образования</td>\n",
       "      <td>бездетная семья</td>\n",
       "      <td>нет просроченных платежей</td>\n",
       "    </tr>\n",
       "    <tr>\n",
       "      <th>8</th>\n",
       "      <td>2</td>\n",
       "      <td>6929.865299</td>\n",
       "      <td>35</td>\n",
       "      <td>высшее</td>\n",
       "      <td>0</td>\n",
       "      <td>гражданский брак</td>\n",
       "      <td>1</td>\n",
       "      <td>F</td>\n",
       "      <td>сотрудник</td>\n",
       "      <td>0</td>\n",
       "      <td>95856</td>\n",
       "      <td>на проведение свадьбы</td>\n",
       "      <td>C</td>\n",
       "      <td>проведение свадьбы</td>\n",
       "      <td>малодетная семья</td>\n",
       "      <td>нет просроченных платежей</td>\n",
       "    </tr>\n",
       "    <tr>\n",
       "      <th>9</th>\n",
       "      <td>0</td>\n",
       "      <td>2188.756445</td>\n",
       "      <td>41</td>\n",
       "      <td>среднее</td>\n",
       "      <td>1</td>\n",
       "      <td>женат / замужем</td>\n",
       "      <td>0</td>\n",
       "      <td>M</td>\n",
       "      <td>сотрудник</td>\n",
       "      <td>0</td>\n",
       "      <td>144425</td>\n",
       "      <td>покупка жилья для семьи</td>\n",
       "      <td>C</td>\n",
       "      <td>операции с недвижимостью</td>\n",
       "      <td>бездетная семья</td>\n",
       "      <td>нет просроченных платежей</td>\n",
       "    </tr>\n",
       "  </tbody>\n",
       "</table>\n",
       "</div>"
      ],
      "text/plain": [
       "   children  days_employed  dob_years education  education_id  \\\n",
       "0         1    8437.673028         42    высшее             0   \n",
       "1         1    4024.803754         36   среднее             1   \n",
       "2         0    5623.422610         33   среднее             1   \n",
       "3         3    4124.747207         32   среднее             1   \n",
       "4         0  340266.072047         53   среднее             1   \n",
       "5         0     926.185831         27    высшее             0   \n",
       "6         0    2879.202052         43    высшее             0   \n",
       "7         0     152.779569         50   среднее             1   \n",
       "8         2    6929.865299         35    высшее             0   \n",
       "9         0    2188.756445         41   среднее             1   \n",
       "\n",
       "      family_status  family_status_id gender income_type  debt  total_income  \\\n",
       "0   женат / замужем                 0      F   сотрудник     0        253875   \n",
       "1   женат / замужем                 0      F   сотрудник     0        112080   \n",
       "2   женат / замужем                 0      M   сотрудник     0        145885   \n",
       "3   женат / замужем                 0      M   сотрудник     0        267628   \n",
       "4  гражданский брак                 1      F   пенсионер     0        158616   \n",
       "5  гражданский брак                 1      M   компаньон     0        255763   \n",
       "6   женат / замужем                 0      F   компаньон     0        240525   \n",
       "7   женат / замужем                 0      M   сотрудник     0        135823   \n",
       "8  гражданский брак                 1      F   сотрудник     0         95856   \n",
       "9   женат / замужем                 0      M   сотрудник     0        144425   \n",
       "\n",
       "                      purpose total_income_category          purpose_category  \\\n",
       "0               покупка жилья                     B  операции с недвижимостью   \n",
       "1     приобретение автомобиля                     C    операции с автомобилем   \n",
       "2               покупка жилья                     C  операции с недвижимостью   \n",
       "3  дополнительное образование                     B     получение образования   \n",
       "4             сыграть свадьбу                     C        проведение свадьбы   \n",
       "5               покупка жилья                     B  операции с недвижимостью   \n",
       "6           операции с жильем                     B  операции с недвижимостью   \n",
       "7                 образование                     C     получение образования   \n",
       "8       на проведение свадьбы                     C        проведение свадьбы   \n",
       "9     покупка жилья для семьи                     C  операции с недвижимостью   \n",
       "\n",
       "   children_category              debt_category  \n",
       "0   малодетная семья  нет просроченных платежей  \n",
       "1   малодетная семья  нет просроченных платежей  \n",
       "2    бездетная семья  нет просроченных платежей  \n",
       "3  многодетная семья  нет просроченных платежей  \n",
       "4    бездетная семья  нет просроченных платежей  \n",
       "5    бездетная семья  нет просроченных платежей  \n",
       "6    бездетная семья  нет просроченных платежей  \n",
       "7    бездетная семья  нет просроченных платежей  \n",
       "8   малодетная семья  нет просроченных платежей  \n",
       "9    бездетная семья  нет просроченных платежей  "
      ]
     },
     "metadata": {},
     "output_type": "display_data"
    }
   ],
   "source": [
    "display(data.head(10))"
   ]
  },
  {
   "cell_type": "markdown",
   "id": "fca1ca14",
   "metadata": {
    "deletable": false,
    "editable": false,
    "id": "09c3ac4c"
   },
   "source": [
    "#### 3.5 Приведите возможные причины появления пропусков в исходных данных."
   ]
  },
  {
   "cell_type": "code",
   "execution_count": null,
   "id": "4d9e3e9e",
   "metadata": {},
   "outputs": [],
   "source": []
  },
  {
   "cell_type": "markdown",
   "id": "656dd6e6",
   "metadata": {
    "deletable": false,
    "id": "9da2ceda"
   },
   "source": [
    "*Ответ:* Невозможность получения данный\n",
    "Ошибки ввода (человеческий фактор)\n",
    "Невозможность обработки данных\n",
    "Сокрытие данных\n",
    "Ошибки при загрузке/выгрузке данных (техногенный фактор)"
   ]
  },
  {
   "cell_type": "markdown",
   "id": "809e6ae9",
   "metadata": {},
   "source": [
    "<div class=\"alert alert-success\">\n",
    "<h2> Комментарий ревьюера <a class=\"tocSkip\"> </h2>\n",
    "\n",
    "<b>Все супер!👍:</b> Причины перечислены правильно!"
   ]
  },
  {
   "cell_type": "markdown",
   "id": "5c8fe155",
   "metadata": {
    "deletable": false,
    "editable": false,
    "id": "7b0487d6"
   },
   "source": [
    "#### 3.6 Объясните, почему заполнить пропуски медианным значением — лучшее решение для количественных переменных."
   ]
  },
  {
   "cell_type": "markdown",
   "id": "fdc21291",
   "metadata": {
    "deletable": false,
    "id": "7ecf2b8e"
   },
   "source": [
    "*Ответ:* Это лучшее решение, потому что как вставка медианного значения не именит медиану по выборке."
   ]
  },
  {
   "cell_type": "markdown",
   "id": "eb70cdfb",
   "metadata": {},
   "source": [
    "<div class=\"alert alert-success\">\n",
    "<h2> Комментарий ревьюера <a class=\"tocSkip\"> </h2>\n",
    "\n",
    "<b>Все супер!👍:</b> На самом деле здесь скорее нужно говорить о том, что медиана нивелиурет выбросы, а вот среднее арифметическое, например, нет, вот и разница"
   ]
  },
  {
   "cell_type": "markdown",
   "id": "1d41c01e",
   "metadata": {
    "deletable": false,
    "editable": false,
    "id": "6db5255a"
   },
   "source": [
    "### Шаг 4: общий вывод."
   ]
  },
  {
   "cell_type": "markdown",
   "id": "7f92fa83",
   "metadata": {
    "deletable": false,
    "id": "bad65432"
   },
   "source": [
    "В проведенном исследовании данных мы узнали, что доля заемщиков допускающих просроченные платежи по каждому признаку составляет 6-10 процентов. Внутри каждого класса различия между категориями составляют от 1 до 3 процентов, данные по заемщикам со сверхвысокими и сверхнизкими доходами могут быть не релевантны. Семейное положение, количество детей, уровень дохода и цель взятия займа в текущем объеме данных вляют на погашение кредита в срок. "
   ]
  },
  {
   "cell_type": "markdown",
   "id": "31aa791b",
   "metadata": {},
   "source": [
    "<div class=\"alert alert-success\">\n",
    "<h2> Комментарий ревьюера <a class=\"tocSkip\"> </h2>\n",
    "\n",
    "<b>Все супер!👍:</b> Вывод верный"
   ]
  },
  {
   "cell_type": "markdown",
   "id": "a9ecc59f",
   "metadata": {},
   "source": [
    "<div style=\"border:solid Chocolate 2px; padding: 40px\">\n",
    "    \n",
    "**Общий вывод по проекту ревьювера**:\n",
    " Мария, спасибо за  проект! Ты приложила много усилий, чтобы довести его до конца, проделана огромная работа, и это видно невооруженным глазом, ты большой молодец!\n",
    "    \n",
    "**Отмечу положительные моменты**:\n",
    "    \n",
    "    1. Все разложено по полочкам, всегда понятен ход твоих мыслей, приятно смотреть\n",
    "    \n",
    "    2. На разных шагах проекта ты предлагала очень интересные решения и методы для их реализации. Хорошая работа!\n",
    "    \n",
    "    \n",
    "**На что стоит обратить внимание**:\n",
    "    \n",
    "    1. Пока особенно ни на что, но эт только начало. Впереди много интересных и сложных проектов, а сейчас мы твой проект принимаем ;)\n",
    "    \n",
    "    \n",
    "**Удачи и увидимся в Практикуме!**"
   ]
  },
  {
   "cell_type": "code",
   "execution_count": null,
   "id": "9bcc0d76",
   "metadata": {},
   "outputs": [],
   "source": []
  }
 ],
 "metadata": {
  "ExecuteTimeLog": [
   {
    "duration": 450,
    "start_time": "2022-08-26T21:24:32.442Z"
   },
   {
    "duration": 72,
    "start_time": "2022-08-26T21:24:39.506Z"
   },
   {
    "duration": 70,
    "start_time": "2022-08-26T21:24:40.713Z"
   },
   {
    "duration": 49,
    "start_time": "2022-08-26T21:24:41.706Z"
   },
   {
    "duration": 70,
    "start_time": "2022-08-26T21:24:46.148Z"
   },
   {
    "duration": 727,
    "start_time": "2022-08-27T18:47:01.442Z"
   },
   {
    "duration": 21,
    "start_time": "2022-08-27T18:47:02.350Z"
   },
   {
    "duration": 15,
    "start_time": "2022-08-27T18:47:03.249Z"
   },
   {
    "duration": 10,
    "start_time": "2022-08-27T18:47:05.259Z"
   },
   {
    "duration": 42,
    "start_time": "2022-08-27T18:47:05.826Z"
   },
   {
    "duration": 5,
    "start_time": "2022-08-27T18:47:07.099Z"
   },
   {
    "duration": 8,
    "start_time": "2022-08-27T18:47:07.819Z"
   },
   {
    "duration": 6,
    "start_time": "2022-08-27T18:47:09.201Z"
   },
   {
    "duration": 10,
    "start_time": "2022-08-27T18:47:10.099Z"
   },
   {
    "duration": 5,
    "start_time": "2022-08-27T18:47:10.979Z"
   },
   {
    "duration": 36,
    "start_time": "2022-08-27T18:47:12.302Z"
   },
   {
    "duration": 11,
    "start_time": "2022-08-27T18:47:13.308Z"
   },
   {
    "duration": 4,
    "start_time": "2022-08-27T18:47:14.539Z"
   },
   {
    "duration": 13,
    "start_time": "2022-08-27T18:47:15.861Z"
   },
   {
    "duration": 20,
    "start_time": "2022-08-27T18:47:16.822Z"
   },
   {
    "duration": 17,
    "start_time": "2022-08-27T18:47:17.221Z"
   },
   {
    "duration": 4,
    "start_time": "2022-08-27T18:47:18.749Z"
   },
   {
    "duration": 14,
    "start_time": "2022-08-27T18:47:19.702Z"
   },
   {
    "duration": 6,
    "start_time": "2022-08-27T18:47:20.618Z"
   },
   {
    "duration": 4,
    "start_time": "2022-08-27T18:47:21.619Z"
   },
   {
    "duration": 9,
    "start_time": "2022-08-27T18:47:24.610Z"
   },
   {
    "duration": 3,
    "start_time": "2022-08-27T18:47:26.071Z"
   },
   {
    "duration": 68,
    "start_time": "2022-08-27T19:06:43.493Z"
   },
   {
    "duration": 85,
    "start_time": "2022-08-27T19:07:14.382Z"
   },
   {
    "duration": 70,
    "start_time": "2022-08-27T19:07:36.782Z"
   },
   {
    "duration": 65,
    "start_time": "2022-08-27T19:08:08.668Z"
   },
   {
    "duration": 5,
    "start_time": "2022-08-27T19:08:25.050Z"
   },
   {
    "duration": 53,
    "start_time": "2022-08-27T19:09:20.599Z"
   },
   {
    "duration": 3,
    "start_time": "2022-08-27T19:09:27.712Z"
   },
   {
    "duration": 5,
    "start_time": "2022-08-27T19:10:16.504Z"
   },
   {
    "duration": 3,
    "start_time": "2022-08-27T19:10:22.079Z"
   },
   {
    "duration": 3,
    "start_time": "2022-08-27T19:13:29.979Z"
   },
   {
    "duration": 17,
    "start_time": "2022-08-27T19:14:24.350Z"
   },
   {
    "duration": 827,
    "start_time": "2022-08-27T19:15:29.510Z"
   },
   {
    "duration": 9,
    "start_time": "2022-08-27T19:15:36.414Z"
   },
   {
    "duration": 14,
    "start_time": "2022-08-27T19:15:54.612Z"
   },
   {
    "duration": 7,
    "start_time": "2022-08-27T19:34:37.478Z"
   },
   {
    "duration": 3,
    "start_time": "2022-08-27T19:48:07.227Z"
   },
   {
    "duration": 4,
    "start_time": "2022-08-27T19:48:20.716Z"
   },
   {
    "duration": 8,
    "start_time": "2022-08-27T19:51:10.411Z"
   },
   {
    "duration": 12,
    "start_time": "2022-08-27T19:51:24.354Z"
   },
   {
    "duration": 7,
    "start_time": "2022-08-27T19:51:53.816Z"
   },
   {
    "duration": 8,
    "start_time": "2022-08-27T19:59:48.025Z"
   },
   {
    "duration": 22,
    "start_time": "2022-08-27T20:00:01.703Z"
   },
   {
    "duration": 15,
    "start_time": "2022-08-27T20:00:35.266Z"
   },
   {
    "duration": 22,
    "start_time": "2022-08-27T20:16:06.046Z"
   },
   {
    "duration": 6,
    "start_time": "2022-08-27T20:16:38.870Z"
   },
   {
    "duration": 6,
    "start_time": "2022-08-27T20:36:43.533Z"
   },
   {
    "duration": 5,
    "start_time": "2022-08-27T20:37:11.713Z"
   },
   {
    "duration": 6,
    "start_time": "2022-08-27T20:38:38.030Z"
   },
   {
    "duration": 3,
    "start_time": "2022-08-27T20:39:32.334Z"
   },
   {
    "duration": 6,
    "start_time": "2022-08-27T20:39:49.413Z"
   },
   {
    "duration": 11,
    "start_time": "2022-08-27T20:40:10.706Z"
   },
   {
    "duration": 5,
    "start_time": "2022-08-27T20:40:38.977Z"
   },
   {
    "duration": 18,
    "start_time": "2022-08-27T20:42:27.199Z"
   },
   {
    "duration": 7,
    "start_time": "2022-08-27T20:43:20.304Z"
   },
   {
    "duration": 137,
    "start_time": "2022-08-27T20:48:28.757Z"
   },
   {
    "duration": 309,
    "start_time": "2022-08-27T20:48:43.597Z"
   },
   {
    "duration": 8,
    "start_time": "2022-08-27T20:48:57.788Z"
   },
   {
    "duration": 42,
    "start_time": "2022-08-27T20:52:17.712Z"
   },
   {
    "duration": 8,
    "start_time": "2022-08-27T20:52:50.621Z"
   },
   {
    "duration": 13,
    "start_time": "2022-08-27T20:53:56.409Z"
   },
   {
    "duration": 50,
    "start_time": "2022-08-27T21:01:16.887Z"
   },
   {
    "duration": 46,
    "start_time": "2022-08-29T12:08:04.978Z"
   },
   {
    "duration": 453,
    "start_time": "2022-08-29T12:08:14.000Z"
   },
   {
    "duration": 19,
    "start_time": "2022-08-29T12:08:14.455Z"
   },
   {
    "duration": 13,
    "start_time": "2022-08-29T12:08:14.915Z"
   },
   {
    "duration": 9,
    "start_time": "2022-08-29T12:08:15.694Z"
   },
   {
    "duration": 31,
    "start_time": "2022-08-29T12:08:16.062Z"
   },
   {
    "duration": 3,
    "start_time": "2022-08-29T12:08:16.646Z"
   },
   {
    "duration": 7,
    "start_time": "2022-08-29T12:08:17.037Z"
   },
   {
    "duration": 4,
    "start_time": "2022-08-29T12:08:17.616Z"
   },
   {
    "duration": 7,
    "start_time": "2022-08-29T12:08:18.006Z"
   },
   {
    "duration": 4,
    "start_time": "2022-08-29T12:08:18.390Z"
   },
   {
    "duration": 34,
    "start_time": "2022-08-29T12:08:18.959Z"
   },
   {
    "duration": 9,
    "start_time": "2022-08-29T12:08:19.658Z"
   },
   {
    "duration": 4,
    "start_time": "2022-08-29T12:08:19.957Z"
   },
   {
    "duration": 11,
    "start_time": "2022-08-29T12:08:20.535Z"
   },
   {
    "duration": 18,
    "start_time": "2022-08-29T12:08:21.181Z"
   },
   {
    "duration": 15,
    "start_time": "2022-08-29T12:08:21.382Z"
   },
   {
    "duration": 3,
    "start_time": "2022-08-29T12:08:21.993Z"
   },
   {
    "duration": 9,
    "start_time": "2022-08-29T12:08:22.189Z"
   },
   {
    "duration": 6,
    "start_time": "2022-08-29T12:08:22.616Z"
   },
   {
    "duration": 3,
    "start_time": "2022-08-29T12:08:23.030Z"
   },
   {
    "duration": 9,
    "start_time": "2022-08-29T12:08:23.238Z"
   },
   {
    "duration": 3,
    "start_time": "2022-08-29T12:08:24.111Z"
   },
   {
    "duration": 6,
    "start_time": "2022-08-29T12:08:24.525Z"
   },
   {
    "duration": 3,
    "start_time": "2022-08-29T12:08:24.937Z"
   },
   {
    "duration": 6,
    "start_time": "2022-08-29T12:08:25.350Z"
   },
   {
    "duration": 22,
    "start_time": "2022-08-29T12:08:25.774Z"
   },
   {
    "duration": 11,
    "start_time": "2022-08-29T12:08:26.189Z"
   },
   {
    "duration": 5,
    "start_time": "2022-08-29T12:08:27.102Z"
   },
   {
    "duration": 3,
    "start_time": "2022-08-29T12:08:27.789Z"
   },
   {
    "duration": 2,
    "start_time": "2022-08-29T12:08:28.439Z"
   },
   {
    "duration": 4,
    "start_time": "2022-08-29T12:08:53.440Z"
   },
   {
    "duration": 9,
    "start_time": "2022-08-29T13:29:11.313Z"
   },
   {
    "duration": 71,
    "start_time": "2022-08-29T13:33:35.485Z"
   },
   {
    "duration": 10,
    "start_time": "2022-08-29T13:33:41.370Z"
   },
   {
    "duration": 80,
    "start_time": "2022-08-29T15:27:19.044Z"
   },
   {
    "duration": 10,
    "start_time": "2022-08-29T15:27:25.056Z"
   },
   {
    "duration": 3,
    "start_time": "2022-08-29T16:32:32.089Z"
   },
   {
    "duration": 4,
    "start_time": "2022-08-29T16:32:39.709Z"
   },
   {
    "duration": 3,
    "start_time": "2022-08-29T16:32:52.926Z"
   },
   {
    "duration": 5,
    "start_time": "2022-08-29T16:33:02.958Z"
   },
   {
    "duration": 75,
    "start_time": "2022-08-29T16:50:49.079Z"
   },
   {
    "duration": 4,
    "start_time": "2022-08-29T16:51:06.333Z"
   },
   {
    "duration": 74,
    "start_time": "2022-08-29T16:55:48.315Z"
   },
   {
    "duration": 34,
    "start_time": "2022-08-29T16:55:57.720Z"
   },
   {
    "duration": 12,
    "start_time": "2022-08-29T16:56:13.576Z"
   },
   {
    "duration": 1478,
    "start_time": "2022-08-29T17:07:26.353Z"
   },
   {
    "duration": 1262,
    "start_time": "2022-08-29T17:09:19.982Z"
   },
   {
    "duration": 1368,
    "start_time": "2022-08-29T17:09:34.861Z"
   },
   {
    "duration": 7,
    "start_time": "2022-08-29T17:10:21.421Z"
   },
   {
    "duration": 10,
    "start_time": "2022-08-29T17:10:55.325Z"
   },
   {
    "duration": 4,
    "start_time": "2022-08-29T17:15:24.441Z"
   },
   {
    "duration": 20,
    "start_time": "2022-08-29T17:15:45.433Z"
   },
   {
    "duration": 20,
    "start_time": "2022-08-29T17:26:03.357Z"
   },
   {
    "duration": 17,
    "start_time": "2022-08-29T17:26:19.495Z"
   },
   {
    "duration": 14,
    "start_time": "2022-08-29T17:26:47.378Z"
   },
   {
    "duration": 13,
    "start_time": "2022-08-29T17:28:04.809Z"
   },
   {
    "duration": 13,
    "start_time": "2022-08-29T17:28:31.104Z"
   },
   {
    "duration": 12,
    "start_time": "2022-08-29T17:28:40.432Z"
   },
   {
    "duration": 8,
    "start_time": "2022-08-29T17:32:02.357Z"
   },
   {
    "duration": 17,
    "start_time": "2022-08-29T17:33:50.979Z"
   }
  ],
  "colab": {
   "name": "dpp_template_part2.ipynb",
   "provenance": []
  },
  "kernelspec": {
   "display_name": "Python 3 (ipykernel)",
   "language": "python",
   "name": "python3"
  },
  "language_info": {
   "codemirror_mode": {
    "name": "ipython",
    "version": 3
   },
   "file_extension": ".py",
   "mimetype": "text/x-python",
   "name": "python",
   "nbconvert_exporter": "python",
   "pygments_lexer": "ipython3",
   "version": "3.9.5"
  },
  "toc": {
   "base_numbering": 1,
   "nav_menu": {},
   "number_sections": true,
   "sideBar": true,
   "skip_h1_title": true,
   "title_cell": "Table of Contents",
   "title_sidebar": "Contents",
   "toc_cell": false,
   "toc_position": {},
   "toc_section_display": true,
   "toc_window_display": false
  }
 },
 "nbformat": 4,
 "nbformat_minor": 5
}
