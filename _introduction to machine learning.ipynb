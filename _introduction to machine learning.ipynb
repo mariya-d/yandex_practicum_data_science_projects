{
 "cells": [
  {
   "cell_type": "markdown",
   "metadata": {},
   "source": [
    "# Рекомендация тарифов"
   ]
  },
  {
   "cell_type": "markdown",
   "metadata": {},
   "source": [
    "В вашем распоряжении данные о поведении клиентов, которые уже перешли на эти тарифы (из проекта курса «Статистический анализ данных»). Нужно построить модель для задачи классификации, которая выберет подходящий тариф. Предобработка данных не понадобится — вы её уже сделали.\n",
    "\n",
    "Постройте модель с максимально большим значением *accuracy*. Чтобы сдать проект успешно, нужно довести долю правильных ответов по крайней мере до 0.75. Проверьте *accuracy* на тестовой выборке самостоятельно."
   ]
  },
  {
   "cell_type": "markdown",
   "metadata": {},
   "source": [
    "## Откройте и изучите файл"
   ]
  },
  {
   "cell_type": "code",
   "execution_count": 2,
   "metadata": {},
   "outputs": [],
   "source": [
    "import pandas as pd\n",
    "from sklearn.tree import DecisionTreeClassifier\n",
    "from sklearn.metrics import accuracy_score \n",
    "from sklearn.tree import DecisionTreeRegressor\n",
    "from sklearn.ensemble import RandomForestClassifier\n",
    "from sklearn.linear_model import LogisticRegression\n",
    "from sklearn.neighbors import KNeighborsClassifier \n",
    "from sklearn.model_selection import train_test_split\n",
    "from joblib import dump\n",
    "from sklearn.metrics import mean_squared_error\n",
    "import matplotlib.pyplot as plt\n",
    "import warnings\n",
    "warnings.filterwarnings('ignore')"
   ]
  },
  {
   "cell_type": "code",
   "execution_count": 3,
   "metadata": {},
   "outputs": [
    {
     "data": {
      "text/html": [
       "<div>\n",
       "<style scoped>\n",
       "    .dataframe tbody tr th:only-of-type {\n",
       "        vertical-align: middle;\n",
       "    }\n",
       "\n",
       "    .dataframe tbody tr th {\n",
       "        vertical-align: top;\n",
       "    }\n",
       "\n",
       "    .dataframe thead th {\n",
       "        text-align: right;\n",
       "    }\n",
       "</style>\n",
       "<table border=\"1\" class=\"dataframe\">\n",
       "  <thead>\n",
       "    <tr style=\"text-align: right;\">\n",
       "      <th></th>\n",
       "      <th>calls</th>\n",
       "      <th>minutes</th>\n",
       "      <th>messages</th>\n",
       "      <th>mb_used</th>\n",
       "      <th>is_ultra</th>\n",
       "    </tr>\n",
       "  </thead>\n",
       "  <tbody>\n",
       "    <tr>\n",
       "      <th>0</th>\n",
       "      <td>40.0</td>\n",
       "      <td>311.90</td>\n",
       "      <td>83.0</td>\n",
       "      <td>19915.42</td>\n",
       "      <td>0</td>\n",
       "    </tr>\n",
       "    <tr>\n",
       "      <th>1</th>\n",
       "      <td>85.0</td>\n",
       "      <td>516.75</td>\n",
       "      <td>56.0</td>\n",
       "      <td>22696.96</td>\n",
       "      <td>0</td>\n",
       "    </tr>\n",
       "    <tr>\n",
       "      <th>2</th>\n",
       "      <td>77.0</td>\n",
       "      <td>467.66</td>\n",
       "      <td>86.0</td>\n",
       "      <td>21060.45</td>\n",
       "      <td>0</td>\n",
       "    </tr>\n",
       "    <tr>\n",
       "      <th>3</th>\n",
       "      <td>106.0</td>\n",
       "      <td>745.53</td>\n",
       "      <td>81.0</td>\n",
       "      <td>8437.39</td>\n",
       "      <td>1</td>\n",
       "    </tr>\n",
       "    <tr>\n",
       "      <th>4</th>\n",
       "      <td>66.0</td>\n",
       "      <td>418.74</td>\n",
       "      <td>1.0</td>\n",
       "      <td>14502.75</td>\n",
       "      <td>0</td>\n",
       "    </tr>\n",
       "  </tbody>\n",
       "</table>\n",
       "</div>"
      ],
      "text/plain": [
       "   calls  minutes  messages   mb_used  is_ultra\n",
       "0   40.0   311.90      83.0  19915.42         0\n",
       "1   85.0   516.75      56.0  22696.96         0\n",
       "2   77.0   467.66      86.0  21060.45         0\n",
       "3  106.0   745.53      81.0   8437.39         1\n",
       "4   66.0   418.74       1.0  14502.75         0"
      ]
     },
     "metadata": {},
     "output_type": "display_data"
    },
    {
     "name": "stdout",
     "output_type": "stream",
     "text": [
      "<class 'pandas.core.frame.DataFrame'>\n",
      "RangeIndex: 3214 entries, 0 to 3213\n",
      "Data columns (total 5 columns):\n",
      " #   Column    Non-Null Count  Dtype  \n",
      "---  ------    --------------  -----  \n",
      " 0   calls     3214 non-null   float64\n",
      " 1   minutes   3214 non-null   float64\n",
      " 2   messages  3214 non-null   float64\n",
      " 3   mb_used   3214 non-null   float64\n",
      " 4   is_ultra  3214 non-null   int64  \n",
      "dtypes: float64(4), int64(1)\n",
      "memory usage: 125.7 KB\n"
     ]
    },
    {
     "data": {
      "text/plain": [
       "None"
      ]
     },
     "metadata": {},
     "output_type": "display_data"
    }
   ],
   "source": [
    "df = pd.read_csv('/datasets/users_behavior.csv')\n",
    "display(df.head())\n",
    "display(df.info())"
   ]
  },
  {
   "cell_type": "code",
   "execution_count": 5,
   "metadata": {},
   "outputs": [
    {
     "data": {
      "text/plain": [
       "0    2229\n",
       "1     985\n",
       "Name: is_ultra, dtype: int64"
      ]
     },
     "execution_count": 5,
     "metadata": {},
     "output_type": "execute_result"
    }
   ],
   "source": [
    "df.is_ultra.value_counts()"
   ]
  },
  {
   "cell_type": "markdown",
   "metadata": {},
   "source": [
    "## Разбейте данные на выборки"
   ]
  },
  {
   "cell_type": "code",
   "execution_count": 58,
   "metadata": {},
   "outputs": [
    {
     "name": "stdout",
     "output_type": "stream",
     "text": [
      "Размер тестовой выборки: 483 объекта\n",
      "Размер валидационной выборки: 482 объекта\n",
      "Размер обучающей выборки: 2249 объектов\n"
     ]
    }
   ],
   "source": [
    "df_train, df_valid = train_test_split(df, test_size=0.3, random_state=12345)\n",
    "df_valid, df_test = train_test_split(df_valid,test_size = 0.5, random_state=12345)\n",
    "print('Размер тестовой выборки:',df_test.shape[0],'объекта')\n",
    "print('Размер валидационной выборки:', df_valid.shape[0],'объекта')\n",
    "print('Размер обучающей выборки:', df_train.shape[0],'объектов')"
   ]
  },
  {
   "cell_type": "code",
   "execution_count": 13,
   "metadata": {},
   "outputs": [
    {
     "name": "stdout",
     "output_type": "stream",
     "text": [
      "X_train: (1928, 4)\n",
      "X_valid: (643, 4)\n",
      "X_test: (643, 4)\n",
      "y_train: (1928,)\n",
      "y_valid: (643,)\n",
      "y_test: (643,)\n"
     ]
    }
   ],
   "source": [
    "X = df.drop('is_ultra', axis=1)\n",
    "y = df['is_ultra']\n",
    "X_train, X_valid, y_train, y_valid = train_test_split(X, y, test_size=0.4, random_state=12345, stratify=y)\n",
    "X_valid, X_test, y_valid, y_test = train_test_split(X_valid, y_valid, test_size=0.5, random_state=12345, stratify=y_valid)\n",
    "\n",
    "print('X_train:', X_train.shape)\n",
    "print('X_valid:', X_valid.shape)\n",
    "print('X_test:', X_test.shape)\n",
    "print('y_train:', y_train.shape)\n",
    "print('y_valid:', y_valid.shape)\n",
    "print('y_test:', y_test.shape)"
   ]
  },
  {
   "cell_type": "markdown",
   "metadata": {},
   "source": [
    "## Исследуйте модели"
   ]
  },
  {
   "cell_type": "markdown",
   "metadata": {},
   "source": [
    "Нужно построить модель для задачи классификации, которая выберет подходящий тариф, исходя из поставленной задачи в переменную **target** поместим данные столбца *is_ultra*, а в переменную **features** весь дата сет, за исключением столбца *is_ultra*"
   ]
  },
  {
   "cell_type": "code",
   "execution_count": 59,
   "metadata": {
    "scrolled": true
   },
   "outputs": [
    {
     "name": "stdout",
     "output_type": "stream",
     "text": [
      "(3214, 4)\n",
      "(3214,)\n",
      "Обучающие признаки: (2249, 4) (2249,)\n",
      "Валидационные признаки: (482, 4) (482,)\n",
      "Тестовые признаки: (483, 4) (483,)\n"
     ]
    }
   ],
   "source": [
    "features = df.drop(['is_ultra'], axis=1)\n",
    "target = df['is_ultra']\n",
    "\n",
    "\n",
    "features_train = df_train.drop(['is_ultra'], axis=1) \n",
    "target_train = df_train['is_ultra']\n",
    "\n",
    "\n",
    "features_valid = df_valid.drop(['is_ultra'], axis=1)\n",
    "target_valid = df_valid['is_ultra']\n",
    "\n",
    "\n",
    "features_test = df_test.drop(['is_ultra'], axis=1)\n",
    "target_test = df_test['is_ultra']\n",
    "\n",
    "print(features.shape)\n",
    "print(target.shape)\n",
    "print('Обучающие признаки:', features_train.shape, target_train.shape)\n",
    "print('Валидационные признаки:', features_valid.shape, target_valid.shape)\n",
    "print('Тестовые признаки:', features_test.shape, target_test.shape)\n"
   ]
  },
  {
   "cell_type": "markdown",
   "metadata": {},
   "source": [
    "**Решающее дерево**"
   ]
  },
  {
   "cell_type": "markdown",
   "metadata": {},
   "source": [
    "Начнем исследование моделей с **решающего дерева** *DecisionTreeClassifier*. Обучим модель, перебрав циклом разные значения глубины."
   ]
  },
  {
   "cell_type": "code",
   "execution_count": 60,
   "metadata": {},
   "outputs": [
    {
     "name": "stdout",
     "output_type": "stream",
     "text": [
      "Accuracy лучшей модели: 0.7946058091286307\n",
      "[1, 2, 3, 4, 5, 6, 7, 8, 9, 10, 11, 12, 13, 14, 15, 16, 17, 18, 19, 20, 21, 22, 23, 24, 25]\n",
      "[0.7510373443983402, 0.7800829875518672, 0.7863070539419087, 0.7883817427385892, 0.7614107883817427, 0.7842323651452282, 0.7821576763485477, 0.7821576763485477, 0.7780082987551867, 0.7883817427385892, 0.7904564315352697, 0.7946058091286307, 0.7821576763485477, 0.7821576763485477, 0.7593360995850622, 0.7489626556016598, 0.7510373443983402, 0.7551867219917012, 0.7551867219917012, 0.7282157676348547, 0.7406639004149378, 0.7385892116182573, 0.7448132780082988, 0.7489626556016598, 0.7406639004149378]\n"
     ]
    }
   ],
   "source": [
    "best_model = None\n",
    "best_result = 0\n",
    "depths = []\n",
    "dtc_accuracies = []\n",
    "for depth in range(1, 26):\n",
    "    model = DecisionTreeClassifier(random_state=12345, max_depth=depth)\n",
    "    model.fit(features_train, target_train) \n",
    "    predictions = model.predict(features_valid) \n",
    "    result = accuracy_score(target_valid, predictions)\n",
    "    depths.append(depth)\n",
    "    dtc_accuracies.append(result)\n",
    "    if result > best_result:\n",
    "        best_model = model\n",
    "        best_result = result\n",
    "        \n",
    "        \n",
    "print(\"Accuracy лучшей модели:\", best_result)\n",
    "print(depths)\n",
    "print(dtc_accuracies)"
   ]
  },
  {
   "cell_type": "markdown",
   "metadata": {},
   "source": [
    "Теперь визуализируем полученные данные для простоты восприятия."
   ]
  },
  {
   "cell_type": "code",
   "execution_count": 61,
   "metadata": {},
   "outputs": [
    {
     "data": {
      "text/html": [
       "<div>\n",
       "<style scoped>\n",
       "    .dataframe tbody tr th:only-of-type {\n",
       "        vertical-align: middle;\n",
       "    }\n",
       "\n",
       "    .dataframe tbody tr th {\n",
       "        vertical-align: top;\n",
       "    }\n",
       "\n",
       "    .dataframe thead th {\n",
       "        text-align: right;\n",
       "    }\n",
       "</style>\n",
       "<table border=\"1\" class=\"dataframe\">\n",
       "  <thead>\n",
       "    <tr style=\"text-align: right;\">\n",
       "      <th></th>\n",
       "      <th>0</th>\n",
       "    </tr>\n",
       "  </thead>\n",
       "  <tbody>\n",
       "    <tr>\n",
       "      <th>1</th>\n",
       "      <td>0.751037</td>\n",
       "    </tr>\n",
       "    <tr>\n",
       "      <th>2</th>\n",
       "      <td>0.780083</td>\n",
       "    </tr>\n",
       "    <tr>\n",
       "      <th>3</th>\n",
       "      <td>0.786307</td>\n",
       "    </tr>\n",
       "    <tr>\n",
       "      <th>4</th>\n",
       "      <td>0.788382</td>\n",
       "    </tr>\n",
       "    <tr>\n",
       "      <th>5</th>\n",
       "      <td>0.761411</td>\n",
       "    </tr>\n",
       "  </tbody>\n",
       "</table>\n",
       "</div>"
      ],
      "text/plain": [
       "          0\n",
       "1  0.751037\n",
       "2  0.780083\n",
       "3  0.786307\n",
       "4  0.788382\n",
       "5  0.761411"
      ]
     },
     "metadata": {},
     "output_type": "display_data"
    }
   ],
   "source": [
    "dtc_data = data=pd.DataFrame(data=dtc_accuracies, index=depths)\n",
    "display(dtc_data.head(5))"
   ]
  },
  {
   "cell_type": "code",
   "execution_count": 62,
   "metadata": {},
   "outputs": [
    {
     "data": {
      "image/png": "[encoded data removed]",
      "text/plain": [
       "<Figure size 864x576 with 1 Axes>"
      ]
     },
     "metadata": {
      "needs_background": "light"
     },
     "output_type": "display_data"
    }
   ],
   "source": [
    "dtc_data.plot(style='o-', figsize=(12,8))\n",
    "plt.minorticks_on()\n",
    "plt.grid(which='major')\n",
    "plt.grid(which='minor', linestyle=':')\n",
    "plt.title('Оценка правильности при разной глубине обучения', fontsize=15)\n",
    "plt.ylabel('Оценка правильности для модели Решающее дерево', fontsize='x-large')\n",
    "plt.xlabel('Глубина', fontsize='x-large')\n",
    "plt.show()"
   ]
  },
  {
   "cell_type": "markdown",
   "metadata": {},
   "source": [
    "Итак, мы видим, что модель получает оценку правильности выше, чем 0,75 на отрезке от depth=1 до depth=14. Далее на отрезке 17-19, затем оценка правильности резко падает и составляет на более 0,75. Соответственно наиболее продуктивной глубиной обучения является диапазон от 1 до 16, а модель с самой высокой оценкой правильности имеет значение depth=12. "
   ]
  },
  {
   "cell_type": "markdown",
   "metadata": {},
   "source": [
    "**Random Forest**"
   ]
  },
  {
   "cell_type": "code",
   "execution_count": 106,
   "metadata": {},
   "outputs": [
    {
     "name": "stdout",
     "output_type": "stream",
     "text": [
      "Accuracy лучшей модели на валидационной выборке: 0.7987551867219918\n"
     ]
    }
   ],
   "source": [
    "ests = []\n",
    "rfc_accuracies = []\n",
    "best_model = None\n",
    "best_result = 0\n",
    "for est in range(1, 26):\n",
    "    model = RandomForestClassifier(random_state=12345, n_estimators=est)\n",
    "    model.fit(features_train, target_train) \n",
    "    predictions = model.predict(features_valid)\n",
    "    result = model.score(features_valid, target_valid)\n",
    "    ests.append(est)\n",
    "    rfc_accuracies.append(result)\n",
    "    if result > best_result:\n",
    "        best_model = model\n",
    "        best_result = result \n",
    "\n",
    "print(\"Accuracy лучшей модели на валидационной выборке:\", best_result)"
   ]
  },
  {
   "cell_type": "code",
   "execution_count": 107,
   "metadata": {},
   "outputs": [
    {
     "data": {
      "text/html": [
       "<div>\n",
       "<style scoped>\n",
       "    .dataframe tbody tr th:only-of-type {\n",
       "        vertical-align: middle;\n",
       "    }\n",
       "\n",
       "    .dataframe tbody tr th {\n",
       "        vertical-align: top;\n",
       "    }\n",
       "\n",
       "    .dataframe thead th {\n",
       "        text-align: right;\n",
       "    }\n",
       "</style>\n",
       "<table border=\"1\" class=\"dataframe\">\n",
       "  <thead>\n",
       "    <tr style=\"text-align: right;\">\n",
       "      <th></th>\n",
       "      <th>0</th>\n",
       "    </tr>\n",
       "  </thead>\n",
       "  <tbody>\n",
       "    <tr>\n",
       "      <th>1</th>\n",
       "      <td>0.751037</td>\n",
       "    </tr>\n",
       "    <tr>\n",
       "      <th>2</th>\n",
       "      <td>0.780083</td>\n",
       "    </tr>\n",
       "    <tr>\n",
       "      <th>3</th>\n",
       "      <td>0.786307</td>\n",
       "    </tr>\n",
       "    <tr>\n",
       "      <th>4</th>\n",
       "      <td>0.788382</td>\n",
       "    </tr>\n",
       "    <tr>\n",
       "      <th>5</th>\n",
       "      <td>0.761411</td>\n",
       "    </tr>\n",
       "  </tbody>\n",
       "</table>\n",
       "</div>"
      ],
      "text/plain": [
       "          0\n",
       "1  0.751037\n",
       "2  0.780083\n",
       "3  0.786307\n",
       "4  0.788382\n",
       "5  0.761411"
      ]
     },
     "metadata": {},
     "output_type": "display_data"
    }
   ],
   "source": [
    "rfc_data = pd.DataFrame(data=rfc_accuracies, index=ests)\n",
    "display(dtc_data.head(5))"
   ]
  },
  {
   "cell_type": "code",
   "execution_count": 65,
   "metadata": {
    "scrolled": false
   },
   "outputs": [
    {
     "data": {
      "image/png": "[encoded data removed]",
      "text/plain": [
       "<Figure size 864x576 with 1 Axes>"
      ]
     },
     "metadata": {
      "needs_background": "light"
     },
     "output_type": "display_data"
    }
   ],
   "source": [
    "rfc_data.plot(style='o-', figsize=(12,8))\n",
    "plt.minorticks_on()\n",
    "plt.grid(which='major')\n",
    "plt.grid(which='minor', linestyle=':')\n",
    "plt.title('Оценка правильности при разном количестве деревьев', fontsize=15)\n",
    "plt.ylabel('Оценка правильности для модели Случайный лес', fontsize='x-large')\n",
    "plt.xlabel('Количество деревьев', fontsize='x-large')\n",
    "plt.show()"
   ]
  },
  {
   "cell_type": "markdown",
   "metadata": {},
   "source": [
    "Модель получает оценку правильности выше, чем 0,75 на отрезке от est=4. Самая высокая оценка точности получена при количестве деревьев равном 18."
   ]
  },
  {
   "cell_type": "markdown",
   "metadata": {},
   "source": [
    "Рассмотрим модель обученную методом **Логистической регрессии**"
   ]
  },
  {
   "cell_type": "code",
   "execution_count": 113,
   "metadata": {},
   "outputs": [
    {
     "name": "stdout",
     "output_type": "stream",
     "text": [
      "Accuracy лучшей модели на валидационной выборке: 0.6950207468879668\n"
     ]
    }
   ],
   "source": [
    "lrg_accuracies = []\n",
    "best_model = None\n",
    "best_result = 0\n",
    "for iterat in range(1, 1000):\n",
    "    model = LogisticRegression(random_state=12345, solver='lbfgs', max_iter=iterat)\n",
    "    model.fit(features_train, target_train) \n",
    "    predictions = model.predict(features_valid)\n",
    "    result = model.score(features_valid, target_valid)\n",
    "    lrg_accuracies.append(result)\n",
    "    if result > best_result:\n",
    "        best_model = model\n",
    "        best_result = result\n",
    "print(\"Accuracy лучшей модели на валидационной выборке:\", best_result)"
   ]
  },
  {
   "cell_type": "markdown",
   "metadata": {},
   "source": [
    "Лучшая оценка правильности для 1000 итераций обучения 0.69, что не достигает целевого показателя 0.75 обозначенного в целях исследования."
   ]
  },
  {
   "cell_type": "markdown",
   "metadata": {},
   "source": [
    "Обучим модель методом **Ближайших соседей**"
   ]
  },
  {
   "cell_type": "code",
   "execution_count": 108,
   "metadata": {},
   "outputs": [
    {
     "name": "stdout",
     "output_type": "stream",
     "text": [
      "Accuracy лучшей модели на валидационной выборке: 0.7551867219917012\n"
     ]
    }
   ],
   "source": [
    "best_model = None\n",
    "best_result = 0\n",
    "neighbors_list = []\n",
    "knc_accuracies = []\n",
    "for neighbors in range(1,30,5):\n",
    "    model = KNeighborsClassifier(n_neighbors = neighbors)\n",
    "    model.fit(features_train, target_train) \n",
    "    predictions = model.predict(features_valid)\n",
    "    result = model.score(features_valid, target_valid)\n",
    "    neighbors_list.append(neighbors)\n",
    "    knc_accuracies.append(result)\n",
    "    if result > best_result:\n",
    "        best_model = model\n",
    "        best_result = result\n",
    "print(\"Accuracy лучшей модели на валидационной выборке:\", best_result)"
   ]
  },
  {
   "cell_type": "code",
   "execution_count": 104,
   "metadata": {},
   "outputs": [
    {
     "data": {
      "text/html": [
       "<div>\n",
       "<style scoped>\n",
       "    .dataframe tbody tr th:only-of-type {\n",
       "        vertical-align: middle;\n",
       "    }\n",
       "\n",
       "    .dataframe tbody tr th {\n",
       "        vertical-align: top;\n",
       "    }\n",
       "\n",
       "    .dataframe thead th {\n",
       "        text-align: right;\n",
       "    }\n",
       "</style>\n",
       "<table border=\"1\" class=\"dataframe\">\n",
       "  <thead>\n",
       "    <tr style=\"text-align: right;\">\n",
       "      <th></th>\n",
       "      <th>0</th>\n",
       "    </tr>\n",
       "  </thead>\n",
       "  <tbody>\n",
       "    <tr>\n",
       "      <th>1</th>\n",
       "      <td>0.726141</td>\n",
       "    </tr>\n",
       "    <tr>\n",
       "      <th>6</th>\n",
       "      <td>0.751037</td>\n",
       "    </tr>\n",
       "    <tr>\n",
       "      <th>11</th>\n",
       "      <td>0.755187</td>\n",
       "    </tr>\n",
       "    <tr>\n",
       "      <th>16</th>\n",
       "      <td>0.751037</td>\n",
       "    </tr>\n",
       "    <tr>\n",
       "      <th>21</th>\n",
       "      <td>0.755187</td>\n",
       "    </tr>\n",
       "  </tbody>\n",
       "</table>\n",
       "</div>"
      ],
      "text/plain": [
       "           0\n",
       "1   0.726141\n",
       "6   0.751037\n",
       "11  0.755187\n",
       "16  0.751037\n",
       "21  0.755187"
      ]
     },
     "metadata": {},
     "output_type": "display_data"
    }
   ],
   "source": [
    "knc_data = pd.DataFrame(data=knc_accuracies, index=neighbors_list)\n",
    "display(knc_data.head(5))"
   ]
  },
  {
   "cell_type": "code",
   "execution_count": 105,
   "metadata": {},
   "outputs": [
    {
     "data": {
      "image/png": "[encoded data removed]",
      "text/plain": [
       "<Figure size 864x576 with 1 Axes>"
      ]
     },
     "metadata": {
      "needs_background": "light"
     },
     "output_type": "display_data"
    }
   ],
   "source": [
    "knc_data.plot(style='o-', figsize=(12,8))\n",
    "plt.minorticks_on()\n",
    "plt.grid(which='major')\n",
    "plt.grid(which='minor', linestyle=':')\n",
    "plt.title('Оценка правильности при разном количестве соседей', fontsize=15)\n",
    "plt.ylabel('Оценка правильности для модели Ближайшие соседи', fontsize='x-large')\n",
    "plt.xlabel('Количество соседей', fontsize='x-large')\n",
    "plt.show()"
   ]
  },
  {
   "cell_type": "markdown",
   "metadata": {},
   "source": [
    "Показатель оценки правильности от 0.75 достигается при количестве соседей от 6 до 25, с самой выской правильностью при количестве соседей 11 и 21."
   ]
  },
  {
   "cell_type": "markdown",
   "metadata": {},
   "source": [
    "**Вывод**"
   ]
  },
  {
   "cell_type": "markdown",
   "metadata": {},
   "source": [
    "Было исследовано четыре модели обучения: \n",
    "- *Решающее дерево* - **Accuracy** лучшей модели: 0.7946058091286307, при глубине обучения 12.\n",
    "- *Случайный лес* - **Accuracy** лучшей модели на валидационной выборке: 0.7987551867219918, при количестве деревьев 18.\n",
    "- *Логистическая регрессия* - **Accuracy** наилучшей модели на валидационной выборке: 0.6950207468879668, при 1000 итераций обучения.\n",
    "- *Ближайшие соседи* - **Accuracy** лучшей модели на валидационной выборке: 0.7551867219917012, при количестве соседей 11 и 21.\n",
    "\n",
    "С опорой на полученные результаты можно сделать вывод, что самую высокую оценку правильности показывает модель \"Случайный лес\", с чуть меньшей точностью работает модель \"Решающее дерево\", модель обученная методом \"Ближайшие соседи\" показывает результат, который соответствует заявленному в требованиях исследования, и модель обученная методом логистической регрессии не показал требуемый результат по оценке правильности равной 0.75 и более."
   ]
  },
  {
   "cell_type": "markdown",
   "metadata": {},
   "source": [
    "## Проверьте модель на тестовой выборке"
   ]
  },
  {
   "cell_type": "markdown",
   "metadata": {},
   "source": [
    "Проверим модель Случайный лес на тестовой выборке."
   ]
  },
  {
   "cell_type": "code",
   "execution_count": 130,
   "metadata": {},
   "outputs": [
    {
     "name": "stdout",
     "output_type": "stream",
     "text": [
      "Accuracy: 0.782608695652174\n"
     ]
    }
   ],
   "source": [
    "model = RandomForestClassifier(random_state=12345, n_estimators=18)\n",
    "model.fit(features_train, target_train) \n",
    "predictions = model.predict(features_test)\n",
    "result = model.score(features_test, target_test)\n",
    "print('Accuracy:', result)   "
   ]
  },
  {
   "cell_type": "markdown",
   "metadata": {},
   "source": [
    "На тестовой выборке оценка правильности модели снизилась."
   ]
  },
  {
   "cell_type": "markdown",
   "metadata": {},
   "source": [
    "Проверим модель Решающее дерево на тестовой выборке."
   ]
  },
  {
   "cell_type": "code",
   "execution_count": 129,
   "metadata": {},
   "outputs": [
    {
     "name": "stdout",
     "output_type": "stream",
     "text": [
      "Accuracy for DecisionTreeClassifier: 0.7681159420289855\n"
     ]
    }
   ],
   "source": [
    "model = DecisionTreeClassifier(random_state=12345, max_depth=12)\n",
    "model.fit(features_train, target_train) \n",
    "predictions = model.predict(features_test) \n",
    "result = accuracy_score(target_test, predictions)\n",
    "print('Accuracy for DecisionTreeClassifier:', result)"
   ]
  },
  {
   "cell_type": "markdown",
   "metadata": {},
   "source": [
    "На тестовой выборке оценка правильности модели снизилась ниже, чем того требует порог установленный в исследовании."
   ]
  },
  {
   "cell_type": "markdown",
   "metadata": {},
   "source": [
    "Проверим модель Ближайшие соседи на тестовой выборке."
   ]
  },
  {
   "cell_type": "code",
   "execution_count": 131,
   "metadata": {},
   "outputs": [
    {
     "name": "stdout",
     "output_type": "stream",
     "text": [
      "Accuracy for KNeighborsClassifier: 0.7598343685300207\n"
     ]
    }
   ],
   "source": [
    "model = KNeighborsClassifier(n_neighbors = 11)\n",
    "model.fit(features_train, target_train) \n",
    "predictions = model.predict(features_test)\n",
    "result = model.score(features_test, target_test)\n",
    "print('Accuracy for KNeighborsClassifier:', result)"
   ]
  },
  {
   "cell_type": "markdown",
   "metadata": {},
   "source": [
    "На тестовой выборке оценка правильности модели возросла."
   ]
  },
  {
   "cell_type": "markdown",
   "metadata": {},
   "source": [
    "Проверка правильности модели на тестовой выборке показала, что самый высокий показатель точности у модели обученной методом случайного леса. Решающее дерево значительно потеряло в оценке точности, при этом модель обученная методом Ближайшие соседи показала наибольную стабильность, т.к. ее результат проверки правильности на тестовой выборке не ухудшился."
   ]
  },
  {
   "cell_type": "markdown",
   "metadata": {},
   "source": [
    "## (бонус) Проверьте модели на адекватность"
   ]
  },
  {
   "cell_type": "markdown",
   "metadata": {},
   "source": [
    "Если модель Случайного леса всегда предсказывает тариф \"Смарт\" - точность ее предсказаний составит не более 69%. Оценка правильности модели говорит о том, что на тестовой выборке верны 78,2% предсказаний, из чего можно сделать вывод об адекватности модели."
   ]
  },
  {
   "cell_type": "code",
   "execution_count": 133,
   "metadata": {},
   "outputs": [
    {
     "data": {
      "text/plain": [
       "0    0.693528\n",
       "1    0.306472\n",
       "Name: is_ultra, dtype: float64"
      ]
     },
     "execution_count": 133,
     "metadata": {},
     "output_type": "execute_result"
    }
   ],
   "source": [
    "df['is_ultra'].value_counts(normalize=True)"
   ]
  }
 ],
 "metadata": {
  "ExecuteTimeLog": [
   {
    "duration": 45,
    "start_time": "2022-10-19T21:26:20.139Z"
   },
   {
    "duration": 443,
    "start_time": "2022-10-19T21:26:40.095Z"
   },
   {
    "duration": 17,
    "start_time": "2022-10-19T21:27:44.202Z"
   },
   {
    "duration": 17,
    "start_time": "2022-10-19T21:27:50.496Z"
   },
   {
    "duration": 28,
    "start_time": "2022-10-19T21:28:06.628Z"
   },
   {
    "duration": 32,
    "start_time": "2022-10-19T21:29:03.175Z"
   },
   {
    "duration": 24,
    "start_time": "2022-10-19T21:38:17.235Z"
   },
   {
    "duration": 631,
    "start_time": "2022-10-19T21:38:22.969Z"
   },
   {
    "duration": 32,
    "start_time": "2022-10-19T21:38:23.603Z"
   },
   {
    "duration": 42,
    "start_time": "2022-10-19T21:38:24.894Z"
   },
   {
    "duration": 5,
    "start_time": "2022-10-19T21:38:41.901Z"
   },
   {
    "duration": 4,
    "start_time": "2022-10-19T21:43:31.912Z"
   },
   {
    "duration": 5,
    "start_time": "2022-10-19T21:44:26.129Z"
   },
   {
    "duration": 7,
    "start_time": "2022-10-19T21:45:03.788Z"
   },
   {
    "duration": 8,
    "start_time": "2022-10-19T21:45:26.175Z"
   },
   {
    "duration": 8,
    "start_time": "2022-10-19T21:45:42.985Z"
   },
   {
    "duration": 45,
    "start_time": "2022-10-20T21:10:47.651Z"
   },
   {
    "duration": 1091,
    "start_time": "2022-10-20T21:10:53.142Z"
   },
   {
    "duration": 65,
    "start_time": "2022-10-20T21:10:54.235Z"
   },
   {
    "duration": 10,
    "start_time": "2022-10-20T21:10:57.642Z"
   },
   {
    "duration": 69,
    "start_time": "2022-10-20T21:10:59.511Z"
   },
   {
    "duration": 3,
    "start_time": "2022-10-20T21:11:06.918Z"
   },
   {
    "duration": 4,
    "start_time": "2022-10-20T21:11:23.936Z"
   },
   {
    "duration": 10,
    "start_time": "2022-10-20T21:11:39.064Z"
   },
   {
    "duration": 6,
    "start_time": "2022-10-20T21:11:54.230Z"
   },
   {
    "duration": 6,
    "start_time": "2022-10-20T21:12:08.206Z"
   },
   {
    "duration": 3,
    "start_time": "2022-10-20T21:15:45.657Z"
   },
   {
    "duration": 40,
    "start_time": "2022-10-20T21:15:47.288Z"
   },
   {
    "duration": 9,
    "start_time": "2022-10-20T21:15:48.687Z"
   },
   {
    "duration": 6,
    "start_time": "2022-10-20T21:15:50.307Z"
   },
   {
    "duration": 3,
    "start_time": "2022-10-20T21:16:35.551Z"
   },
   {
    "duration": 52,
    "start_time": "2022-10-20T21:23:36.551Z"
   },
   {
    "duration": 46,
    "start_time": "2022-10-20T21:24:17.338Z"
   },
   {
    "duration": 21,
    "start_time": "2022-10-20T21:24:29.043Z"
   },
   {
    "duration": 17,
    "start_time": "2022-10-20T21:25:37.023Z"
   },
   {
    "duration": 21,
    "start_time": "2022-10-20T21:25:48.068Z"
   },
   {
    "duration": 17,
    "start_time": "2022-10-20T21:25:58.284Z"
   },
   {
    "duration": 10,
    "start_time": "2022-10-20T21:26:14.477Z"
   },
   {
    "duration": 8,
    "start_time": "2022-10-20T21:26:45.839Z"
   },
   {
    "duration": 11,
    "start_time": "2022-10-20T21:28:02.632Z"
   },
   {
    "duration": 9,
    "start_time": "2022-10-20T21:28:57.658Z"
   },
   {
    "duration": 9,
    "start_time": "2022-10-20T21:28:58.689Z"
   },
   {
    "duration": 8,
    "start_time": "2022-10-20T21:29:05.944Z"
   },
   {
    "duration": 3,
    "start_time": "2022-10-20T21:29:10.977Z"
   },
   {
    "duration": 31,
    "start_time": "2022-10-20T21:29:11.856Z"
   },
   {
    "duration": 9,
    "start_time": "2022-10-20T21:29:12.606Z"
   },
   {
    "duration": 8,
    "start_time": "2022-10-20T21:29:13.798Z"
   },
   {
    "duration": 8,
    "start_time": "2022-10-20T21:29:15.060Z"
   },
   {
    "duration": 7,
    "start_time": "2022-10-20T21:29:30.111Z"
   },
   {
    "duration": 14,
    "start_time": "2022-10-20T21:30:03.051Z"
   },
   {
    "duration": 13,
    "start_time": "2022-10-20T21:30:42.140Z"
   },
   {
    "duration": 15,
    "start_time": "2022-10-20T21:30:56.850Z"
   },
   {
    "duration": 17,
    "start_time": "2022-10-20T21:33:10.507Z"
   },
   {
    "duration": 15,
    "start_time": "2022-10-20T21:35:35.087Z"
   },
   {
    "duration": 10,
    "start_time": "2022-10-20T21:35:40.771Z"
   },
   {
    "duration": 10,
    "start_time": "2022-10-20T21:36:45.754Z"
   },
   {
    "duration": 745,
    "start_time": "2022-10-20T21:36:55.626Z"
   },
   {
    "duration": 22,
    "start_time": "2022-10-20T21:38:32.207Z"
   },
   {
    "duration": 716,
    "start_time": "2022-10-20T21:38:49.577Z"
   },
   {
    "duration": 10,
    "start_time": "2022-10-20T21:41:07.465Z"
   },
   {
    "duration": 10,
    "start_time": "2022-10-20T21:43:23.455Z"
   },
   {
    "duration": 779,
    "start_time": "2022-10-20T21:43:41.093Z"
   },
   {
    "duration": 11,
    "start_time": "2022-10-20T21:44:29.658Z"
   },
   {
    "duration": 663,
    "start_time": "2022-10-20T21:48:16.401Z"
   },
   {
    "duration": 8,
    "start_time": "2022-10-20T21:49:11.407Z"
   },
   {
    "duration": 10,
    "start_time": "2022-10-20T21:49:16.763Z"
   },
   {
    "duration": 20,
    "start_time": "2022-10-20T21:49:17.324Z"
   },
   {
    "duration": 20,
    "start_time": "2022-10-20T21:49:25.849Z"
   },
   {
    "duration": 6,
    "start_time": "2022-10-20T21:49:26.565Z"
   },
   {
    "duration": 6,
    "start_time": "2022-10-20T21:49:33.948Z"
   },
   {
    "duration": 738,
    "start_time": "2022-10-20T21:49:34.381Z"
   },
   {
    "duration": 16,
    "start_time": "2022-10-20T21:50:33.126Z"
   },
   {
    "duration": 5,
    "start_time": "2022-10-20T21:50:34.739Z"
   },
   {
    "duration": 8,
    "start_time": "2022-10-20T21:50:40.781Z"
   },
   {
    "duration": 756,
    "start_time": "2022-10-20T21:50:46.267Z"
   },
   {
    "duration": 635,
    "start_time": "2022-10-20T21:51:23.669Z"
   },
   {
    "duration": 651,
    "start_time": "2022-10-20T21:52:22.271Z"
   },
   {
    "duration": 3,
    "start_time": "2022-10-20T21:53:24.319Z"
   },
   {
    "duration": 32,
    "start_time": "2022-10-20T21:53:25.091Z"
   },
   {
    "duration": 8,
    "start_time": "2022-10-20T21:53:25.856Z"
   },
   {
    "duration": 8,
    "start_time": "2022-10-20T21:53:26.786Z"
   },
   {
    "duration": 21,
    "start_time": "2022-10-20T21:53:27.453Z"
   },
   {
    "duration": 10,
    "start_time": "2022-10-20T21:53:28.465Z"
   },
   {
    "duration": 726,
    "start_time": "2022-10-20T21:53:28.966Z"
   },
   {
    "duration": 16,
    "start_time": "2022-10-20T21:53:44.206Z"
   },
   {
    "duration": 15,
    "start_time": "2022-10-20T21:55:19.399Z"
   },
   {
    "duration": 18,
    "start_time": "2022-10-20T21:55:28.694Z"
   },
   {
    "duration": 13,
    "start_time": "2022-10-20T21:56:48.310Z"
   },
   {
    "duration": 10,
    "start_time": "2022-10-20T21:57:27.994Z"
   },
   {
    "duration": 28,
    "start_time": "2022-10-20T21:57:35.412Z"
   },
   {
    "duration": 6,
    "start_time": "2022-10-20T21:57:35.956Z"
   },
   {
    "duration": 26,
    "start_time": "2022-10-20T21:58:37.366Z"
   },
   {
    "duration": 12,
    "start_time": "2022-10-20T21:58:37.882Z"
   },
   {
    "duration": 25,
    "start_time": "2022-10-20T21:59:31.758Z"
   },
   {
    "duration": 12,
    "start_time": "2022-10-20T21:59:32.315Z"
   },
   {
    "duration": 13,
    "start_time": "2022-10-20T22:00:16.857Z"
   },
   {
    "duration": 25,
    "start_time": "2022-10-20T22:00:36.249Z"
   },
   {
    "duration": 13,
    "start_time": "2022-10-20T22:01:20.924Z"
   },
   {
    "duration": 26,
    "start_time": "2022-10-20T22:01:30.751Z"
   },
   {
    "duration": 12,
    "start_time": "2022-10-20T22:01:31.371Z"
   },
   {
    "duration": 9,
    "start_time": "2022-10-20T22:06:46.849Z"
   },
   {
    "duration": 14,
    "start_time": "2022-10-20T22:07:42.568Z"
   },
   {
    "duration": 70,
    "start_time": "2022-10-20T22:08:15.061Z"
   },
   {
    "duration": 4,
    "start_time": "2022-10-20T22:08:26.471Z"
   },
   {
    "duration": 38,
    "start_time": "2022-10-20T22:11:43.448Z"
   },
   {
    "duration": 67,
    "start_time": "2022-10-20T22:11:55.384Z"
   },
   {
    "duration": 199,
    "start_time": "2022-10-20T22:13:17.246Z"
   },
   {
    "duration": 14,
    "start_time": "2022-10-20T22:14:49.048Z"
   },
   {
    "duration": 243,
    "start_time": "2022-10-20T22:14:58.686Z"
   },
   {
    "duration": 205,
    "start_time": "2022-10-20T22:15:31.124Z"
   },
   {
    "duration": 14,
    "start_time": "2022-10-20T22:16:24.967Z"
   },
   {
    "duration": 206,
    "start_time": "2022-10-20T22:16:56.350Z"
   },
   {
    "duration": 192,
    "start_time": "2022-10-20T22:17:21.166Z"
   },
   {
    "duration": 196,
    "start_time": "2022-10-20T22:17:40.353Z"
   },
   {
    "duration": 399,
    "start_time": "2022-10-20T22:18:27.386Z"
   },
   {
    "duration": 18,
    "start_time": "2022-10-20T22:19:21.276Z"
   },
   {
    "duration": 4,
    "start_time": "2022-10-20T22:19:27.017Z"
   },
   {
    "duration": 7,
    "start_time": "2022-10-20T22:21:29.873Z"
   },
   {
    "duration": 137,
    "start_time": "2022-10-20T22:22:03.151Z"
   },
   {
    "duration": 144,
    "start_time": "2022-10-20T22:22:30.515Z"
   },
   {
    "duration": 405,
    "start_time": "2022-10-20T22:25:25.254Z"
   },
   {
    "duration": 299,
    "start_time": "2022-10-20T22:26:01.253Z"
   },
   {
    "duration": 205,
    "start_time": "2022-10-20T22:30:00.670Z"
   },
   {
    "duration": 7,
    "start_time": "2022-10-20T22:30:01.155Z"
   },
   {
    "duration": 228,
    "start_time": "2022-10-20T22:30:08.853Z"
   },
   {
    "duration": 7,
    "start_time": "2022-10-20T22:30:09.253Z"
   },
   {
    "duration": 315,
    "start_time": "2022-10-20T22:30:10.189Z"
   },
   {
    "duration": 7,
    "start_time": "2022-10-20T22:31:13.814Z"
   },
   {
    "duration": 305,
    "start_time": "2022-10-20T22:31:15.076Z"
   },
   {
    "duration": 1551,
    "start_time": "2022-10-21T21:32:15.946Z"
   },
   {
    "duration": 63,
    "start_time": "2022-10-21T21:32:17.500Z"
   },
   {
    "duration": 8,
    "start_time": "2022-10-21T21:32:22.679Z"
   },
   {
    "duration": 10,
    "start_time": "2022-10-21T21:32:23.664Z"
   },
   {
    "duration": 61,
    "start_time": "2022-10-21T21:34:38.758Z"
   },
   {
    "duration": 5,
    "start_time": "2022-10-21T21:34:45.933Z"
   },
   {
    "duration": 109,
    "start_time": "2022-10-21T21:38:41.768Z"
   },
   {
    "duration": 31,
    "start_time": "2022-10-21T21:40:09.233Z"
   },
   {
    "duration": 4,
    "start_time": "2022-10-21T21:41:21.410Z"
   },
   {
    "duration": 41,
    "start_time": "2022-10-21T21:41:21.770Z"
   },
   {
    "duration": 10,
    "start_time": "2022-10-21T21:41:22.585Z"
   },
   {
    "duration": 10,
    "start_time": "2022-10-21T21:41:23.876Z"
   },
   {
    "duration": 236,
    "start_time": "2022-10-21T21:41:24.780Z"
   },
   {
    "duration": 7,
    "start_time": "2022-10-21T21:41:25.730Z"
   },
   {
    "duration": 423,
    "start_time": "2022-10-21T21:41:26.190Z"
   },
   {
    "duration": 27,
    "start_time": "2022-10-21T21:41:27.577Z"
   },
   {
    "duration": 318,
    "start_time": "2022-10-21T21:46:43.989Z"
   },
   {
    "duration": 1599,
    "start_time": "2022-10-21T21:47:03.084Z"
   },
   {
    "duration": 21,
    "start_time": "2022-10-21T21:52:46.573Z"
   },
   {
    "duration": 1557,
    "start_time": "2022-10-21T21:52:52.326Z"
   },
   {
    "duration": 7,
    "start_time": "2022-10-21T21:53:26.960Z"
   },
   {
    "duration": 6,
    "start_time": "2022-10-21T21:53:50.601Z"
   },
   {
    "duration": 146,
    "start_time": "2022-10-21T21:54:23.482Z"
   },
   {
    "duration": 296,
    "start_time": "2022-10-21T21:56:30.618Z"
   },
   {
    "duration": 3,
    "start_time": "2022-10-21T22:36:00.545Z"
   },
   {
    "duration": 32,
    "start_time": "2022-10-21T22:37:50.249Z"
   },
   {
    "duration": 4,
    "start_time": "2022-10-21T22:38:24.858Z"
   },
   {
    "duration": 99,
    "start_time": "2022-10-21T22:38:31.826Z"
   },
   {
    "duration": 66,
    "start_time": "2022-10-21T22:39:27.083Z"
   },
   {
    "duration": 8,
    "start_time": "2022-10-21T22:43:13.996Z"
   },
   {
    "duration": 9,
    "start_time": "2022-10-21T22:43:23.069Z"
   },
   {
    "duration": 60,
    "start_time": "2022-10-21T22:45:29.222Z"
   },
   {
    "duration": 83,
    "start_time": "2022-10-21T22:45:36.210Z"
   },
   {
    "duration": 70,
    "start_time": "2022-10-21T22:45:41.247Z"
   },
   {
    "duration": 127,
    "start_time": "2022-10-21T22:45:58.479Z"
   },
   {
    "duration": 67,
    "start_time": "2022-10-21T22:46:02.407Z"
   },
   {
    "duration": 68,
    "start_time": "2022-10-21T22:46:07.548Z"
   },
   {
    "duration": 64,
    "start_time": "2022-10-21T22:46:26.230Z"
   },
   {
    "duration": 60,
    "start_time": "2022-10-21T22:46:33.253Z"
   },
   {
    "duration": 59,
    "start_time": "2022-10-21T22:46:39.954Z"
   },
   {
    "duration": 59,
    "start_time": "2022-10-21T22:46:45.871Z"
   },
   {
    "duration": 55,
    "start_time": "2022-10-21T22:46:54.605Z"
   },
   {
    "duration": 14729,
    "start_time": "2022-10-21T22:53:36.523Z"
   },
   {
    "duration": 2136,
    "start_time": "2022-10-21T22:57:40.195Z"
   },
   {
    "duration": 49,
    "start_time": "2022-10-21T23:17:09.181Z"
   },
   {
    "duration": 4,
    "start_time": "2022-10-21T23:17:57.601Z"
   },
   {
    "duration": 44,
    "start_time": "2022-10-21T23:18:04.584Z"
   },
   {
    "duration": 271,
    "start_time": "2022-10-21T23:18:18.609Z"
   },
   {
    "duration": 188,
    "start_time": "2022-10-21T23:19:28.351Z"
   },
   {
    "duration": 44,
    "start_time": "2022-10-21T23:20:03.242Z"
   },
   {
    "duration": 36,
    "start_time": "2022-10-21T23:20:14.655Z"
   },
   {
    "duration": 192,
    "start_time": "2022-10-21T23:20:26.304Z"
   },
   {
    "duration": 4,
    "start_time": "2022-10-21T23:22:30.687Z"
   },
   {
    "duration": 33,
    "start_time": "2022-10-21T23:22:31.331Z"
   },
   {
    "duration": 8,
    "start_time": "2022-10-21T23:22:31.953Z"
   },
   {
    "duration": 9,
    "start_time": "2022-10-21T23:22:33.338Z"
   },
   {
    "duration": 228,
    "start_time": "2022-10-21T23:22:33.788Z"
   },
   {
    "duration": 7,
    "start_time": "2022-10-21T23:22:34.204Z"
   },
   {
    "duration": 307,
    "start_time": "2022-10-21T23:22:34.426Z"
   },
   {
    "duration": 1606,
    "start_time": "2022-10-21T23:22:35.135Z"
   },
   {
    "duration": 6,
    "start_time": "2022-10-21T23:22:36.743Z"
   },
   {
    "duration": 312,
    "start_time": "2022-10-21T23:22:36.751Z"
   },
   {
    "duration": 2079,
    "start_time": "2022-10-21T23:22:38.222Z"
   },
   {
    "duration": 161,
    "start_time": "2022-10-21T23:22:40.302Z"
   },
   {
    "duration": 12,
    "start_time": "2022-10-21T23:23:26.344Z"
   },
   {
    "duration": 6,
    "start_time": "2022-10-21T23:23:32.491Z"
   },
   {
    "duration": 157,
    "start_time": "2022-10-21T23:24:06.083Z"
   },
   {
    "duration": 177,
    "start_time": "2022-10-21T23:24:19.900Z"
   },
   {
    "duration": 304,
    "start_time": "2022-10-21T23:24:35.321Z"
   },
   {
    "duration": 156,
    "start_time": "2022-10-21T23:24:50.863Z"
   },
   {
    "duration": 7,
    "start_time": "2022-10-21T23:24:51.321Z"
   },
   {
    "duration": 380,
    "start_time": "2022-10-21T23:24:51.898Z"
   },
   {
    "duration": 156,
    "start_time": "2022-10-21T23:25:06.966Z"
   },
   {
    "duration": 344,
    "start_time": "2022-10-21T23:26:46.231Z"
   },
   {
    "duration": 306,
    "start_time": "2022-10-21T23:26:57.572Z"
   },
   {
    "duration": 18,
    "start_time": "2022-10-21T23:30:09.193Z"
   },
   {
    "duration": 2047,
    "start_time": "2022-10-21T23:30:16.881Z"
   },
   {
    "duration": 4,
    "start_time": "2022-10-21T23:32:00.411Z"
   },
   {
    "duration": 17,
    "start_time": "2022-10-21T23:33:25.913Z"
   },
   {
    "duration": 246,
    "start_time": "2022-10-21T23:34:35.536Z"
   },
   {
    "duration": 169,
    "start_time": "2022-10-21T23:34:54.077Z"
   },
   {
    "duration": 6,
    "start_time": "2022-10-21T23:34:54.539Z"
   },
   {
    "duration": 301,
    "start_time": "2022-10-21T23:34:55.195Z"
   },
   {
    "duration": 15,
    "start_time": "2022-10-21T23:34:56.757Z"
   },
   {
    "duration": 131,
    "start_time": "2022-10-21T23:35:11.273Z"
   },
   {
    "duration": 7,
    "start_time": "2022-10-21T23:35:11.949Z"
   },
   {
    "duration": 337,
    "start_time": "2022-10-21T23:35:12.391Z"
   },
   {
    "duration": 14,
    "start_time": "2022-10-21T23:35:12.805Z"
   },
   {
    "duration": 7,
    "start_time": "2022-10-21T23:35:50.641Z"
   },
   {
    "duration": 16,
    "start_time": "2022-10-21T23:36:16.638Z"
   },
   {
    "duration": 14226,
    "start_time": "2022-10-21T23:38:16.931Z"
   },
   {
    "duration": 30,
    "start_time": "2022-10-21T23:41:24.404Z"
   },
   {
    "duration": 7,
    "start_time": "2022-10-21T23:41:28.343Z"
   },
   {
    "duration": 320,
    "start_time": "2022-10-21T23:41:29.476Z"
   },
   {
    "duration": 14,
    "start_time": "2022-10-21T23:41:34.711Z"
   },
   {
    "duration": 140,
    "start_time": "2022-10-21T23:41:58.161Z"
   },
   {
    "duration": 7,
    "start_time": "2022-10-21T23:41:58.593Z"
   },
   {
    "duration": 428,
    "start_time": "2022-10-21T23:41:59.233Z"
   },
   {
    "duration": 161,
    "start_time": "2022-10-21T23:42:22.890Z"
   },
   {
    "duration": 8,
    "start_time": "2022-10-21T23:42:26.547Z"
   },
   {
    "duration": 291,
    "start_time": "2022-10-21T23:42:27.085Z"
   },
   {
    "duration": 1564,
    "start_time": "2022-10-21T23:47:33.441Z"
   },
   {
    "duration": 6,
    "start_time": "2022-10-21T23:47:35.006Z"
   },
   {
    "duration": 161,
    "start_time": "2022-10-21T23:48:25.646Z"
   },
   {
    "duration": 14325,
    "start_time": "2022-10-21T23:48:32.157Z"
   },
   {
    "duration": 14404,
    "start_time": "2022-10-21T23:51:23.415Z"
   },
   {
    "duration": 3557,
    "start_time": "2022-10-21T23:52:42.965Z"
   },
   {
    "duration": 19,
    "start_time": "2022-10-21T23:52:54.791Z"
   },
   {
    "duration": 14757,
    "start_time": "2022-10-21T23:53:23.443Z"
   },
   {
    "duration": 147,
    "start_time": "2022-10-21T23:59:06.238Z"
   },
   {
    "duration": 133,
    "start_time": "2022-10-21T23:59:31.303Z"
   },
   {
    "duration": 16,
    "start_time": "2022-10-22T00:01:34.720Z"
   },
   {
    "duration": 21,
    "start_time": "2022-10-22T00:01:46.248Z"
   },
   {
    "duration": 17,
    "start_time": "2022-10-22T00:03:28.966Z"
   },
   {
    "duration": 127,
    "start_time": "2022-10-22T00:04:22.614Z"
   },
   {
    "duration": 129,
    "start_time": "2022-10-22T00:04:47.937Z"
   },
   {
    "duration": 133,
    "start_time": "2022-10-22T00:05:38.111Z"
   },
   {
    "duration": 130,
    "start_time": "2022-10-22T00:06:07.173Z"
   },
   {
    "duration": 125,
    "start_time": "2022-10-22T00:06:45.922Z"
   },
   {
    "duration": 123,
    "start_time": "2022-10-22T00:06:58.475Z"
   },
   {
    "duration": 16,
    "start_time": "2022-10-22T00:07:11.311Z"
   },
   {
    "duration": 173,
    "start_time": "2022-10-22T00:07:18.518Z"
   },
   {
    "duration": 33,
    "start_time": "2022-10-22T00:07:28.503Z"
   },
   {
    "duration": 34,
    "start_time": "2022-10-22T00:07:55.747Z"
   },
   {
    "duration": 15,
    "start_time": "2022-10-22T00:09:01.897Z"
   },
   {
    "duration": 87,
    "start_time": "2022-10-22T00:09:18.533Z"
   },
   {
    "duration": 33,
    "start_time": "2022-10-22T00:09:31.855Z"
   },
   {
    "duration": 7,
    "start_time": "2022-10-22T00:12:46.224Z"
   },
   {
    "duration": 5,
    "start_time": "2022-10-22T00:15:50.886Z"
   },
   {
    "duration": 60,
    "start_time": "2022-10-22T14:00:52.011Z"
   },
   {
    "duration": 1607,
    "start_time": "2022-10-22T14:00:55.700Z"
   },
   {
    "duration": 63,
    "start_time": "2022-10-22T14:00:57.309Z"
   },
   {
    "duration": 75,
    "start_time": "2022-10-22T14:00:59.752Z"
   },
   {
    "duration": 9,
    "start_time": "2022-10-22T14:01:06.827Z"
   },
   {
    "duration": 12,
    "start_time": "2022-10-22T14:29:57.321Z"
   },
   {
    "duration": 11,
    "start_time": "2022-10-22T14:30:12.885Z"
   },
   {
    "duration": 14,
    "start_time": "2022-10-22T14:31:16.603Z"
   },
   {
    "duration": 14,
    "start_time": "2022-10-22T14:31:52.008Z"
   },
   {
    "duration": 14,
    "start_time": "2022-10-22T14:32:32.247Z"
   },
   {
    "duration": 11,
    "start_time": "2022-10-22T14:33:02.086Z"
   },
   {
    "duration": 12,
    "start_time": "2022-10-22T14:33:22.436Z"
   },
   {
    "duration": 12,
    "start_time": "2022-10-22T14:33:31.034Z"
   }
  ],
  "kernelspec": {
   "display_name": "Python 3 (ipykernel)",
   "language": "python",
   "name": "python3"
  },
  "language_info": {
   "codemirror_mode": {
    "name": "ipython",
    "version": 3
   },
   "file_extension": ".py",
   "mimetype": "text/x-python",
   "name": "python",
   "nbconvert_exporter": "python",
   "pygments_lexer": "ipython3",
   "version": "3.9.13"
  },
  "toc": {
   "base_numbering": 1,
   "nav_menu": {},
   "number_sections": true,
   "sideBar": true,
   "skip_h1_title": true,
   "title_cell": "Table of Contents",
   "title_sidebar": "Contents",
   "toc_cell": false,
   "toc_position": {},
   "toc_section_display": true,
   "toc_window_display": false
  }
 },
 "nbformat": 4,
 "nbformat_minor": 2
}
