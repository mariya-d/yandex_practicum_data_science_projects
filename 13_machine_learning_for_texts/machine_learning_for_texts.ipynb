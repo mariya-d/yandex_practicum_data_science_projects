{
 "cells": [
  {
   "cell_type": "markdown",
   "id": "c3e17ccd",
   "metadata": {},
   "source": [
    "# Проект для «Викишоп»"
   ]
  },
  {
   "cell_type": "markdown",
   "id": "ca6c8a1d",
   "metadata": {},
   "source": [
    "## Описание проекта"
   ]
  },
  {
   "cell_type": "markdown",
   "id": "2af301be",
   "metadata": {},
   "source": [
    "Интернет-магазин «Викишоп» запускает новый сервис. \n",
    "\n",
    "Теперь пользователи могут редактировать и дополнять описания товаров, как в вики-сообществах. То есть клиенты предлагают свои правки и комментируют изменения других. Магазину нужен инструмент, который будет искать токсичные комментарии и отправлять их на модерацию. \n",
    "\n",
    "Обучите модель классифицировать комментарии на позитивные и негативные. В вашем распоряжении набор данных с разметкой о токсичности правок.\n",
    "\n",
    "Постройте модель со значением метрики качества F1 не меньше 0.75. "
   ]
  },
  {
   "cell_type": "markdown",
   "id": "b3d5c25b",
   "metadata": {},
   "source": [
    "## 1 Подготовка данных"
   ]
  },
  {
   "cell_type": "code",
   "execution_count": 1,
   "id": "65c451d2",
   "metadata": {},
   "outputs": [
    {
     "name": "stdout",
     "output_type": "stream",
     "text": [
      "Requirement already satisfied: pymystem3 in c:\\users\\alex pc\\anaconda3\\lib\\site-packages (0.2.0)\n",
      "Requirement already satisfied: requests in c:\\users\\alex pc\\anaconda3\\lib\\site-packages (from pymystem3) (2.28.1)\n",
      "Requirement already satisfied: urllib3<1.27,>=1.21.1 in c:\\users\\alex pc\\anaconda3\\lib\\site-packages (from requests->pymystem3) (1.26.11)\n",
      "Requirement already satisfied: charset-normalizer<3,>=2 in c:\\users\\alex pc\\anaconda3\\lib\\site-packages (from requests->pymystem3) (2.0.4)\n",
      "Requirement already satisfied: certifi>=2017.4.17 in c:\\users\\alex pc\\anaconda3\\lib\\site-packages (from requests->pymystem3) (2022.9.14)\n",
      "Requirement already satisfied: idna<4,>=2.5 in c:\\users\\alex pc\\anaconda3\\lib\\site-packages (from requests->pymystem3) (3.3)\n",
      "Note: you may need to restart the kernel to use updated packages.\n"
     ]
    }
   ],
   "source": [
    "pip install pymystem3"
   ]
  },
  {
   "cell_type": "code",
   "execution_count": 2,
   "id": "e00b0bf3",
   "metadata": {},
   "outputs": [
    {
     "name": "stderr",
     "output_type": "stream",
     "text": [
      "[nltk_data] Downloading package omw-1.4 to C:\\Users\\Alex\n",
      "[nltk_data]     PC\\AppData\\Roaming\\nltk_data...\n",
      "[nltk_data]   Package omw-1.4 is already up-to-date!\n"
     ]
    }
   ],
   "source": [
    "import pandas as pd\n",
    "import matplotlib.pyplot as plt \n",
    "plt.style.use('seaborn-pastel')\n",
    "import seaborn as sns \n",
    "import numpy as np \n",
    "\n",
    "import re\n",
    "\n",
    "import nltk\n",
    "nltk.download('omw-1.4')\n",
    "from nltk.stem import WordNetLemmatizer\n",
    "from nltk.corpus import stopwords as nltk_stopwords\n",
    "from nltk.corpus import wordnet\n",
    "from nltk.tokenize import word_tokenize \n",
    "\n",
    "from sklearn.feature_extraction.text import TfidfVectorizer\n",
    "from sklearn.feature_extraction.text import CountVectorizer\n",
    "\n",
    "from sklearn.model_selection import train_test_split\n",
    "from sklearn.ensemble import RandomForestClassifier\n",
    "from sklearn.tree import DecisionTreeClassifier\n",
    "from sklearn.linear_model import LogisticRegression\n",
    "from sklearn.model_selection import RandomizedSearchCV\n",
    "import lightgbm as lgb\n",
    "\n",
    "from sklearn.metrics import f1_score\n",
    "\n",
    "from time import time\n",
    "\n",
    "pd.options.display.max_columns = None \n",
    "\n",
    "import warnings\n",
    "warnings.filterwarnings('ignore')"
   ]
  },
  {
   "cell_type": "code",
   "execution_count": 3,
   "id": "87aea06a",
   "metadata": {},
   "outputs": [
    {
     "name": "stderr",
     "output_type": "stream",
     "text": [
      "[nltk_data] Downloading package punkt to C:\\Users\\Alex\n",
      "[nltk_data]     PC\\AppData\\Roaming\\nltk_data...\n",
      "[nltk_data]   Package punkt is already up-to-date!\n",
      "[nltk_data] Downloading package wordnet to C:\\Users\\Alex\n",
      "[nltk_data]     PC\\AppData\\Roaming\\nltk_data...\n",
      "[nltk_data]   Package wordnet is already up-to-date!\n"
     ]
    }
   ],
   "source": [
    "nltk.download('punkt')\n",
    "nltk.download('wordnet')\n",
    "\n",
    "stopwords = set(nltk_stopwords.words('english'))"
   ]
  },
  {
   "cell_type": "code",
   "execution_count": 4,
   "id": "c662af69",
   "metadata": {},
   "outputs": [],
   "source": [
    "df = pd.read_csv('toxic_comments.csv')"
   ]
  },
  {
   "cell_type": "code",
   "execution_count": 5,
   "id": "e14fd712",
   "metadata": {},
   "outputs": [
    {
     "data": {
      "text/html": [
       "<div>\n",
       "<style scoped>\n",
       "    .dataframe tbody tr th:only-of-type {\n",
       "        vertical-align: middle;\n",
       "    }\n",
       "\n",
       "    .dataframe tbody tr th {\n",
       "        vertical-align: top;\n",
       "    }\n",
       "\n",
       "    .dataframe thead th {\n",
       "        text-align: right;\n",
       "    }\n",
       "</style>\n",
       "<table border=\"1\" class=\"dataframe\">\n",
       "  <thead>\n",
       "    <tr style=\"text-align: right;\">\n",
       "      <th></th>\n",
       "      <th>Unnamed: 0</th>\n",
       "      <th>text</th>\n",
       "      <th>toxic</th>\n",
       "    </tr>\n",
       "  </thead>\n",
       "  <tbody>\n",
       "    <tr>\n",
       "      <th>0</th>\n",
       "      <td>0</td>\n",
       "      <td>Explanation\\nWhy the edits made under my usern...</td>\n",
       "      <td>0</td>\n",
       "    </tr>\n",
       "    <tr>\n",
       "      <th>1</th>\n",
       "      <td>1</td>\n",
       "      <td>D'aww! He matches this background colour I'm s...</td>\n",
       "      <td>0</td>\n",
       "    </tr>\n",
       "    <tr>\n",
       "      <th>2</th>\n",
       "      <td>2</td>\n",
       "      <td>Hey man, I'm really not trying to edit war. It...</td>\n",
       "      <td>0</td>\n",
       "    </tr>\n",
       "    <tr>\n",
       "      <th>3</th>\n",
       "      <td>3</td>\n",
       "      <td>\"\\nMore\\nI can't make any real suggestions on ...</td>\n",
       "      <td>0</td>\n",
       "    </tr>\n",
       "    <tr>\n",
       "      <th>4</th>\n",
       "      <td>4</td>\n",
       "      <td>You, sir, are my hero. Any chance you remember...</td>\n",
       "      <td>0</td>\n",
       "    </tr>\n",
       "    <tr>\n",
       "      <th>...</th>\n",
       "      <td>...</td>\n",
       "      <td>...</td>\n",
       "      <td>...</td>\n",
       "    </tr>\n",
       "    <tr>\n",
       "      <th>159287</th>\n",
       "      <td>159446</td>\n",
       "      <td>\":::::And for the second time of asking, when ...</td>\n",
       "      <td>0</td>\n",
       "    </tr>\n",
       "    <tr>\n",
       "      <th>159288</th>\n",
       "      <td>159447</td>\n",
       "      <td>You should be ashamed of yourself \\n\\nThat is ...</td>\n",
       "      <td>0</td>\n",
       "    </tr>\n",
       "    <tr>\n",
       "      <th>159289</th>\n",
       "      <td>159448</td>\n",
       "      <td>Spitzer \\n\\nUmm, theres no actual article for ...</td>\n",
       "      <td>0</td>\n",
       "    </tr>\n",
       "    <tr>\n",
       "      <th>159290</th>\n",
       "      <td>159449</td>\n",
       "      <td>And it looks like it was actually you who put ...</td>\n",
       "      <td>0</td>\n",
       "    </tr>\n",
       "    <tr>\n",
       "      <th>159291</th>\n",
       "      <td>159450</td>\n",
       "      <td>\"\\nAnd ... I really don't think you understand...</td>\n",
       "      <td>0</td>\n",
       "    </tr>\n",
       "  </tbody>\n",
       "</table>\n",
       "<p>159292 rows × 3 columns</p>\n",
       "</div>"
      ],
      "text/plain": [
       "        Unnamed: 0                                               text  toxic\n",
       "0                0  Explanation\\nWhy the edits made under my usern...      0\n",
       "1                1  D'aww! He matches this background colour I'm s...      0\n",
       "2                2  Hey man, I'm really not trying to edit war. It...      0\n",
       "3                3  \"\\nMore\\nI can't make any real suggestions on ...      0\n",
       "4                4  You, sir, are my hero. Any chance you remember...      0\n",
       "...            ...                                                ...    ...\n",
       "159287      159446  \":::::And for the second time of asking, when ...      0\n",
       "159288      159447  You should be ashamed of yourself \\n\\nThat is ...      0\n",
       "159289      159448  Spitzer \\n\\nUmm, theres no actual article for ...      0\n",
       "159290      159449  And it looks like it was actually you who put ...      0\n",
       "159291      159450  \"\\nAnd ... I really don't think you understand...      0\n",
       "\n",
       "[159292 rows x 3 columns]"
      ]
     },
     "execution_count": 5,
     "metadata": {},
     "output_type": "execute_result"
    }
   ],
   "source": [
    "df"
   ]
  },
  {
   "cell_type": "markdown",
   "id": "eaf406e2",
   "metadata": {},
   "source": [
    "Посмотрим как отличается количество комментариев, которые считаются токсичными от позитивных"
   ]
  },
  {
   "cell_type": "code",
   "execution_count": 6,
   "id": "9589d787",
   "metadata": {},
   "outputs": [
    {
     "data": {
      "image/png": "[encoded data removed]",
      "text/plain": [
       "<Figure size 640x480 with 1 Axes>"
      ]
     },
     "metadata": {},
     "output_type": "display_data"
    }
   ],
   "source": [
    "sns.countplot(x = 'toxic', data = df)\n",
    "plt.show()"
   ]
  },
  {
   "cell_type": "markdown",
   "id": "1e1a4153",
   "metadata": {},
   "source": [
    "Создадим функцию для очистки текста от лишних символов"
   ]
  },
  {
   "cell_type": "code",
   "execution_count": 7,
   "id": "a86cb2d4",
   "metadata": {},
   "outputs": [],
   "source": [
    "def clear_text(text):\n",
    "    text = re.sub(r'[^a-zA-Z]', ' ', text.lower())\n",
    "    \n",
    "    return  \" \".join(text.split())"
   ]
  },
  {
   "cell_type": "markdown",
   "id": "009d9791",
   "metadata": {},
   "source": [
    "Создадим функцию внутри которой токенизируем текст, после чего лемматизируем каждый токен и объединим в текст"
   ]
  },
  {
   "cell_type": "code",
   "execution_count": 8,
   "id": "ddbc1e0a",
   "metadata": {},
   "outputs": [],
   "source": [
    "def lemmatize(words):\n",
    "    lemmatizer = WordNetLemmatizer() \n",
    "    text = [] \n",
    "    tokens = word_tokenize(words) \n",
    "    for token in tokens: \n",
    "        lemmatized_word = lemmatizer.lemmatize(token) \n",
    "        text.append(lemmatized_word)\n",
    "    sentence = \" \".join(text) \n",
    "    return sentence"
   ]
  },
  {
   "cell_type": "markdown",
   "id": "f9275bc1",
   "metadata": {},
   "source": [
    "Добавим результаты работы функций в новый столбец"
   ]
  },
  {
   "cell_type": "code",
   "execution_count": 9,
   "id": "e4f2eb8c",
   "metadata": {},
   "outputs": [
    {
     "data": {
      "text/plain": [
       "0         explanation why the edits made under my userna...\n",
       "1         d aww he match this background colour i m seem...\n",
       "2         hey man i m really not trying to edit war it s...\n",
       "3         more i can t make any real suggestion on impro...\n",
       "4         you sir are my hero any chance you remember wh...\n",
       "                                ...                        \n",
       "159287    and for the second time of asking when your vi...\n",
       "159288    you should be ashamed of yourself that is a ho...\n",
       "159289    spitzer umm there no actual article for prosti...\n",
       "159290    and it look like it wa actually you who put on...\n",
       "159291    and i really don t think you understand i came...\n",
       "Name: lemmatized, Length: 159292, dtype: object"
      ]
     },
     "execution_count": 9,
     "metadata": {},
     "output_type": "execute_result"
    }
   ],
   "source": [
    "df['lemmatized'] = df['text'].apply(clear_text)\n",
    "df['lemmatized'] = df['lemmatized'].apply(lemmatize)\n",
    "\n",
    "df['lemmatized']"
   ]
  },
  {
   "cell_type": "markdown",
   "id": "34689144",
   "metadata": {},
   "source": [
    "Посмотрим на результат"
   ]
  },
  {
   "cell_type": "code",
   "execution_count": 10,
   "id": "7091687e",
   "metadata": {},
   "outputs": [
    {
     "data": {
      "text/html": [
       "<div>\n",
       "<style scoped>\n",
       "    .dataframe tbody tr th:only-of-type {\n",
       "        vertical-align: middle;\n",
       "    }\n",
       "\n",
       "    .dataframe tbody tr th {\n",
       "        vertical-align: top;\n",
       "    }\n",
       "\n",
       "    .dataframe thead th {\n",
       "        text-align: right;\n",
       "    }\n",
       "</style>\n",
       "<table border=\"1\" class=\"dataframe\">\n",
       "  <thead>\n",
       "    <tr style=\"text-align: right;\">\n",
       "      <th></th>\n",
       "      <th>Unnamed: 0</th>\n",
       "      <th>text</th>\n",
       "      <th>toxic</th>\n",
       "      <th>lemmatized</th>\n",
       "    </tr>\n",
       "  </thead>\n",
       "  <tbody>\n",
       "    <tr>\n",
       "      <th>0</th>\n",
       "      <td>0</td>\n",
       "      <td>Explanation\\nWhy the edits made under my usern...</td>\n",
       "      <td>0</td>\n",
       "      <td>explanation why the edits made under my userna...</td>\n",
       "    </tr>\n",
       "    <tr>\n",
       "      <th>1</th>\n",
       "      <td>1</td>\n",
       "      <td>D'aww! He matches this background colour I'm s...</td>\n",
       "      <td>0</td>\n",
       "      <td>d aww he match this background colour i m seem...</td>\n",
       "    </tr>\n",
       "    <tr>\n",
       "      <th>2</th>\n",
       "      <td>2</td>\n",
       "      <td>Hey man, I'm really not trying to edit war. It...</td>\n",
       "      <td>0</td>\n",
       "      <td>hey man i m really not trying to edit war it s...</td>\n",
       "    </tr>\n",
       "    <tr>\n",
       "      <th>3</th>\n",
       "      <td>3</td>\n",
       "      <td>\"\\nMore\\nI can't make any real suggestions on ...</td>\n",
       "      <td>0</td>\n",
       "      <td>more i can t make any real suggestion on impro...</td>\n",
       "    </tr>\n",
       "    <tr>\n",
       "      <th>4</th>\n",
       "      <td>4</td>\n",
       "      <td>You, sir, are my hero. Any chance you remember...</td>\n",
       "      <td>0</td>\n",
       "      <td>you sir are my hero any chance you remember wh...</td>\n",
       "    </tr>\n",
       "    <tr>\n",
       "      <th>...</th>\n",
       "      <td>...</td>\n",
       "      <td>...</td>\n",
       "      <td>...</td>\n",
       "      <td>...</td>\n",
       "    </tr>\n",
       "    <tr>\n",
       "      <th>159287</th>\n",
       "      <td>159446</td>\n",
       "      <td>\":::::And for the second time of asking, when ...</td>\n",
       "      <td>0</td>\n",
       "      <td>and for the second time of asking when your vi...</td>\n",
       "    </tr>\n",
       "    <tr>\n",
       "      <th>159288</th>\n",
       "      <td>159447</td>\n",
       "      <td>You should be ashamed of yourself \\n\\nThat is ...</td>\n",
       "      <td>0</td>\n",
       "      <td>you should be ashamed of yourself that is a ho...</td>\n",
       "    </tr>\n",
       "    <tr>\n",
       "      <th>159289</th>\n",
       "      <td>159448</td>\n",
       "      <td>Spitzer \\n\\nUmm, theres no actual article for ...</td>\n",
       "      <td>0</td>\n",
       "      <td>spitzer umm there no actual article for prosti...</td>\n",
       "    </tr>\n",
       "    <tr>\n",
       "      <th>159290</th>\n",
       "      <td>159449</td>\n",
       "      <td>And it looks like it was actually you who put ...</td>\n",
       "      <td>0</td>\n",
       "      <td>and it look like it wa actually you who put on...</td>\n",
       "    </tr>\n",
       "    <tr>\n",
       "      <th>159291</th>\n",
       "      <td>159450</td>\n",
       "      <td>\"\\nAnd ... I really don't think you understand...</td>\n",
       "      <td>0</td>\n",
       "      <td>and i really don t think you understand i came...</td>\n",
       "    </tr>\n",
       "  </tbody>\n",
       "</table>\n",
       "<p>159292 rows × 4 columns</p>\n",
       "</div>"
      ],
      "text/plain": [
       "        Unnamed: 0                                               text  toxic  \\\n",
       "0                0  Explanation\\nWhy the edits made under my usern...      0   \n",
       "1                1  D'aww! He matches this background colour I'm s...      0   \n",
       "2                2  Hey man, I'm really not trying to edit war. It...      0   \n",
       "3                3  \"\\nMore\\nI can't make any real suggestions on ...      0   \n",
       "4                4  You, sir, are my hero. Any chance you remember...      0   \n",
       "...            ...                                                ...    ...   \n",
       "159287      159446  \":::::And for the second time of asking, when ...      0   \n",
       "159288      159447  You should be ashamed of yourself \\n\\nThat is ...      0   \n",
       "159289      159448  Spitzer \\n\\nUmm, theres no actual article for ...      0   \n",
       "159290      159449  And it looks like it was actually you who put ...      0   \n",
       "159291      159450  \"\\nAnd ... I really don't think you understand...      0   \n",
       "\n",
       "                                               lemmatized  \n",
       "0       explanation why the edits made under my userna...  \n",
       "1       d aww he match this background colour i m seem...  \n",
       "2       hey man i m really not trying to edit war it s...  \n",
       "3       more i can t make any real suggestion on impro...  \n",
       "4       you sir are my hero any chance you remember wh...  \n",
       "...                                                   ...  \n",
       "159287  and for the second time of asking when your vi...  \n",
       "159288  you should be ashamed of yourself that is a ho...  \n",
       "159289  spitzer umm there no actual article for prosti...  \n",
       "159290  and it look like it wa actually you who put on...  \n",
       "159291  and i really don t think you understand i came...  \n",
       "\n",
       "[159292 rows x 4 columns]"
      ]
     },
     "execution_count": 10,
     "metadata": {},
     "output_type": "execute_result"
    }
   ],
   "source": [
    "df"
   ]
  },
  {
   "cell_type": "markdown",
   "id": "8259eaa7",
   "metadata": {},
   "source": [
    "## 2 Подготовка признаков"
   ]
  },
  {
   "cell_type": "markdown",
   "id": "c9773b25",
   "metadata": {},
   "source": [
    "Выделим признаки и целевой признак, разделим данные на обучающую и тестовую выборку, стратифицируем выборки для сохранения баланса"
   ]
  },
  {
   "cell_type": "code",
   "execution_count": 11,
   "id": "48465c13",
   "metadata": {
    "scrolled": true
   },
   "outputs": [],
   "source": [
    "X = df.drop('toxic', axis=1)\n",
    "y = df['toxic']\n",
    "\n",
    "X_train, X_test, y_train, y_test = train_test_split(X, y,\n",
    "    test_size=0.2,\n",
    "    random_state=12345,\n",
    "    stratify=y)\n"
   ]
  },
  {
   "cell_type": "markdown",
   "id": "46b4916b",
   "metadata": {},
   "source": [
    "Выделим тренировочный и тестовый корпус"
   ]
  },
  {
   "cell_type": "code",
   "execution_count": 12,
   "id": "9b3a1213",
   "metadata": {},
   "outputs": [
    {
     "data": {
      "text/plain": [
       "4627      i don t mean to intrude but i have noticed the...\n",
       "23542     god or whoever whatever i now decree you the c...\n",
       "128384    can we keep this neat and sequential we have a...\n",
       "31111     here s what you said may rama blocked expires ...\n",
       "41207     sir giggsy ha often said that he like to keep ...\n",
       "                                ...                        \n",
       "54715     indeed bigdunc that page rightly say that para...\n",
       "75564     i m not trying to make a point or anything exc...\n",
       "71196     forgive my cruddy formattingi m still relative...\n",
       "55751     talk grasshopper scout i moved your comment fr...\n",
       "11543                                  oppose wp commonname\n",
       "Name: lemmatized, Length: 127433, dtype: object"
      ]
     },
     "execution_count": 12,
     "metadata": {},
     "output_type": "execute_result"
    }
   ],
   "source": [
    "corpus_train = X_train['lemmatized']\n",
    "corpus_test = X_test['lemmatized']\n",
    "corpus_train"
   ]
  },
  {
   "cell_type": "raw",
   "id": "772920f9",
   "metadata": {},
   "source": [
    "Векторизируем выделенные корпусы текстов, загрузив счетчик и очистив массивы от стоп-слов"
   ]
  },
  {
   "cell_type": "code",
   "execution_count": 13,
   "id": "e378310f",
   "metadata": {},
   "outputs": [
    {
     "name": "stdout",
     "output_type": "stream",
     "text": [
      "Размер матрицы: (127433, 138910)\n",
      "Размер матрицы: (31859, 138910)\n"
     ]
    }
   ],
   "source": [
    "count_tf_idf = TfidfVectorizer(stop_words=stopwords) \n",
    "\n",
    "tf_idf_train = count_tf_idf.fit_transform(corpus_train) \n",
    "\n",
    "tf_idf_test = count_tf_idf.transform(corpus_test) \n",
    "\n",
    "print(\"Размер матрицы:\", tf_idf_train.shape)\n",
    "print(\"Размер матрицы:\", tf_idf_test.shape)"
   ]
  },
  {
   "cell_type": "markdown",
   "id": "05798375",
   "metadata": {},
   "source": [
    "## 3 Подбор параметров и обучение моделей"
   ]
  },
  {
   "cell_type": "markdown",
   "id": "1d3f02db",
   "metadata": {},
   "source": [
    "Создадим таблицу для конечного сравнения метрик."
   ]
  },
  {
   "cell_type": "code",
   "execution_count": 14,
   "id": "ff9804a5",
   "metadata": {},
   "outputs": [],
   "source": [
    "analisys = pd.DataFrame({'model':[], 'F1_model':[], 'F1_on_train':[]})\n",
    "all_models = []"
   ]
  },
  {
   "cell_type": "markdown",
   "id": "0a8c09e5",
   "metadata": {},
   "source": [
    "Создадим функцию для подбора параметров моделей"
   ]
  },
  {
   "cell_type": "code",
   "execution_count": 15,
   "id": "b3034ad7",
   "metadata": {},
   "outputs": [],
   "source": [
    "def train_model(model, parameters):\n",
    "    \n",
    "    model_random = RandomizedSearchCV(\n",
    "        estimator=model,\n",
    "        param_distributions=parameters,\n",
    "        scoring='f1', \n",
    "        n_jobs=-1,\n",
    "        cv=4, \n",
    "        verbose=2\n",
    "    )\n",
    "    \n",
    "    start = time()\n",
    "    model_random.fit(tf_idf_train, y_train)\n",
    "    print('Подбор параметров занял %.2f секунд' %(time() - start))\n",
    "    \n",
    "    f1 = model_random.best_score_\n",
    "    f1_on_train = f1_score(y_train, model_random.predict(tf_idf_train))\n",
    "    \n",
    "    print('Лучшие параметры:', model_random.best_params_)\n",
    "    print('F1 обученной модели:', f1)\n",
    "    print('F1 на тренировочной выборке:', f1_on_train)\n",
    "   \n",
    "    all_models.append(model_random)\n",
    "    row = []\n",
    "    row.extend([model, f1, f1_on_train])\n",
    "    analisys.loc[len(analisys.index)] = row\n",
    "    \n",
    "    return model_random"
   ]
  },
  {
   "cell_type": "markdown",
   "id": "baa80297",
   "metadata": {},
   "source": [
    "Зададим рандомные параметры для обучения модели Логистической Регрессии"
   ]
  },
  {
   "cell_type": "code",
   "execution_count": 16,
   "id": "ebc00e64",
   "metadata": {},
   "outputs": [
    {
     "name": "stdout",
     "output_type": "stream",
     "text": [
      "Fitting 4 folds for each of 8 candidates, totalling 32 fits\n",
      "Подбор параметров занял 126.08 секунд\n",
      "Лучшие параметры: {'penalty': 'l2', 'class_weight': 'balanced'}\n",
      "F1 обученной модели: 0.7457082089350278\n",
      "F1 на тренировочной выборке: 0.8299916874480466\n"
     ]
    }
   ],
   "source": [
    "ran_lr = {\n",
    "    \"penalty\": ['l1', 'l2', 'elasticnet', 'none'],\n",
    "    \"class_weight\": ['balanced', 'none'],\n",
    "}\n",
    "\n",
    "logr = LogisticRegression(max_iter=1000)\n",
    "\n",
    "lr_random = train_model(logr, ran_lr) "
   ]
  },
  {
   "cell_type": "markdown",
   "id": "f11e20c5",
   "metadata": {},
   "source": [
    "Зададим рандомные параметры для обучения модели DecisionTreeClassifier"
   ]
  },
  {
   "cell_type": "code",
   "execution_count": 17,
   "id": "6c488845",
   "metadata": {},
   "outputs": [
    {
     "name": "stdout",
     "output_type": "stream",
     "text": [
      "Fitting 4 folds for each of 10 candidates, totalling 40 fits\n",
      "Подбор параметров занял 243.74 секунд\n",
      "Лучшие параметры: {'max_depth': 53}\n",
      "F1 обученной модели: 0.704827097446376\n",
      "F1 на тренировочной выборке: 0.818713981031901\n"
     ]
    }
   ],
   "source": [
    "ran_grid_tree = {\n",
    "    \"max_depth\": list(range(45, 56))\n",
    "}\n",
    "dtr = DecisionTreeClassifier()\n",
    "dtr_random = train_model(dtr, ran_grid_tree) "
   ]
  },
  {
   "cell_type": "markdown",
   "id": "d6406f0e",
   "metadata": {},
   "source": [
    "Зададим рандомные параметры для обучения модели RandomForestClassifier"
   ]
  },
  {
   "cell_type": "code",
   "execution_count": 18,
   "id": "9c3d5bef",
   "metadata": {},
   "outputs": [
    {
     "name": "stdout",
     "output_type": "stream",
     "text": [
      "Fitting 4 folds for each of 4 candidates, totalling 16 fits\n",
      "Подбор параметров занял 225.42 секунд\n",
      "Лучшие параметры: {'n_estimators': 12, 'max_depth': 310}\n",
      "F1 обученной модели: 0.620891914976102\n",
      "F1 на тренировочной выборке: 0.910390047074647\n"
     ]
    }
   ],
   "source": [
    "ran_grid_forest = {\n",
    "    'max_depth': [300, 310],\n",
    "    'n_estimators': [12, 14],\n",
    "}\n",
    "\n",
    "rfc = RandomForestClassifier(n_jobs=-1)\n",
    "\n",
    "rfc_random = train_model(rfc, ran_grid_forest) "
   ]
  },
  {
   "cell_type": "markdown",
   "id": "1b61884c",
   "metadata": {},
   "source": [
    "Зададим рандомные параметры для обучения модели LGBMClassifier"
   ]
  },
  {
   "cell_type": "code",
   "execution_count": 19,
   "id": "e03c2c5d",
   "metadata": {},
   "outputs": [
    {
     "name": "stdout",
     "output_type": "stream",
     "text": [
      "Fitting 4 folds for each of 4 candidates, totalling 16 fits\n",
      "Подбор параметров занял 156.98 секунд\n",
      "Лучшие параметры: {'max_depth': 25, 'learning_rate': 0.3}\n",
      "F1 обученной модели: 0.7642287062721276\n",
      "F1 на тренировочной выборке: 0.8518930005982395\n"
     ]
    }
   ],
   "source": [
    "rand_lgbm_param = {\n",
    "    'max_depth': [15, 25],\n",
    "    'learning_rate': [0.1, 0.3]\n",
    "}\n",
    "\n",
    "gbm = lgb.LGBMClassifier(\n",
    "    boosting_type='gbdt',\n",
    "    n_jobs=-1\n",
    ")\n",
    "\n",
    "gbm_random= train_model(gbm, rand_lgbm_param)"
   ]
  },
  {
   "cell_type": "markdown",
   "id": "22b011ad",
   "metadata": {},
   "source": [
    "## 4 Анализ результатов и тестирование лучшей модели"
   ]
  },
  {
   "cell_type": "code",
   "execution_count": 20,
   "id": "de3e29b8",
   "metadata": {},
   "outputs": [
    {
     "data": {
      "text/html": [
       "<div>\n",
       "<style scoped>\n",
       "    .dataframe tbody tr th:only-of-type {\n",
       "        vertical-align: middle;\n",
       "    }\n",
       "\n",
       "    .dataframe tbody tr th {\n",
       "        vertical-align: top;\n",
       "    }\n",
       "\n",
       "    .dataframe thead th {\n",
       "        text-align: right;\n",
       "    }\n",
       "</style>\n",
       "<table border=\"1\" class=\"dataframe\">\n",
       "  <thead>\n",
       "    <tr style=\"text-align: right;\">\n",
       "      <th></th>\n",
       "      <th>model</th>\n",
       "      <th>F1_model</th>\n",
       "      <th>F1_on_train</th>\n",
       "      <th>names</th>\n",
       "    </tr>\n",
       "  </thead>\n",
       "  <tbody>\n",
       "    <tr>\n",
       "      <th>0</th>\n",
       "      <td>LogisticRegression(max_iter=1000)</td>\n",
       "      <td>0.745708</td>\n",
       "      <td>0.829992</td>\n",
       "      <td>LogisticRegression</td>\n",
       "    </tr>\n",
       "    <tr>\n",
       "      <th>1</th>\n",
       "      <td>DecisionTreeClassifier()</td>\n",
       "      <td>0.704827</td>\n",
       "      <td>0.818714</td>\n",
       "      <td>DecisionTree</td>\n",
       "    </tr>\n",
       "    <tr>\n",
       "      <th>2</th>\n",
       "      <td>RandomForestClassifier(n_jobs=-1)</td>\n",
       "      <td>0.620892</td>\n",
       "      <td>0.910390</td>\n",
       "      <td>RandomForest</td>\n",
       "    </tr>\n",
       "    <tr>\n",
       "      <th>3</th>\n",
       "      <td>LGBMClassifier()</td>\n",
       "      <td>0.764229</td>\n",
       "      <td>0.851893</td>\n",
       "      <td>LightGBM</td>\n",
       "    </tr>\n",
       "  </tbody>\n",
       "</table>\n",
       "</div>"
      ],
      "text/plain": [
       "                               model  F1_model  F1_on_train  \\\n",
       "0  LogisticRegression(max_iter=1000)  0.745708     0.829992   \n",
       "1           DecisionTreeClassifier()  0.704827     0.818714   \n",
       "2  RandomForestClassifier(n_jobs=-1)  0.620892     0.910390   \n",
       "3                   LGBMClassifier()  0.764229     0.851893   \n",
       "\n",
       "                names  \n",
       "0  LogisticRegression  \n",
       "1        DecisionTree  \n",
       "2        RandomForest  \n",
       "3            LightGBM  "
      ]
     },
     "metadata": {},
     "output_type": "display_data"
    },
    {
     "data": {
      "image/png": "[encoded data removed]",
      "text/plain": [
       "<Figure size 1500x700 with 1 Axes>"
      ]
     },
     "metadata": {},
     "output_type": "display_data"
    },
    {
     "data": {
      "image/png": "[encoded data removed]",
      "text/plain": [
       "<Figure size 1500x700 with 1 Axes>"
      ]
     },
     "metadata": {},
     "output_type": "display_data"
    }
   ],
   "source": [
    "all_names = pd.DataFrame({'names':[ 'LogisticRegression', 'DecisionTree', 'RandomForest', 'LightGBM']})\n",
    "analisys = pd.concat([analisys, all_names], axis=1, join='inner')\n",
    "display(analisys)\n",
    "\n",
    "analisys.plot.bar(y='F1_model', rot=45, figsize=(15,7), color='pink')\n",
    "plt.title('Сравнение f1 обученных моделей', fontsize='x-large')\n",
    "plt.xlabel('Модель')\n",
    "plt.show()\n",
    "\n",
    "analisys.plot.bar(y='F1_on_train', rot=45, figsize=(15,7), color='lightblue')\n",
    "plt.title('Сравнение f1 на тренировочных выборках', fontsize='x-large')\n",
    "plt.xlabel('Модель')\n",
    "plt.show()"
   ]
  },
  {
   "cell_type": "markdown",
   "id": "59f98fa8",
   "metadata": {},
   "source": [
    "Проведем тестирование на модели показавшей самую высокую метрику F1, LGBMClassifier"
   ]
  },
  {
   "cell_type": "code",
   "execution_count": 21,
   "id": "653dd1ec",
   "metadata": {},
   "outputs": [
    {
     "name": "stdout",
     "output_type": "stream",
     "text": [
      "F1 лучшей модели на тестовой выборке: 0.7761452031114953\n"
     ]
    }
   ],
   "source": [
    "predicted = gbm_random.predict(tf_idf_test)\n",
    "print('F1 лучшей модели на тестовой выборке:', f1_score(y_test, predicted))"
   ]
  },
  {
   "cell_type": "markdown",
   "id": "f997385c",
   "metadata": {},
   "source": [
    "## 5 Вывод"
   ]
  },
  {
   "cell_type": "markdown",
   "id": "ff4d8f58",
   "metadata": {},
   "source": [
    "В ходе выполнения проектной работы был загружен набор данных с разметкой о токсичности правок.\n",
    "\n",
    "Тексты правок были очищены от \"лишних\" символов и приведены к нижнему регистру.\n",
    "Далее, все тексты были лемматизированы и добавлены в датасет в качестве обучающих признаков.\n",
    "\n",
    "На этапе подготовки признаков к обучению набор данных был разбит на признаки и целевой признак, а так же на обучающую и тестовую выборки.\n",
    "Были подготовлены корпусы текстов, обучающий и тестовый, были очищенны от стоп-слов, так же проведена векторизация.\n",
    "При помощи метода RandomizedSearchCV был произведен подбор параметров для четырех моделей:\n",
    "\n",
    "- LogisticRegression\n",
    "- DecisionTreeClassifier\n",
    "- RandomForestClassifier\n",
    "- LGBMClassifier\n",
    "\n",
    "Самую высокую метрику F1 продемонстировала модель LGBMClassifier, на этой же модели было проведено итоговое тестирование, метрика F1 составила 0,776.\n",
    "Целью настоящего исследования было заявлено построение модели со значением метрики качества F1 не меньше 0.75. Цель исследования достигнута."
   ]
  }
 ],
 "metadata": {
  "kernelspec": {
   "display_name": "Python 3 (ipykernel)",
   "language": "python",
   "name": "python3"
  },
  "language_info": {
   "codemirror_mode": {
    "name": "ipython",
    "version": 3
   },
   "file_extension": ".py",
   "mimetype": "text/x-python",
   "name": "python",
   "nbconvert_exporter": "python",
   "pygments_lexer": "ipython3",
   "version": "3.9.13"
  },
  "toc": {
   "base_numbering": 1,
   "nav_menu": {},
   "number_sections": true,
   "sideBar": true,
   "skip_h1_title": true,
   "title_cell": "Table of Contents",
   "title_sidebar": "Contents",
   "toc_cell": false,
   "toc_position": {},
   "toc_section_display": true,
   "toc_window_display": false
  }
 },
 "nbformat": 4,
 "nbformat_minor": 5
}
