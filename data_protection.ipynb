{
 "cells": [
  {
   "cell_type": "markdown",
   "metadata": {},
   "source": [
    "# Защита персональных данных клиентов"
   ]
  },
  {
   "cell_type": "markdown",
   "metadata": {},
   "source": [
    "Вам нужно защитить данные клиентов страховой компании «Хоть потоп». Разработайте такой метод преобразования данных, чтобы по ним было сложно восстановить персональную информацию. Обоснуйте корректность его работы.\n",
    "\n",
    "Нужно защитить данные, чтобы при преобразовании качество моделей машинного обучения не ухудшилось. Подбирать наилучшую модель не требуется."
   ]
  },
  {
   "cell_type": "markdown",
   "metadata": {},
   "source": [
    "## Загрузка данных"
   ]
  },
  {
   "cell_type": "code",
   "execution_count": 1,
   "metadata": {},
   "outputs": [],
   "source": [
    "import pandas as pd\n",
    "import numpy as np\n",
    "from sklearn.linear_model import LinearRegression\n",
    "from sklearn.metrics import r2_score, mean_squared_error"
   ]
  },
  {
   "cell_type": "code",
   "execution_count": 2,
   "metadata": {},
   "outputs": [],
   "source": [
    "data = pd.read_csv('/datasets/insurance.csv')"
   ]
  },
  {
   "cell_type": "code",
   "execution_count": 3,
   "metadata": {},
   "outputs": [
    {
     "data": {
      "text/html": [
       "<div>\n",
       "<style scoped>\n",
       "    .dataframe tbody tr th:only-of-type {\n",
       "        vertical-align: middle;\n",
       "    }\n",
       "\n",
       "    .dataframe tbody tr th {\n",
       "        vertical-align: top;\n",
       "    }\n",
       "\n",
       "    .dataframe thead th {\n",
       "        text-align: right;\n",
       "    }\n",
       "</style>\n",
       "<table border=\"1\" class=\"dataframe\">\n",
       "  <thead>\n",
       "    <tr style=\"text-align: right;\">\n",
       "      <th></th>\n",
       "      <th>Пол</th>\n",
       "      <th>Возраст</th>\n",
       "      <th>Зарплата</th>\n",
       "      <th>Члены семьи</th>\n",
       "      <th>Страховые выплаты</th>\n",
       "    </tr>\n",
       "  </thead>\n",
       "  <tbody>\n",
       "    <tr>\n",
       "      <th>0</th>\n",
       "      <td>1</td>\n",
       "      <td>41.0</td>\n",
       "      <td>49600.0</td>\n",
       "      <td>1</td>\n",
       "      <td>0</td>\n",
       "    </tr>\n",
       "    <tr>\n",
       "      <th>1</th>\n",
       "      <td>0</td>\n",
       "      <td>46.0</td>\n",
       "      <td>38000.0</td>\n",
       "      <td>1</td>\n",
       "      <td>1</td>\n",
       "    </tr>\n",
       "    <tr>\n",
       "      <th>2</th>\n",
       "      <td>0</td>\n",
       "      <td>29.0</td>\n",
       "      <td>21000.0</td>\n",
       "      <td>0</td>\n",
       "      <td>0</td>\n",
       "    </tr>\n",
       "    <tr>\n",
       "      <th>3</th>\n",
       "      <td>0</td>\n",
       "      <td>21.0</td>\n",
       "      <td>41700.0</td>\n",
       "      <td>2</td>\n",
       "      <td>0</td>\n",
       "    </tr>\n",
       "    <tr>\n",
       "      <th>4</th>\n",
       "      <td>1</td>\n",
       "      <td>28.0</td>\n",
       "      <td>26100.0</td>\n",
       "      <td>0</td>\n",
       "      <td>0</td>\n",
       "    </tr>\n",
       "  </tbody>\n",
       "</table>\n",
       "</div>"
      ],
      "text/plain": [
       "   Пол  Возраст  Зарплата  Члены семьи  Страховые выплаты\n",
       "0    1     41.0   49600.0            1                  0\n",
       "1    0     46.0   38000.0            1                  1\n",
       "2    0     29.0   21000.0            0                  0\n",
       "3    0     21.0   41700.0            2                  0\n",
       "4    1     28.0   26100.0            0                  0"
      ]
     },
     "metadata": {},
     "output_type": "display_data"
    }
   ],
   "source": [
    "display(data.head())"
   ]
  },
  {
   "cell_type": "code",
   "execution_count": 4,
   "metadata": {},
   "outputs": [
    {
     "name": "stdout",
     "output_type": "stream",
     "text": [
      "<class 'pandas.core.frame.DataFrame'>\n",
      "RangeIndex: 5000 entries, 0 to 4999\n",
      "Data columns (total 5 columns):\n",
      " #   Column             Non-Null Count  Dtype  \n",
      "---  ------             --------------  -----  \n",
      " 0   Пол                5000 non-null   int64  \n",
      " 1   Возраст            5000 non-null   float64\n",
      " 2   Зарплата           5000 non-null   float64\n",
      " 3   Члены семьи        5000 non-null   int64  \n",
      " 4   Страховые выплаты  5000 non-null   int64  \n",
      "dtypes: float64(2), int64(3)\n",
      "memory usage: 195.4 KB\n"
     ]
    }
   ],
   "source": [
    "data.info()"
   ]
  },
  {
   "cell_type": "code",
   "execution_count": 5,
   "metadata": {},
   "outputs": [
    {
     "data": {
      "text/html": [
       "<div>\n",
       "<style scoped>\n",
       "    .dataframe tbody tr th:only-of-type {\n",
       "        vertical-align: middle;\n",
       "    }\n",
       "\n",
       "    .dataframe tbody tr th {\n",
       "        vertical-align: top;\n",
       "    }\n",
       "\n",
       "    .dataframe thead th {\n",
       "        text-align: right;\n",
       "    }\n",
       "</style>\n",
       "<table border=\"1\" class=\"dataframe\">\n",
       "  <thead>\n",
       "    <tr style=\"text-align: right;\">\n",
       "      <th></th>\n",
       "      <th>Пол</th>\n",
       "      <th>Возраст</th>\n",
       "      <th>Зарплата</th>\n",
       "      <th>Члены семьи</th>\n",
       "      <th>Страховые выплаты</th>\n",
       "    </tr>\n",
       "  </thead>\n",
       "  <tbody>\n",
       "    <tr>\n",
       "      <th>count</th>\n",
       "      <td>5000.000000</td>\n",
       "      <td>5000.000000</td>\n",
       "      <td>5000.000000</td>\n",
       "      <td>5000.000000</td>\n",
       "      <td>5000.000000</td>\n",
       "    </tr>\n",
       "    <tr>\n",
       "      <th>mean</th>\n",
       "      <td>0.499000</td>\n",
       "      <td>30.952800</td>\n",
       "      <td>39916.360000</td>\n",
       "      <td>1.194200</td>\n",
       "      <td>0.148000</td>\n",
       "    </tr>\n",
       "    <tr>\n",
       "      <th>std</th>\n",
       "      <td>0.500049</td>\n",
       "      <td>8.440807</td>\n",
       "      <td>9900.083569</td>\n",
       "      <td>1.091387</td>\n",
       "      <td>0.463183</td>\n",
       "    </tr>\n",
       "    <tr>\n",
       "      <th>min</th>\n",
       "      <td>0.000000</td>\n",
       "      <td>18.000000</td>\n",
       "      <td>5300.000000</td>\n",
       "      <td>0.000000</td>\n",
       "      <td>0.000000</td>\n",
       "    </tr>\n",
       "    <tr>\n",
       "      <th>25%</th>\n",
       "      <td>0.000000</td>\n",
       "      <td>24.000000</td>\n",
       "      <td>33300.000000</td>\n",
       "      <td>0.000000</td>\n",
       "      <td>0.000000</td>\n",
       "    </tr>\n",
       "    <tr>\n",
       "      <th>50%</th>\n",
       "      <td>0.000000</td>\n",
       "      <td>30.000000</td>\n",
       "      <td>40200.000000</td>\n",
       "      <td>1.000000</td>\n",
       "      <td>0.000000</td>\n",
       "    </tr>\n",
       "    <tr>\n",
       "      <th>75%</th>\n",
       "      <td>1.000000</td>\n",
       "      <td>37.000000</td>\n",
       "      <td>46600.000000</td>\n",
       "      <td>2.000000</td>\n",
       "      <td>0.000000</td>\n",
       "    </tr>\n",
       "    <tr>\n",
       "      <th>max</th>\n",
       "      <td>1.000000</td>\n",
       "      <td>65.000000</td>\n",
       "      <td>79000.000000</td>\n",
       "      <td>6.000000</td>\n",
       "      <td>5.000000</td>\n",
       "    </tr>\n",
       "  </tbody>\n",
       "</table>\n",
       "</div>"
      ],
      "text/plain": [
       "               Пол      Возраст      Зарплата  Члены семьи  Страховые выплаты\n",
       "count  5000.000000  5000.000000   5000.000000  5000.000000        5000.000000\n",
       "mean      0.499000    30.952800  39916.360000     1.194200           0.148000\n",
       "std       0.500049     8.440807   9900.083569     1.091387           0.463183\n",
       "min       0.000000    18.000000   5300.000000     0.000000           0.000000\n",
       "25%       0.000000    24.000000  33300.000000     0.000000           0.000000\n",
       "50%       0.000000    30.000000  40200.000000     1.000000           0.000000\n",
       "75%       1.000000    37.000000  46600.000000     2.000000           0.000000\n",
       "max       1.000000    65.000000  79000.000000     6.000000           5.000000"
      ]
     },
     "execution_count": 5,
     "metadata": {},
     "output_type": "execute_result"
    }
   ],
   "source": [
    "data.describe()"
   ]
  },
  {
   "cell_type": "code",
   "execution_count": 6,
   "metadata": {},
   "outputs": [
    {
     "data": {
      "text/plain": [
       "Пол                  0\n",
       "Возраст              0\n",
       "Зарплата             0\n",
       "Члены семьи          0\n",
       "Страховые выплаты    0\n",
       "dtype: int64"
      ]
     },
     "execution_count": 6,
     "metadata": {},
     "output_type": "execute_result"
    }
   ],
   "source": [
    "data.isna().sum()"
   ]
  },
  {
   "cell_type": "code",
   "execution_count": 7,
   "metadata": {},
   "outputs": [
    {
     "data": {
      "text/plain": [
       "153"
      ]
     },
     "execution_count": 7,
     "metadata": {},
     "output_type": "execute_result"
    }
   ],
   "source": [
    "data.duplicated().sum()"
   ]
  },
  {
   "cell_type": "code",
   "execution_count": 8,
   "metadata": {
    "scrolled": true
   },
   "outputs": [
    {
     "data": {
      "text/plain": [
       "Пол                  int64\n",
       "Возраст              int64\n",
       "Зарплата             int64\n",
       "Члены семьи          int64\n",
       "Страховые выплаты    int64\n",
       "dtype: object"
      ]
     },
     "execution_count": 8,
     "metadata": {},
     "output_type": "execute_result"
    }
   ],
   "source": [
    "data['Возраст'] = data['Возраст'].astype(int)\n",
    "data['Зарплата'] = data['Зарплата'].astype(int)\n",
    "data.dtypes"
   ]
  },
  {
   "cell_type": "markdown",
   "metadata": {},
   "source": [
    "По итогам предобработки данных данные приведены к единому типу, пропусков в данных не выявлено, количество дубликатов незначительно, поэтому не требует углубленной проверки."
   ]
  },
  {
   "cell_type": "code",
   "execution_count": 9,
   "metadata": {},
   "outputs": [
    {
     "data": {
      "text/html": [
       "<style  type=\"text/css\" >\n",
       "#T_f6c7f_row0_col0,#T_f6c7f_row1_col1,#T_f6c7f_row2_col2,#T_f6c7f_row3_col3,#T_f6c7f_row4_col4{\n",
       "            background-color:  #000000;\n",
       "            color:  #f1f1f1;\n",
       "        }#T_f6c7f_row0_col1,#T_f6c7f_row2_col4,#T_f6c7f_row4_col0{\n",
       "            background-color:  #fdfdfd;\n",
       "            color:  #000000;\n",
       "        }#T_f6c7f_row0_col2,#T_f6c7f_row0_col4{\n",
       "            background-color:  #fafafa;\n",
       "            color:  #000000;\n",
       "        }#T_f6c7f_row0_col3,#T_f6c7f_row1_col3,#T_f6c7f_row2_col0{\n",
       "            background-color:  #fcfcfc;\n",
       "            color:  #000000;\n",
       "        }#T_f6c7f_row1_col0,#T_f6c7f_row1_col2,#T_f6c7f_row3_col1,#T_f6c7f_row4_col2{\n",
       "            background-color:  #fefefe;\n",
       "            color:  #000000;\n",
       "        }#T_f6c7f_row1_col4{\n",
       "            background-color:  #696969;\n",
       "            color:  #000000;\n",
       "        }#T_f6c7f_row2_col1,#T_f6c7f_row2_col3,#T_f6c7f_row3_col0,#T_f6c7f_row3_col2,#T_f6c7f_row3_col4,#T_f6c7f_row4_col3{\n",
       "            background-color:  #ffffff;\n",
       "            color:  #000000;\n",
       "        }#T_f6c7f_row4_col1{\n",
       "            background-color:  #6a6a6a;\n",
       "            color:  #000000;\n",
       "        }</style><table id=\"T_f6c7f_\" ><thead>    <tr>        <th class=\"blank level0\" ></th>        <th class=\"col_heading level0 col0\" >Пол</th>        <th class=\"col_heading level0 col1\" >Возраст</th>        <th class=\"col_heading level0 col2\" >Зарплата</th>        <th class=\"col_heading level0 col3\" >Члены семьи</th>        <th class=\"col_heading level0 col4\" >Страховые выплаты</th>    </tr></thead><tbody>\n",
       "                <tr>\n",
       "                        <th id=\"T_f6c7f_level0_row0\" class=\"row_heading level0 row0\" >Пол</th>\n",
       "                        <td id=\"T_f6c7f_row0_col0\" class=\"data row0 col0\" >1.000000</td>\n",
       "                        <td id=\"T_f6c7f_row0_col1\" class=\"data row0 col1\" >0.002074</td>\n",
       "                        <td id=\"T_f6c7f_row0_col2\" class=\"data row0 col2\" >0.014910</td>\n",
       "                        <td id=\"T_f6c7f_row0_col3\" class=\"data row0 col3\" >-0.008991</td>\n",
       "                        <td id=\"T_f6c7f_row0_col4\" class=\"data row0 col4\" >0.010140</td>\n",
       "            </tr>\n",
       "            <tr>\n",
       "                        <th id=\"T_f6c7f_level0_row1\" class=\"row_heading level0 row1\" >Возраст</th>\n",
       "                        <td id=\"T_f6c7f_row1_col0\" class=\"data row1 col0\" >0.002074</td>\n",
       "                        <td id=\"T_f6c7f_row1_col1\" class=\"data row1 col1\" >1.000000</td>\n",
       "                        <td id=\"T_f6c7f_row1_col2\" class=\"data row1 col2\" >-0.019093</td>\n",
       "                        <td id=\"T_f6c7f_row1_col3\" class=\"data row1 col3\" >-0.006692</td>\n",
       "                        <td id=\"T_f6c7f_row1_col4\" class=\"data row1 col4\" >0.651030</td>\n",
       "            </tr>\n",
       "            <tr>\n",
       "                        <th id=\"T_f6c7f_level0_row2\" class=\"row_heading level0 row2\" >Зарплата</th>\n",
       "                        <td id=\"T_f6c7f_row2_col0\" class=\"data row2 col0\" >0.014910</td>\n",
       "                        <td id=\"T_f6c7f_row2_col1\" class=\"data row2 col1\" >-0.019093</td>\n",
       "                        <td id=\"T_f6c7f_row2_col2\" class=\"data row2 col2\" >1.000000</td>\n",
       "                        <td id=\"T_f6c7f_row2_col3\" class=\"data row2 col3\" >-0.030296</td>\n",
       "                        <td id=\"T_f6c7f_row2_col4\" class=\"data row2 col4\" >-0.014963</td>\n",
       "            </tr>\n",
       "            <tr>\n",
       "                        <th id=\"T_f6c7f_level0_row3\" class=\"row_heading level0 row3\" >Члены семьи</th>\n",
       "                        <td id=\"T_f6c7f_row3_col0\" class=\"data row3 col0\" >-0.008991</td>\n",
       "                        <td id=\"T_f6c7f_row3_col1\" class=\"data row3 col1\" >-0.006692</td>\n",
       "                        <td id=\"T_f6c7f_row3_col2\" class=\"data row3 col2\" >-0.030296</td>\n",
       "                        <td id=\"T_f6c7f_row3_col3\" class=\"data row3 col3\" >1.000000</td>\n",
       "                        <td id=\"T_f6c7f_row3_col4\" class=\"data row3 col4\" >-0.036290</td>\n",
       "            </tr>\n",
       "            <tr>\n",
       "                        <th id=\"T_f6c7f_level0_row4\" class=\"row_heading level0 row4\" >Страховые выплаты</th>\n",
       "                        <td id=\"T_f6c7f_row4_col0\" class=\"data row4 col0\" >0.010140</td>\n",
       "                        <td id=\"T_f6c7f_row4_col1\" class=\"data row4 col1\" >0.651030</td>\n",
       "                        <td id=\"T_f6c7f_row4_col2\" class=\"data row4 col2\" >-0.014963</td>\n",
       "                        <td id=\"T_f6c7f_row4_col3\" class=\"data row4 col3\" >-0.036290</td>\n",
       "                        <td id=\"T_f6c7f_row4_col4\" class=\"data row4 col4\" >1.000000</td>\n",
       "            </tr>\n",
       "    </tbody></table>"
      ],
      "text/plain": [
       "<pandas.io.formats.style.Styler at 0x7fc277c2b2e0>"
      ]
     },
     "execution_count": 9,
     "metadata": {},
     "output_type": "execute_result"
    }
   ],
   "source": [
    "corr = data.corr()\n",
    "corr.style.background_gradient(cmap='Greys')"
   ]
  },
  {
   "cell_type": "markdown",
   "metadata": {},
   "source": [
    "## Умножение матриц"
   ]
  },
  {
   "cell_type": "markdown",
   "metadata": {},
   "source": [
    "В этом задании вы можете записывать формулы в *Jupyter Notebook.*\n",
    "\n",
    "Чтобы записать формулу внутри текста, окружите её символами доллара \\\\$; если снаружи —  двойными символами \\\\$\\\\$. Эти формулы записываются на языке вёрстки *LaTeX.* \n",
    "\n",
    "Для примера мы записали формулы линейной регрессии. Можете их скопировать и отредактировать, чтобы решить задачу.\n",
    "\n",
    "Работать в *LaTeX* необязательно."
   ]
  },
  {
   "cell_type": "markdown",
   "metadata": {},
   "source": [
    "Обозначения:\n",
    "\n",
    "- $X$ — матрица признаков (нулевой столбец состоит из единиц)\n",
    "\n",
    "- $y$ — вектор целевого признака\n",
    "\n",
    "- $P$ — матрица, на которую умножаются признаки\n",
    "\n",
    "- $w$ — вектор весов линейной регрессии (нулевой элемент равен сдвигу)"
   ]
  },
  {
   "cell_type": "markdown",
   "metadata": {},
   "source": [
    "Предсказания:\n",
    "\n",
    "$$\n",
    "a = Xw\n",
    "$$\n",
    "\n",
    "Задача обучения:\n",
    "\n",
    "$$\n",
    "w = \\arg\\min_w MSE(Xw, y)\n",
    "$$\n",
    "\n",
    "Формула обучения:\n",
    "\n",
    "$$\n",
    "w = (X^T X)^{-1} X^T y\n",
    "$$"
   ]
  },
  {
   "cell_type": "markdown",
   "metadata": {},
   "source": [
    "Ответьте на вопрос и обоснуйте решение.\n",
    "\n",
    "Признаки умножают на обратимую матрицу. Изменится ли качество линейной регрессии? (Её можно обучить заново.)\n",
    "\n",
    "a. Изменится. Приведите примеры матриц.\n",
    "\n",
    "b. Не изменится. Укажите, как связаны параметры линейной регрессии в исходной задаче и в преобразованной."
   ]
  },
  {
   "cell_type": "markdown",
   "metadata": {},
   "source": [
    "Минимальное значение MSE получается, когда веса равны этой величине:"
   ]
  },
  {
   "cell_type": "markdown",
   "metadata": {},
   "source": [
    "$$ w = (X^T)^{-1}X^Ty$$"
   ]
  },
  {
   "cell_type": "markdown",
   "metadata": {},
   "source": [
    "Допустим, матрица $X(1)$ равна произведению матрицы $X$ на обратимую матрицу $P$"
   ]
  },
  {
   "cell_type": "markdown",
   "metadata": {},
   "source": [
    "$$X(1) = X * P$$"
   ]
  },
  {
   "cell_type": "markdown",
   "metadata": {},
   "source": [
    "Тогда:"
   ]
  },
  {
   "cell_type": "markdown",
   "metadata": {},
   "source": [
    "$$ w(1) = ((XP)^T(XP))^{-1}(XP)^Ty$$"
   ]
  },
  {
   "cell_type": "markdown",
   "metadata": {},
   "source": [
    "Далее раскроем первое произведение $(XP)^T$:"
   ]
  },
  {
   "cell_type": "markdown",
   "metadata": {},
   "source": [
    "$$w(1) = (P^T X^TXP)^{-1}P^TX^Ty$$"
   ]
  },
  {
   "cell_type": "markdown",
   "metadata": {},
   "source": [
    "Перегруппируем множители в скобках, чтобы получить произведение трех множителей:"
   ]
  },
  {
   "cell_type": "markdown",
   "metadata": {},
   "source": [
    "$$w(1) = (P^T(X^TX)^{-1}P)^{-1}P^TX^Ty$$"
   ]
  },
  {
   "cell_type": "markdown",
   "metadata": {},
   "source": [
    "Раскроем скобки $(P^T(X^TX)^{-1}P)$:"
   ]
  },
  {
   "cell_type": "markdown",
   "metadata": {},
   "source": [
    "$$w(1) = P^{-1}(X^TX)^{-1}(P^T)^{-1}P^TX^Ty$$"
   ]
  },
  {
   "cell_type": "markdown",
   "metadata": {},
   "source": [
    "В соответствии с условием матрица $P$ - обратимая, соответственно, произведение $(P^T)^{-1}(P^T)$ является единичной матрицей $E$, следовательно получаем:"
   ]
  },
  {
   "cell_type": "markdown",
   "metadata": {},
   "source": [
    "$$w(1) = P^{-1}(X^TX)^{-1}EX^{-1}y = P^{-1}(X^TX)^{-1}X^Ty$$"
   ]
  },
  {
   "cell_type": "markdown",
   "metadata": {},
   "source": [
    "Таким образом в правой части уравнения мы имеем формулу $w$:"
   ]
  },
  {
   "cell_type": "markdown",
   "metadata": {},
   "source": [
    "$$w(1) = P^{-1}(X^TX)^{-1}X^Ty = P^{-1}w$$"
   ]
  },
  {
   "cell_type": "markdown",
   "metadata": {},
   "source": [
    "Предсказания модели линейной регрессии рассчитываются по формуле:"
   ]
  },
  {
   "cell_type": "markdown",
   "metadata": {},
   "source": [
    "$$ a = Xw $$"
   ]
  },
  {
   "cell_type": "markdown",
   "metadata": {},
   "source": [
    "Подставим в эту формулу значения $X(1)$ и $w(1)$ для того, чтобы на их основе вычислить предсказания модели $a(1)$:"
   ]
  },
  {
   "cell_type": "markdown",
   "metadata": {},
   "source": [
    "$$a(1) = X(1)w(1) = PP^{-1}w$$"
   ]
  },
  {
   "cell_type": "markdown",
   "metadata": {},
   "source": [
    "В соответствии с условием матрица $P$ - обратимая, следовательно $PP^{-1} = E$, получаем:"
   ]
  },
  {
   "cell_type": "markdown",
   "metadata": {},
   "source": [
    "$$a = XPP^{-1}w = XEw = Xw = a $$"
   ]
  },
  {
   "cell_type": "markdown",
   "metadata": {},
   "source": [
    "Таким образом, мы доказали, что предсказания $a1$ для матрицы умноженной на обратимую матрицу $P$ равны предсказаниям $a$.\n",
    "Соответственно, мы можем утверждать, что параметры линейной регрессии в исходной задаче $w$ и в преобразованной $w1$ связаны следующим образом:"
   ]
  },
  {
   "cell_type": "markdown",
   "metadata": {},
   "source": [
    "$$w1 = P^{-1}w$$"
   ]
  },
  {
   "cell_type": "markdown",
   "metadata": {},
   "source": [
    "**Ответ:** b. Качество линейной регрессии не изменится. "
   ]
  },
  {
   "cell_type": "markdown",
   "metadata": {},
   "source": [
    "**Вывод**\n",
    "\n",
    "При умножении признаков на обратимую матрицу предсказания модели линейной регрессии не изменятся, однако изменятся веса признаков. Таким образом необходимо переобучить модель в соответствии с измененными весами.\n",
    "\n"
   ]
  },
  {
   "cell_type": "markdown",
   "metadata": {},
   "source": [
    "## Алгоритм преобразования"
   ]
  },
  {
   "cell_type": "markdown",
   "metadata": {},
   "source": [
    "**Алгоритм**\n",
    "\n",
    "Сравним метрики R2 на исходных и зашифрованных признаках."
   ]
  },
  {
   "cell_type": "markdown",
   "metadata": {},
   "source": [
    "В целях защиты данных и и сохранения качества обучения модели линейной регрессии, нужно провести процедуру умножения признаков на обратимую матрицу $P$. Следовательно, алгоритм преобразования данных должен включать в себя создание обратимой матрицы $P$ и ее умножения на матрицу признаков."
   ]
  },
  {
   "cell_type": "markdown",
   "metadata": {},
   "source": [
    "В соответствии с условием, исходом умножения обратимой матрицы на матрицу признаков должна быть матрица, размер которой равен размеру исходной матрицы. Следовательно, обратимая матрица $P$ должна быть квадратной, равной по размеру количеству признаков. Соответственно в конкретном случае матрица должна иметь размер 4х4."
   ]
  },
  {
   "cell_type": "markdown",
   "metadata": {},
   "source": [
    "Сгенерируем случайную матрицу:"
   ]
  },
  {
   "cell_type": "code",
   "execution_count": 10,
   "metadata": {},
   "outputs": [
    {
     "data": {
      "text/plain": [
       "array([[52, 21, 56, 80],\n",
       "       [30, 30, 87, 32],\n",
       "       [95,  8, 73,  4],\n",
       "       [34, 59, 64, 95]])"
      ]
     },
     "execution_count": 10,
     "metadata": {},
     "output_type": "execute_result"
    }
   ],
   "source": [
    "p_matrix = np.random.randint(100,size = (4, 4))\n",
    "p_matrix"
   ]
  },
  {
   "cell_type": "markdown",
   "metadata": {},
   "source": [
    "Проверим обратимость матрицы:"
   ]
  },
  {
   "cell_type": "code",
   "execution_count": 11,
   "metadata": {},
   "outputs": [
    {
     "data": {
      "text/plain": [
       "array([[-0.00266255, -0.015387  ,  0.01440238,  0.00681872],\n",
       "       [-0.03656091, -0.0109693 ,  0.01130534,  0.03400704],\n",
       "       [ 0.00641194,  0.02133897, -0.00583123, -0.01234186],\n",
       "       [ 0.01933954, -0.00205629, -0.00824734, -0.00471971]])"
      ]
     },
     "execution_count": 11,
     "metadata": {},
     "output_type": "execute_result"
    }
   ],
   "source": [
    "p_inverted = np.linalg.inv(p_matrix)\n",
    "p_inverted"
   ]
  },
  {
   "cell_type": "markdown",
   "metadata": {},
   "source": [
    "Известно, что предсказания модели после преобразования не изменятся, следовательно, качество модели не изменится, поскольку качество модели - это производная от предсказаний и целевого признака.\n",
    "\n",
    "В качестве иллюстрации приведем пример, для которого произведем расчет вектора предсказаний $a$ и $a1$ по формулам, а так же проведем их сравнение друг с другом."
   ]
  },
  {
   "cell_type": "markdown",
   "metadata": {},
   "source": [
    "Выделим обучающие и целевой признаки и проведем масштабирование признаков:"
   ]
  },
  {
   "cell_type": "code",
   "execution_count": 12,
   "metadata": {},
   "outputs": [],
   "source": [
    "features = data.drop('Страховые выплаты', axis=1)\n",
    "target = data['Страховые выплаты']"
   ]
  },
  {
   "cell_type": "markdown",
   "metadata": {},
   "source": [
    "Произведем расчет $w$ для исходных признаков по формуле $w = (X^T X)^{-1} X^T y$"
   ]
  },
  {
   "cell_type": "code",
   "execution_count": 13,
   "metadata": {},
   "outputs": [
    {
     "data": {
      "text/plain": [
       "array([-4.43854736e-02,  2.33356252e-02, -1.17739062e-05, -4.55168115e-02])"
      ]
     },
     "metadata": {},
     "output_type": "display_data"
    }
   ],
   "source": [
    "w = np.linalg.inv(features.T.dot(features)).dot(features.T).dot(target)\n",
    "display(w)"
   ]
  },
  {
   "cell_type": "markdown",
   "metadata": {},
   "source": [
    "Расчитаем вектор предсказаний по исходным признакам по формуле $𝑎=𝑋𝑤$"
   ]
  },
  {
   "cell_type": "code",
   "execution_count": 14,
   "metadata": {},
   "outputs": [],
   "source": [
    "a = features @ w"
   ]
  },
  {
   "cell_type": "markdown",
   "metadata": {},
   "source": [
    "Преобразуем признаки:"
   ]
  },
  {
   "cell_type": "code",
   "execution_count": 15,
   "metadata": {},
   "outputs": [],
   "source": [
    "features_p = features @ p_matrix"
   ]
  },
  {
   "cell_type": "markdown",
   "metadata": {},
   "source": [
    "Расчитаем $𝑤1$  для преобразованных признаков по формуле  $𝑤=(𝑋^𝑇𝑋)^{−1}𝑋^𝑇𝑦$:"
   ]
  },
  {
   "cell_type": "code",
   "execution_count": 16,
   "metadata": {},
   "outputs": [],
   "source": [
    "w1 = np.linalg.inv(features_p.T.dot(features_p)).dot(features_p.T).dot(target)"
   ]
  },
  {
   "cell_type": "markdown",
   "metadata": {},
   "source": [
    "Расчитаем вектор предсказаний по преобразованным признакам по формуле $𝑎=𝑋𝑤$:"
   ]
  },
  {
   "cell_type": "code",
   "execution_count": 17,
   "metadata": {},
   "outputs": [],
   "source": [
    "a1 = features_p @ w1"
   ]
  },
  {
   "cell_type": "markdown",
   "metadata": {},
   "source": [
    "Вычислим вектор разниц между предсказаниями по исходным признакам $𝑎$ и преобразованным $a1$:\n",
    "Просуммируем все элементы полученного вектора для проверки расхождений:"
   ]
  },
  {
   "cell_type": "code",
   "execution_count": 18,
   "metadata": {},
   "outputs": [],
   "source": [
    "v = a - a1"
   ]
  },
  {
   "cell_type": "code",
   "execution_count": 19,
   "metadata": {
    "scrolled": true
   },
   "outputs": [
    {
     "name": "stdout",
     "output_type": "stream",
     "text": [
      "-6.250952944919378e-05\n"
     ]
    }
   ],
   "source": [
    "print(v.sum())"
   ]
  },
  {
   "cell_type": "markdown",
   "metadata": {},
   "source": [
    "Полученный результат говорит о том, что расхождение минимально. Из чего мы можем сделать вывод, что $a=a1$"
   ]
  },
  {
   "cell_type": "markdown",
   "metadata": {},
   "source": [
    "## Проверка алгоритма"
   ]
  },
  {
   "cell_type": "markdown",
   "metadata": {},
   "source": [
    "Обучим модель линейной регрессии для исходных данных и оценим ее метрику R2_score"
   ]
  },
  {
   "cell_type": "code",
   "execution_count": 20,
   "metadata": {},
   "outputs": [
    {
     "name": "stdout",
     "output_type": "stream",
     "text": [
      "0.12334688937098945\n",
      "0.42494550308169177\n"
     ]
    }
   ],
   "source": [
    "model = LinearRegression()\n",
    "model.fit(features, target)\n",
    "predictions = model.predict(features)\n",
    "mse = mean_squared_error(target, predictions)\n",
    "print(mse)\n",
    "print(r2_score(target, predictions))"
   ]
  },
  {
   "cell_type": "markdown",
   "metadata": {},
   "source": [
    "Преобразуем признаки умножив на матрицу P и рассчитаем R2_Score"
   ]
  },
  {
   "cell_type": "code",
   "execution_count": 21,
   "metadata": {},
   "outputs": [],
   "source": [
    "features_pre = features @ p_matrix"
   ]
  },
  {
   "cell_type": "code",
   "execution_count": 22,
   "metadata": {},
   "outputs": [
    {
     "name": "stdout",
     "output_type": "stream",
     "text": [
      "0.12334688937098913\n",
      "0.4249455030816932\n"
     ]
    }
   ],
   "source": [
    "model = LinearRegression()\n",
    "model.fit(features_pre, target)\n",
    "predictions = model.predict(features_pre)\n",
    "mse = mean_squared_error(target, predictions)\n",
    "print(mse)\n",
    "print(r2_score(target, predictions))"
   ]
  },
  {
   "cell_type": "markdown",
   "metadata": {},
   "source": [
    "Метрики R2_score для двух моделей имеют незначительные различия, из чего мы можем сделать вывод, что умножение матрицы признаков на обратимую матрицу позволяет зашифровать персональные данные пользователей не ухудшая качество предсказаний модели линейной регрессии."
   ]
  }
 ],
 "metadata": {
  "ExecuteTimeLog": [
   {
    "duration": 383,
    "start_time": "2022-12-19T17:12:41.441Z"
   },
   {
    "duration": 127,
    "start_time": "2022-12-19T17:13:27.186Z"
   },
   {
    "duration": 6,
    "start_time": "2022-12-19T17:13:38.463Z"
   },
   {
    "duration": 76,
    "start_time": "2022-12-19T17:13:52.543Z"
   },
   {
    "duration": 100,
    "start_time": "2022-12-19T17:16:34.623Z"
   },
   {
    "duration": 14,
    "start_time": "2022-12-19T17:16:38.956Z"
   },
   {
    "duration": 39,
    "start_time": "2022-12-19T17:16:47.940Z"
   },
   {
    "duration": 86,
    "start_time": "2022-12-19T17:17:37.565Z"
   },
   {
    "duration": 8,
    "start_time": "2022-12-19T17:17:39.219Z"
   },
   {
    "duration": 6,
    "start_time": "2022-12-19T17:23:59.622Z"
   },
   {
    "duration": 7,
    "start_time": "2022-12-19T17:24:25.908Z"
   },
   {
    "duration": 9,
    "start_time": "2022-12-19T17:24:30.155Z"
   },
   {
    "duration": 6,
    "start_time": "2022-12-19T17:24:40.483Z"
   },
   {
    "duration": 13,
    "start_time": "2022-12-19T17:28:05.841Z"
   },
   {
    "duration": 21,
    "start_time": "2022-12-19T17:28:13.527Z"
   },
   {
    "duration": 4,
    "start_time": "2022-12-19T17:48:21.325Z"
   },
   {
    "duration": 62,
    "start_time": "2022-12-19T17:48:31.885Z"
   },
   {
    "duration": 8,
    "start_time": "2022-12-19T17:48:45.572Z"
   },
   {
    "duration": 7,
    "start_time": "2022-12-19T17:49:07.004Z"
   },
   {
    "duration": 104,
    "start_time": "2022-12-20T20:41:09.075Z"
   },
   {
    "duration": 44,
    "start_time": "2022-12-21T15:37:05.397Z"
   },
   {
    "duration": 370,
    "start_time": "2022-12-21T15:37:11.729Z"
   },
   {
    "duration": 75,
    "start_time": "2022-12-21T15:37:12.101Z"
   },
   {
    "duration": 16,
    "start_time": "2022-12-21T15:37:12.401Z"
   },
   {
    "duration": 11,
    "start_time": "2022-12-21T15:37:13.266Z"
   },
   {
    "duration": 33,
    "start_time": "2022-12-21T15:37:13.761Z"
   },
   {
    "duration": 6,
    "start_time": "2022-12-21T15:37:14.226Z"
   },
   {
    "duration": 6,
    "start_time": "2022-12-21T15:37:14.673Z"
   },
   {
    "duration": 6,
    "start_time": "2022-12-21T15:37:15.105Z"
   },
   {
    "duration": 5,
    "start_time": "2022-12-21T15:37:30.688Z"
   },
   {
    "duration": 5,
    "start_time": "2022-12-21T15:37:45.384Z"
   },
   {
    "duration": 6,
    "start_time": "2022-12-21T15:38:49.297Z"
   },
   {
    "duration": 5,
    "start_time": "2022-12-21T16:11:33.006Z"
   },
   {
    "duration": 4,
    "start_time": "2022-12-21T16:16:44.716Z"
   },
   {
    "duration": 6,
    "start_time": "2022-12-21T16:16:56.961Z"
   },
   {
    "duration": 7,
    "start_time": "2022-12-21T16:18:47.337Z"
   },
   {
    "duration": 3,
    "start_time": "2022-12-21T16:28:42.882Z"
   },
   {
    "duration": 3,
    "start_time": "2022-12-21T16:28:44.793Z"
   },
   {
    "duration": 3,
    "start_time": "2022-12-21T16:30:02.657Z"
   },
   {
    "duration": 76,
    "start_time": "2022-12-21T16:32:07.502Z"
   },
   {
    "duration": 30,
    "start_time": "2022-12-21T16:32:12.711Z"
   },
   {
    "duration": 12,
    "start_time": "2022-12-21T16:33:28.501Z"
   },
   {
    "duration": 9,
    "start_time": "2022-12-21T16:33:30.525Z"
   },
   {
    "duration": 5,
    "start_time": "2022-12-21T16:47:56.641Z"
   },
   {
    "duration": 6,
    "start_time": "2022-12-21T16:47:58.401Z"
   },
   {
    "duration": 5,
    "start_time": "2022-12-21T17:44:02.614Z"
   },
   {
    "duration": 11,
    "start_time": "2022-12-21T17:44:45.934Z"
   },
   {
    "duration": 4,
    "start_time": "2022-12-21T17:47:11.699Z"
   },
   {
    "duration": 6,
    "start_time": "2022-12-21T17:47:27.891Z"
   },
   {
    "duration": 6,
    "start_time": "2022-12-21T17:47:47.064Z"
   },
   {
    "duration": 5,
    "start_time": "2022-12-21T17:47:52.715Z"
   },
   {
    "duration": 744,
    "start_time": "2022-12-21T17:48:24.134Z"
   },
   {
    "duration": 653,
    "start_time": "2022-12-21T17:48:59.334Z"
   },
   {
    "duration": 42,
    "start_time": "2022-12-21T17:50:10.073Z"
   },
   {
    "duration": 8,
    "start_time": "2022-12-21T17:50:17.017Z"
   },
   {
    "duration": 4,
    "start_time": "2022-12-21T17:50:50.712Z"
   },
   {
    "duration": 6,
    "start_time": "2022-12-21T17:50:51.798Z"
   },
   {
    "duration": 2,
    "start_time": "2022-12-21T17:50:52.912Z"
   },
   {
    "duration": 7,
    "start_time": "2022-12-21T17:50:54.003Z"
   },
   {
    "duration": 10,
    "start_time": "2022-12-21T17:50:55.100Z"
   },
   {
    "duration": 3,
    "start_time": "2022-12-21T17:50:56.264Z"
   },
   {
    "duration": 820,
    "start_time": "2022-12-21T17:50:56.894Z"
   },
   {
    "duration": 3,
    "start_time": "2022-12-21T17:51:21.456Z"
   },
   {
    "duration": 1085,
    "start_time": "2022-12-21T20:20:02.105Z"
   },
   {
    "duration": 85,
    "start_time": "2022-12-21T20:20:03.192Z"
   },
   {
    "duration": 14,
    "start_time": "2022-12-21T20:20:03.279Z"
   },
   {
    "duration": 11,
    "start_time": "2022-12-21T20:20:03.847Z"
   },
   {
    "duration": 21,
    "start_time": "2022-12-21T20:20:04.388Z"
   },
   {
    "duration": 6,
    "start_time": "2022-12-21T20:20:04.869Z"
   },
   {
    "duration": 7,
    "start_time": "2022-12-21T20:20:05.399Z"
   },
   {
    "duration": 8,
    "start_time": "2022-12-21T20:20:06.485Z"
   },
   {
    "duration": 4,
    "start_time": "2022-12-21T20:21:50.122Z"
   },
   {
    "duration": 5,
    "start_time": "2022-12-21T20:21:51.293Z"
   },
   {
    "duration": 4,
    "start_time": "2022-12-21T20:21:53.777Z"
   },
   {
    "duration": 90,
    "start_time": "2022-12-21T20:21:54.580Z"
   },
   {
    "duration": 6,
    "start_time": "2022-12-21T20:22:04.446Z"
   },
   {
    "duration": 14,
    "start_time": "2022-12-21T20:22:05.958Z"
   },
   {
    "duration": 3,
    "start_time": "2022-12-21T20:22:07.243Z"
   },
   {
    "duration": 5,
    "start_time": "2022-12-21T20:22:09.941Z"
   },
   {
    "duration": 3,
    "start_time": "2022-12-21T20:22:11.160Z"
   },
   {
    "duration": 5,
    "start_time": "2022-12-21T20:22:13.104Z"
   },
   {
    "duration": 4,
    "start_time": "2022-12-21T20:22:13.545Z"
   },
   {
    "duration": 59,
    "start_time": "2022-12-21T20:59:29.840Z"
   },
   {
    "duration": 33,
    "start_time": "2022-12-21T21:06:03.562Z"
   },
   {
    "duration": 22,
    "start_time": "2022-12-21T21:12:29.921Z"
   },
   {
    "duration": 11,
    "start_time": "2022-12-21T21:26:58.809Z"
   },
   {
    "duration": 2,
    "start_time": "2022-12-21T21:27:09.291Z"
   },
   {
    "duration": 11,
    "start_time": "2022-12-21T21:29:54.104Z"
   },
   {
    "duration": 2251,
    "start_time": "2022-12-22T11:18:18.381Z"
   },
   {
    "duration": 36,
    "start_time": "2022-12-22T11:18:20.634Z"
   },
   {
    "duration": 20,
    "start_time": "2022-12-22T11:18:20.673Z"
   },
   {
    "duration": 49,
    "start_time": "2022-12-22T11:18:20.695Z"
   },
   {
    "duration": 27,
    "start_time": "2022-12-22T11:18:20.751Z"
   },
   {
    "duration": 8,
    "start_time": "2022-12-22T11:18:20.780Z"
   },
   {
    "duration": 35,
    "start_time": "2022-12-22T11:18:20.790Z"
   },
   {
    "duration": 24,
    "start_time": "2022-12-22T11:18:20.827Z"
   },
   {
    "duration": 29,
    "start_time": "2022-12-22T11:18:20.854Z"
   },
   {
    "duration": 28,
    "start_time": "2022-12-22T11:18:20.886Z"
   },
   {
    "duration": 22,
    "start_time": "2022-12-22T11:18:20.916Z"
   },
   {
    "duration": 99,
    "start_time": "2022-12-22T11:18:20.942Z"
   },
   {
    "duration": 196,
    "start_time": "2022-12-22T11:18:21.043Z"
   },
   {
    "duration": 119,
    "start_time": "2022-12-22T11:18:21.241Z"
   },
   {
    "duration": 165,
    "start_time": "2022-12-22T11:18:21.361Z"
   },
   {
    "duration": 0,
    "start_time": "2022-12-22T11:18:21.528Z"
   },
   {
    "duration": 0,
    "start_time": "2022-12-22T11:18:21.529Z"
   },
   {
    "duration": 0,
    "start_time": "2022-12-22T11:18:21.530Z"
   },
   {
    "duration": 0,
    "start_time": "2022-12-22T11:18:21.531Z"
   },
   {
    "duration": 0,
    "start_time": "2022-12-22T11:18:21.532Z"
   },
   {
    "duration": 0,
    "start_time": "2022-12-22T11:18:21.533Z"
   },
   {
    "duration": 1543,
    "start_time": "2022-12-22T13:24:05.422Z"
   },
   {
    "duration": 30,
    "start_time": "2022-12-22T13:24:06.966Z"
   },
   {
    "duration": 16,
    "start_time": "2022-12-22T13:24:07.069Z"
   },
   {
    "duration": 11,
    "start_time": "2022-12-22T13:24:07.245Z"
   },
   {
    "duration": 24,
    "start_time": "2022-12-22T13:24:07.524Z"
   },
   {
    "duration": 7,
    "start_time": "2022-12-22T13:24:08.172Z"
   },
   {
    "duration": 7,
    "start_time": "2022-12-22T13:24:08.348Z"
   },
   {
    "duration": 7,
    "start_time": "2022-12-22T13:24:08.564Z"
   },
   {
    "duration": 4,
    "start_time": "2022-12-22T13:24:15.989Z"
   },
   {
    "duration": 7,
    "start_time": "2022-12-22T13:24:16.308Z"
   },
   {
    "duration": 5,
    "start_time": "2022-12-22T13:24:17.404Z"
   },
   {
    "duration": 6,
    "start_time": "2022-12-22T13:24:18.268Z"
   },
   {
    "duration": 12,
    "start_time": "2022-12-22T13:24:19.068Z"
   },
   {
    "duration": 3,
    "start_time": "2022-12-22T13:24:20.438Z"
   },
   {
    "duration": 5,
    "start_time": "2022-12-22T13:24:22.119Z"
   },
   {
    "duration": 4,
    "start_time": "2022-12-22T13:24:23.828Z"
   },
   {
    "duration": 5,
    "start_time": "2022-12-22T13:24:24.316Z"
   },
   {
    "duration": 3,
    "start_time": "2022-12-22T13:24:24.549Z"
   },
   {
    "duration": 10,
    "start_time": "2022-12-22T13:24:32.261Z"
   },
   {
    "duration": 2,
    "start_time": "2022-12-22T13:24:33.077Z"
   },
   {
    "duration": 11,
    "start_time": "2022-12-22T13:24:33.364Z"
   },
   {
    "duration": 47,
    "start_time": "2022-12-22T13:42:14.298Z"
   },
   {
    "duration": 1097,
    "start_time": "2022-12-22T13:42:18.574Z"
   },
   {
    "duration": 119,
    "start_time": "2022-12-22T13:42:19.672Z"
   },
   {
    "duration": 14,
    "start_time": "2022-12-22T13:42:19.903Z"
   },
   {
    "duration": 11,
    "start_time": "2022-12-22T13:42:20.862Z"
   },
   {
    "duration": 23,
    "start_time": "2022-12-22T13:42:21.494Z"
   },
   {
    "duration": 9,
    "start_time": "2022-12-22T13:42:22.551Z"
   },
   {
    "duration": 5,
    "start_time": "2022-12-22T13:42:22.936Z"
   },
   {
    "duration": 6,
    "start_time": "2022-12-22T13:42:23.246Z"
   },
   {
    "duration": 472,
    "start_time": "2022-12-22T13:42:24.935Z"
   },
   {
    "duration": 105,
    "start_time": "2022-12-22T13:45:01.349Z"
   },
   {
    "duration": 83,
    "start_time": "2022-12-22T13:48:26.130Z"
   },
   {
    "duration": 75,
    "start_time": "2022-12-22T13:50:31.616Z"
   },
   {
    "duration": 70,
    "start_time": "2022-12-22T13:51:16.039Z"
   },
   {
    "duration": 72,
    "start_time": "2022-12-22T13:51:21.079Z"
   },
   {
    "duration": 97,
    "start_time": "2022-12-22T13:51:29.663Z"
   },
   {
    "duration": 66,
    "start_time": "2022-12-22T13:51:52.815Z"
   },
   {
    "duration": 3,
    "start_time": "2022-12-22T14:13:14.715Z"
   },
   {
    "duration": 30,
    "start_time": "2022-12-22T14:13:15.243Z"
   },
   {
    "duration": 9,
    "start_time": "2022-12-22T14:13:15.513Z"
   },
   {
    "duration": 11,
    "start_time": "2022-12-22T14:13:15.836Z"
   },
   {
    "duration": 22,
    "start_time": "2022-12-22T14:13:16.755Z"
   },
   {
    "duration": 8,
    "start_time": "2022-12-22T14:13:17.580Z"
   },
   {
    "duration": 6,
    "start_time": "2022-12-22T14:13:18.107Z"
   },
   {
    "duration": 7,
    "start_time": "2022-12-22T14:13:18.459Z"
   },
   {
    "duration": 17,
    "start_time": "2022-12-22T14:13:19.155Z"
   },
   {
    "duration": 93,
    "start_time": "2022-12-22T14:13:19.851Z"
   },
   {
    "duration": 3,
    "start_time": "2022-12-22T14:13:46.795Z"
   },
   {
    "duration": 29,
    "start_time": "2022-12-22T14:13:47.522Z"
   },
   {
    "duration": 8,
    "start_time": "2022-12-22T14:13:47.715Z"
   },
   {
    "duration": 10,
    "start_time": "2022-12-22T14:13:47.923Z"
   },
   {
    "duration": 23,
    "start_time": "2022-12-22T14:13:48.483Z"
   },
   {
    "duration": 6,
    "start_time": "2022-12-22T14:13:49.243Z"
   },
   {
    "duration": 6,
    "start_time": "2022-12-22T14:13:49.547Z"
   },
   {
    "duration": 6,
    "start_time": "2022-12-22T14:13:49.811Z"
   },
   {
    "duration": 15,
    "start_time": "2022-12-22T14:13:51.083Z"
   },
   {
    "duration": 68,
    "start_time": "2022-12-22T14:14:23.626Z"
   },
   {
    "duration": 4,
    "start_time": "2022-12-22T15:36:52.054Z"
   },
   {
    "duration": 11,
    "start_time": "2022-12-22T15:36:53.572Z"
   },
   {
    "duration": 4,
    "start_time": "2022-12-22T15:36:55.344Z"
   },
   {
    "duration": 4,
    "start_time": "2022-12-22T15:36:56.381Z"
   },
   {
    "duration": 3,
    "start_time": "2022-12-22T15:36:57.284Z"
   },
   {
    "duration": 3,
    "start_time": "2022-12-22T15:36:57.892Z"
   },
   {
    "duration": 5,
    "start_time": "2022-12-22T15:36:58.476Z"
   },
   {
    "duration": 3,
    "start_time": "2022-12-22T15:36:59.092Z"
   },
   {
    "duration": 4,
    "start_time": "2022-12-22T15:36:59.692Z"
   },
   {
    "duration": 3,
    "start_time": "2022-12-22T15:36:59.948Z"
   },
   {
    "duration": 94,
    "start_time": "2022-12-22T15:37:24.740Z"
   },
   {
    "duration": 4,
    "start_time": "2022-12-22T15:37:45.780Z"
   },
   {
    "duration": 6,
    "start_time": "2022-12-22T15:37:46.829Z"
   },
   {
    "duration": 4,
    "start_time": "2022-12-22T15:37:48.096Z"
   },
   {
    "duration": 6,
    "start_time": "2022-12-22T15:37:48.947Z"
   },
   {
    "duration": 3,
    "start_time": "2022-12-22T15:37:49.707Z"
   },
   {
    "duration": 3,
    "start_time": "2022-12-22T15:37:50.231Z"
   },
   {
    "duration": 5,
    "start_time": "2022-12-22T15:37:50.747Z"
   },
   {
    "duration": 6,
    "start_time": "2022-12-22T15:37:51.291Z"
   },
   {
    "duration": 3,
    "start_time": "2022-12-22T15:37:51.819Z"
   },
   {
    "duration": 3,
    "start_time": "2022-12-22T15:37:52.244Z"
   },
   {
    "duration": 6,
    "start_time": "2022-12-22T15:40:10.834Z"
   },
   {
    "duration": 1063,
    "start_time": "2023-04-02T23:15:05.639Z"
   },
   {
    "duration": 152,
    "start_time": "2023-04-02T23:15:06.703Z"
   },
   {
    "duration": 14,
    "start_time": "2023-04-02T23:15:06.857Z"
   },
   {
    "duration": 12,
    "start_time": "2023-04-02T23:15:06.873Z"
   },
   {
    "duration": 24,
    "start_time": "2023-04-02T23:15:06.886Z"
   },
   {
    "duration": 6,
    "start_time": "2023-04-02T23:15:06.912Z"
   },
   {
    "duration": 10,
    "start_time": "2023-04-02T23:15:06.920Z"
   },
   {
    "duration": 8,
    "start_time": "2023-04-02T23:15:06.935Z"
   },
   {
    "duration": 464,
    "start_time": "2023-04-02T23:15:06.945Z"
   },
   {
    "duration": 4,
    "start_time": "2023-04-02T23:15:07.412Z"
   },
   {
    "duration": 33,
    "start_time": "2023-04-02T23:15:07.418Z"
   },
   {
    "duration": 185,
    "start_time": "2023-04-02T23:15:07.454Z"
   },
   {
    "duration": 12,
    "start_time": "2023-04-02T23:15:07.641Z"
   },
   {
    "duration": 7,
    "start_time": "2023-04-02T23:15:07.656Z"
   },
   {
    "duration": 12,
    "start_time": "2023-04-02T23:15:07.734Z"
   },
   {
    "duration": 92,
    "start_time": "2023-04-02T23:15:07.750Z"
   },
   {
    "duration": 95,
    "start_time": "2023-04-02T23:15:07.844Z"
   },
   {
    "duration": 101,
    "start_time": "2023-04-02T23:15:07.942Z"
   },
   {
    "duration": 8,
    "start_time": "2023-04-02T23:15:08.045Z"
   },
   {
    "duration": 81,
    "start_time": "2023-04-02T23:15:08.054Z"
   },
   {
    "duration": 102,
    "start_time": "2023-04-02T23:15:08.137Z"
   },
   {
    "duration": 97,
    "start_time": "2023-04-02T23:15:08.242Z"
   }
  ],
  "kernelspec": {
   "display_name": "Python 3 (ipykernel)",
   "language": "python",
   "name": "python3"
  },
  "language_info": {
   "codemirror_mode": {
    "name": "ipython",
    "version": 3
   },
   "file_extension": ".py",
   "mimetype": "text/x-python",
   "name": "python",
   "nbconvert_exporter": "python",
   "pygments_lexer": "ipython3",
   "version": "3.9.13"
  },
  "toc": {
   "base_numbering": 1,
   "nav_menu": {},
   "number_sections": true,
   "sideBar": true,
   "skip_h1_title": true,
   "title_cell": "Содержание",
   "title_sidebar": "Contents",
   "toc_cell": true,
   "toc_position": {
    "height": "calc(100% - 180px)",
    "left": "10px",
    "top": "150px",
    "width": "181.997px"
   },
   "toc_section_display": true,
   "toc_window_display": true
  }
 },
 "nbformat": 4,
 "nbformat_minor": 2
}
